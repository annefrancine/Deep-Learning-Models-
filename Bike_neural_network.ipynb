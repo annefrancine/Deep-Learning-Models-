{
  "nbformat": 4,
  "nbformat_minor": 0,
  "metadata": {
    "colab": {
      "name": "Bike - neural network.ipynb",
      "provenance": [],
      "collapsed_sections": [],
      "authorship_tag": "ABX9TyNtAfIsWX2s4wjon7MCZnuY",
      "include_colab_link": true
    },
    "kernelspec": {
      "name": "python3",
      "display_name": "Python 3"
    }
  },
  "cells": [
    {
      "cell_type": "markdown",
      "metadata": {
        "id": "view-in-github",
        "colab_type": "text"
      },
      "source": [
        "<a href=\"https://colab.research.google.com/github/annefrancine/Deep-Learning-Models-/blob/master/Bike_neural_network.ipynb\" target=\"_parent\"><img src=\"https://colab.research.google.com/assets/colab-badge.svg\" alt=\"Open In Colab\"/></a>"
      ]
    },
    {
      "cell_type": "markdown",
      "metadata": {
        "id": "pGd0LZ_BxYYy",
        "colab_type": "text"
      },
      "source": [
        "# **Bike Sharing Dataset** \n",
        "https://archive.ics.uci.edu/ml/datasets/bike+sharing+dataset#\n",
        "\n",
        "Goal : Making a neural network with pandas and numpy"
      ]
    },
    {
      "cell_type": "code",
      "metadata": {
        "id": "okrcocHpvaGB",
        "colab_type": "code",
        "outputId": "321e09b4-6886-459c-b261-290c557c8a67",
        "colab": {
          "base_uri": "https://localhost:8080/",
          "height": 35
        }
      },
      "source": [
        "from google.colab import drive\n",
        "drive.mount('/content/drive')"
      ],
      "execution_count": 114,
      "outputs": [
        {
          "output_type": "stream",
          "text": [
            "Drive already mounted at /content/drive; to attempt to forcibly remount, call drive.mount(\"/content/drive\", force_remount=True).\n"
          ],
          "name": "stdout"
        }
      ]
    },
    {
      "cell_type": "code",
      "metadata": {
        "id": "JKAnuKFj5rNh",
        "colab_type": "code",
        "colab": {}
      },
      "source": [
        "#from google.colab import files\n",
        "#files.upload()"
      ],
      "execution_count": 0,
      "outputs": []
    },
    {
      "cell_type": "code",
      "metadata": {
        "id": "4CDfoETzw_Qm",
        "colab_type": "code",
        "colab": {}
      },
      "source": [
        "import pandas as pd\n",
        "import numpy as np\n",
        "import matplotlib.pyplot as plt"
      ],
      "execution_count": 0,
      "outputs": []
    },
    {
      "cell_type": "code",
      "metadata": {
        "id": "QKNH6JFjxDWi",
        "colab_type": "code",
        "colab": {}
      },
      "source": [
        "bike_path = '/content/drive/My Drive/Bicicletas.csv'"
      ],
      "execution_count": 0,
      "outputs": []
    },
    {
      "cell_type": "code",
      "metadata": {
        "id": "CNQ-A6DBxMqJ",
        "colab_type": "code",
        "outputId": "51126d66-9b20-4500-f3ba-6c5f6dcb85fc",
        "colab": {
          "base_uri": "https://localhost:8080/",
          "height": 202
        }
      },
      "source": [
        "data = pd.read_csv(bike_path)\n",
        "data.head()"
      ],
      "execution_count": 117,
      "outputs": [
        {
          "output_type": "execute_result",
          "data": {
            "text/html": [
              "<div>\n",
              "<style scoped>\n",
              "    .dataframe tbody tr th:only-of-type {\n",
              "        vertical-align: middle;\n",
              "    }\n",
              "\n",
              "    .dataframe tbody tr th {\n",
              "        vertical-align: top;\n",
              "    }\n",
              "\n",
              "    .dataframe thead th {\n",
              "        text-align: right;\n",
              "    }\n",
              "</style>\n",
              "<table border=\"1\" class=\"dataframe\">\n",
              "  <thead>\n",
              "    <tr style=\"text-align: right;\">\n",
              "      <th></th>\n",
              "      <th>clima</th>\n",
              "      <th>temperatura</th>\n",
              "      <th>bicicletas_alugadas</th>\n",
              "    </tr>\n",
              "  </thead>\n",
              "  <tbody>\n",
              "    <tr>\n",
              "      <th>0</th>\n",
              "      <td>2</td>\n",
              "      <td>0.363625</td>\n",
              "      <td>985</td>\n",
              "    </tr>\n",
              "    <tr>\n",
              "      <th>1</th>\n",
              "      <td>2</td>\n",
              "      <td>0.353739</td>\n",
              "      <td>801</td>\n",
              "    </tr>\n",
              "    <tr>\n",
              "      <th>2</th>\n",
              "      <td>1</td>\n",
              "      <td>0.189405</td>\n",
              "      <td>1349</td>\n",
              "    </tr>\n",
              "    <tr>\n",
              "      <th>3</th>\n",
              "      <td>1</td>\n",
              "      <td>0.212122</td>\n",
              "      <td>1562</td>\n",
              "    </tr>\n",
              "    <tr>\n",
              "      <th>4</th>\n",
              "      <td>1</td>\n",
              "      <td>0.229270</td>\n",
              "      <td>1600</td>\n",
              "    </tr>\n",
              "  </tbody>\n",
              "</table>\n",
              "</div>"
            ],
            "text/plain": [
              "   clima  temperatura  bicicletas_alugadas\n",
              "0      2     0.363625                  985\n",
              "1      2     0.353739                  801\n",
              "2      1     0.189405                 1349\n",
              "3      1     0.212122                 1562\n",
              "4      1     0.229270                 1600"
            ]
          },
          "metadata": {
            "tags": []
          },
          "execution_count": 117
        }
      ]
    },
    {
      "cell_type": "code",
      "metadata": {
        "id": "6D91GlHbyg4I",
        "colab_type": "code",
        "outputId": "7654513d-7996-48f8-fee1-199c0a5b016d",
        "colab": {
          "base_uri": "https://localhost:8080/",
          "height": 191
        }
      },
      "source": [
        "data.info()"
      ],
      "execution_count": 118,
      "outputs": [
        {
          "output_type": "stream",
          "text": [
            "<class 'pandas.core.frame.DataFrame'>\n",
            "RangeIndex: 731 entries, 0 to 730\n",
            "Data columns (total 3 columns):\n",
            " #   Column               Non-Null Count  Dtype  \n",
            "---  ------               --------------  -----  \n",
            " 0   clima                731 non-null    int64  \n",
            " 1   temperatura          731 non-null    float64\n",
            " 2   bicicletas_alugadas  731 non-null    int64  \n",
            "dtypes: float64(1), int64(2)\n",
            "memory usage: 17.3 KB\n"
          ],
          "name": "stdout"
        }
      ]
    },
    {
      "cell_type": "code",
      "metadata": {
        "id": "yewzxjBAyyi4",
        "colab_type": "code",
        "colab": {}
      },
      "source": [
        "data.rename(columns={'clima': 'weather', 'temperatura': 'temperature', 'bicicletas_alugadas': 'rented_bikes'}, inplace = True)"
      ],
      "execution_count": 0,
      "outputs": []
    },
    {
      "cell_type": "code",
      "metadata": {
        "id": "rGBFgZK-z1cy",
        "colab_type": "code",
        "outputId": "8fdfc2c1-d2cf-4013-a84f-95e8552d2426",
        "colab": {
          "base_uri": "https://localhost:8080/",
          "height": 202
        }
      },
      "source": [
        "data.head()"
      ],
      "execution_count": 120,
      "outputs": [
        {
          "output_type": "execute_result",
          "data": {
            "text/html": [
              "<div>\n",
              "<style scoped>\n",
              "    .dataframe tbody tr th:only-of-type {\n",
              "        vertical-align: middle;\n",
              "    }\n",
              "\n",
              "    .dataframe tbody tr th {\n",
              "        vertical-align: top;\n",
              "    }\n",
              "\n",
              "    .dataframe thead th {\n",
              "        text-align: right;\n",
              "    }\n",
              "</style>\n",
              "<table border=\"1\" class=\"dataframe\">\n",
              "  <thead>\n",
              "    <tr style=\"text-align: right;\">\n",
              "      <th></th>\n",
              "      <th>weather</th>\n",
              "      <th>temperature</th>\n",
              "      <th>rented_bikes</th>\n",
              "    </tr>\n",
              "  </thead>\n",
              "  <tbody>\n",
              "    <tr>\n",
              "      <th>0</th>\n",
              "      <td>2</td>\n",
              "      <td>0.363625</td>\n",
              "      <td>985</td>\n",
              "    </tr>\n",
              "    <tr>\n",
              "      <th>1</th>\n",
              "      <td>2</td>\n",
              "      <td>0.353739</td>\n",
              "      <td>801</td>\n",
              "    </tr>\n",
              "    <tr>\n",
              "      <th>2</th>\n",
              "      <td>1</td>\n",
              "      <td>0.189405</td>\n",
              "      <td>1349</td>\n",
              "    </tr>\n",
              "    <tr>\n",
              "      <th>3</th>\n",
              "      <td>1</td>\n",
              "      <td>0.212122</td>\n",
              "      <td>1562</td>\n",
              "    </tr>\n",
              "    <tr>\n",
              "      <th>4</th>\n",
              "      <td>1</td>\n",
              "      <td>0.229270</td>\n",
              "      <td>1600</td>\n",
              "    </tr>\n",
              "  </tbody>\n",
              "</table>\n",
              "</div>"
            ],
            "text/plain": [
              "   weather  temperature  rented_bikes\n",
              "0        2     0.363625           985\n",
              "1        2     0.353739           801\n",
              "2        1     0.189405          1349\n",
              "3        1     0.212122          1562\n",
              "4        1     0.229270          1600"
            ]
          },
          "metadata": {
            "tags": []
          },
          "execution_count": 120
        }
      ]
    },
    {
      "cell_type": "code",
      "metadata": {
        "id": "p5jbVBcw3kIE",
        "colab_type": "code",
        "outputId": "4d5a9c6e-0bcc-4486-faa9-a9c926cccc53",
        "colab": {
          "base_uri": "https://localhost:8080/",
          "height": 287
        }
      },
      "source": [
        "plt.rcParams.update({'font.size': 14})\n",
        "plt.scatter(data['temperature'],data['rented_bikes'])\n",
        "plt.ylabel('rented_bikes')\n",
        "plt.xlabel('temperature');"
      ],
      "execution_count": 121,
      "outputs": [
        {
          "output_type": "display_data",
          "data": {
            "image/png": "[encoded data removed]",
            "text/plain": [
              "<Figure size 432x288 with 1 Axes>"
            ]
          },
          "metadata": {
            "tags": [],
            "needs_background": "light"
          }
        }
      ]
    },
    {
      "cell_type": "markdown",
      "metadata": {
        "id": "nq5MZsUn4NTj",
        "colab_type": "text"
      },
      "source": [
        "# Data normalisation\n"
      ]
    },
    {
      "cell_type": "code",
      "metadata": {
        "id": "royrlorW3_r3",
        "colab_type": "code",
        "colab": {}
      },
      "source": [
        "y = data['rented_bikes'].values"
      ],
      "execution_count": 0,
      "outputs": []
    },
    {
      "cell_type": "code",
      "metadata": {
        "id": "poMIIQ1C7lfn",
        "colab_type": "code",
        "outputId": "4d22d9eb-17ac-4045-9261-5a626221f66b",
        "colab": {
          "base_uri": "https://localhost:8080/",
          "height": 139
        }
      },
      "source": [
        "X = data[['weather','temperature']].values\n",
        "print(X)"
      ],
      "execution_count": 123,
      "outputs": [
        {
          "output_type": "stream",
          "text": [
            "[[2.       0.363625]\n",
            " [2.       0.353739]\n",
            " [1.       0.189405]\n",
            " ...\n",
            " [2.       0.2424  ]\n",
            " [1.       0.2317  ]\n",
            " [2.       0.223487]]\n"
          ],
          "name": "stdout"
        }
      ]
    },
    {
      "cell_type": "code",
      "metadata": {
        "id": "M3PJRoMD8Hl3",
        "colab_type": "code",
        "outputId": "3fa980d6-2194-4f80-e248-440be797b651",
        "colab": {
          "base_uri": "https://localhost:8080/",
          "height": 139
        }
      },
      "source": [
        "X = X/np.amax(X,axis=0)\n",
        "print(X)"
      ],
      "execution_count": 124,
      "outputs": [
        {
          "output_type": "stream",
          "text": [
            "[[0.66666667 0.43242565]\n",
            " [0.66666667 0.42066914]\n",
            " [0.33333333 0.22524188]\n",
            " ...\n",
            " [0.66666667 0.28826395]\n",
            " [0.33333333 0.27553942]\n",
            " [0.66666667 0.26577246]]\n"
          ],
          "name": "stdout"
        }
      ]
    },
    {
      "cell_type": "code",
      "metadata": {
        "id": "iohslUM1-bDG",
        "colab_type": "code",
        "outputId": "71d2e296-cc51-451c-d4e5-81fdd4c23938",
        "colab": {
          "base_uri": "https://localhost:8080/",
          "height": 52
        }
      },
      "source": [
        "ymax=np.amax(y)\n",
        "y = y/ymax\n",
        "print(y[0:10])\n"
      ],
      "execution_count": 125,
      "outputs": [
        {
          "output_type": "stream",
          "text": [
            "[0.11303649 0.09192105 0.15480835 0.17925178 0.18361258 0.18430112\n",
            " 0.17328437 0.11005279 0.09433096 0.15159513]\n"
          ],
          "name": "stdout"
        }
      ]
    },
    {
      "cell_type": "markdown",
      "metadata": {
        "id": "9W6pF3i__GXa",
        "colab_type": "text"
      },
      "source": [
        "# Activation function"
      ]
    },
    {
      "cell_type": "code",
      "metadata": {
        "id": "NEORf-oD_F83",
        "colab_type": "code",
        "colab": {}
      },
      "source": [
        "def sigmoid(Soma):\n",
        "    return 1/(1+np.exp(-Soma))\n",
        "\n",
        "def relu(Soma):\n",
        "    return np.maximum(0,Soma)"
      ],
      "execution_count": 0,
      "outputs": []
    },
    {
      "cell_type": "markdown",
      "metadata": {
        "id": "agnYzxWo_R0D",
        "colab_type": "text"
      },
      "source": [
        "# Creating the network structure"
      ]
    },
    {
      "cell_type": "code",
      "metadata": {
        "id": "xuSTxvXK_dcv",
        "colab_type": "code",
        "colab": {}
      },
      "source": [
        "arquitetura = [\n",
        "    {\"dim_entrada\": 2, \"dim_saida\": 50, \"ativacao\": \"relu\"},\n",
        "    {\"dim_entrada\": 50, \"dim_saida\": 1, \"ativacao\": \"sigmoid\"},\n",
        "]\n",
        "\n",
        "# dim_entrada = dim_input, ativacao = activation , dim_saida = dim_output"
      ],
      "execution_count": 0,
      "outputs": []
    },
    {
      "cell_type": "markdown",
      "metadata": {
        "id": "3p4Kry_5_6_6",
        "colab_type": "text"
      },
      "source": [
        "# Weights and bias"
      ]
    },
    {
      "cell_type": "code",
      "metadata": {
        "id": "ZrTKD2nJ_9Ka",
        "colab_type": "code",
        "colab": {}
      },
      "source": [
        "def inicia_camadas(arquitetura, seed = 99):\n",
        "    # start random values\n",
        "    np.random.seed(seed)\n",
        "    # number of layers of the neural network\n",
        "    numero_de_camadas = len(arquitetura)\n",
        "    # starts parameter storage\n",
        "    valores_parametros = {}\n",
        "    \n",
        "    # iterates through the network layers\n",
        "    for indice, camada in enumerate(arquitetura):\n",
        "        \n",
        "        indice_camada = indice + 1\n",
        "        \n",
        "        # extracts the number of nodes in the layers\n",
        "        tamanho_camada_entrada = camada[\"dim_entrada\"]\n",
        "        tamanho_camada_saida = camada[\"dim_saida\"]\n",
        "        \n",
        "        # starts the values in the weight matrix P\n",
        "        # and the bias vector b\n",
        "        valores_parametros['P' + str(indice_camada)] = np.random.randn(\n",
        "            tamanho_camada_saida, tamanho_camada_entrada)  * 0.1\n",
        "        valores_parametros['b' + str(indice_camada)] = np.random.randn(\n",
        "            tamanho_camada_saida, 1) * 0.1\n",
        "        \n",
        "    return valores_parametros"
      ],
      "execution_count": 0,
      "outputs": []
    },
    {
      "cell_type": "markdown",
      "metadata": {
        "id": "GM92YCvEMGhp",
        "colab_type": "text"
      },
      "source": [
        "# Network propagation"
      ]
    },
    {
      "cell_type": "code",
      "metadata": {
        "id": "8XOkVW0EOSb3",
        "colab_type": "code",
        "colab": {}
      },
      "source": [
        "def propaga_uma_camada(Ativado_anterior, Pesos_atual, b_atual, ativacao=\"relu\"):\n",
        "    # calculating the input to the activation function\n",
        "    Saida_atual = np.dot(Pesos_atual, Ativado_anterior) + b_atual\n",
        "    \n",
        "    # selection of the activation function\n",
        "    if ativacao is \"relu\":\n",
        "        func_ativacao = relu\n",
        "    elif ativacao is \"sigmoid\":\n",
        "        func_ativacao = sigmoid\n",
        "    else:\n",
        "        raise Exception('Ainda não implementamos essa funcao')\n",
        "        \n",
        "    # returns the calculated activation Activated_current and the intermediate matrix\n",
        "    return func_ativacao(Saida_atual), Saida_atual"
      ],
      "execution_count": 0,
      "outputs": []
    },
    {
      "cell_type": "code",
      "metadata": {
        "id": "_6hJSxzvOWon",
        "colab_type": "code",
        "colab": {}
      },
      "source": [
        "def propaga_total(X, valores_parametros, arquitetura):\n",
        "    # memoria temporaria para a retropropagacao\n",
        "    memoria = {}\n",
        "    # The vector X is the activation for layer 0\n",
        "    Ativado_atual = X\n",
        "    \n",
        "    # iterations to the layers\n",
        "    for indice, camada in enumerate(arquitetura):\n",
        "        # layer numbering starts from 1\n",
        "        indice_camada = indice + 1\n",
        "        # uses the activation of the previous iteration\n",
        "        Ativado_anterior = Ativado_atual\n",
        "        \n",
        "        # extracts the activation function for the current layer\n",
        "        func_ativacao_atual = camada[\"ativacao\"]\n",
        "        # extracts the weights from the current layer\n",
        "        Pesos_atual = valores_parametros[\"P\" + str(indice_camada)]\n",
        "        # extracts the bias for the current layer\n",
        "        b_atual = valores_parametros[\"b\" + str(indice_camada)]\n",
        "        # activation calculation for the current layer\n",
        "        Ativado_atual, Saida_atual = propaga_uma_camada(Ativado_anterior, Pesos_atual, b_atual, func_ativacao_atual)\n",
        "        \n",
        "        # saves calculated values in memory\n",
        "        memoria[\"A\" + str(indice)] = Ativado_anterior\n",
        "        memoria[\"Z\" + str(indice_camada)] = Saida_atual\n",
        "       \n",
        "    # returns the predicted vector and a dictionary containing the intermediate values\n",
        "    return Ativado_atual, memoria"
      ],
      "execution_count": 0,
      "outputs": []
    },
    {
      "cell_type": "markdown",
      "metadata": {
        "id": "wZvlgEF6kAfH",
        "colab_type": "text"
      },
      "source": [
        "# Testing network"
      ]
    },
    {
      "cell_type": "code",
      "metadata": {
        "id": "gBm13L94kZbd",
        "colab_type": "code",
        "colab": {}
      },
      "source": [
        "valores_parametros = inicia_camadas(arquitetura, seed = 99)\n",
        "y_estimado, memoria = propaga_total(np.transpose(X), valores_parametros, arquitetura)"
      ],
      "execution_count": 0,
      "outputs": []
    },
    {
      "cell_type": "code",
      "metadata": {
        "id": "zAEtuhzDkhJ_",
        "colab_type": "code",
        "colab": {
          "base_uri": "https://localhost:8080/",
          "height": 35
        },
        "outputId": "cb8798b8-0dc7-4af2-8ce5-17989811b756"
      },
      "source": [
        "y_estimado[0,0]*ymax"
      ],
      "execution_count": 132,
      "outputs": [
        {
          "output_type": "execute_result",
          "data": {
            "text/plain": [
              "4579.982967258466"
            ]
          },
          "metadata": {
            "tags": []
          },
          "execution_count": 132
        }
      ]
    },
    {
      "cell_type": "code",
      "metadata": {
        "id": "SVm-nzr-kj2-",
        "colab_type": "code",
        "colab": {
          "base_uri": "https://localhost:8080/",
          "height": 35
        },
        "outputId": "a0306338-18ea-4ca4-b2e8-66c8fae53586"
      },
      "source": [
        "y[0]*ymax"
      ],
      "execution_count": 133,
      "outputs": [
        {
          "output_type": "execute_result",
          "data": {
            "text/plain": [
              "985.0000000000001"
            ]
          },
          "metadata": {
            "tags": []
          },
          "execution_count": 133
        }
      ]
    },
    {
      "cell_type": "markdown",
      "metadata": {
        "id": "JPDNtzPFk_7y",
        "colab_type": "text"
      },
      "source": [
        "# Weights update"
      ]
    },
    {
      "cell_type": "code",
      "metadata": {
        "id": "S9PxlPEulGtG",
        "colab_type": "code",
        "colab": {}
      },
      "source": [
        "def atualiza(valores_parametros, gradidentes, arquitetura, taxa_aprendizagem):\n",
        "\n",
        "    # iterações pelas camadas\n",
        "    for indice_camada, camada in enumerate(arquitetura, 1):\n",
        "        valores_parametros[\"P\" + str(indice_camada)] -= taxa_aprendizagem * gradidentes[\"dP\" + str(indice_camada)]        \n",
        "        valores_parametros[\"b\" + str(indice_camada)] -= taxa_aprendizagem * gradidentes[\"db\" + str(indice_camada)]\n",
        "\n",
        "    return valores_parametros;"
      ],
      "execution_count": 0,
      "outputs": []
    },
    {
      "cell_type": "markdown",
      "metadata": {
        "id": "W-sQQSRKlLwg",
        "colab_type": "text"
      },
      "source": [
        "# Cost function"
      ]
    },
    {
      "cell_type": "code",
      "metadata": {
        "id": "nb79GNM5lUaR",
        "colab_type": "code",
        "colab": {}
      },
      "source": [
        "def valor_de_custo(Y_predito, Y):\n",
        "    # numero_de_exemplos\n",
        "    m = Y_predito.shape[1]\n",
        "    \n",
        "    custo = -1 / m * (np.dot(Y, np.log(Y_predito).T) + np.dot(1 - Y, np.log(1 - Y_predito).T))\n",
        "    return np.squeeze(custo)"
      ],
      "execution_count": 0,
      "outputs": []
    },
    {
      "cell_type": "markdown",
      "metadata": {
        "id": "I9JprMgNzL8r",
        "colab_type": "text"
      },
      "source": [
        "# Back propagation"
      ]
    },
    {
      "cell_type": "code",
      "metadata": {
        "id": "Za5Iqp4GzQ5W",
        "colab_type": "code",
        "colab": {}
      },
      "source": [
        "def retropropagacao_total(Y_predito, Y, memoria, valores_parametros, arquitetura):\n",
        "   \n",
        "    gradientes = {}\n",
        "    \n",
        "    # numero de exemplos\n",
        "    #m = Y.shape[1]\n",
        "    # para garantir que os dois vetores tenham a mesma dimensão\n",
        "    Y = Y.reshape(Y_predito.shape)\n",
        "    \n",
        "    # inicia o algoritmo de gradiente descendente\n",
        "    dAtivado_anterior = - (np.divide(Y, Y_predito) - np.divide(1 - Y, 1 - Y_predito));\n",
        "    \n",
        "    for indice_camada_anterior, camada in reversed(list(enumerate(arquitetura))):\n",
        "        \n",
        "        indice_camada_atual = indice_camada_anterior + 1\n",
        "        # Função de ativação para a camada atual\n",
        "        \n",
        "        funcao_ativao_atual = camada[\"ativacao\"]\n",
        "        \n",
        "        dAtivado_atual = dAtivado_anterior\n",
        "        \n",
        "        Ativado_anterior = memoria[\"A\" + str(indice_camada_anterior)]\n",
        "        Saida_atual = memoria[\"Z\" + str(indice_camada_atual)]\n",
        "        \n",
        "        Pesos_atual = valores_parametros[\"P\" + str(indice_camada_atual)]\n",
        "        b_atual = valores_parametros[\"b\" + str(indice_camada_atual)]\n",
        "        \n",
        "        dAtivado_anterior, dPesos_atual, db_atual = retropropagacao_uma_camada(\n",
        "            dAtivado_atual, Pesos_atual, b_atual, Saida_atual, Ativado_anterior, funcao_ativao_atual)\n",
        "        \n",
        "        gradientes[\"dP\" + str(indice_camada_atual)] = dPesos_atual\n",
        "        gradientes[\"db\" + str(indice_camada_atual)] = db_atual\n",
        "    \n",
        "    return gradientes"
      ],
      "execution_count": 0,
      "outputs": []
    },
    {
      "cell_type": "code",
      "metadata": {
        "id": "LOuiLxUdzaAu",
        "colab_type": "code",
        "colab": {}
      },
      "source": [
        "def sigmoid_retro(dAtivado, Saida):\n",
        "    sig = sigmoid(Saida)\n",
        "    return dAtivado * sig * (1 - sig)\n",
        "\n",
        "def relu_retro(dAtivado, Saida):\n",
        "    dSaida = np.array(dAtivado, copy = True)\n",
        "    dSaida[Saida <= 0] = 0;\n",
        "    return dSaida;"
      ],
      "execution_count": 0,
      "outputs": []
    },
    {
      "cell_type": "code",
      "metadata": {
        "id": "t81l6hc4zgyp",
        "colab_type": "code",
        "colab": {}
      },
      "source": [
        "def retropropagacao_uma_camada(dAtivado_atual, Pesos_atual, b_atual, Saida_atual, Ativado_anterior, ativacao=\"relu\"):\n",
        "    # número de exemplos\n",
        "    m = Ativado_anterior.shape[1]\n",
        "    \n",
        "    # seleção função de ativação\n",
        "    if ativacao is \"relu\":\n",
        "        func_ativacao_retro = relu_retro\n",
        "    elif ativacao is \"sigmoid\":\n",
        "        func_ativacao_retro = sigmoid_retro\n",
        "    else:\n",
        "        raise Exception('Ainda não implementamos essa funcao')\n",
        "    \n",
        "    # derivada da função de ativação\n",
        "    dSaida_atual = func_ativacao_retro(dAtivado_atual, Saida_atual)\n",
        "    \n",
        "    # derivada da matriz de Pesos\n",
        "    dPesos_atual = np.dot(dSaida_atual, Ativado_anterior.T) / m\n",
        "    # derivada do vetor b\n",
        "    db_atual = np.sum(dSaida_atual, axis=1, keepdims=True) / m\n",
        "    # derivada da matriz A_anterior\n",
        "    dAtivado_anterior = np.dot(Pesos_atual.T, dSaida_atual)\n",
        "\n",
        "    return dAtivado_anterior, dPesos_atual, db_atual"
      ],
      "execution_count": 0,
      "outputs": []
    },
    {
      "cell_type": "markdown",
      "metadata": {
        "id": "pYHbqcgC5676",
        "colab_type": "text"
      },
      "source": [
        "# Training"
      ]
    },
    {
      "cell_type": "code",
      "metadata": {
        "id": "i9fOyeJQ5b3o",
        "colab_type": "code",
        "colab": {}
      },
      "source": [
        "def treino(X, Y,X_teste,Y_teste, arquitetura, epocas, taxa_aprendizagem):\n",
        "    # Starts the neural network parameters\n",
        "    valores_parametros = inicia_camadas(arquitetura, 2)\n",
        "    # Lists that will keep the network learning progress\n",
        "    historia_custo = []\n",
        "    historia_custo_teste = []\n",
        "   \n",
        "    \n",
        "    # Updates every epoch\n",
        "    for i in range(epocas):\n",
        "        # Foward propagation\n",
        "        Y_predito, memoria = propaga_total(X, valores_parametros, arquitetura)\n",
        "        \n",
        "        Y_predito_teste, memoria2 = propaga_total(X_teste, valores_parametros, \n",
        "                                                  arquitetura)\n",
        "        \n",
        "        # Calculates metrics and saves to history lists\n",
        "        custo = valor_de_custo(Y_predito, Y)\n",
        "        historia_custo.append(custo)\n",
        "        custo_teste = valor_de_custo(Y_predito_teste, Y_teste)\n",
        "        historia_custo_teste.append(custo_teste)\n",
        "        \n",
        "        \n",
        "        # Backpropagation\n",
        "        gradientes = retropropagacao_total(Y_predito, Y, memoria, \n",
        "                                           valores_parametros, arquitetura)\n",
        "        # Updates weights\n",
        "        valores_parametros = atualiza(valores_parametros, gradientes, \n",
        "                                      arquitetura, taxa_aprendizagem)\n",
        "        \n",
        "        if(i % 50 == 0):\n",
        "            \n",
        "            print(\"Iteration: {:05} - cost: {:.5f} \".format(i, custo))\n",
        "            \n",
        "            \n",
        "    return valores_parametros, historia_custo, historia_custo_teste"
      ],
      "execution_count": 0,
      "outputs": []
    },
    {
      "cell_type": "code",
      "metadata": {
        "id": "pzHeeYXG5b3s",
        "colab_type": "code",
        "colab": {}
      },
      "source": [
        "from sklearn.model_selection import train_test_split"
      ],
      "execution_count": 0,
      "outputs": []
    },
    {
      "cell_type": "code",
      "metadata": {
        "id": "ttYOYvR46V35",
        "colab_type": "code",
        "colab": {}
      },
      "source": [
        "X_treino, X_teste, y_treino, y_teste = train_test_split( X, y, test_size=0.43, random_state=42)"
      ],
      "execution_count": 0,
      "outputs": []
    },
    {
      "cell_type": "code",
      "metadata": {
        "id": "A3gaydch6ZKI",
        "colab_type": "code",
        "colab": {
          "base_uri": "https://localhost:8080/",
          "height": 1000
        },
        "outputId": "2fd96e17-05ab-4068-db41-6efe849b1be4"
      },
      "source": [
        "valores_parametros, historia_custo, historia_custo_teste = treino(np.transpose(X_treino), np.transpose(y_treino.reshape((y_treino.shape[0], 1))), \n",
        "                                                                  np.transpose(X_teste), np.transpose(y_teste.reshape((y_teste.shape[0], 1))), \n",
        "                                                                  arquitetura, 20000, 0.01)"
      ],
      "execution_count": 151,
      "outputs": [
        {
          "output_type": "stream",
          "text": [
            "Iteration: 00000 - cost: 0.69396 \n",
            "Iteration: 00050 - cost: 0.69246 \n",
            "Iteration: 00100 - cost: 0.69136 \n",
            "Iteration: 00150 - cost: 0.69054 \n",
            "Iteration: 00200 - cost: 0.68991 \n",
            "Iteration: 00250 - cost: 0.68939 \n",
            "Iteration: 00300 - cost: 0.68894 \n",
            "Iteration: 00350 - cost: 0.68852 \n",
            "Iteration: 00400 - cost: 0.68812 \n",
            "Iteration: 00450 - cost: 0.68773 \n",
            "Iteration: 00500 - cost: 0.68735 \n",
            "Iteration: 00550 - cost: 0.68700 \n",
            "Iteration: 00600 - cost: 0.68667 \n",
            "Iteration: 00650 - cost: 0.68635 \n",
            "Iteration: 00700 - cost: 0.68605 \n",
            "Iteration: 00750 - cost: 0.68575 \n",
            "Iteration: 00800 - cost: 0.68545 \n",
            "Iteration: 00850 - cost: 0.68515 \n",
            "Iteration: 00900 - cost: 0.68485 \n",
            "Iteration: 00950 - cost: 0.68455 \n",
            "Iteration: 01000 - cost: 0.68424 \n",
            "Iteration: 01050 - cost: 0.68394 \n",
            "Iteration: 01100 - cost: 0.68363 \n",
            "Iteration: 01150 - cost: 0.68333 \n",
            "Iteration: 01200 - cost: 0.68302 \n",
            "Iteration: 01250 - cost: 0.68271 \n",
            "Iteration: 01300 - cost: 0.68239 \n",
            "Iteration: 01350 - cost: 0.68208 \n",
            "Iteration: 01400 - cost: 0.68176 \n",
            "Iteration: 01450 - cost: 0.68145 \n",
            "Iteration: 01500 - cost: 0.68113 \n",
            "Iteration: 01550 - cost: 0.68080 \n",
            "Iteration: 01600 - cost: 0.68048 \n",
            "Iteration: 01650 - cost: 0.68015 \n",
            "Iteration: 01700 - cost: 0.67982 \n",
            "Iteration: 01750 - cost: 0.67949 \n",
            "Iteration: 01800 - cost: 0.67915 \n",
            "Iteration: 01850 - cost: 0.67882 \n",
            "Iteration: 01900 - cost: 0.67848 \n",
            "Iteration: 01950 - cost: 0.67814 \n",
            "Iteration: 02000 - cost: 0.67779 \n",
            "Iteration: 02050 - cost: 0.67745 \n",
            "Iteration: 02100 - cost: 0.67710 \n",
            "Iteration: 02150 - cost: 0.67675 \n",
            "Iteration: 02200 - cost: 0.67640 \n",
            "Iteration: 02250 - cost: 0.67604 \n",
            "Iteration: 02300 - cost: 0.67568 \n",
            "Iteration: 02350 - cost: 0.67533 \n",
            "Iteration: 02400 - cost: 0.67497 \n",
            "Iteration: 02450 - cost: 0.67460 \n",
            "Iteration: 02500 - cost: 0.67424 \n",
            "Iteration: 02550 - cost: 0.67387 \n",
            "Iteration: 02600 - cost: 0.67351 \n",
            "Iteration: 02650 - cost: 0.67314 \n",
            "Iteration: 02700 - cost: 0.67277 \n",
            "Iteration: 02750 - cost: 0.67239 \n",
            "Iteration: 02800 - cost: 0.67202 \n",
            "Iteration: 02850 - cost: 0.67165 \n",
            "Iteration: 02900 - cost: 0.67127 \n",
            "Iteration: 02950 - cost: 0.67089 \n",
            "Iteration: 03000 - cost: 0.67052 \n",
            "Iteration: 03050 - cost: 0.67014 \n",
            "Iteration: 03100 - cost: 0.66976 \n",
            "Iteration: 03150 - cost: 0.66938 \n",
            "Iteration: 03200 - cost: 0.66900 \n",
            "Iteration: 03250 - cost: 0.66862 \n",
            "Iteration: 03300 - cost: 0.66824 \n",
            "Iteration: 03350 - cost: 0.66786 \n",
            "Iteration: 03400 - cost: 0.66747 \n",
            "Iteration: 03450 - cost: 0.66709 \n",
            "Iteration: 03500 - cost: 0.66671 \n",
            "Iteration: 03550 - cost: 0.66633 \n",
            "Iteration: 03600 - cost: 0.66595 \n",
            "Iteration: 03650 - cost: 0.66558 \n",
            "Iteration: 03700 - cost: 0.66520 \n",
            "Iteration: 03750 - cost: 0.66482 \n",
            "Iteration: 03800 - cost: 0.66445 \n",
            "Iteration: 03850 - cost: 0.66407 \n",
            "Iteration: 03900 - cost: 0.66370 \n",
            "Iteration: 03950 - cost: 0.66333 \n",
            "Iteration: 04000 - cost: 0.66296 \n",
            "Iteration: 04050 - cost: 0.66260 \n",
            "Iteration: 04100 - cost: 0.66223 \n",
            "Iteration: 04150 - cost: 0.66187 \n",
            "Iteration: 04200 - cost: 0.66152 \n",
            "Iteration: 04250 - cost: 0.66116 \n",
            "Iteration: 04300 - cost: 0.66081 \n",
            "Iteration: 04350 - cost: 0.66046 \n",
            "Iteration: 04400 - cost: 0.66011 \n",
            "Iteration: 04450 - cost: 0.65977 \n",
            "Iteration: 04500 - cost: 0.65943 \n",
            "Iteration: 04550 - cost: 0.65909 \n",
            "Iteration: 04600 - cost: 0.65876 \n",
            "Iteration: 04650 - cost: 0.65843 \n",
            "Iteration: 04700 - cost: 0.65810 \n",
            "Iteration: 04750 - cost: 0.65778 \n",
            "Iteration: 04800 - cost: 0.65746 \n",
            "Iteration: 04850 - cost: 0.65715 \n",
            "Iteration: 04900 - cost: 0.65684 \n",
            "Iteration: 04950 - cost: 0.65654 \n",
            "Iteration: 05000 - cost: 0.65624 \n",
            "Iteration: 05050 - cost: 0.65594 \n",
            "Iteration: 05100 - cost: 0.65565 \n",
            "Iteration: 05150 - cost: 0.65536 \n",
            "Iteration: 05200 - cost: 0.65508 \n",
            "Iteration: 05250 - cost: 0.65480 \n",
            "Iteration: 05300 - cost: 0.65452 \n",
            "Iteration: 05350 - cost: 0.65425 \n",
            "Iteration: 05400 - cost: 0.65398 \n",
            "Iteration: 05450 - cost: 0.65372 \n",
            "Iteration: 05500 - cost: 0.65347 \n",
            "Iteration: 05550 - cost: 0.65321 \n",
            "Iteration: 05600 - cost: 0.65297 \n",
            "Iteration: 05650 - cost: 0.65272 \n",
            "Iteration: 05700 - cost: 0.65248 \n",
            "Iteration: 05750 - cost: 0.65225 \n",
            "Iteration: 05800 - cost: 0.65202 \n",
            "Iteration: 05850 - cost: 0.65180 \n",
            "Iteration: 05900 - cost: 0.65157 \n",
            "Iteration: 05950 - cost: 0.65136 \n",
            "Iteration: 06000 - cost: 0.65114 \n",
            "Iteration: 06050 - cost: 0.65094 \n",
            "Iteration: 06100 - cost: 0.65074 \n",
            "Iteration: 06150 - cost: 0.65054 \n",
            "Iteration: 06200 - cost: 0.65034 \n",
            "Iteration: 06250 - cost: 0.65016 \n",
            "Iteration: 06300 - cost: 0.64998 \n",
            "Iteration: 06350 - cost: 0.64980 \n",
            "Iteration: 06400 - cost: 0.64962 \n",
            "Iteration: 06450 - cost: 0.64945 \n",
            "Iteration: 06500 - cost: 0.64929 \n",
            "Iteration: 06550 - cost: 0.64913 \n",
            "Iteration: 06600 - cost: 0.64897 \n",
            "Iteration: 06650 - cost: 0.64881 \n",
            "Iteration: 06700 - cost: 0.64866 \n",
            "Iteration: 06750 - cost: 0.64852 \n",
            "Iteration: 06800 - cost: 0.64837 \n",
            "Iteration: 06850 - cost: 0.64823 \n",
            "Iteration: 06900 - cost: 0.64809 \n",
            "Iteration: 06950 - cost: 0.64795 \n",
            "Iteration: 07000 - cost: 0.64781 \n",
            "Iteration: 07050 - cost: 0.64768 \n",
            "Iteration: 07100 - cost: 0.64754 \n",
            "Iteration: 07150 - cost: 0.64741 \n",
            "Iteration: 07200 - cost: 0.64728 \n",
            "Iteration: 07250 - cost: 0.64715 \n",
            "Iteration: 07300 - cost: 0.64703 \n",
            "Iteration: 07350 - cost: 0.64691 \n",
            "Iteration: 07400 - cost: 0.64679 \n",
            "Iteration: 07450 - cost: 0.64668 \n",
            "Iteration: 07500 - cost: 0.64657 \n",
            "Iteration: 07550 - cost: 0.64646 \n",
            "Iteration: 07600 - cost: 0.64636 \n",
            "Iteration: 07650 - cost: 0.64625 \n",
            "Iteration: 07700 - cost: 0.64616 \n",
            "Iteration: 07750 - cost: 0.64606 \n",
            "Iteration: 07800 - cost: 0.64597 \n",
            "Iteration: 07850 - cost: 0.64588 \n",
            "Iteration: 07900 - cost: 0.64579 \n",
            "Iteration: 07950 - cost: 0.64570 \n",
            "Iteration: 08000 - cost: 0.64562 \n",
            "Iteration: 08050 - cost: 0.64554 \n",
            "Iteration: 08100 - cost: 0.64546 \n",
            "Iteration: 08150 - cost: 0.64539 \n",
            "Iteration: 08200 - cost: 0.64532 \n",
            "Iteration: 08250 - cost: 0.64524 \n",
            "Iteration: 08300 - cost: 0.64517 \n",
            "Iteration: 08350 - cost: 0.64511 \n",
            "Iteration: 08400 - cost: 0.64504 \n",
            "Iteration: 08450 - cost: 0.64497 \n",
            "Iteration: 08500 - cost: 0.64491 \n",
            "Iteration: 08550 - cost: 0.64485 \n",
            "Iteration: 08600 - cost: 0.64479 \n",
            "Iteration: 08650 - cost: 0.64473 \n",
            "Iteration: 08700 - cost: 0.64468 \n",
            "Iteration: 08750 - cost: 0.64462 \n",
            "Iteration: 08800 - cost: 0.64457 \n",
            "Iteration: 08850 - cost: 0.64452 \n",
            "Iteration: 08900 - cost: 0.64447 \n",
            "Iteration: 08950 - cost: 0.64442 \n",
            "Iteration: 09000 - cost: 0.64437 \n",
            "Iteration: 09050 - cost: 0.64433 \n",
            "Iteration: 09100 - cost: 0.64428 \n",
            "Iteration: 09150 - cost: 0.64424 \n",
            "Iteration: 09200 - cost: 0.64419 \n",
            "Iteration: 09250 - cost: 0.64415 \n",
            "Iteration: 09300 - cost: 0.64411 \n",
            "Iteration: 09350 - cost: 0.64407 \n",
            "Iteration: 09400 - cost: 0.64403 \n",
            "Iteration: 09450 - cost: 0.64399 \n",
            "Iteration: 09500 - cost: 0.64396 \n",
            "Iteration: 09550 - cost: 0.64392 \n",
            "Iteration: 09600 - cost: 0.64388 \n",
            "Iteration: 09650 - cost: 0.64385 \n",
            "Iteration: 09700 - cost: 0.64381 \n",
            "Iteration: 09750 - cost: 0.64378 \n",
            "Iteration: 09800 - cost: 0.64375 \n",
            "Iteration: 09850 - cost: 0.64372 \n",
            "Iteration: 09900 - cost: 0.64369 \n",
            "Iteration: 09950 - cost: 0.64366 \n",
            "Iteration: 10000 - cost: 0.64362 \n",
            "Iteration: 10050 - cost: 0.64359 \n",
            "Iteration: 10100 - cost: 0.64357 \n",
            "Iteration: 10150 - cost: 0.64354 \n",
            "Iteration: 10200 - cost: 0.64351 \n",
            "Iteration: 10250 - cost: 0.64348 \n",
            "Iteration: 10300 - cost: 0.64346 \n",
            "Iteration: 10350 - cost: 0.64343 \n",
            "Iteration: 10400 - cost: 0.64341 \n",
            "Iteration: 10450 - cost: 0.64339 \n",
            "Iteration: 10500 - cost: 0.64336 \n",
            "Iteration: 10550 - cost: 0.64334 \n",
            "Iteration: 10600 - cost: 0.64332 \n",
            "Iteration: 10650 - cost: 0.64330 \n",
            "Iteration: 10700 - cost: 0.64328 \n",
            "Iteration: 10750 - cost: 0.64326 \n",
            "Iteration: 10800 - cost: 0.64324 \n",
            "Iteration: 10850 - cost: 0.64322 \n",
            "Iteration: 10900 - cost: 0.64320 \n",
            "Iteration: 10950 - cost: 0.64318 \n",
            "Iteration: 11000 - cost: 0.64316 \n",
            "Iteration: 11050 - cost: 0.64314 \n",
            "Iteration: 11100 - cost: 0.64313 \n",
            "Iteration: 11150 - cost: 0.64311 \n",
            "Iteration: 11200 - cost: 0.64309 \n",
            "Iteration: 11250 - cost: 0.64308 \n",
            "Iteration: 11300 - cost: 0.64306 \n",
            "Iteration: 11350 - cost: 0.64305 \n",
            "Iteration: 11400 - cost: 0.64303 \n",
            "Iteration: 11450 - cost: 0.64302 \n",
            "Iteration: 11500 - cost: 0.64300 \n",
            "Iteration: 11550 - cost: 0.64299 \n",
            "Iteration: 11600 - cost: 0.64297 \n",
            "Iteration: 11650 - cost: 0.64296 \n",
            "Iteration: 11700 - cost: 0.64295 \n",
            "Iteration: 11750 - cost: 0.64293 \n",
            "Iteration: 11800 - cost: 0.64292 \n",
            "Iteration: 11850 - cost: 0.64291 \n",
            "Iteration: 11900 - cost: 0.64290 \n",
            "Iteration: 11950 - cost: 0.64289 \n",
            "Iteration: 12000 - cost: 0.64287 \n",
            "Iteration: 12050 - cost: 0.64286 \n",
            "Iteration: 12100 - cost: 0.64285 \n",
            "Iteration: 12150 - cost: 0.64284 \n",
            "Iteration: 12200 - cost: 0.64283 \n",
            "Iteration: 12250 - cost: 0.64282 \n",
            "Iteration: 12300 - cost: 0.64281 \n",
            "Iteration: 12350 - cost: 0.64280 \n",
            "Iteration: 12400 - cost: 0.64279 \n",
            "Iteration: 12450 - cost: 0.64278 \n",
            "Iteration: 12500 - cost: 0.64277 \n",
            "Iteration: 12550 - cost: 0.64276 \n",
            "Iteration: 12600 - cost: 0.64275 \n",
            "Iteration: 12650 - cost: 0.64274 \n",
            "Iteration: 12700 - cost: 0.64273 \n",
            "Iteration: 12750 - cost: 0.64272 \n",
            "Iteration: 12800 - cost: 0.64271 \n",
            "Iteration: 12850 - cost: 0.64271 \n",
            "Iteration: 12900 - cost: 0.64270 \n",
            "Iteration: 12950 - cost: 0.64269 \n",
            "Iteration: 13000 - cost: 0.64268 \n",
            "Iteration: 13050 - cost: 0.64267 \n",
            "Iteration: 13100 - cost: 0.64266 \n",
            "Iteration: 13150 - cost: 0.64266 \n",
            "Iteration: 13200 - cost: 0.64265 \n",
            "Iteration: 13250 - cost: 0.64264 \n",
            "Iteration: 13300 - cost: 0.64263 \n",
            "Iteration: 13350 - cost: 0.64263 \n",
            "Iteration: 13400 - cost: 0.64262 \n",
            "Iteration: 13450 - cost: 0.64261 \n",
            "Iteration: 13500 - cost: 0.64260 \n",
            "Iteration: 13550 - cost: 0.64260 \n",
            "Iteration: 13600 - cost: 0.64259 \n",
            "Iteration: 13650 - cost: 0.64258 \n",
            "Iteration: 13700 - cost: 0.64257 \n",
            "Iteration: 13750 - cost: 0.64256 \n",
            "Iteration: 13800 - cost: 0.64255 \n",
            "Iteration: 13850 - cost: 0.64254 \n",
            "Iteration: 13900 - cost: 0.64253 \n",
            "Iteration: 13950 - cost: 0.64252 \n",
            "Iteration: 14000 - cost: 0.64251 \n",
            "Iteration: 14050 - cost: 0.64250 \n",
            "Iteration: 14100 - cost: 0.64249 \n",
            "Iteration: 14150 - cost: 0.64248 \n",
            "Iteration: 14200 - cost: 0.64248 \n",
            "Iteration: 14250 - cost: 0.64247 \n",
            "Iteration: 14300 - cost: 0.64246 \n",
            "Iteration: 14350 - cost: 0.64245 \n",
            "Iteration: 14400 - cost: 0.64245 \n",
            "Iteration: 14450 - cost: 0.64244 \n",
            "Iteration: 14500 - cost: 0.64243 \n",
            "Iteration: 14550 - cost: 0.64243 \n",
            "Iteration: 14600 - cost: 0.64242 \n",
            "Iteration: 14650 - cost: 0.64241 \n",
            "Iteration: 14700 - cost: 0.64241 \n",
            "Iteration: 14750 - cost: 0.64240 \n",
            "Iteration: 14800 - cost: 0.64239 \n",
            "Iteration: 14850 - cost: 0.64239 \n",
            "Iteration: 14900 - cost: 0.64238 \n",
            "Iteration: 14950 - cost: 0.64237 \n",
            "Iteration: 15000 - cost: 0.64237 \n",
            "Iteration: 15050 - cost: 0.64236 \n",
            "Iteration: 15100 - cost: 0.64235 \n",
            "Iteration: 15150 - cost: 0.64235 \n",
            "Iteration: 15200 - cost: 0.64234 \n",
            "Iteration: 15250 - cost: 0.64233 \n",
            "Iteration: 15300 - cost: 0.64233 \n",
            "Iteration: 15350 - cost: 0.64232 \n",
            "Iteration: 15400 - cost: 0.64231 \n",
            "Iteration: 15450 - cost: 0.64231 \n",
            "Iteration: 15500 - cost: 0.64230 \n",
            "Iteration: 15550 - cost: 0.64230 \n",
            "Iteration: 15600 - cost: 0.64229 \n",
            "Iteration: 15650 - cost: 0.64228 \n",
            "Iteration: 15700 - cost: 0.64228 \n",
            "Iteration: 15750 - cost: 0.64227 \n",
            "Iteration: 15800 - cost: 0.64227 \n",
            "Iteration: 15850 - cost: 0.64226 \n",
            "Iteration: 15900 - cost: 0.64226 \n",
            "Iteration: 15950 - cost: 0.64225 \n",
            "Iteration: 16000 - cost: 0.64224 \n",
            "Iteration: 16050 - cost: 0.64224 \n",
            "Iteration: 16100 - cost: 0.64223 \n",
            "Iteration: 16150 - cost: 0.64222 \n",
            "Iteration: 16200 - cost: 0.64222 \n",
            "Iteration: 16250 - cost: 0.64221 \n",
            "Iteration: 16300 - cost: 0.64220 \n",
            "Iteration: 16350 - cost: 0.64220 \n",
            "Iteration: 16400 - cost: 0.64219 \n",
            "Iteration: 16450 - cost: 0.64218 \n",
            "Iteration: 16500 - cost: 0.64218 \n",
            "Iteration: 16550 - cost: 0.64217 \n",
            "Iteration: 16600 - cost: 0.64217 \n",
            "Iteration: 16650 - cost: 0.64216 \n",
            "Iteration: 16700 - cost: 0.64215 \n",
            "Iteration: 16750 - cost: 0.64215 \n",
            "Iteration: 16800 - cost: 0.64214 \n",
            "Iteration: 16850 - cost: 0.64213 \n",
            "Iteration: 16900 - cost: 0.64213 \n",
            "Iteration: 16950 - cost: 0.64212 \n",
            "Iteration: 17000 - cost: 0.64211 \n",
            "Iteration: 17050 - cost: 0.64211 \n",
            "Iteration: 17100 - cost: 0.64210 \n",
            "Iteration: 17150 - cost: 0.64210 \n",
            "Iteration: 17200 - cost: 0.64209 \n",
            "Iteration: 17250 - cost: 0.64208 \n",
            "Iteration: 17300 - cost: 0.64208 \n",
            "Iteration: 17350 - cost: 0.64207 \n",
            "Iteration: 17400 - cost: 0.64206 \n",
            "Iteration: 17450 - cost: 0.64206 \n",
            "Iteration: 17500 - cost: 0.64205 \n",
            "Iteration: 17550 - cost: 0.64205 \n",
            "Iteration: 17600 - cost: 0.64204 \n",
            "Iteration: 17650 - cost: 0.64203 \n",
            "Iteration: 17700 - cost: 0.64203 \n",
            "Iteration: 17750 - cost: 0.64202 \n",
            "Iteration: 17800 - cost: 0.64202 \n",
            "Iteration: 17850 - cost: 0.64201 \n",
            "Iteration: 17900 - cost: 0.64200 \n",
            "Iteration: 17950 - cost: 0.64200 \n",
            "Iteration: 18000 - cost: 0.64199 \n",
            "Iteration: 18050 - cost: 0.64199 \n",
            "Iteration: 18100 - cost: 0.64198 \n",
            "Iteration: 18150 - cost: 0.64197 \n",
            "Iteration: 18200 - cost: 0.64197 \n",
            "Iteration: 18250 - cost: 0.64196 \n",
            "Iteration: 18300 - cost: 0.64196 \n",
            "Iteration: 18350 - cost: 0.64195 \n",
            "Iteration: 18400 - cost: 0.64195 \n",
            "Iteration: 18450 - cost: 0.64194 \n",
            "Iteration: 18500 - cost: 0.64193 \n",
            "Iteration: 18550 - cost: 0.64193 \n",
            "Iteration: 18600 - cost: 0.64192 \n",
            "Iteration: 18650 - cost: 0.64192 \n",
            "Iteration: 18700 - cost: 0.64191 \n",
            "Iteration: 18750 - cost: 0.64191 \n",
            "Iteration: 18800 - cost: 0.64190 \n",
            "Iteration: 18850 - cost: 0.64190 \n",
            "Iteration: 18900 - cost: 0.64189 \n",
            "Iteration: 18950 - cost: 0.64189 \n",
            "Iteration: 19000 - cost: 0.64188 \n",
            "Iteration: 19050 - cost: 0.64187 \n",
            "Iteration: 19100 - cost: 0.64187 \n",
            "Iteration: 19150 - cost: 0.64186 \n",
            "Iteration: 19200 - cost: 0.64186 \n",
            "Iteration: 19250 - cost: 0.64185 \n",
            "Iteration: 19300 - cost: 0.64185 \n",
            "Iteration: 19350 - cost: 0.64185 \n",
            "Iteration: 19400 - cost: 0.64184 \n",
            "Iteration: 19450 - cost: 0.64184 \n",
            "Iteration: 19500 - cost: 0.64183 \n",
            "Iteration: 19550 - cost: 0.64183 \n",
            "Iteration: 19600 - cost: 0.64182 \n",
            "Iteration: 19650 - cost: 0.64182 \n",
            "Iteration: 19700 - cost: 0.64181 \n",
            "Iteration: 19750 - cost: 0.64181 \n",
            "Iteration: 19800 - cost: 0.64180 \n",
            "Iteration: 19850 - cost: 0.64180 \n",
            "Iteration: 19900 - cost: 0.64179 \n",
            "Iteration: 19950 - cost: 0.64179 \n"
          ],
          "name": "stdout"
        }
      ]
    },
    {
      "cell_type": "code",
      "metadata": {
        "id": "7VfcUrRt7Uri",
        "colab_type": "code",
        "colab": {
          "base_uri": "https://localhost:8080/",
          "height": 287
        },
        "outputId": "df6f33d1-5a76-4628-ac41-8bef09bfea91"
      },
      "source": [
        "plt.plot(historia_custo)\n",
        "plt.plot(historia_custo_teste, 'r')\n",
        "plt.legend(['Training','Test'])\n",
        "plt.ylabel('Cost')\n",
        "plt.xlabel('Epoch')\n",
        "plt.show();"
      ],
      "execution_count": 152,
      "outputs": [
        {
          "output_type": "display_data",
          "data": {
            "image/png": "[encoded data removed]",
            "text/plain": [
              "<Figure size 432x288 with 1 Axes>"
            ]
          },
          "metadata": {
            "tags": [],
            "needs_background": "light"
          }
        }
      ]
    },
    {
      "cell_type": "markdown",
      "metadata": {
        "id": "uJ3SjPHQ7ofh",
        "colab_type": "text"
      },
      "source": [
        "# Forecast"
      ]
    },
    {
      "cell_type": "code",
      "metadata": {
        "id": "p9ksQxY57qWi",
        "colab_type": "code",
        "colab": {}
      },
      "source": [
        "Y_pred, _ = propaga_total(np.transpose(X_teste), valores_parametros, arquitetura)"
      ],
      "execution_count": 0,
      "outputs": []
    },
    {
      "cell_type": "code",
      "metadata": {
        "id": "gDOWmx7m7wWN",
        "colab_type": "code",
        "colab": {
          "base_uri": "https://localhost:8080/",
          "height": 287
        },
        "outputId": "e02ade7e-a14d-4f9a-8865-ba11e28f8a3f"
      },
      "source": [
        "plt.plot(np.transpose(X_teste)[1],ymax*y_teste,'.')\n",
        "plt.plot(np.transpose(X_teste)[1],ymax*Y_pred.reshape([-1,1]),'.r')\n",
        "plt.legend(['Real','Predicted'])\n",
        "plt.ylabel('rented_bikes')\n",
        "plt.xlabel('temperature')\n",
        "plt.show()"
      ],
      "execution_count": 154,
      "outputs": [
        {
          "output_type": "display_data",
          "data": {
            "image/png": "[encoded data removed]",
            "text/plain": [
              "<Figure size 432x288 with 1 Axes>"
            ]
          },
          "metadata": {
            "tags": [],
            "needs_background": "light"
          }
        }
      ]
    }
  ]
}