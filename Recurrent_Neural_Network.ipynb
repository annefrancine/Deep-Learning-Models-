{
  "nbformat": 4,
  "nbformat_minor": 0,
  "metadata": {
    "kernelspec": {
      "display_name": "Python 3",
      "language": "python",
      "name": "python3"
    },
    "language_info": {
      "codemirror_mode": {
        "name": "ipython",
        "version": 3
      },
      "file_extension": ".py",
      "mimetype": "text/x-python",
      "name": "python",
      "nbconvert_exporter": "python",
      "pygments_lexer": "ipython3",
      "version": "3.7.6"
    },
    "colab": {
      "name": "Recurrent Neural Network.ipynb",
      "provenance": [],
      "toc_visible": true,
      "include_colab_link": true
    }
  },
  "cells": [
    {
      "cell_type": "markdown",
      "metadata": {
        "id": "view-in-github",
        "colab_type": "text"
      },
      "source": [
        "<a href=\"https://colab.research.google.com/github/annefrancine/Deep-Learning-Models-/blob/master/Recurrent_Neural_Network.ipynb\" target=\"_parent\"><img src=\"https://colab.research.google.com/assets/colab-badge.svg\" alt=\"Open In Colab\"/></a>"
      ]
    },
    {
      "cell_type": "markdown",
      "metadata": {
        "id": "ZjCLoo84RjM-",
        "colab_type": "text"
      },
      "source": [
        "\n",
        "# Google Stock Price: 2012 to 2017"
      ]
    },
    {
      "cell_type": "markdown",
      "metadata": {
        "id": "OiOJKEYjWlUk",
        "colab_type": "text"
      },
      "source": [
        "# Importing packages"
      ]
    },
    {
      "cell_type": "code",
      "metadata": {
        "id": "5cFU5YgARjM_",
        "colab_type": "code",
        "colab": {}
      },
      "source": [
        "import numpy as np\n",
        "import matplotlib.pyplot as plt\n",
        "import pandas as pd"
      ],
      "execution_count": 0,
      "outputs": []
    },
    {
      "cell_type": "markdown",
      "metadata": {
        "id": "2ScwmPzZXMr8",
        "colab_type": "text"
      },
      "source": [
        "# Connecting Drive"
      ]
    },
    {
      "cell_type": "code",
      "metadata": {
        "id": "tV8s-6kVXGAw",
        "colab_type": "code",
        "colab": {
          "base_uri": "https://localhost:8080/",
          "height": 124
        },
        "outputId": "cd6553b1-d2da-42da-d4a6-795748c7d002"
      },
      "source": [
        "from google.colab import drive\n",
        "drive.mount('/content/drive')"
      ],
      "execution_count": 2,
      "outputs": [
        {
          "output_type": "stream",
          "text": [
            "Go to this URL in a browser: https://accounts.google.com/o/oauth2/auth?client_id=947318989803-6bn6qk8qdgf4n4g3pfee6491hc0brc4i.apps.googleusercontent.com&redirect_uri=urn%3aietf%3awg%3aoauth%3a2.0%3aoob&response_type=code&scope=email%20https%3a%2f%2fwww.googleapis.com%2fauth%2fdocs.test%20https%3a%2f%2fwww.googleapis.com%2fauth%2fdrive%20https%3a%2f%2fwww.googleapis.com%2fauth%2fdrive.photos.readonly%20https%3a%2f%2fwww.googleapis.com%2fauth%2fpeopleapi.readonly\n",
            "\n",
            "Enter your authorization code:\n",
            "··········\n",
            "Mounted at /content/drive\n"
          ],
          "name": "stdout"
        }
      ]
    },
    {
      "cell_type": "markdown",
      "metadata": {
        "id": "Z9TTgeVrX8E7",
        "colab_type": "text"
      },
      "source": [
        "# Importing Dataset"
      ]
    },
    {
      "cell_type": "code",
      "metadata": {
        "id": "N-qtd-82XP_Y",
        "colab_type": "code",
        "colab": {}
      },
      "source": [
        "Google_Stock_Price_Train = '/content/drive/My Drive/curso deep learning-udemy/Notebooks/5.RNN/Google_Stock_Price_Train.csv'\n",
        "Google_Stock_Price_Test = '/content/drive/My Drive/curso deep learning-udemy/Notebooks/5.RNN/Google_Stock_Price_Test.csv'"
      ],
      "execution_count": 0,
      "outputs": []
    },
    {
      "cell_type": "code",
      "metadata": {
        "id": "iwECvac5RjNC",
        "colab_type": "code",
        "colab": {
          "base_uri": "https://localhost:8080/",
          "height": 202
        },
        "outputId": "1d45ecf2-c358-4757-83dc-1d2a81a0d208"
      },
      "source": [
        "dataset_train = pd.read_csv(Google_Stock_Price_Train)\n",
        "dataset_train.head()"
      ],
      "execution_count": 4,
      "outputs": [
        {
          "output_type": "execute_result",
          "data": {
            "text/html": [
              "<div>\n",
              "<style scoped>\n",
              "    .dataframe tbody tr th:only-of-type {\n",
              "        vertical-align: middle;\n",
              "    }\n",
              "\n",
              "    .dataframe tbody tr th {\n",
              "        vertical-align: top;\n",
              "    }\n",
              "\n",
              "    .dataframe thead th {\n",
              "        text-align: right;\n",
              "    }\n",
              "</style>\n",
              "<table border=\"1\" class=\"dataframe\">\n",
              "  <thead>\n",
              "    <tr style=\"text-align: right;\">\n",
              "      <th></th>\n",
              "      <th>Date</th>\n",
              "      <th>Open</th>\n",
              "      <th>High</th>\n",
              "      <th>Low</th>\n",
              "      <th>Close</th>\n",
              "      <th>Volume</th>\n",
              "    </tr>\n",
              "  </thead>\n",
              "  <tbody>\n",
              "    <tr>\n",
              "      <th>0</th>\n",
              "      <td>1/3/2012</td>\n",
              "      <td>325.25</td>\n",
              "      <td>332.83</td>\n",
              "      <td>324.97</td>\n",
              "      <td>663.59</td>\n",
              "      <td>7,380,500</td>\n",
              "    </tr>\n",
              "    <tr>\n",
              "      <th>1</th>\n",
              "      <td>1/4/2012</td>\n",
              "      <td>331.27</td>\n",
              "      <td>333.87</td>\n",
              "      <td>329.08</td>\n",
              "      <td>666.45</td>\n",
              "      <td>5,749,400</td>\n",
              "    </tr>\n",
              "    <tr>\n",
              "      <th>2</th>\n",
              "      <td>1/5/2012</td>\n",
              "      <td>329.83</td>\n",
              "      <td>330.75</td>\n",
              "      <td>326.89</td>\n",
              "      <td>657.21</td>\n",
              "      <td>6,590,300</td>\n",
              "    </tr>\n",
              "    <tr>\n",
              "      <th>3</th>\n",
              "      <td>1/6/2012</td>\n",
              "      <td>328.34</td>\n",
              "      <td>328.77</td>\n",
              "      <td>323.68</td>\n",
              "      <td>648.24</td>\n",
              "      <td>5,405,900</td>\n",
              "    </tr>\n",
              "    <tr>\n",
              "      <th>4</th>\n",
              "      <td>1/9/2012</td>\n",
              "      <td>322.04</td>\n",
              "      <td>322.29</td>\n",
              "      <td>309.46</td>\n",
              "      <td>620.76</td>\n",
              "      <td>11,688,800</td>\n",
              "    </tr>\n",
              "  </tbody>\n",
              "</table>\n",
              "</div>"
            ],
            "text/plain": [
              "       Date    Open    High     Low   Close      Volume\n",
              "0  1/3/2012  325.25  332.83  324.97  663.59   7,380,500\n",
              "1  1/4/2012  331.27  333.87  329.08  666.45   5,749,400\n",
              "2  1/5/2012  329.83  330.75  326.89  657.21   6,590,300\n",
              "3  1/6/2012  328.34  328.77  323.68  648.24   5,405,900\n",
              "4  1/9/2012  322.04  322.29  309.46  620.76  11,688,800"
            ]
          },
          "metadata": {
            "tags": []
          },
          "execution_count": 4
        }
      ]
    },
    {
      "cell_type": "code",
      "metadata": {
        "id": "0FX0R_ifYK4c",
        "colab_type": "code",
        "colab": {
          "base_uri": "https://localhost:8080/",
          "height": 243
        },
        "outputId": "ee69ce0c-6827-4159-ac6b-15ae3ace4f2d"
      },
      "source": [
        "dataset_train.info()"
      ],
      "execution_count": 5,
      "outputs": [
        {
          "output_type": "stream",
          "text": [
            "<class 'pandas.core.frame.DataFrame'>\n",
            "RangeIndex: 1258 entries, 0 to 1257\n",
            "Data columns (total 6 columns):\n",
            " #   Column  Non-Null Count  Dtype  \n",
            "---  ------  --------------  -----  \n",
            " 0   Date    1258 non-null   object \n",
            " 1   Open    1258 non-null   float64\n",
            " 2   High    1258 non-null   float64\n",
            " 3   Low     1258 non-null   float64\n",
            " 4   Close   1258 non-null   object \n",
            " 5   Volume  1258 non-null   object \n",
            "dtypes: float64(3), object(3)\n",
            "memory usage: 59.1+ KB\n"
          ],
          "name": "stdout"
        }
      ]
    },
    {
      "cell_type": "code",
      "metadata": {
        "id": "IXtpUAcUYDaC",
        "colab_type": "code",
        "colab": {}
      },
      "source": [
        "training_set = dataset_train.iloc[:, 1:2].values # fazer a previsão a partir do valor de abertura\n"
      ],
      "execution_count": 0,
      "outputs": []
    },
    {
      "cell_type": "markdown",
      "metadata": {
        "id": "q3qaOngNZXNA",
        "colab_type": "text"
      },
      "source": [
        "# Data normalisation"
      ]
    },
    {
      "cell_type": "code",
      "metadata": {
        "id": "UgQ8MqnpRjNF",
        "colab_type": "code",
        "colab": {}
      },
      "source": [
        "from sklearn.preprocessing import MinMaxScaler\n",
        "sc = MinMaxScaler(feature_range = (0, 1))\n",
        "training_set_scaled = sc.fit_transform(training_set)"
      ],
      "execution_count": 0,
      "outputs": []
    },
    {
      "cell_type": "markdown",
      "metadata": {
        "id": "Ea5DS6TgZjz3",
        "colab_type": "text"
      },
      "source": [
        "# Data structures with 60 ranges"
      ]
    },
    {
      "cell_type": "code",
      "metadata": {
        "id": "obTEioQ5RjNI",
        "colab_type": "code",
        "colab": {}
      },
      "source": [
        "X_train = []\n",
        "y_train = []\n",
        "for i in range(60, 1258):\n",
        "    X_train.append(training_set_scaled[i-60:i, 0])\n",
        "    y_train.append(training_set_scaled[i, 0])\n",
        "X_train, y_train = np.array(X_train), np.array(y_train)"
      ],
      "execution_count": 0,
      "outputs": []
    },
    {
      "cell_type": "markdown",
      "metadata": {
        "id": "X3_tAdoFZxR6",
        "colab_type": "text"
      },
      "source": [
        "# Adjust the format"
      ]
    },
    {
      "cell_type": "code",
      "metadata": {
        "id": "NTxXHK22RjNL",
        "colab_type": "code",
        "colab": {}
      },
      "source": [
        "X_train = np.reshape(X_train, (X_train.shape[0], X_train.shape[1], 1))"
      ],
      "execution_count": 0,
      "outputs": []
    },
    {
      "cell_type": "code",
      "metadata": {
        "id": "y9xqRw1IRjNN",
        "colab_type": "code",
        "colab": {
          "base_uri": "https://localhost:8080/",
          "height": 35
        },
        "outputId": "6c0c0d41-664a-4bfb-d7e9-5dfeb7a5381b"
      },
      "source": [
        "from keras.models import Sequential\n",
        "from keras.layers import Dense\n",
        "from keras.layers import LSTM\n",
        "from keras.layers import Dropout"
      ],
      "execution_count": 10,
      "outputs": [
        {
          "output_type": "stream",
          "text": [
            "Using TensorFlow backend.\n"
          ],
          "name": "stderr"
        }
      ]
    },
    {
      "cell_type": "markdown",
      "metadata": {
        "id": "K1cq0O9nZ9-O",
        "colab_type": "text"
      },
      "source": [
        "# RNA"
      ]
    },
    {
      "cell_type": "code",
      "metadata": {
        "id": "mNyTte9FRjNQ",
        "colab_type": "code",
        "colab": {}
      },
      "source": [
        "#Initializing RNA\n",
        "regressor = Sequential()\n",
        "# creating layers \n",
        "regressor.add(LSTM(units = 50, return_sequences = True, input_shape = (X_train.shape[1], 1)))\n",
        "regressor.add(Dropout(0.2))\n",
        "regressor.add(LSTM(units = 50, return_sequences = True))\n",
        "regressor.add(Dropout(0.2))\n",
        "regressor.add(LSTM(units = 50, return_sequences = True))\n",
        "regressor.add(Dropout(0.2))\n",
        "regressor.add(LSTM(units = 50))\n",
        "regressor.add(Dropout(0.2))\n",
        "regressor.add(Dense(units = 1))"
      ],
      "execution_count": 0,
      "outputs": []
    },
    {
      "cell_type": "code",
      "metadata": {
        "id": "-5WMGeNNRjNU",
        "colab_type": "code",
        "colab": {
          "base_uri": "https://localhost:8080/",
          "height": 1000
        },
        "outputId": "a13f3c1d-9a5f-4442-d7f7-ee91f071b288"
      },
      "source": [
        "#Compile\n",
        "regressor.compile(optimizer = 'adam', loss = 'mean_squared_error')\n",
        "#training\n",
        "regressor.fit(X_train, y_train, epochs = 100, batch_size = 32)"
      ],
      "execution_count": 12,
      "outputs": [
        {
          "output_type": "stream",
          "text": [
            "Epoch 1/100\n",
            "1198/1198 [==============================] - 7s 6ms/step - loss: 0.0379\n",
            "Epoch 2/100\n",
            "1198/1198 [==============================] - 5s 4ms/step - loss: 0.0066\n",
            "Epoch 3/100\n",
            "1198/1198 [==============================] - 5s 4ms/step - loss: 0.0059\n",
            "Epoch 4/100\n",
            "1198/1198 [==============================] - 5s 4ms/step - loss: 0.0053\n",
            "Epoch 5/100\n",
            "1198/1198 [==============================] - 5s 4ms/step - loss: 0.0049\n",
            "Epoch 6/100\n",
            "1198/1198 [==============================] - 5s 4ms/step - loss: 0.0046\n",
            "Epoch 7/100\n",
            "1198/1198 [==============================] - 5s 4ms/step - loss: 0.0044\n",
            "Epoch 8/100\n",
            "1198/1198 [==============================] - 5s 4ms/step - loss: 0.0041\n",
            "Epoch 9/100\n",
            "1198/1198 [==============================] - 5s 4ms/step - loss: 0.0039\n",
            "Epoch 10/100\n",
            "1198/1198 [==============================] - 5s 4ms/step - loss: 0.0042\n",
            "Epoch 11/100\n",
            "1198/1198 [==============================] - 5s 4ms/step - loss: 0.0046\n",
            "Epoch 12/100\n",
            "1198/1198 [==============================] - 5s 4ms/step - loss: 0.0039\n",
            "Epoch 13/100\n",
            "1198/1198 [==============================] - 5s 4ms/step - loss: 0.0041\n",
            "Epoch 14/100\n",
            "1198/1198 [==============================] - 5s 4ms/step - loss: 0.0039\n",
            "Epoch 15/100\n",
            "1198/1198 [==============================] - 5s 4ms/step - loss: 0.0039\n",
            "Epoch 16/100\n",
            "1198/1198 [==============================] - 5s 4ms/step - loss: 0.0040\n",
            "Epoch 17/100\n",
            "1198/1198 [==============================] - 5s 4ms/step - loss: 0.0047\n",
            "Epoch 18/100\n",
            "1198/1198 [==============================] - 5s 4ms/step - loss: 0.0036\n",
            "Epoch 19/100\n",
            "1198/1198 [==============================] - 5s 4ms/step - loss: 0.0033\n",
            "Epoch 20/100\n",
            "1198/1198 [==============================] - 5s 4ms/step - loss: 0.0037\n",
            "Epoch 21/100\n",
            "1198/1198 [==============================] - 5s 4ms/step - loss: 0.0032\n",
            "Epoch 22/100\n",
            "1198/1198 [==============================] - 5s 4ms/step - loss: 0.0039\n",
            "Epoch 23/100\n",
            "1198/1198 [==============================] - 5s 4ms/step - loss: 0.0035\n",
            "Epoch 24/100\n",
            "1198/1198 [==============================] - 5s 4ms/step - loss: 0.0034\n",
            "Epoch 25/100\n",
            "1198/1198 [==============================] - 5s 4ms/step - loss: 0.0032\n",
            "Epoch 26/100\n",
            "1198/1198 [==============================] - 5s 5ms/step - loss: 0.0038\n",
            "Epoch 27/100\n",
            "1198/1198 [==============================] - 6s 5ms/step - loss: 0.0038\n",
            "Epoch 28/100\n",
            "1198/1198 [==============================] - 5s 5ms/step - loss: 0.0033\n",
            "Epoch 29/100\n",
            "1198/1198 [==============================] - 5s 4ms/step - loss: 0.0031\n",
            "Epoch 30/100\n",
            "1198/1198 [==============================] - 5s 4ms/step - loss: 0.0028\n",
            "Epoch 31/100\n",
            "1198/1198 [==============================] - 5s 4ms/step - loss: 0.0025\n",
            "Epoch 32/100\n",
            "1198/1198 [==============================] - 5s 4ms/step - loss: 0.0028\n",
            "Epoch 33/100\n",
            "1198/1198 [==============================] - 5s 4ms/step - loss: 0.0031\n",
            "Epoch 34/100\n",
            "1198/1198 [==============================] - 5s 4ms/step - loss: 0.0027\n",
            "Epoch 35/100\n",
            "1198/1198 [==============================] - 5s 4ms/step - loss: 0.0028\n",
            "Epoch 36/100\n",
            "1198/1198 [==============================] - 5s 4ms/step - loss: 0.0029\n",
            "Epoch 37/100\n",
            "1198/1198 [==============================] - 5s 4ms/step - loss: 0.0026\n",
            "Epoch 38/100\n",
            "1198/1198 [==============================] - 5s 4ms/step - loss: 0.0028\n",
            "Epoch 39/100\n",
            "1198/1198 [==============================] - 5s 4ms/step - loss: 0.0027\n",
            "Epoch 40/100\n",
            "1198/1198 [==============================] - 5s 4ms/step - loss: 0.0028\n",
            "Epoch 41/100\n",
            "1198/1198 [==============================] - 5s 4ms/step - loss: 0.0028\n",
            "Epoch 42/100\n",
            "1198/1198 [==============================] - 5s 4ms/step - loss: 0.0028\n",
            "Epoch 43/100\n",
            "1198/1198 [==============================] - 5s 4ms/step - loss: 0.0029\n",
            "Epoch 44/100\n",
            "1198/1198 [==============================] - 5s 4ms/step - loss: 0.0027\n",
            "Epoch 45/100\n",
            "1198/1198 [==============================] - 5s 4ms/step - loss: 0.0023\n",
            "Epoch 46/100\n",
            "1198/1198 [==============================] - 5s 4ms/step - loss: 0.0024\n",
            "Epoch 47/100\n",
            "1198/1198 [==============================] - 5s 4ms/step - loss: 0.0025\n",
            "Epoch 48/100\n",
            "1198/1198 [==============================] - 5s 4ms/step - loss: 0.0024\n",
            "Epoch 49/100\n",
            "1198/1198 [==============================] - 5s 4ms/step - loss: 0.0026\n",
            "Epoch 50/100\n",
            "1198/1198 [==============================] - 5s 4ms/step - loss: 0.0024\n",
            "Epoch 51/100\n",
            "1198/1198 [==============================] - 5s 4ms/step - loss: 0.0022\n",
            "Epoch 52/100\n",
            "1198/1198 [==============================] - 5s 4ms/step - loss: 0.0023\n",
            "Epoch 53/100\n",
            "1198/1198 [==============================] - 5s 4ms/step - loss: 0.0025\n",
            "Epoch 54/100\n",
            "1198/1198 [==============================] - 5s 4ms/step - loss: 0.0024\n",
            "Epoch 55/100\n",
            "1198/1198 [==============================] - 5s 4ms/step - loss: 0.0021\n",
            "Epoch 56/100\n",
            "1198/1198 [==============================] - 5s 4ms/step - loss: 0.0021\n",
            "Epoch 57/100\n",
            "1198/1198 [==============================] - 5s 4ms/step - loss: 0.0022\n",
            "Epoch 58/100\n",
            "1198/1198 [==============================] - 5s 5ms/step - loss: 0.0022\n",
            "Epoch 59/100\n",
            "1198/1198 [==============================] - 6s 5ms/step - loss: 0.0022\n",
            "Epoch 60/100\n",
            "1198/1198 [==============================] - 5s 4ms/step - loss: 0.0022\n",
            "Epoch 61/100\n",
            "1198/1198 [==============================] - 5s 4ms/step - loss: 0.0022\n",
            "Epoch 62/100\n",
            "1198/1198 [==============================] - 5s 4ms/step - loss: 0.0021\n",
            "Epoch 63/100\n",
            "1198/1198 [==============================] - 5s 4ms/step - loss: 0.0022\n",
            "Epoch 64/100\n",
            "1198/1198 [==============================] - 5s 4ms/step - loss: 0.0020\n",
            "Epoch 65/100\n",
            "1198/1198 [==============================] - 5s 4ms/step - loss: 0.0020\n",
            "Epoch 66/100\n",
            "1198/1198 [==============================] - 5s 4ms/step - loss: 0.0021\n",
            "Epoch 67/100\n",
            "1198/1198 [==============================] - 5s 4ms/step - loss: 0.0021\n",
            "Epoch 68/100\n",
            "1198/1198 [==============================] - 5s 4ms/step - loss: 0.0022\n",
            "Epoch 69/100\n",
            "1198/1198 [==============================] - 5s 4ms/step - loss: 0.0021\n",
            "Epoch 70/100\n",
            "1198/1198 [==============================] - 5s 4ms/step - loss: 0.0019\n",
            "Epoch 71/100\n",
            "1198/1198 [==============================] - 5s 4ms/step - loss: 0.0018\n",
            "Epoch 72/100\n",
            "1198/1198 [==============================] - 5s 4ms/step - loss: 0.0020\n",
            "Epoch 73/100\n",
            "1198/1198 [==============================] - 5s 4ms/step - loss: 0.0020\n",
            "Epoch 74/100\n",
            "1198/1198 [==============================] - 5s 4ms/step - loss: 0.0020\n",
            "Epoch 75/100\n",
            "1198/1198 [==============================] - 5s 5ms/step - loss: 0.0017\n",
            "Epoch 76/100\n",
            "1198/1198 [==============================] - 5s 5ms/step - loss: 0.0016\n",
            "Epoch 77/100\n",
            "1198/1198 [==============================] - 5s 4ms/step - loss: 0.0018\n",
            "Epoch 78/100\n",
            "1198/1198 [==============================] - 5s 4ms/step - loss: 0.0018\n",
            "Epoch 79/100\n",
            "1198/1198 [==============================] - 5s 4ms/step - loss: 0.0017\n",
            "Epoch 80/100\n",
            "1198/1198 [==============================] - 5s 5ms/step - loss: 0.0017\n",
            "Epoch 81/100\n",
            "1198/1198 [==============================] - 5s 4ms/step - loss: 0.0019\n",
            "Epoch 82/100\n",
            "1198/1198 [==============================] - 5s 4ms/step - loss: 0.0018\n",
            "Epoch 83/100\n",
            "1198/1198 [==============================] - 5s 5ms/step - loss: 0.0016\n",
            "Epoch 84/100\n",
            "1198/1198 [==============================] - 5s 5ms/step - loss: 0.0017\n",
            "Epoch 85/100\n",
            "1198/1198 [==============================] - 6s 5ms/step - loss: 0.0017\n",
            "Epoch 86/100\n",
            "1198/1198 [==============================] - 6s 5ms/step - loss: 0.0016\n",
            "Epoch 87/100\n",
            "1198/1198 [==============================] - 5s 4ms/step - loss: 0.0017\n",
            "Epoch 88/100\n",
            "1198/1198 [==============================] - 5s 5ms/step - loss: 0.0017\n",
            "Epoch 89/100\n",
            "1198/1198 [==============================] - 5s 4ms/step - loss: 0.0016\n",
            "Epoch 90/100\n",
            "1198/1198 [==============================] - 5s 4ms/step - loss: 0.0018\n",
            "Epoch 91/100\n",
            "1198/1198 [==============================] - 5s 5ms/step - loss: 0.0016\n",
            "Epoch 92/100\n",
            "1198/1198 [==============================] - 5s 5ms/step - loss: 0.0015\n",
            "Epoch 93/100\n",
            "1198/1198 [==============================] - 5s 4ms/step - loss: 0.0015\n",
            "Epoch 94/100\n",
            "1198/1198 [==============================] - 5s 4ms/step - loss: 0.0015\n",
            "Epoch 95/100\n",
            "1198/1198 [==============================] - 5s 4ms/step - loss: 0.0014\n",
            "Epoch 96/100\n",
            "1198/1198 [==============================] - 5s 4ms/step - loss: 0.0016\n",
            "Epoch 97/100\n",
            "1198/1198 [==============================] - 5s 4ms/step - loss: 0.0014\n",
            "Epoch 98/100\n",
            "1198/1198 [==============================] - 5s 5ms/step - loss: 0.0015\n",
            "Epoch 99/100\n",
            "1198/1198 [==============================] - 5s 4ms/step - loss: 0.0015\n",
            "Epoch 100/100\n",
            "1198/1198 [==============================] - 5s 5ms/step - loss: 0.0014\n"
          ],
          "name": "stdout"
        },
        {
          "output_type": "execute_result",
          "data": {
            "text/plain": [
              "<keras.callbacks.callbacks.History at 0x7f0259b76b70>"
            ]
          },
          "metadata": {
            "tags": []
          },
          "execution_count": 12
        }
      ]
    },
    {
      "cell_type": "markdown",
      "metadata": {
        "id": "XOfr2Y2Wa_yq",
        "colab_type": "text"
      },
      "source": [
        "# Dataset test"
      ]
    },
    {
      "cell_type": "code",
      "metadata": {
        "id": "GVtDhaoXRjNW",
        "colab_type": "code",
        "colab": {}
      },
      "source": [
        "dataset_test = pd.read_csv(Google_Stock_Price_Test)\n",
        "real_stock_price = dataset_test.iloc[:, 1:2].values"
      ],
      "execution_count": 0,
      "outputs": []
    },
    {
      "cell_type": "code",
      "metadata": {
        "id": "MbCaGZ57RjNZ",
        "colab_type": "code",
        "colab": {}
      },
      "source": [
        "# getting predicted data\n",
        "dataset_total = pd.concat((dataset_train['Open'], dataset_test['Open']), axis = 0)\n",
        "inputs = dataset_total[len(dataset_total) - len(dataset_test) - 60:].values\n",
        "inputs = inputs.reshape(-1,1)\n",
        "inputs = sc.transform(inputs)\n",
        "X_test = []\n",
        "for i in range(60, 80):\n",
        "    X_test.append(inputs[i-60:i, 0])\n",
        "X_test = np.array(X_test)\n",
        "X_test = np.reshape(X_test, (X_test.shape[0], X_test.shape[1], 1))\n",
        "predicted_stock_price = regressor.predict(X_test)\n",
        "predicted_stock_price = sc.inverse_transform(predicted_stock_price)"
      ],
      "execution_count": 0,
      "outputs": []
    },
    {
      "cell_type": "code",
      "metadata": {
        "id": "FtGKlE5MRjNb",
        "colab_type": "code",
        "colab": {
          "base_uri": "https://localhost:8080/",
          "height": 295
        },
        "outputId": "e7efac43-d245-4532-909c-6d44d12feb2a"
      },
      "source": [
        "#V Dataviz \n",
        "plt.plot(real_stock_price, color = 'red', label = 'real data : Google stock ')\n",
        "plt.plot(predicted_stock_price, color = 'blue', label = 'predicted data : Google Stock')\n",
        "plt.title('Stock Price Forecast')\n",
        "plt.xlabel('Time')\n",
        "plt.ylabel('Google stock Price')\n",
        "plt.legend()\n",
        "plt.show()"
      ],
      "execution_count": 16,
      "outputs": [
        {
          "output_type": "display_data",
          "data": {
            "image/png": "[encoded data removed]",
            "text/plain": [
              "<Figure size 432x288 with 1 Axes>"
            ]
          },
          "metadata": {
            "tags": [],
            "needs_background": "light"
          }
        }
      ]
    }
  ]
}