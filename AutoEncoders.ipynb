{
  "nbformat": 4,
  "nbformat_minor": 0,
  "metadata": {
    "kernelspec": {
      "display_name": "Python 3",
      "language": "python",
      "name": "python3"
    },
    "language_info": {
      "codemirror_mode": {
        "name": "ipython",
        "version": 3
      },
      "file_extension": ".py",
      "mimetype": "text/x-python",
      "name": "python",
      "nbconvert_exporter": "python",
      "pygments_lexer": "ipython3",
      "version": "3.7.6"
    },
    "colab": {
      "name": "AutoEncoders.ipynb",
      "provenance": [],
      "toc_visible": true,
      "include_colab_link": true
    }
  },
  "cells": [
    {
      "cell_type": "markdown",
      "metadata": {
        "id": "view-in-github",
        "colab_type": "text"
      },
      "source": [
        "<a href=\"https://colab.research.google.com/github/annefrancine/Deep-Learning-Models-/blob/master/AutoEncoders.ipynb\" target=\"_parent\"><img src=\"https://colab.research.google.com/assets/colab-badge.svg\" alt=\"Open In Colab\"/></a>"
      ]
    },
    {
      "cell_type": "markdown",
      "metadata": {
        "id": "i4kMCsuu4gcr",
        "colab_type": "text"
      },
      "source": [
        "# **MovieLens dataset**\n",
        "\n",
        "https://grouplens.org/datasets/movielens/"
      ]
    },
    {
      "cell_type": "markdown",
      "metadata": {
        "id": "9B-GwnAd7agC",
        "colab_type": "text"
      },
      "source": [
        "# Importing Packages"
      ]
    },
    {
      "cell_type": "code",
      "metadata": {
        "id": "B-arKqOU4gcv",
        "colab_type": "code",
        "colab": {}
      },
      "source": [
        "import numpy as np\n",
        "import pandas as pd\n",
        "import torch\n",
        "import torch.nn as nn\n",
        "import torch.nn.parallel\n",
        "import torch.optim as optim\n",
        "import torch.utils.data\n",
        "from torch.autograd import Variable"
      ],
      "execution_count": 0,
      "outputs": []
    },
    {
      "cell_type": "markdown",
      "metadata": {
        "id": "riq77DwD7gvi",
        "colab_type": "text"
      },
      "source": [
        "# Importing Dataset"
      ]
    },
    {
      "cell_type": "code",
      "metadata": {
        "id": "AOsdBtjj7mtQ",
        "colab_type": "code",
        "colab": {
          "base_uri": "https://localhost:8080/",
          "height": 124
        },
        "outputId": "410771d6-51bb-4858-81f8-3eedaf69959f"
      },
      "source": [
        "from google.colab import drive\n",
        "drive.mount('/content/drive')"
      ],
      "execution_count": 2,
      "outputs": [
        {
          "output_type": "stream",
          "text": [
            "Go to this URL in a browser: https://accounts.google.com/o/oauth2/auth?client_id=947318989803-6bn6qk8qdgf4n4g3pfee6491hc0brc4i.apps.googleusercontent.com&redirect_uri=urn%3aietf%3awg%3aoauth%3a2.0%3aoob&response_type=code&scope=email%20https%3a%2f%2fwww.googleapis.com%2fauth%2fdocs.test%20https%3a%2f%2fwww.googleapis.com%2fauth%2fdrive%20https%3a%2f%2fwww.googleapis.com%2fauth%2fdrive.photos.readonly%20https%3a%2f%2fwww.googleapis.com%2fauth%2fpeopleapi.readonly\n",
            "\n",
            "Enter your authorization code:\n",
            "··········\n",
            "Mounted at /content/drive\n"
          ],
          "name": "stdout"
        }
      ]
    },
    {
      "cell_type": "code",
      "metadata": {
        "id": "eRqldWKX7mUO",
        "colab_type": "code",
        "colab": {}
      },
      "source": [
        "movies = pd.read_csv('/content/drive/My Drive/curso deep learning-udemy/Notebooks/7.BM/ml-1m/movies.dat', sep = '::', header = None, engine = 'python', encoding = 'latin-1')"
      ],
      "execution_count": 0,
      "outputs": []
    },
    {
      "cell_type": "code",
      "metadata": {
        "id": "VaTdpwaH7l5l",
        "colab_type": "code",
        "colab": {
          "base_uri": "https://localhost:8080/",
          "height": 202
        },
        "outputId": "474490f8-b822-4077-9c42-f5f99769dd2a"
      },
      "source": [
        "movies.head()"
      ],
      "execution_count": 4,
      "outputs": [
        {
          "output_type": "execute_result",
          "data": {
            "text/html": [
              "<div>\n",
              "<style scoped>\n",
              "    .dataframe tbody tr th:only-of-type {\n",
              "        vertical-align: middle;\n",
              "    }\n",
              "\n",
              "    .dataframe tbody tr th {\n",
              "        vertical-align: top;\n",
              "    }\n",
              "\n",
              "    .dataframe thead th {\n",
              "        text-align: right;\n",
              "    }\n",
              "</style>\n",
              "<table border=\"1\" class=\"dataframe\">\n",
              "  <thead>\n",
              "    <tr style=\"text-align: right;\">\n",
              "      <th></th>\n",
              "      <th>0</th>\n",
              "      <th>1</th>\n",
              "      <th>2</th>\n",
              "    </tr>\n",
              "  </thead>\n",
              "  <tbody>\n",
              "    <tr>\n",
              "      <th>0</th>\n",
              "      <td>1</td>\n",
              "      <td>Toy Story (1995)</td>\n",
              "      <td>Animation|Children's|Comedy</td>\n",
              "    </tr>\n",
              "    <tr>\n",
              "      <th>1</th>\n",
              "      <td>2</td>\n",
              "      <td>Jumanji (1995)</td>\n",
              "      <td>Adventure|Children's|Fantasy</td>\n",
              "    </tr>\n",
              "    <tr>\n",
              "      <th>2</th>\n",
              "      <td>3</td>\n",
              "      <td>Grumpier Old Men (1995)</td>\n",
              "      <td>Comedy|Romance</td>\n",
              "    </tr>\n",
              "    <tr>\n",
              "      <th>3</th>\n",
              "      <td>4</td>\n",
              "      <td>Waiting to Exhale (1995)</td>\n",
              "      <td>Comedy|Drama</td>\n",
              "    </tr>\n",
              "    <tr>\n",
              "      <th>4</th>\n",
              "      <td>5</td>\n",
              "      <td>Father of the Bride Part II (1995)</td>\n",
              "      <td>Comedy</td>\n",
              "    </tr>\n",
              "  </tbody>\n",
              "</table>\n",
              "</div>"
            ],
            "text/plain": [
              "   0                                   1                             2\n",
              "0  1                    Toy Story (1995)   Animation|Children's|Comedy\n",
              "1  2                      Jumanji (1995)  Adventure|Children's|Fantasy\n",
              "2  3             Grumpier Old Men (1995)                Comedy|Romance\n",
              "3  4            Waiting to Exhale (1995)                  Comedy|Drama\n",
              "4  5  Father of the Bride Part II (1995)                        Comedy"
            ]
          },
          "metadata": {
            "tags": []
          },
          "execution_count": 4
        }
      ]
    },
    {
      "cell_type": "code",
      "metadata": {
        "id": "JDMK4Poi8IC4",
        "colab_type": "code",
        "colab": {}
      },
      "source": [
        "users = pd.read_csv('/content/drive/My Drive/curso deep learning-udemy/Notebooks/7.BM/ml-1m/users.dat', sep = '::', header = None, engine = 'python', encoding = 'latin-1')"
      ],
      "execution_count": 0,
      "outputs": []
    },
    {
      "cell_type": "code",
      "metadata": {
        "id": "aJ6Ezavp8TaT",
        "colab_type": "code",
        "colab": {
          "base_uri": "https://localhost:8080/",
          "height": 202
        },
        "outputId": "5e3a6df0-5fbb-4de0-f589-865e51339f26"
      },
      "source": [
        "users.head()"
      ],
      "execution_count": 6,
      "outputs": [
        {
          "output_type": "execute_result",
          "data": {
            "text/html": [
              "<div>\n",
              "<style scoped>\n",
              "    .dataframe tbody tr th:only-of-type {\n",
              "        vertical-align: middle;\n",
              "    }\n",
              "\n",
              "    .dataframe tbody tr th {\n",
              "        vertical-align: top;\n",
              "    }\n",
              "\n",
              "    .dataframe thead th {\n",
              "        text-align: right;\n",
              "    }\n",
              "</style>\n",
              "<table border=\"1\" class=\"dataframe\">\n",
              "  <thead>\n",
              "    <tr style=\"text-align: right;\">\n",
              "      <th></th>\n",
              "      <th>0</th>\n",
              "      <th>1</th>\n",
              "      <th>2</th>\n",
              "      <th>3</th>\n",
              "      <th>4</th>\n",
              "    </tr>\n",
              "  </thead>\n",
              "  <tbody>\n",
              "    <tr>\n",
              "      <th>0</th>\n",
              "      <td>1</td>\n",
              "      <td>F</td>\n",
              "      <td>1</td>\n",
              "      <td>10</td>\n",
              "      <td>48067</td>\n",
              "    </tr>\n",
              "    <tr>\n",
              "      <th>1</th>\n",
              "      <td>2</td>\n",
              "      <td>M</td>\n",
              "      <td>56</td>\n",
              "      <td>16</td>\n",
              "      <td>70072</td>\n",
              "    </tr>\n",
              "    <tr>\n",
              "      <th>2</th>\n",
              "      <td>3</td>\n",
              "      <td>M</td>\n",
              "      <td>25</td>\n",
              "      <td>15</td>\n",
              "      <td>55117</td>\n",
              "    </tr>\n",
              "    <tr>\n",
              "      <th>3</th>\n",
              "      <td>4</td>\n",
              "      <td>M</td>\n",
              "      <td>45</td>\n",
              "      <td>7</td>\n",
              "      <td>02460</td>\n",
              "    </tr>\n",
              "    <tr>\n",
              "      <th>4</th>\n",
              "      <td>5</td>\n",
              "      <td>M</td>\n",
              "      <td>25</td>\n",
              "      <td>20</td>\n",
              "      <td>55455</td>\n",
              "    </tr>\n",
              "  </tbody>\n",
              "</table>\n",
              "</div>"
            ],
            "text/plain": [
              "   0  1   2   3      4\n",
              "0  1  F   1  10  48067\n",
              "1  2  M  56  16  70072\n",
              "2  3  M  25  15  55117\n",
              "3  4  M  45   7  02460\n",
              "4  5  M  25  20  55455"
            ]
          },
          "metadata": {
            "tags": []
          },
          "execution_count": 6
        }
      ]
    },
    {
      "cell_type": "code",
      "metadata": {
        "id": "rouD55H04gc5",
        "colab_type": "code",
        "colab": {}
      },
      "source": [
        "\n",
        "ratings = pd.read_csv('/content/drive/My Drive/curso deep learning-udemy/Notebooks/7.BM/ml-1m/ratings.dat', sep = '::', header = None, engine = 'python', encoding = 'latin-1')"
      ],
      "execution_count": 0,
      "outputs": []
    },
    {
      "cell_type": "code",
      "metadata": {
        "id": "_nu-inrL8e_r",
        "colab_type": "code",
        "colab": {
          "base_uri": "https://localhost:8080/",
          "height": 202
        },
        "outputId": "49dad181-0410-459c-d0c7-74a5ebd0e9f8"
      },
      "source": [
        "ratings.head()"
      ],
      "execution_count": 8,
      "outputs": [
        {
          "output_type": "execute_result",
          "data": {
            "text/html": [
              "<div>\n",
              "<style scoped>\n",
              "    .dataframe tbody tr th:only-of-type {\n",
              "        vertical-align: middle;\n",
              "    }\n",
              "\n",
              "    .dataframe tbody tr th {\n",
              "        vertical-align: top;\n",
              "    }\n",
              "\n",
              "    .dataframe thead th {\n",
              "        text-align: right;\n",
              "    }\n",
              "</style>\n",
              "<table border=\"1\" class=\"dataframe\">\n",
              "  <thead>\n",
              "    <tr style=\"text-align: right;\">\n",
              "      <th></th>\n",
              "      <th>0</th>\n",
              "      <th>1</th>\n",
              "      <th>2</th>\n",
              "      <th>3</th>\n",
              "    </tr>\n",
              "  </thead>\n",
              "  <tbody>\n",
              "    <tr>\n",
              "      <th>0</th>\n",
              "      <td>1</td>\n",
              "      <td>1193</td>\n",
              "      <td>5</td>\n",
              "      <td>978300760</td>\n",
              "    </tr>\n",
              "    <tr>\n",
              "      <th>1</th>\n",
              "      <td>1</td>\n",
              "      <td>661</td>\n",
              "      <td>3</td>\n",
              "      <td>978302109</td>\n",
              "    </tr>\n",
              "    <tr>\n",
              "      <th>2</th>\n",
              "      <td>1</td>\n",
              "      <td>914</td>\n",
              "      <td>3</td>\n",
              "      <td>978301968</td>\n",
              "    </tr>\n",
              "    <tr>\n",
              "      <th>3</th>\n",
              "      <td>1</td>\n",
              "      <td>3408</td>\n",
              "      <td>4</td>\n",
              "      <td>978300275</td>\n",
              "    </tr>\n",
              "    <tr>\n",
              "      <th>4</th>\n",
              "      <td>1</td>\n",
              "      <td>2355</td>\n",
              "      <td>5</td>\n",
              "      <td>978824291</td>\n",
              "    </tr>\n",
              "  </tbody>\n",
              "</table>\n",
              "</div>"
            ],
            "text/plain": [
              "   0     1  2          3\n",
              "0  1  1193  5  978300760\n",
              "1  1   661  3  978302109\n",
              "2  1   914  3  978301968\n",
              "3  1  3408  4  978300275\n",
              "4  1  2355  5  978824291"
            ]
          },
          "metadata": {
            "tags": []
          },
          "execution_count": 8
        }
      ]
    },
    {
      "cell_type": "markdown",
      "metadata": {
        "id": "hAWoQtDI8jdJ",
        "colab_type": "text"
      },
      "source": [
        "# Train, test dataset"
      ]
    },
    {
      "cell_type": "code",
      "metadata": {
        "id": "l02KDkP04gc-",
        "colab_type": "code",
        "colab": {}
      },
      "source": [
        "training_set = pd.read_csv('/content/drive/My Drive/curso deep learning-udemy/Notebooks/7.BM/ml-100k/u1.base', delimiter = '\\t')\n",
        "training_set = np.array(training_set, dtype = 'int')\n",
        "test_set = pd.read_csv('/content/drive/My Drive/curso deep learning-udemy/Notebooks/7.BM/ml-100k/u1.test', delimiter = '\\t')\n",
        "test_set = np.array(test_set, dtype = 'int')"
      ],
      "execution_count": 0,
      "outputs": []
    },
    {
      "cell_type": "code",
      "metadata": {
        "id": "HjhEihEF8xdC",
        "colab_type": "code",
        "colab": {
          "base_uri": "https://localhost:8080/",
          "height": 35
        },
        "outputId": "2da31a75-c7ab-49c7-fbb1-8af2fc3d0683"
      },
      "source": [
        "training_set.shape, test_set.shape"
      ],
      "execution_count": 10,
      "outputs": [
        {
          "output_type": "execute_result",
          "data": {
            "text/plain": [
              "((79999, 4), (19999, 4))"
            ]
          },
          "metadata": {
            "tags": []
          },
          "execution_count": 10
        }
      ]
    },
    {
      "cell_type": "markdown",
      "metadata": {
        "id": "CNKO_tEU9mGz",
        "colab_type": "text"
      },
      "source": [
        "# Number of users and films"
      ]
    },
    {
      "cell_type": "code",
      "metadata": {
        "id": "f4X1gn8l4gdD",
        "colab_type": "code",
        "colab": {}
      },
      "source": [
        "nb_users = int(max(max(training_set[:,0]), max(test_set[:,0])))\n",
        "nb_movies = int(max(max(training_set[:,1]), max(test_set[:,1])))"
      ],
      "execution_count": 0,
      "outputs": []
    },
    {
      "cell_type": "markdown",
      "metadata": {
        "id": "iSC3GB6A9qDy",
        "colab_type": "text"
      },
      "source": [
        "# Converting data into a matrix with users in rows and movies in columns"
      ]
    },
    {
      "cell_type": "code",
      "metadata": {
        "id": "ZEVPeFyz4gdH",
        "colab_type": "code",
        "colab": {}
      },
      "source": [
        "\n",
        "def convert(data):\n",
        "    new_data = [] \n",
        "    for id_users in range(1, nb_users + 1): \n",
        "        id_movies = data[:,1][data[:,0] == id_users] \n",
        "        id_ratings = data[:,2][data[:,0] == id_users]\n",
        "        ratings = np.zeros(nb_movies)\n",
        "        ratings[id_movies - 1] = id_ratings\n",
        "        new_data.append(list(ratings))\n",
        "    return new_data\n",
        "training_set = convert(training_set)\n",
        "test_set = convert(test_set)"
      ],
      "execution_count": 0,
      "outputs": []
    },
    {
      "cell_type": "markdown",
      "metadata": {
        "id": "rIdQNGpd-LtJ",
        "colab_type": "text"
      },
      "source": [
        "# Creating Torch Tensors"
      ]
    },
    {
      "cell_type": "code",
      "metadata": {
        "id": "JH-qO_Uy4gdL",
        "colab_type": "code",
        "colab": {}
      },
      "source": [
        "\n",
        "training_set = torch.FloatTensor(training_set)\n",
        "test_set = torch.FloatTensor(test_set)"
      ],
      "execution_count": 0,
      "outputs": []
    },
    {
      "cell_type": "markdown",
      "metadata": {
        "id": "hDu0yEfJ-QIQ",
        "colab_type": "text"
      },
      "source": [
        "# Creating the neural network architecture"
      ]
    },
    {
      "cell_type": "code",
      "metadata": {
        "id": "yGiG3WfX4gdP",
        "colab_type": "code",
        "colab": {}
      },
      "source": [
        "class SAE(nn.Module):\n",
        "    def __init__(self, ):\n",
        "        super(SAE, self).__init__()\n",
        "        self.fc1 = nn.Linear(nb_movies, 20)\n",
        "        self.fc2 = nn.Linear(20, 10)\n",
        "        self.fc3 = nn.Linear(10, 20)\n",
        "        self.fc4 = nn.Linear(20, nb_movies)\n",
        "        self.activation = nn.Sigmoid()\n",
        "    def forward(self, x):\n",
        "        x = self.activation(self.fc1(x))\n",
        "        x = self.activation(self.fc2(x))\n",
        "        x = self.activation(self.fc3(x))\n",
        "        x = self.fc4(x)\n",
        "        return x\n",
        "sae = SAE()\n",
        "criterion = nn.MSELoss()\n",
        "optimizer = optim.RMSprop(sae.parameters(), lr = 0.01, weight_decay = 0.5)"
      ],
      "execution_count": 0,
      "outputs": []
    },
    {
      "cell_type": "markdown",
      "metadata": {
        "id": "cE4z3kt3-VxA",
        "colab_type": "text"
      },
      "source": [
        "# Training neural network"
      ]
    },
    {
      "cell_type": "code",
      "metadata": {
        "id": "Ujh_tw6g4gdT",
        "colab_type": "code",
        "colab": {
          "base_uri": "https://localhost:8080/",
          "height": 1000
        },
        "outputId": "91ac69d5-febf-4948-f231-cadcccff1627"
      },
      "source": [
        "#Treinando a RNA\n",
        "nb_epoch = 200\n",
        "for epoch in range(1, nb_epoch + 1):\n",
        "    train_loss = 0\n",
        "    s = 0. \n",
        "    for id_user in range(nb_users): \n",
        "        input = Variable(training_set[id_user]).unsqueeze(0)\n",
        "        target = input.clone()\n",
        "        if torch.sum(target.data > 0) > 0:\n",
        "            output = sae(input)\n",
        "            target.require_grad = False\n",
        "            output[target == 0] = 0\n",
        "            loss = criterion(output, target)\n",
        "            mean_corrector = nb_movies/float(torch.sum(target.data > 0) + 1e-10)\n",
        "            loss.backward()\n",
        "            train_loss += np.sqrt(loss.data*mean_corrector)\n",
        "            s += 1.\n",
        "            optimizer.step()\n",
        "    print('epoch: '+str(epoch)+' loss: '+str(train_loss/s))"
      ],
      "execution_count": 15,
      "outputs": [
        {
          "output_type": "stream",
          "text": [
            "epoch: 1 loss: tensor(1.7714)\n",
            "epoch: 2 loss: tensor(1.0966)\n",
            "epoch: 3 loss: tensor(1.0534)\n",
            "epoch: 4 loss: tensor(1.0384)\n",
            "epoch: 5 loss: tensor(1.0309)\n",
            "epoch: 6 loss: tensor(1.0265)\n",
            "epoch: 7 loss: tensor(1.0238)\n",
            "epoch: 8 loss: tensor(1.0216)\n",
            "epoch: 9 loss: tensor(1.0206)\n",
            "epoch: 10 loss: tensor(1.0197)\n",
            "epoch: 11 loss: tensor(1.0189)\n",
            "epoch: 12 loss: tensor(1.0186)\n",
            "epoch: 13 loss: tensor(1.0179)\n",
            "epoch: 14 loss: tensor(1.0174)\n",
            "epoch: 15 loss: tensor(1.0171)\n",
            "epoch: 16 loss: tensor(1.0170)\n",
            "epoch: 17 loss: tensor(1.0167)\n",
            "epoch: 18 loss: tensor(1.0164)\n",
            "epoch: 19 loss: tensor(1.0163)\n",
            "epoch: 20 loss: tensor(1.0160)\n",
            "epoch: 21 loss: tensor(1.0160)\n",
            "epoch: 22 loss: tensor(1.0159)\n",
            "epoch: 23 loss: tensor(1.0157)\n",
            "epoch: 24 loss: tensor(1.0157)\n",
            "epoch: 25 loss: tensor(1.0155)\n",
            "epoch: 26 loss: tensor(1.0155)\n",
            "epoch: 27 loss: tensor(1.0151)\n",
            "epoch: 28 loss: tensor(1.0150)\n",
            "epoch: 29 loss: tensor(1.0129)\n",
            "epoch: 30 loss: tensor(1.0115)\n",
            "epoch: 31 loss: tensor(1.0102)\n",
            "epoch: 32 loss: tensor(1.0082)\n",
            "epoch: 33 loss: tensor(1.0071)\n",
            "epoch: 34 loss: tensor(1.0042)\n",
            "epoch: 35 loss: tensor(1.0031)\n",
            "epoch: 36 loss: tensor(1.0002)\n",
            "epoch: 37 loss: tensor(0.9972)\n",
            "epoch: 38 loss: tensor(0.9975)\n",
            "epoch: 39 loss: tensor(0.9958)\n",
            "epoch: 40 loss: tensor(0.9929)\n",
            "epoch: 41 loss: tensor(0.9924)\n",
            "epoch: 42 loss: tensor(0.9904)\n",
            "epoch: 43 loss: tensor(0.9873)\n",
            "epoch: 44 loss: tensor(0.9862)\n",
            "epoch: 45 loss: tensor(0.9860)\n",
            "epoch: 46 loss: tensor(0.9808)\n",
            "epoch: 47 loss: tensor(0.9808)\n",
            "epoch: 48 loss: tensor(0.9760)\n",
            "epoch: 49 loss: tensor(0.9762)\n",
            "epoch: 50 loss: tensor(0.9700)\n",
            "epoch: 51 loss: tensor(0.9719)\n",
            "epoch: 52 loss: tensor(0.9707)\n",
            "epoch: 53 loss: tensor(0.9694)\n",
            "epoch: 54 loss: tensor(0.9669)\n",
            "epoch: 55 loss: tensor(0.9665)\n",
            "epoch: 56 loss: tensor(0.9639)\n",
            "epoch: 57 loss: tensor(0.9628)\n",
            "epoch: 58 loss: tensor(0.9604)\n",
            "epoch: 59 loss: tensor(0.9614)\n",
            "epoch: 60 loss: tensor(0.9604)\n",
            "epoch: 61 loss: tensor(0.9591)\n",
            "epoch: 62 loss: tensor(0.9579)\n",
            "epoch: 63 loss: tensor(0.9582)\n",
            "epoch: 64 loss: tensor(0.9556)\n",
            "epoch: 65 loss: tensor(0.9555)\n",
            "epoch: 66 loss: tensor(0.9525)\n",
            "epoch: 67 loss: tensor(0.9529)\n",
            "epoch: 68 loss: tensor(0.9508)\n",
            "epoch: 69 loss: tensor(0.9508)\n",
            "epoch: 70 loss: tensor(0.9494)\n",
            "epoch: 71 loss: tensor(0.9489)\n",
            "epoch: 72 loss: tensor(0.9479)\n",
            "epoch: 73 loss: tensor(0.9471)\n",
            "epoch: 74 loss: tensor(0.9458)\n",
            "epoch: 75 loss: tensor(0.9459)\n",
            "epoch: 76 loss: tensor(0.9445)\n",
            "epoch: 77 loss: tensor(0.9445)\n",
            "epoch: 78 loss: tensor(0.9434)\n",
            "epoch: 79 loss: tensor(0.9431)\n",
            "epoch: 80 loss: tensor(0.9421)\n",
            "epoch: 81 loss: tensor(0.9421)\n",
            "epoch: 82 loss: tensor(0.9409)\n",
            "epoch: 83 loss: tensor(0.9410)\n",
            "epoch: 84 loss: tensor(0.9402)\n",
            "epoch: 85 loss: tensor(0.9400)\n",
            "epoch: 86 loss: tensor(0.9395)\n",
            "epoch: 87 loss: tensor(0.9394)\n",
            "epoch: 88 loss: tensor(0.9376)\n",
            "epoch: 89 loss: tensor(0.9383)\n",
            "epoch: 90 loss: tensor(0.9369)\n",
            "epoch: 91 loss: tensor(0.9370)\n",
            "epoch: 92 loss: tensor(0.9360)\n",
            "epoch: 93 loss: tensor(0.9359)\n",
            "epoch: 94 loss: tensor(0.9351)\n",
            "epoch: 95 loss: tensor(0.9355)\n",
            "epoch: 96 loss: tensor(0.9340)\n",
            "epoch: 97 loss: tensor(0.9343)\n",
            "epoch: 98 loss: tensor(0.9330)\n",
            "epoch: 99 loss: tensor(0.9332)\n",
            "epoch: 100 loss: tensor(0.9323)\n",
            "epoch: 101 loss: tensor(0.9326)\n",
            "epoch: 102 loss: tensor(0.9315)\n",
            "epoch: 103 loss: tensor(0.9320)\n",
            "epoch: 104 loss: tensor(0.9308)\n",
            "epoch: 105 loss: tensor(0.9315)\n",
            "epoch: 106 loss: tensor(0.9300)\n",
            "epoch: 107 loss: tensor(0.9304)\n",
            "epoch: 108 loss: tensor(0.9291)\n",
            "epoch: 109 loss: tensor(0.9299)\n",
            "epoch: 110 loss: tensor(0.9286)\n",
            "epoch: 111 loss: tensor(0.9292)\n",
            "epoch: 112 loss: tensor(0.9280)\n",
            "epoch: 113 loss: tensor(0.9284)\n",
            "epoch: 114 loss: tensor(0.9273)\n",
            "epoch: 115 loss: tensor(0.9277)\n",
            "epoch: 116 loss: tensor(0.9268)\n",
            "epoch: 117 loss: tensor(0.9272)\n",
            "epoch: 118 loss: tensor(0.9262)\n",
            "epoch: 119 loss: tensor(0.9264)\n",
            "epoch: 120 loss: tensor(0.9254)\n",
            "epoch: 121 loss: tensor(0.9258)\n",
            "epoch: 122 loss: tensor(0.9251)\n",
            "epoch: 123 loss: tensor(0.9256)\n",
            "epoch: 124 loss: tensor(0.9245)\n",
            "epoch: 125 loss: tensor(0.9248)\n",
            "epoch: 126 loss: tensor(0.9239)\n",
            "epoch: 127 loss: tensor(0.9240)\n",
            "epoch: 128 loss: tensor(0.9233)\n",
            "epoch: 129 loss: tensor(0.9237)\n",
            "epoch: 130 loss: tensor(0.9229)\n",
            "epoch: 131 loss: tensor(0.9230)\n",
            "epoch: 132 loss: tensor(0.9222)\n",
            "epoch: 133 loss: tensor(0.9225)\n",
            "epoch: 134 loss: tensor(0.9217)\n",
            "epoch: 135 loss: tensor(0.9220)\n",
            "epoch: 136 loss: tensor(0.9213)\n",
            "epoch: 137 loss: tensor(0.9214)\n",
            "epoch: 138 loss: tensor(0.9207)\n",
            "epoch: 139 loss: tensor(0.9210)\n",
            "epoch: 140 loss: tensor(0.9203)\n",
            "epoch: 141 loss: tensor(0.9204)\n",
            "epoch: 142 loss: tensor(0.9197)\n",
            "epoch: 143 loss: tensor(0.9200)\n",
            "epoch: 144 loss: tensor(0.9195)\n",
            "epoch: 145 loss: tensor(0.9196)\n",
            "epoch: 146 loss: tensor(0.9189)\n",
            "epoch: 147 loss: tensor(0.9190)\n",
            "epoch: 148 loss: tensor(0.9185)\n",
            "epoch: 149 loss: tensor(0.9188)\n",
            "epoch: 150 loss: tensor(0.9179)\n",
            "epoch: 151 loss: tensor(0.9183)\n",
            "epoch: 152 loss: tensor(0.9175)\n",
            "epoch: 153 loss: tensor(0.9178)\n",
            "epoch: 154 loss: tensor(0.9171)\n",
            "epoch: 155 loss: tensor(0.9174)\n",
            "epoch: 156 loss: tensor(0.9168)\n",
            "epoch: 157 loss: tensor(0.9172)\n",
            "epoch: 158 loss: tensor(0.9165)\n",
            "epoch: 159 loss: tensor(0.9167)\n",
            "epoch: 160 loss: tensor(0.9160)\n",
            "epoch: 161 loss: tensor(0.9163)\n",
            "epoch: 162 loss: tensor(0.9158)\n",
            "epoch: 163 loss: tensor(0.9159)\n",
            "epoch: 164 loss: tensor(0.9153)\n",
            "epoch: 165 loss: tensor(0.9157)\n",
            "epoch: 166 loss: tensor(0.9151)\n",
            "epoch: 167 loss: tensor(0.9154)\n",
            "epoch: 168 loss: tensor(0.9149)\n",
            "epoch: 169 loss: tensor(0.9150)\n",
            "epoch: 170 loss: tensor(0.9147)\n",
            "epoch: 171 loss: tensor(0.9148)\n",
            "epoch: 172 loss: tensor(0.9145)\n",
            "epoch: 173 loss: tensor(0.9145)\n",
            "epoch: 174 loss: tensor(0.9141)\n",
            "epoch: 175 loss: tensor(0.9142)\n",
            "epoch: 176 loss: tensor(0.9137)\n",
            "epoch: 177 loss: tensor(0.9139)\n",
            "epoch: 178 loss: tensor(0.9135)\n",
            "epoch: 179 loss: tensor(0.9138)\n",
            "epoch: 180 loss: tensor(0.9134)\n",
            "epoch: 181 loss: tensor(0.9134)\n",
            "epoch: 182 loss: tensor(0.9130)\n",
            "epoch: 183 loss: tensor(0.9130)\n",
            "epoch: 184 loss: tensor(0.9126)\n",
            "epoch: 185 loss: tensor(0.9125)\n",
            "epoch: 186 loss: tensor(0.9122)\n",
            "epoch: 187 loss: tensor(0.9125)\n",
            "epoch: 188 loss: tensor(0.9123)\n",
            "epoch: 189 loss: tensor(0.9123)\n",
            "epoch: 190 loss: tensor(0.9123)\n",
            "epoch: 191 loss: tensor(0.9122)\n",
            "epoch: 192 loss: tensor(0.9118)\n",
            "epoch: 193 loss: tensor(0.9119)\n",
            "epoch: 194 loss: tensor(0.9117)\n",
            "epoch: 195 loss: tensor(0.9118)\n",
            "epoch: 196 loss: tensor(0.9114)\n",
            "epoch: 197 loss: tensor(0.9113)\n",
            "epoch: 198 loss: tensor(0.9112)\n",
            "epoch: 199 loss: tensor(0.9113)\n",
            "epoch: 200 loss: tensor(0.9109)\n"
          ],
          "name": "stdout"
        }
      ]
    },
    {
      "cell_type": "markdown",
      "metadata": {
        "id": "myokqxWs-aVx",
        "colab_type": "text"
      },
      "source": [
        "# Testing neural network\n"
      ]
    },
    {
      "cell_type": "code",
      "metadata": {
        "id": "fs7ZOkT44gdX",
        "colab_type": "code",
        "colab": {
          "base_uri": "https://localhost:8080/",
          "height": 35
        },
        "outputId": "a60ed1f6-d3f7-478e-de05-45ff294932d4"
      },
      "source": [
        "\n",
        "test_loss = 0\n",
        "s = 0.\n",
        "for id_user in range(nb_users):\n",
        "    input = Variable(training_set[id_user]).unsqueeze(0)\n",
        "    target = Variable(test_set[id_user]).unsqueeze(0)\n",
        "    if torch.sum(target.data > 0) > 0:\n",
        "        output = sae(input) \n",
        "        target.require_grad = False \n",
        "        output[target == 0] = 0 \n",
        "        loss = criterion(output, target) \n",
        "        mean_corrector = nb_movies/float(torch.sum(target.data > 0) + 1e-10)\n",
        "        test_loss += np.sqrt(loss.data*mean_corrector)\n",
        "        s += 1.\n",
        "print('Loss de test:: '+str(test_loss/s))"
      ],
      "execution_count": 16,
      "outputs": [
        {
          "output_type": "stream",
          "text": [
            "Loss de test:: tensor(0.9457)\n"
          ],
          "name": "stdout"
        }
      ]
    }
  ]
}