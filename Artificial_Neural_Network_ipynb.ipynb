{
  "nbformat": 4,
  "nbformat_minor": 0,
  "metadata": {
    "kernelspec": {
      "display_name": "Python 3",
      "language": "python",
      "name": "python3"
    },
    "language_info": {
      "name": ""
    },
    "colab": {
      "name": "Artificial Neural Network. ipynb",
      "provenance": [],
      "collapsed_sections": [],
      "include_colab_link": true
    }
  },
  "cells": [
    {
      "cell_type": "markdown",
      "metadata": {
        "id": "view-in-github",
        "colab_type": "text"
      },
      "source": [
        "<a href=\"https://colab.research.google.com/github/annefrancine/Deep-Learning-Models-/blob/master/Artificial_Neural_Network_ipynb.ipynb\" target=\"_parent\"><img src=\"https://colab.research.google.com/assets/colab-badge.svg\" alt=\"Open In Colab\"/></a>"
      ]
    },
    {
      "cell_type": "code",
      "metadata": {
        "id": "OUSFfNtzTQ8i",
        "colab_type": "code",
        "colab": {}
      },
      "source": [
        "# Importing packages\n",
        "import pandas as pd"
      ],
      "execution_count": 0,
      "outputs": []
    },
    {
      "cell_type": "code",
      "metadata": {
        "id": "-qzEe1AVTpqD",
        "colab_type": "code",
        "outputId": "48bcdb17-16cf-4469-d020-748492cea901",
        "colab": {
          "base_uri": "https://localhost:8080/",
          "height": 124
        }
      },
      "source": [
        "from google.colab import drive\n",
        "drive.mount('/content/drive')"
      ],
      "execution_count": 2,
      "outputs": [
        {
          "output_type": "stream",
          "text": [
            "Go to this URL in a browser: https://accounts.google.com/o/oauth2/auth?client_id=947318989803-6bn6qk8qdgf4n4g3pfee6491hc0brc4i.apps.googleusercontent.com&redirect_uri=urn%3aietf%3awg%3aoauth%3a2.0%3aoob&response_type=code&scope=email%20https%3a%2f%2fwww.googleapis.com%2fauth%2fdocs.test%20https%3a%2f%2fwww.googleapis.com%2fauth%2fdrive%20https%3a%2f%2fwww.googleapis.com%2fauth%2fdrive.photos.readonly%20https%3a%2f%2fwww.googleapis.com%2fauth%2fpeopleapi.readonly\n",
            "\n",
            "Enter your authorization code:\n",
            "··········\n",
            "Mounted at /content/drive\n"
          ],
          "name": "stdout"
        }
      ]
    },
    {
      "cell_type": "code",
      "metadata": {
        "id": "YbHG3fL6Ty2e",
        "colab_type": "code",
        "colab": {}
      },
      "source": [
        "Churn_Modelling = '/content/drive/My Drive/curso deep learning-udemy/Notebooks/3.ANN/Churn_Modelling.csv'"
      ],
      "execution_count": 0,
      "outputs": []
    },
    {
      "cell_type": "code",
      "metadata": {
        "id": "-M8gZm94TQ8s",
        "colab_type": "code",
        "outputId": "14236ee7-963a-4575-aaa9-2a9a02e5761d",
        "colab": {
          "base_uri": "https://localhost:8080/",
          "height": 222
        }
      },
      "source": [
        "# Importing data\n",
        "dataset = pd.read_csv(Churn_Modelling)\n",
        "dataset.head()"
      ],
      "execution_count": 4,
      "outputs": [
        {
          "output_type": "execute_result",
          "data": {
            "text/html": [
              "<div>\n",
              "<style scoped>\n",
              "    .dataframe tbody tr th:only-of-type {\n",
              "        vertical-align: middle;\n",
              "    }\n",
              "\n",
              "    .dataframe tbody tr th {\n",
              "        vertical-align: top;\n",
              "    }\n",
              "\n",
              "    .dataframe thead th {\n",
              "        text-align: right;\n",
              "    }\n",
              "</style>\n",
              "<table border=\"1\" class=\"dataframe\">\n",
              "  <thead>\n",
              "    <tr style=\"text-align: right;\">\n",
              "      <th></th>\n",
              "      <th>RowNumber</th>\n",
              "      <th>CustomerId</th>\n",
              "      <th>Surname</th>\n",
              "      <th>CreditScore</th>\n",
              "      <th>Geography</th>\n",
              "      <th>Gender</th>\n",
              "      <th>Age</th>\n",
              "      <th>Tenure</th>\n",
              "      <th>Balance</th>\n",
              "      <th>NumOfProducts</th>\n",
              "      <th>HasCrCard</th>\n",
              "      <th>IsActiveMember</th>\n",
              "      <th>EstimatedSalary</th>\n",
              "      <th>Exited</th>\n",
              "    </tr>\n",
              "  </thead>\n",
              "  <tbody>\n",
              "    <tr>\n",
              "      <th>0</th>\n",
              "      <td>1</td>\n",
              "      <td>15634602</td>\n",
              "      <td>Hargrave</td>\n",
              "      <td>619</td>\n",
              "      <td>France</td>\n",
              "      <td>Female</td>\n",
              "      <td>42</td>\n",
              "      <td>2</td>\n",
              "      <td>0.00</td>\n",
              "      <td>1</td>\n",
              "      <td>1</td>\n",
              "      <td>1</td>\n",
              "      <td>101348.88</td>\n",
              "      <td>1</td>\n",
              "    </tr>\n",
              "    <tr>\n",
              "      <th>1</th>\n",
              "      <td>2</td>\n",
              "      <td>15647311</td>\n",
              "      <td>Hill</td>\n",
              "      <td>608</td>\n",
              "      <td>Spain</td>\n",
              "      <td>Female</td>\n",
              "      <td>41</td>\n",
              "      <td>1</td>\n",
              "      <td>83807.86</td>\n",
              "      <td>1</td>\n",
              "      <td>0</td>\n",
              "      <td>1</td>\n",
              "      <td>112542.58</td>\n",
              "      <td>0</td>\n",
              "    </tr>\n",
              "    <tr>\n",
              "      <th>2</th>\n",
              "      <td>3</td>\n",
              "      <td>15619304</td>\n",
              "      <td>Onio</td>\n",
              "      <td>502</td>\n",
              "      <td>France</td>\n",
              "      <td>Female</td>\n",
              "      <td>42</td>\n",
              "      <td>8</td>\n",
              "      <td>159660.80</td>\n",
              "      <td>3</td>\n",
              "      <td>1</td>\n",
              "      <td>0</td>\n",
              "      <td>113931.57</td>\n",
              "      <td>1</td>\n",
              "    </tr>\n",
              "    <tr>\n",
              "      <th>3</th>\n",
              "      <td>4</td>\n",
              "      <td>15701354</td>\n",
              "      <td>Boni</td>\n",
              "      <td>699</td>\n",
              "      <td>France</td>\n",
              "      <td>Female</td>\n",
              "      <td>39</td>\n",
              "      <td>1</td>\n",
              "      <td>0.00</td>\n",
              "      <td>2</td>\n",
              "      <td>0</td>\n",
              "      <td>0</td>\n",
              "      <td>93826.63</td>\n",
              "      <td>0</td>\n",
              "    </tr>\n",
              "    <tr>\n",
              "      <th>4</th>\n",
              "      <td>5</td>\n",
              "      <td>15737888</td>\n",
              "      <td>Mitchell</td>\n",
              "      <td>850</td>\n",
              "      <td>Spain</td>\n",
              "      <td>Female</td>\n",
              "      <td>43</td>\n",
              "      <td>2</td>\n",
              "      <td>125510.82</td>\n",
              "      <td>1</td>\n",
              "      <td>1</td>\n",
              "      <td>1</td>\n",
              "      <td>79084.10</td>\n",
              "      <td>0</td>\n",
              "    </tr>\n",
              "  </tbody>\n",
              "</table>\n",
              "</div>"
            ],
            "text/plain": [
              "   RowNumber  CustomerId   Surname  ...  IsActiveMember EstimatedSalary Exited\n",
              "0          1    15634602  Hargrave  ...               1       101348.88      1\n",
              "1          2    15647311      Hill  ...               1       112542.58      0\n",
              "2          3    15619304      Onio  ...               0       113931.57      1\n",
              "3          4    15701354      Boni  ...               0        93826.63      0\n",
              "4          5    15737888  Mitchell  ...               1        79084.10      0\n",
              "\n",
              "[5 rows x 14 columns]"
            ]
          },
          "metadata": {
            "tags": []
          },
          "execution_count": 4
        }
      ]
    },
    {
      "cell_type": "code",
      "metadata": {
        "id": "k0a28l_tUGSv",
        "colab_type": "code",
        "outputId": "da0b4c3c-ec2b-4b63-8d39-d516a25ba4ab",
        "colab": {
          "base_uri": "https://localhost:8080/",
          "height": 381
        }
      },
      "source": [
        "dataset.info()"
      ],
      "execution_count": 5,
      "outputs": [
        {
          "output_type": "stream",
          "text": [
            "<class 'pandas.core.frame.DataFrame'>\n",
            "RangeIndex: 10000 entries, 0 to 9999\n",
            "Data columns (total 14 columns):\n",
            " #   Column           Non-Null Count  Dtype  \n",
            "---  ------           --------------  -----  \n",
            " 0   RowNumber        10000 non-null  int64  \n",
            " 1   CustomerId       10000 non-null  int64  \n",
            " 2   Surname          10000 non-null  object \n",
            " 3   CreditScore      10000 non-null  int64  \n",
            " 4   Geography        10000 non-null  object \n",
            " 5   Gender           10000 non-null  object \n",
            " 6   Age              10000 non-null  int64  \n",
            " 7   Tenure           10000 non-null  int64  \n",
            " 8   Balance          10000 non-null  float64\n",
            " 9   NumOfProducts    10000 non-null  int64  \n",
            " 10  HasCrCard        10000 non-null  int64  \n",
            " 11  IsActiveMember   10000 non-null  int64  \n",
            " 12  EstimatedSalary  10000 non-null  float64\n",
            " 13  Exited           10000 non-null  int64  \n",
            "dtypes: float64(2), int64(9), object(3)\n",
            "memory usage: 1.1+ MB\n"
          ],
          "name": "stdout"
        }
      ]
    },
    {
      "cell_type": "code",
      "metadata": {
        "id": "w6riI5o0UA6P",
        "colab_type": "code",
        "colab": {}
      },
      "source": [
        "X = dataset.iloc[:, 3:13].values# da coluna 3 até a 12\n",
        "y = dataset.iloc[:, 13].values# coluna 13"
      ],
      "execution_count": 0,
      "outputs": []
    },
    {
      "cell_type": "code",
      "metadata": {
        "id": "P3FLLjL9LxV3",
        "colab_type": "code",
        "colab": {
          "base_uri": "https://localhost:8080/",
          "height": 139
        },
        "outputId": "3bc6cf14-37a8-443d-a176-0890ed28484d"
      },
      "source": [
        "X"
      ],
      "execution_count": 14,
      "outputs": [
        {
          "output_type": "execute_result",
          "data": {
            "text/plain": [
              "array([[0.0, 0.0, 619, ..., 1, 1, 101348.88],\n",
              "       [0.0, 1.0, 608, ..., 0, 1, 112542.58],\n",
              "       [0.0, 0.0, 502, ..., 1, 0, 113931.57],\n",
              "       ...,\n",
              "       [0.0, 0.0, 709, ..., 0, 1, 42085.58],\n",
              "       [1.0, 0.0, 772, ..., 1, 0, 92888.52],\n",
              "       [0.0, 0.0, 792, ..., 1, 0, 38190.78]], dtype=object)"
            ]
          },
          "metadata": {
            "tags": []
          },
          "execution_count": 14
        }
      ]
    },
    {
      "cell_type": "code",
      "metadata": {
        "id": "WtX-mim9L1gD",
        "colab_type": "code",
        "colab": {
          "base_uri": "https://localhost:8080/",
          "height": 35
        },
        "outputId": "f06d4871-4ca2-439c-fbce-2b4d72b10bd3"
      },
      "source": [
        "y"
      ],
      "execution_count": 15,
      "outputs": [
        {
          "output_type": "execute_result",
          "data": {
            "text/plain": [
              "array([1, 0, 1, ..., 1, 1, 0])"
            ]
          },
          "metadata": {
            "tags": []
          },
          "execution_count": 15
        }
      ]
    },
    {
      "cell_type": "code",
      "metadata": {
        "id": "eLcIEGa-TQ8z",
        "colab_type": "code",
        "colab": {}
      },
      "source": [
        "# Categorical data transformation\n",
        "from sklearn.preprocessing import LabelEncoder, OneHotEncoder\n",
        "from sklearn.compose import make_column_transformer\n",
        "labelencoder_X_1 = LabelEncoder()\n",
        "X[:, 1] = labelencoder_X_1.fit_transform(X[:, 1])# a primeira coluna\n",
        "labelencoder_X_2 = LabelEncoder()\n",
        "X[:, 2] = labelencoder_X_2.fit_transform(X[:, 2])# a segunda coluna\n",
        "onehotencoder= make_column_transformer((OneHotEncoder(categories='auto', sparse = False), [1]), remainder=\"passthrough\")# para criar uma variavel dummy\n",
        "X=onehotencoder.fit_transform(X)# vai adicionar esta variavel no X\n",
        "X = X[:,1:]"
      ],
      "execution_count": 0,
      "outputs": []
    },
    {
      "cell_type": "code",
      "metadata": {
        "id": "M6S6YzHrTQ86",
        "colab_type": "code",
        "colab": {}
      },
      "source": [
        "# dividing data into training and testing\n",
        "from sklearn.model_selection import train_test_split\n",
        "X_train, X_test, y_train, y_test = train_test_split(X, y, test_size = 0.2, random_state = 0)"
      ],
      "execution_count": 0,
      "outputs": []
    },
    {
      "cell_type": "code",
      "metadata": {
        "id": "xCaQgk8HTQ8_",
        "colab_type": "code",
        "colab": {}
      },
      "source": [
        "#Feature Scaling\n",
        "from sklearn.preprocessing import StandardScaler\n",
        "sc = StandardScaler()\n",
        "X_train = sc.fit_transform(X_train)\n",
        "X_test = sc.transform(X_test)"
      ],
      "execution_count": 0,
      "outputs": []
    },
    {
      "cell_type": "code",
      "metadata": {
        "id": "-ufANoB0TQ9E",
        "colab_type": "code",
        "outputId": "ad810d46-c0b6-4a17-86a6-8e5b07b77d00",
        "colab": {
          "base_uri": "https://localhost:8080/",
          "height": 35
        }
      },
      "source": [
        "# Keras \n",
        "from keras.models import Sequential\n",
        "from keras.layers import Dense"
      ],
      "execution_count": 10,
      "outputs": [
        {
          "output_type": "stream",
          "text": [
            "Using TensorFlow backend.\n"
          ],
          "name": "stderr"
        }
      ]
    },
    {
      "cell_type": "code",
      "metadata": {
        "id": "OLTGN2_ZTQ9H",
        "colab_type": "code",
        "outputId": "15081c7a-fffc-45a6-b1a1-ce56797e8c85",
        "colab": {
          "base_uri": "https://localhost:8080/",
          "height": 1000
        }
      },
      "source": [
        "# Initialize the neural network\n",
        "classifier = Sequential() \n",
        "# Adding layers\n",
        "classifier.add(Dense(units = 6, kernel_initializer = 'uniform', activation = 'relu', input_dim = 11))\n",
        "classifier.add(Dense(units = 6, kernel_initializer = 'uniform', activation = 'relu'))\n",
        "classifier.add(Dense(units = 1, kernel_initializer = 'uniform', activation = 'sigmoid'))\n",
        "#Compile\n",
        "classifier.compile(optimizer = 'adam', loss = 'binary_crossentropy', metrics = ['accuracy'])\n",
        "#Training\n",
        "classifier.fit(X_train, y_train, batch_size = 10, epochs = 100)"
      ],
      "execution_count": 11,
      "outputs": [
        {
          "output_type": "stream",
          "text": [
            "Epoch 1/100\n",
            "8000/8000 [==============================] - 1s 138us/step - loss: 0.4826 - accuracy: 0.7960\n",
            "Epoch 2/100\n",
            "8000/8000 [==============================] - 1s 104us/step - loss: 0.4281 - accuracy: 0.7960\n",
            "Epoch 3/100\n",
            "8000/8000 [==============================] - 1s 109us/step - loss: 0.4227 - accuracy: 0.7981\n",
            "Epoch 4/100\n",
            "8000/8000 [==============================] - 1s 107us/step - loss: 0.4187 - accuracy: 0.8246\n",
            "Epoch 5/100\n",
            "8000/8000 [==============================] - 1s 111us/step - loss: 0.4162 - accuracy: 0.8269\n",
            "Epoch 6/100\n",
            "8000/8000 [==============================] - 1s 107us/step - loss: 0.4142 - accuracy: 0.8284\n",
            "Epoch 7/100\n",
            "8000/8000 [==============================] - 1s 108us/step - loss: 0.4118 - accuracy: 0.8331\n",
            "Epoch 8/100\n",
            "8000/8000 [==============================] - 1s 108us/step - loss: 0.4113 - accuracy: 0.8332\n",
            "Epoch 9/100\n",
            "8000/8000 [==============================] - 1s 102us/step - loss: 0.4100 - accuracy: 0.8332\n",
            "Epoch 10/100\n",
            "8000/8000 [==============================] - 1s 102us/step - loss: 0.4092 - accuracy: 0.8338\n",
            "Epoch 11/100\n",
            "8000/8000 [==============================] - 1s 102us/step - loss: 0.4081 - accuracy: 0.8347\n",
            "Epoch 12/100\n",
            "8000/8000 [==============================] - 1s 103us/step - loss: 0.4074 - accuracy: 0.8335\n",
            "Epoch 13/100\n",
            "8000/8000 [==============================] - 1s 101us/step - loss: 0.4069 - accuracy: 0.8325\n",
            "Epoch 14/100\n",
            "8000/8000 [==============================] - 1s 101us/step - loss: 0.4060 - accuracy: 0.8344\n",
            "Epoch 15/100\n",
            "8000/8000 [==============================] - 1s 102us/step - loss: 0.4062 - accuracy: 0.8344\n",
            "Epoch 16/100\n",
            "8000/8000 [==============================] - 1s 99us/step - loss: 0.4045 - accuracy: 0.8344\n",
            "Epoch 17/100\n",
            "8000/8000 [==============================] - 1s 101us/step - loss: 0.4054 - accuracy: 0.8351\n",
            "Epoch 18/100\n",
            "8000/8000 [==============================] - 1s 101us/step - loss: 0.4053 - accuracy: 0.8350\n",
            "Epoch 19/100\n",
            "8000/8000 [==============================] - 1s 103us/step - loss: 0.4044 - accuracy: 0.8344\n",
            "Epoch 20/100\n",
            "8000/8000 [==============================] - 1s 99us/step - loss: 0.4041 - accuracy: 0.8357\n",
            "Epoch 21/100\n",
            "8000/8000 [==============================] - 1s 102us/step - loss: 0.4039 - accuracy: 0.8357\n",
            "Epoch 22/100\n",
            "8000/8000 [==============================] - 1s 102us/step - loss: 0.4037 - accuracy: 0.8351\n",
            "Epoch 23/100\n",
            "8000/8000 [==============================] - 1s 101us/step - loss: 0.4034 - accuracy: 0.8340\n",
            "Epoch 24/100\n",
            "8000/8000 [==============================] - 1s 103us/step - loss: 0.4036 - accuracy: 0.8344\n",
            "Epoch 25/100\n",
            "8000/8000 [==============================] - 1s 102us/step - loss: 0.4031 - accuracy: 0.8349\n",
            "Epoch 26/100\n",
            "8000/8000 [==============================] - 1s 100us/step - loss: 0.4027 - accuracy: 0.8342\n",
            "Epoch 27/100\n",
            "8000/8000 [==============================] - 1s 102us/step - loss: 0.4033 - accuracy: 0.8363\n",
            "Epoch 28/100\n",
            "8000/8000 [==============================] - 1s 103us/step - loss: 0.4030 - accuracy: 0.8349\n",
            "Epoch 29/100\n",
            "8000/8000 [==============================] - 1s 101us/step - loss: 0.4025 - accuracy: 0.8346\n",
            "Epoch 30/100\n",
            "8000/8000 [==============================] - 1s 102us/step - loss: 0.4028 - accuracy: 0.8357\n",
            "Epoch 31/100\n",
            "8000/8000 [==============================] - 1s 101us/step - loss: 0.4024 - accuracy: 0.8328\n",
            "Epoch 32/100\n",
            "8000/8000 [==============================] - 1s 101us/step - loss: 0.4026 - accuracy: 0.8359\n",
            "Epoch 33/100\n",
            "8000/8000 [==============================] - 1s 103us/step - loss: 0.4024 - accuracy: 0.8344\n",
            "Epoch 34/100\n",
            "8000/8000 [==============================] - 1s 102us/step - loss: 0.4020 - accuracy: 0.8349\n",
            "Epoch 35/100\n",
            "8000/8000 [==============================] - 1s 101us/step - loss: 0.4017 - accuracy: 0.8342\n",
            "Epoch 36/100\n",
            "8000/8000 [==============================] - 1s 102us/step - loss: 0.4022 - accuracy: 0.8350\n",
            "Epoch 37/100\n",
            "8000/8000 [==============================] - 1s 102us/step - loss: 0.4015 - accuracy: 0.8353\n",
            "Epoch 38/100\n",
            "8000/8000 [==============================] - 1s 103us/step - loss: 0.4021 - accuracy: 0.8353\n",
            "Epoch 39/100\n",
            "8000/8000 [==============================] - 1s 102us/step - loss: 0.4017 - accuracy: 0.8341\n",
            "Epoch 40/100\n",
            "8000/8000 [==============================] - 1s 101us/step - loss: 0.4018 - accuracy: 0.8344\n",
            "Epoch 41/100\n",
            "8000/8000 [==============================] - 1s 103us/step - loss: 0.4015 - accuracy: 0.8354\n",
            "Epoch 42/100\n",
            "8000/8000 [==============================] - 1s 101us/step - loss: 0.4014 - accuracy: 0.8349\n",
            "Epoch 43/100\n",
            "8000/8000 [==============================] - 1s 102us/step - loss: 0.4011 - accuracy: 0.8347\n",
            "Epoch 44/100\n",
            "8000/8000 [==============================] - 1s 100us/step - loss: 0.4011 - accuracy: 0.8360\n",
            "Epoch 45/100\n",
            "8000/8000 [==============================] - 1s 105us/step - loss: 0.4012 - accuracy: 0.8364\n",
            "Epoch 46/100\n",
            "8000/8000 [==============================] - 1s 103us/step - loss: 0.4009 - accuracy: 0.8363\n",
            "Epoch 47/100\n",
            "8000/8000 [==============================] - 1s 103us/step - loss: 0.4009 - accuracy: 0.8361\n",
            "Epoch 48/100\n",
            "8000/8000 [==============================] - 1s 101us/step - loss: 0.4004 - accuracy: 0.8351\n",
            "Epoch 49/100\n",
            "8000/8000 [==============================] - 1s 102us/step - loss: 0.4013 - accuracy: 0.8349\n",
            "Epoch 50/100\n",
            "8000/8000 [==============================] - 1s 103us/step - loss: 0.4011 - accuracy: 0.8350\n",
            "Epoch 51/100\n",
            "8000/8000 [==============================] - 1s 101us/step - loss: 0.4005 - accuracy: 0.8363\n",
            "Epoch 52/100\n",
            "8000/8000 [==============================] - 1s 104us/step - loss: 0.4008 - accuracy: 0.8346\n",
            "Epoch 53/100\n",
            "8000/8000 [==============================] - 1s 101us/step - loss: 0.4002 - accuracy: 0.8357\n",
            "Epoch 54/100\n",
            "8000/8000 [==============================] - 1s 102us/step - loss: 0.4007 - accuracy: 0.8363\n",
            "Epoch 55/100\n",
            "8000/8000 [==============================] - 1s 101us/step - loss: 0.4004 - accuracy: 0.8350\n",
            "Epoch 56/100\n",
            "8000/8000 [==============================] - 1s 102us/step - loss: 0.4007 - accuracy: 0.8345\n",
            "Epoch 57/100\n",
            "8000/8000 [==============================] - 1s 100us/step - loss: 0.4007 - accuracy: 0.8344\n",
            "Epoch 58/100\n",
            "8000/8000 [==============================] - 1s 102us/step - loss: 0.4003 - accuracy: 0.8366\n",
            "Epoch 59/100\n",
            "8000/8000 [==============================] - 1s 101us/step - loss: 0.4009 - accuracy: 0.8360\n",
            "Epoch 60/100\n",
            "8000/8000 [==============================] - 1s 102us/step - loss: 0.4008 - accuracy: 0.8367\n",
            "Epoch 61/100\n",
            "8000/8000 [==============================] - 1s 101us/step - loss: 0.4004 - accuracy: 0.8359\n",
            "Epoch 62/100\n",
            "8000/8000 [==============================] - 1s 101us/step - loss: 0.4006 - accuracy: 0.8354\n",
            "Epoch 63/100\n",
            "8000/8000 [==============================] - 1s 101us/step - loss: 0.4003 - accuracy: 0.8350\n",
            "Epoch 64/100\n",
            "8000/8000 [==============================] - 1s 102us/step - loss: 0.4005 - accuracy: 0.8365\n",
            "Epoch 65/100\n",
            "8000/8000 [==============================] - 1s 104us/step - loss: 0.4001 - accuracy: 0.8363\n",
            "Epoch 66/100\n",
            "8000/8000 [==============================] - 1s 101us/step - loss: 0.4002 - accuracy: 0.8353\n",
            "Epoch 67/100\n",
            "8000/8000 [==============================] - 1s 101us/step - loss: 0.4005 - accuracy: 0.8355\n",
            "Epoch 68/100\n",
            "8000/8000 [==============================] - 1s 102us/step - loss: 0.4004 - accuracy: 0.8364\n",
            "Epoch 69/100\n",
            "8000/8000 [==============================] - 1s 100us/step - loss: 0.3996 - accuracy: 0.8365\n",
            "Epoch 70/100\n",
            "8000/8000 [==============================] - 1s 103us/step - loss: 0.4003 - accuracy: 0.8349\n",
            "Epoch 71/100\n",
            "8000/8000 [==============================] - 1s 102us/step - loss: 0.4003 - accuracy: 0.8361\n",
            "Epoch 72/100\n",
            "8000/8000 [==============================] - 1s 101us/step - loss: 0.3999 - accuracy: 0.8370\n",
            "Epoch 73/100\n",
            "8000/8000 [==============================] - 1s 104us/step - loss: 0.4002 - accuracy: 0.8347\n",
            "Epoch 74/100\n",
            "8000/8000 [==============================] - 1s 101us/step - loss: 0.4002 - accuracy: 0.8363\n",
            "Epoch 75/100\n",
            "8000/8000 [==============================] - 1s 103us/step - loss: 0.4001 - accuracy: 0.8355\n",
            "Epoch 76/100\n",
            "8000/8000 [==============================] - 1s 103us/step - loss: 0.3999 - accuracy: 0.8347\n",
            "Epoch 77/100\n",
            "8000/8000 [==============================] - 1s 101us/step - loss: 0.4000 - accuracy: 0.8355\n",
            "Epoch 78/100\n",
            "8000/8000 [==============================] - 1s 103us/step - loss: 0.3996 - accuracy: 0.8360\n",
            "Epoch 79/100\n",
            "8000/8000 [==============================] - 1s 102us/step - loss: 0.3997 - accuracy: 0.8350\n",
            "Epoch 80/100\n",
            "8000/8000 [==============================] - 1s 103us/step - loss: 0.3997 - accuracy: 0.8360\n",
            "Epoch 81/100\n",
            "8000/8000 [==============================] - 1s 103us/step - loss: 0.4001 - accuracy: 0.8347\n",
            "Epoch 82/100\n",
            "8000/8000 [==============================] - 1s 102us/step - loss: 0.3999 - accuracy: 0.8372\n",
            "Epoch 83/100\n",
            "8000/8000 [==============================] - 1s 102us/step - loss: 0.3997 - accuracy: 0.8357\n",
            "Epoch 84/100\n",
            "8000/8000 [==============================] - 1s 102us/step - loss: 0.4001 - accuracy: 0.8366\n",
            "Epoch 85/100\n",
            "8000/8000 [==============================] - 1s 103us/step - loss: 0.3999 - accuracy: 0.8375\n",
            "Epoch 86/100\n",
            "8000/8000 [==============================] - 1s 101us/step - loss: 0.4000 - accuracy: 0.8367\n",
            "Epoch 87/100\n",
            "8000/8000 [==============================] - 1s 100us/step - loss: 0.3998 - accuracy: 0.8351\n",
            "Epoch 88/100\n",
            "8000/8000 [==============================] - 1s 102us/step - loss: 0.4001 - accuracy: 0.8357\n",
            "Epoch 89/100\n",
            "8000/8000 [==============================] - 1s 101us/step - loss: 0.3995 - accuracy: 0.8367\n",
            "Epoch 90/100\n",
            "8000/8000 [==============================] - 1s 103us/step - loss: 0.4003 - accuracy: 0.8357\n",
            "Epoch 91/100\n",
            "8000/8000 [==============================] - 1s 103us/step - loss: 0.3995 - accuracy: 0.8370\n",
            "Epoch 92/100\n",
            "8000/8000 [==============================] - 1s 101us/step - loss: 0.3995 - accuracy: 0.8360\n",
            "Epoch 93/100\n",
            "8000/8000 [==============================] - 1s 103us/step - loss: 0.3997 - accuracy: 0.8361\n",
            "Epoch 94/100\n",
            "8000/8000 [==============================] - 1s 101us/step - loss: 0.4000 - accuracy: 0.8351\n",
            "Epoch 95/100\n",
            "8000/8000 [==============================] - 1s 102us/step - loss: 0.3998 - accuracy: 0.8364\n",
            "Epoch 96/100\n",
            "8000/8000 [==============================] - 1s 102us/step - loss: 0.3993 - accuracy: 0.8357\n",
            "Epoch 97/100\n",
            "8000/8000 [==============================] - 1s 99us/step - loss: 0.4000 - accuracy: 0.8360\n",
            "Epoch 98/100\n",
            "8000/8000 [==============================] - 1s 105us/step - loss: 0.3997 - accuracy: 0.8370\n",
            "Epoch 99/100\n",
            "8000/8000 [==============================] - 1s 101us/step - loss: 0.3995 - accuracy: 0.8351\n",
            "Epoch 100/100\n",
            "8000/8000 [==============================] - 1s 104us/step - loss: 0.3994 - accuracy: 0.8339\n"
          ],
          "name": "stdout"
        },
        {
          "output_type": "execute_result",
          "data": {
            "text/plain": [
              "<keras.callbacks.callbacks.History at 0x7f7e8b7e9128>"
            ]
          },
          "metadata": {
            "tags": []
          },
          "execution_count": 11
        }
      ]
    },
    {
      "cell_type": "code",
      "metadata": {
        "id": "STGoOjByTQ9K",
        "colab_type": "code",
        "colab": {}
      },
      "source": [
        "# Predicting test data\n",
        "y_pred = classifier.predict(X_test)\n",
        "y_pred = (y_pred > 0.5)"
      ],
      "execution_count": 0,
      "outputs": []
    },
    {
      "cell_type": "code",
      "metadata": {
        "id": "yixKx8EITQ9N",
        "colab_type": "code",
        "outputId": "00aba801-9c3d-4445-885c-1dc63fdbfe62",
        "colab": {
          "base_uri": "https://localhost:8080/",
          "height": 52
        }
      },
      "source": [
        "#Confusion Matrix\n",
        "from sklearn.metrics import confusion_matrix\n",
        "print(confusion_matrix(y_test, y_pred))"
      ],
      "execution_count": 13,
      "outputs": [
        {
          "output_type": "stream",
          "text": [
            "[[1544   51]\n",
            " [ 268  137]]\n"
          ],
          "name": "stdout"
        }
      ]
    }
  ]
}