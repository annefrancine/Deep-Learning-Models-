{
  "nbformat": 4,
  "nbformat_minor": 0,
  "metadata": {
    "colab": {
      "name": "Autokeras.ipynb",
      "provenance": [],
      "collapsed_sections": [],
      "authorship_tag": "ABX9TyNPP1z8jPATr+svm9/pN93/",
      "include_colab_link": true
    },
    "kernelspec": {
      "name": "python3",
      "display_name": "Python 3"
    }
  },
  "cells": [
    {
      "cell_type": "markdown",
      "metadata": {
        "id": "view-in-github",
        "colab_type": "text"
      },
      "source": [
        "<a href=\"https://colab.research.google.com/github/annefrancine/Deep-Learning-Models-/blob/master/Autokeras.ipynb\" target=\"_parent\"><img src=\"https://colab.research.google.com/assets/colab-badge.svg\" alt=\"Open In Colab\"/></a>"
      ]
    },
    {
      "cell_type": "code",
      "metadata": {
        "id": "mj76XUIiDNYp",
        "colab_type": "code",
        "colab": {
          "base_uri": "https://localhost:8080/",
          "height": 696
        },
        "outputId": "cc6b17b4-425b-4a34-c9f1-c5d20d60ffa5"
      },
      "source": [
        "!pip install autokeras"
      ],
      "execution_count": 1,
      "outputs": [
        {
          "output_type": "stream",
          "text": [
            "Collecting autokeras\n",
            "\u001b[?25l  Downloading https://files.pythonhosted.org/packages/a8/74/6588d79b8618c0f45ea2b3ace4959db2697029c8175bf1a0d2ed07c14761/autokeras-1.0.2-py3-none-any.whl (67kB)\n",
            "\r\u001b[K     |████▉                           | 10kB 18.4MB/s eta 0:00:01\r\u001b[K     |█████████▊                      | 20kB 2.2MB/s eta 0:00:01\r\u001b[K     |██████████████▋                 | 30kB 2.8MB/s eta 0:00:01\r\u001b[K     |███████████████████▍            | 40kB 3.1MB/s eta 0:00:01\r\u001b[K     |████████████████████████▎       | 51kB 2.5MB/s eta 0:00:01\r\u001b[K     |█████████████████████████████▏  | 61kB 2.8MB/s eta 0:00:01\r\u001b[K     |████████████████████████████████| 71kB 2.4MB/s \n",
            "\u001b[?25hRequirement already satisfied: scikit-learn in /usr/local/lib/python3.6/dist-packages (from autokeras) (0.22.2.post1)\n",
            "Requirement already satisfied: pandas in /usr/local/lib/python3.6/dist-packages (from autokeras) (1.0.4)\n",
            "Requirement already satisfied: packaging in /usr/local/lib/python3.6/dist-packages (from autokeras) (20.4)\n",
            "Collecting keras-tuner>=1.0.1\n",
            "\u001b[?25l  Downloading https://files.pythonhosted.org/packages/a7/f7/4b41b6832abf4c9bef71a664dc563adb25afc5812831667c6db572b1a261/keras-tuner-1.0.1.tar.gz (54kB)\n",
            "\u001b[K     |████████████████████████████████| 61kB 5.7MB/s \n",
            "\u001b[?25hRequirement already satisfied: numpy in /usr/local/lib/python3.6/dist-packages (from autokeras) (1.18.5)\n",
            "Requirement already satisfied: scipy>=0.17.0 in /usr/local/lib/python3.6/dist-packages (from scikit-learn->autokeras) (1.4.1)\n",
            "Requirement already satisfied: joblib>=0.11 in /usr/local/lib/python3.6/dist-packages (from scikit-learn->autokeras) (0.15.1)\n",
            "Requirement already satisfied: pytz>=2017.2 in /usr/local/lib/python3.6/dist-packages (from pandas->autokeras) (2018.9)\n",
            "Requirement already satisfied: python-dateutil>=2.6.1 in /usr/local/lib/python3.6/dist-packages (from pandas->autokeras) (2.8.1)\n",
            "Requirement already satisfied: six in /usr/local/lib/python3.6/dist-packages (from packaging->autokeras) (1.12.0)\n",
            "Requirement already satisfied: pyparsing>=2.0.2 in /usr/local/lib/python3.6/dist-packages (from packaging->autokeras) (2.4.7)\n",
            "Requirement already satisfied: future in /usr/local/lib/python3.6/dist-packages (from keras-tuner>=1.0.1->autokeras) (0.16.0)\n",
            "Requirement already satisfied: tabulate in /usr/local/lib/python3.6/dist-packages (from keras-tuner>=1.0.1->autokeras) (0.8.7)\n",
            "Collecting terminaltables\n",
            "  Downloading https://files.pythonhosted.org/packages/9b/c4/4a21174f32f8a7e1104798c445dacdc1d4df86f2f26722767034e4de4bff/terminaltables-3.1.0.tar.gz\n",
            "Collecting colorama\n",
            "  Downloading https://files.pythonhosted.org/packages/c9/dc/45cdef1b4d119eb96316b3117e6d5708a08029992b2fee2c143c7a0a5cc5/colorama-0.4.3-py2.py3-none-any.whl\n",
            "Requirement already satisfied: tqdm in /usr/local/lib/python3.6/dist-packages (from keras-tuner>=1.0.1->autokeras) (4.41.1)\n",
            "Requirement already satisfied: requests in /usr/local/lib/python3.6/dist-packages (from keras-tuner>=1.0.1->autokeras) (2.23.0)\n",
            "Requirement already satisfied: idna<3,>=2.5 in /usr/local/lib/python3.6/dist-packages (from requests->keras-tuner>=1.0.1->autokeras) (2.9)\n",
            "Requirement already satisfied: chardet<4,>=3.0.2 in /usr/local/lib/python3.6/dist-packages (from requests->keras-tuner>=1.0.1->autokeras) (3.0.4)\n",
            "Requirement already satisfied: urllib3!=1.25.0,!=1.25.1,<1.26,>=1.21.1 in /usr/local/lib/python3.6/dist-packages (from requests->keras-tuner>=1.0.1->autokeras) (1.24.3)\n",
            "Requirement already satisfied: certifi>=2017.4.17 in /usr/local/lib/python3.6/dist-packages (from requests->keras-tuner>=1.0.1->autokeras) (2020.4.5.1)\n",
            "Building wheels for collected packages: keras-tuner, terminaltables\n",
            "  Building wheel for keras-tuner (setup.py) ... \u001b[?25l\u001b[?25hdone\n",
            "  Created wheel for keras-tuner: filename=keras_tuner-1.0.1-cp36-none-any.whl size=73200 sha256=ef47674935b8d8e3c4bbbc30db8dd444a50fe7e84d90fff889f6c1d3c81f1e23\n",
            "  Stored in directory: /root/.cache/pip/wheels/b9/cc/62/52716b70dd90f3db12519233c3a93a5360bc672da1a10ded43\n",
            "  Building wheel for terminaltables (setup.py) ... \u001b[?25l\u001b[?25hdone\n",
            "  Created wheel for terminaltables: filename=terminaltables-3.1.0-cp36-none-any.whl size=15356 sha256=5464ff753320791b99e4b6de00111378fdd2f124f7e538b3ead082ee731a1d8f\n",
            "  Stored in directory: /root/.cache/pip/wheels/30/6b/50/6c75775b681fb36cdfac7f19799888ef9d8813aff9e379663e\n",
            "Successfully built keras-tuner terminaltables\n",
            "Installing collected packages: terminaltables, colorama, keras-tuner, autokeras\n",
            "Successfully installed autokeras-1.0.2 colorama-0.4.3 keras-tuner-1.0.1 terminaltables-3.1.0\n"
          ],
          "name": "stdout"
        }
      ]
    },
    {
      "cell_type": "code",
      "metadata": {
        "id": "dHzdGk9cE7vA",
        "colab_type": "code",
        "colab": {
          "base_uri": "https://localhost:8080/",
          "height": 1000
        },
        "outputId": "ccd13e26-b19b-499e-a10a-1c5bddf65865"
      },
      "source": [
        "!pip install tensorflow==2.1.0"
      ],
      "execution_count": 9,
      "outputs": [
        {
          "output_type": "stream",
          "text": [
            "Collecting tensorflow==2.1.0\n",
            "\u001b[?25l  Downloading https://files.pythonhosted.org/packages/85/d4/c0cd1057b331bc38b65478302114194bd8e1b9c2bbc06e300935c0e93d90/tensorflow-2.1.0-cp36-cp36m-manylinux2010_x86_64.whl (421.8MB)\n",
            "     |████████████████████████████████| 421.8MB 31kB/s \n",
            "\u001b[?25hRequirement already satisfied: keras-preprocessing>=1.1.0 in /usr/local/lib/python3.6/dist-packages (from tensorflow==2.1.0) (1.1.2)\n",
            "Requirement already satisfied: absl-py>=0.7.0 in /usr/local/lib/python3.6/dist-packages (from tensorflow==2.1.0) (0.9.0)\n",
            "Requirement already satisfied: astor>=0.6.0 in /usr/local/lib/python3.6/dist-packages (from tensorflow==2.1.0) (0.8.1)\n",
            "Requirement already satisfied: protobuf>=3.8.0 in /usr/local/lib/python3.6/dist-packages (from tensorflow==2.1.0) (3.10.0)\n",
            "Requirement already satisfied: grpcio>=1.8.6 in /usr/local/lib/python3.6/dist-packages (from tensorflow==2.1.0) (1.29.0)\n",
            "Requirement already satisfied: termcolor>=1.1.0 in /usr/local/lib/python3.6/dist-packages (from tensorflow==2.1.0) (1.1.0)\n",
            "Requirement already satisfied: wheel>=0.26; python_version >= \"3\" in /usr/local/lib/python3.6/dist-packages (from tensorflow==2.1.0) (0.34.2)\n",
            "Collecting gast==0.2.2\n",
            "  Downloading https://files.pythonhosted.org/packages/4e/35/11749bf99b2d4e3cceb4d55ca22590b0d7c2c62b9de38ac4a4a7f4687421/gast-0.2.2.tar.gz\n",
            "Collecting tensorboard<2.2.0,>=2.1.0\n",
            "\u001b[?25l  Downloading https://files.pythonhosted.org/packages/d9/41/bbf49b61370e4f4d245d4c6051dfb6db80cec672605c91b1652ac8cc3d38/tensorboard-2.1.1-py3-none-any.whl (3.8MB)\n",
            "     |████████████████████████████████| 3.9MB 18.0MB/s \n",
            "\u001b[?25hCollecting tensorflow-estimator<2.2.0,>=2.1.0rc0\n",
            "\u001b[?25l  Downloading https://files.pythonhosted.org/packages/18/90/b77c328a1304437ab1310b463e533fa7689f4bfc41549593056d812fab8e/tensorflow_estimator-2.1.0-py2.py3-none-any.whl (448kB)\n",
            "     |████████████████████████████████| 450kB 25.9MB/s \n",
            "\u001b[?25hRequirement already satisfied: opt-einsum>=2.3.2 in /usr/local/lib/python3.6/dist-packages (from tensorflow==2.1.0) (3.2.1)\n",
            "Requirement already satisfied: six>=1.12.0 in /usr/local/lib/python3.6/dist-packages (from tensorflow==2.1.0) (1.12.0)\n",
            "Requirement already satisfied: google-pasta>=0.1.6 in /usr/local/lib/python3.6/dist-packages (from tensorflow==2.1.0) (0.2.0)\n",
            "Requirement already satisfied: numpy<2.0,>=1.16.0 in /usr/local/lib/python3.6/dist-packages (from tensorflow==2.1.0) (1.18.5)\n",
            "Requirement already satisfied: wrapt>=1.11.1 in /usr/local/lib/python3.6/dist-packages (from tensorflow==2.1.0) (1.12.1)\n",
            "Requirement already satisfied: scipy==1.4.1; python_version >= \"3\" in /usr/local/lib/python3.6/dist-packages (from tensorflow==2.1.0) (1.4.1)\n",
            "Requirement already satisfied: keras-applications>=1.0.8 in /usr/local/lib/python3.6/dist-packages (from tensorflow==2.1.0) (1.0.8)\n",
            "Requirement already satisfied: setuptools in /usr/local/lib/python3.6/dist-packages (from protobuf>=3.8.0->tensorflow==2.1.0) (47.1.1)\n",
            "Requirement already satisfied: google-auth<2,>=1.6.3 in /usr/local/lib/python3.6/dist-packages (from tensorboard<2.2.0,>=2.1.0->tensorflow==2.1.0) (1.7.2)\n",
            "Requirement already satisfied: markdown>=2.6.8 in /usr/local/lib/python3.6/dist-packages (from tensorboard<2.2.0,>=2.1.0->tensorflow==2.1.0) (3.2.2)\n",
            "Requirement already satisfied: google-auth-oauthlib<0.5,>=0.4.1 in /usr/local/lib/python3.6/dist-packages (from tensorboard<2.2.0,>=2.1.0->tensorflow==2.1.0) (0.4.1)\n",
            "Requirement already satisfied: werkzeug>=0.11.15 in /usr/local/lib/python3.6/dist-packages (from tensorboard<2.2.0,>=2.1.0->tensorflow==2.1.0) (1.0.1)\n",
            "Requirement already satisfied: requests<3,>=2.21.0 in /usr/local/lib/python3.6/dist-packages (from tensorboard<2.2.0,>=2.1.0->tensorflow==2.1.0) (2.23.0)\n",
            "Requirement already satisfied: h5py in /usr/local/lib/python3.6/dist-packages (from keras-applications>=1.0.8->tensorflow==2.1.0) (2.10.0)\n",
            "Requirement already satisfied: pyasn1-modules>=0.2.1 in /usr/local/lib/python3.6/dist-packages (from google-auth<2,>=1.6.3->tensorboard<2.2.0,>=2.1.0->tensorflow==2.1.0) (0.2.8)\n",
            "Requirement already satisfied: rsa<4.1,>=3.1.4 in /usr/local/lib/python3.6/dist-packages (from google-auth<2,>=1.6.3->tensorboard<2.2.0,>=2.1.0->tensorflow==2.1.0) (4.0)\n",
            "Requirement already satisfied: cachetools<3.2,>=2.0.0 in /usr/local/lib/python3.6/dist-packages (from google-auth<2,>=1.6.3->tensorboard<2.2.0,>=2.1.0->tensorflow==2.1.0) (3.1.1)\n",
            "Requirement already satisfied: importlib-metadata; python_version < \"3.8\" in /usr/local/lib/python3.6/dist-packages (from markdown>=2.6.8->tensorboard<2.2.0,>=2.1.0->tensorflow==2.1.0) (1.6.0)\n",
            "Requirement already satisfied: requests-oauthlib>=0.7.0 in /usr/local/lib/python3.6/dist-packages (from google-auth-oauthlib<0.5,>=0.4.1->tensorboard<2.2.0,>=2.1.0->tensorflow==2.1.0) (1.3.0)\n",
            "Requirement already satisfied: chardet<4,>=3.0.2 in /usr/local/lib/python3.6/dist-packages (from requests<3,>=2.21.0->tensorboard<2.2.0,>=2.1.0->tensorflow==2.1.0) (3.0.4)\n",
            "Requirement already satisfied: urllib3!=1.25.0,!=1.25.1,<1.26,>=1.21.1 in /usr/local/lib/python3.6/dist-packages (from requests<3,>=2.21.0->tensorboard<2.2.0,>=2.1.0->tensorflow==2.1.0) (1.24.3)\n",
            "Requirement already satisfied: idna<3,>=2.5 in /usr/local/lib/python3.6/dist-packages (from requests<3,>=2.21.0->tensorboard<2.2.0,>=2.1.0->tensorflow==2.1.0) (2.9)\n",
            "Requirement already satisfied: certifi>=2017.4.17 in /usr/local/lib/python3.6/dist-packages (from requests<3,>=2.21.0->tensorboard<2.2.0,>=2.1.0->tensorflow==2.1.0) (2020.4.5.1)\n",
            "Requirement already satisfied: pyasn1<0.5.0,>=0.4.6 in /usr/local/lib/python3.6/dist-packages (from pyasn1-modules>=0.2.1->google-auth<2,>=1.6.3->tensorboard<2.2.0,>=2.1.0->tensorflow==2.1.0) (0.4.8)\n",
            "Requirement already satisfied: zipp>=0.5 in /usr/local/lib/python3.6/dist-packages (from importlib-metadata; python_version < \"3.8\"->markdown>=2.6.8->tensorboard<2.2.0,>=2.1.0->tensorflow==2.1.0) (3.1.0)\n",
            "Requirement already satisfied: oauthlib>=3.0.0 in /usr/local/lib/python3.6/dist-packages (from requests-oauthlib>=0.7.0->google-auth-oauthlib<0.5,>=0.4.1->tensorboard<2.2.0,>=2.1.0->tensorflow==2.1.0) (3.1.0)\n",
            "Building wheels for collected packages: gast\n",
            "  Building wheel for gast (setup.py) ... \u001b[?25l\u001b[?25hdone\n",
            "  Created wheel for gast: filename=gast-0.2.2-cp36-none-any.whl size=7540 sha256=d4c8f58adf8df5090aa559e87972399c82a879bc50e1e82ef87d2cd77ef26d17\n",
            "  Stored in directory: /root/.cache/pip/wheels/5c/2e/7e/a1d4d4fcebe6c381f378ce7743a3ced3699feb89bcfbdadadd\n",
            "Successfully built gast\n",
            "ERROR: tensorflow-probability 0.10.0 has requirement gast>=0.3.2, but you'll have gast 0.2.2 which is incompatible.\n",
            "Installing collected packages: gast, tensorboard, tensorflow-estimator, tensorflow\n",
            "  Found existing installation: gast 0.3.3\n",
            "    Uninstalling gast-0.3.3:\n",
            "      Successfully uninstalled gast-0.3.3\n",
            "  Found existing installation: tensorboard 2.2.2\n",
            "    Uninstalling tensorboard-2.2.2:\n",
            "      Successfully uninstalled tensorboard-2.2.2\n",
            "  Found existing installation: tensorflow-estimator 2.2.0\n",
            "    Uninstalling tensorflow-estimator-2.2.0:\n",
            "      Successfully uninstalled tensorflow-estimator-2.2.0\n",
            "  Found existing installation: tensorflow 2.2.0\n",
            "    Uninstalling tensorflow-2.2.0:\n",
            "      Successfully uninstalled tensorflow-2.2.0\n",
            "Successfully installed gast-0.2.2 tensorboard-2.1.1 tensorflow-2.1.0 tensorflow-estimator-2.1.0\n"
          ],
          "name": "stdout"
        },
        {
          "output_type": "display_data",
          "data": {
            "application/vnd.colab-display-data+json": {
              "pip_warning": {
                "packages": [
                  "gast",
                  "tensorboard",
                  "tensorflow"
                ]
              }
            }
          },
          "metadata": {
            "tags": []
          }
        }
      ]
    },
    {
      "cell_type": "code",
      "metadata": {
        "id": "eYgCFITQDfhu",
        "colab_type": "code",
        "colab": {}
      },
      "source": [
        "import autokeras as ak\n",
        "import pandas as pd\n",
        "from sklearn.model_selection import train_test_split"
      ],
      "execution_count": 0,
      "outputs": []
    },
    {
      "cell_type": "code",
      "metadata": {
        "id": "4DpTISnhDu6n",
        "colab_type": "code",
        "colab": {
          "base_uri": "https://localhost:8080/",
          "height": 55
        },
        "outputId": "5d0c8bf8-8fa4-4573-f8bb-08b9b9047b57"
      },
      "source": [
        "from google.colab import drive\n",
        "drive.mount('/content/drive')"
      ],
      "execution_count": 2,
      "outputs": [
        {
          "output_type": "stream",
          "text": [
            "Drive already mounted at /content/drive; to attempt to forcibly remount, call drive.mount(\"/content/drive\", force_remount=True).\n"
          ],
          "name": "stdout"
        }
      ]
    },
    {
      "cell_type": "code",
      "metadata": {
        "id": "miDLr4Y9D4TD",
        "colab_type": "code",
        "colab": {}
      },
      "source": [
        "imp = pd.read_csv('/content/drive/My Drive/AutoML/Churn_treino.csv', sep=\";\")"
      ],
      "execution_count": 0,
      "outputs": []
    },
    {
      "cell_type": "code",
      "metadata": {
        "id": "eH18KgMkEErR",
        "colab_type": "code",
        "colab": {}
      },
      "source": [
        "X = imp.iloc[:,0:10]\n",
        "y = imp.iloc[:,10]\n"
      ],
      "execution_count": 0,
      "outputs": []
    },
    {
      "cell_type": "code",
      "metadata": {
        "id": "Ua-JTcgkENH2",
        "colab_type": "code",
        "colab": {}
      },
      "source": [
        "X_train, X_test, y_train, y_test = train_test_split(X,y, test_size=0.3, random_state=0)"
      ],
      "execution_count": 0,
      "outputs": []
    },
    {
      "cell_type": "code",
      "metadata": {
        "id": "UcmUA3ZiEPHf",
        "colab_type": "code",
        "colab": {}
      },
      "source": [
        "modelo = ak.StructuredDataClassifier(max_trials=10) "
      ],
      "execution_count": 0,
      "outputs": []
    },
    {
      "cell_type": "code",
      "metadata": {
        "id": "4NAiC58tEUOA",
        "colab_type": "code",
        "colab": {
          "base_uri": "https://localhost:8080/",
          "height": 1000
        },
        "outputId": "003b1aa4-86e8-4a95-9381-32cea24f5619"
      },
      "source": [
        "modelo.fit( x= X_train, y =y_train, epochs=100)"
      ],
      "execution_count": 7,
      "outputs": [
        {
          "output_type": "stream",
          "text": [
            "Train for 175 steps, validate for 44 steps\n",
            "Epoch 1/100\n",
            "175/175 [==============================] - 1s 7ms/step - loss: 212650.9144 - accuracy: 0.6350 - val_loss: 2875.9186 - val_accuracy: 0.7286\n",
            "Epoch 2/100\n",
            "175/175 [==============================] - 1s 4ms/step - loss: 4578.8889 - accuracy: 0.6741 - val_loss: 6369.1960 - val_accuracy: 0.8000\n",
            "Epoch 3/100\n",
            "175/175 [==============================] - 1s 3ms/step - loss: 4528.9224 - accuracy: 0.6759 - val_loss: 2272.2277 - val_accuracy: 0.7043\n",
            "Epoch 4/100\n",
            "175/175 [==============================] - 1s 3ms/step - loss: 3107.2214 - accuracy: 0.6746 - val_loss: 1657.9233 - val_accuracy: 0.7493\n",
            "Epoch 5/100\n",
            "175/175 [==============================] - 1s 3ms/step - loss: 3962.5457 - accuracy: 0.6820 - val_loss: 5851.4580 - val_accuracy: 0.5793\n",
            "Epoch 6/100\n",
            "175/175 [==============================] - 1s 3ms/step - loss: 4506.7408 - accuracy: 0.6737 - val_loss: 6300.7920 - val_accuracy: 0.6236\n",
            "Epoch 7/100\n",
            "175/175 [==============================] - 1s 3ms/step - loss: 4762.4177 - accuracy: 0.6864 - val_loss: 3103.9404 - val_accuracy: 0.6621\n",
            "Epoch 8/100\n",
            "175/175 [==============================] - 1s 3ms/step - loss: 4566.8625 - accuracy: 0.6834 - val_loss: 5408.4365 - val_accuracy: 0.6586\n",
            "Epoch 9/100\n",
            "175/175 [==============================] - 1s 3ms/step - loss: 4583.2235 - accuracy: 0.6827 - val_loss: 2578.2035 - val_accuracy: 0.6929\n",
            "Epoch 10/100\n",
            "175/175 [==============================] - 1s 3ms/step - loss: 5160.5702 - accuracy: 0.6716 - val_loss: 2804.3153 - val_accuracy: 0.7464\n",
            "Epoch 11/100\n",
            "175/175 [==============================] - 1s 3ms/step - loss: 4687.3006 - accuracy: 0.6848 - val_loss: 1911.8688 - val_accuracy: 0.7221\n",
            "Epoch 12/100\n",
            "175/175 [==============================] - 1s 3ms/step - loss: 3791.0487 - accuracy: 0.6779 - val_loss: 6888.0435 - val_accuracy: 0.5793\n",
            "Epoch 13/100\n",
            "175/175 [==============================] - 1s 3ms/step - loss: 4347.1635 - accuracy: 0.6780 - val_loss: 2350.9726 - val_accuracy: 0.8000\n",
            "Epoch 14/100\n",
            "175/175 [==============================] - 1s 3ms/step - loss: 4374.1334 - accuracy: 0.6900 - val_loss: 1431.0207 - val_accuracy: 0.7864\n",
            "Epoch 15/100\n",
            "175/175 [==============================] - 1s 3ms/step - loss: 3885.0479 - accuracy: 0.6836 - val_loss: 4042.9146 - val_accuracy: 0.7321\n",
            "Epoch 16/100\n",
            "175/175 [==============================] - 1s 3ms/step - loss: 3898.8916 - accuracy: 0.6786 - val_loss: 5475.1341 - val_accuracy: 0.5164\n",
            "Epoch 17/100\n",
            "175/175 [==============================] - 1s 3ms/step - loss: 3494.0145 - accuracy: 0.6793 - val_loss: 2252.5834 - val_accuracy: 0.8000\n",
            "Epoch 18/100\n",
            "175/175 [==============================] - 1s 3ms/step - loss: 4841.2857 - accuracy: 0.6723 - val_loss: 3228.4236 - val_accuracy: 0.7864\n",
            "Epoch 19/100\n",
            "175/175 [==============================] - 1s 3ms/step - loss: 3967.7363 - accuracy: 0.6752 - val_loss: 1816.3383 - val_accuracy: 0.3236\n",
            "Epoch 20/100\n",
            "175/175 [==============================] - 1s 3ms/step - loss: 4710.1190 - accuracy: 0.6830 - val_loss: 2225.4178 - val_accuracy: 0.7979\n",
            "Epoch 21/100\n",
            "175/175 [==============================] - 1s 3ms/step - loss: 3809.7026 - accuracy: 0.6773 - val_loss: 1264.4485 - val_accuracy: 0.7943\n",
            "Epoch 22/100\n",
            "175/175 [==============================] - 1s 3ms/step - loss: 4177.1435 - accuracy: 0.6786 - val_loss: 3538.7240 - val_accuracy: 0.6414\n",
            "Epoch 23/100\n",
            "175/175 [==============================] - 1s 4ms/step - loss: 4917.0915 - accuracy: 0.6816 - val_loss: 5741.1710 - val_accuracy: 0.8000\n",
            "Epoch 24/100\n",
            "175/175 [==============================] - 1s 4ms/step - loss: 3587.8292 - accuracy: 0.6845 - val_loss: 8159.1013 - val_accuracy: 0.5564\n",
            "Epoch 25/100\n",
            "175/175 [==============================] - 1s 4ms/step - loss: 4486.5495 - accuracy: 0.6787 - val_loss: 3289.0582 - val_accuracy: 0.8000\n",
            "Epoch 26/100\n",
            "175/175 [==============================] - 1s 4ms/step - loss: 4595.4039 - accuracy: 0.6804 - val_loss: 2507.4441 - val_accuracy: 0.7114\n",
            "Epoch 27/100\n",
            "175/175 [==============================] - 1s 4ms/step - loss: 3156.0140 - accuracy: 0.6802 - val_loss: 1160.1049 - val_accuracy: 0.6900\n",
            "Epoch 28/100\n",
            "175/175 [==============================] - 1s 4ms/step - loss: 3768.8681 - accuracy: 0.6809 - val_loss: 4056.2127 - val_accuracy: 0.7986\n",
            "Epoch 29/100\n",
            "175/175 [==============================] - 1s 4ms/step - loss: 4502.2850 - accuracy: 0.6848 - val_loss: 4166.9219 - val_accuracy: 0.3300\n",
            "Epoch 30/100\n",
            "175/175 [==============================] - 1s 4ms/step - loss: 3735.7218 - accuracy: 0.6782 - val_loss: 7986.0591 - val_accuracy: 0.2079\n",
            "Epoch 31/100\n",
            "175/175 [==============================] - 1s 3ms/step - loss: 3619.3170 - accuracy: 0.6820 - val_loss: 3287.3080 - val_accuracy: 0.7450\n",
            "Epoch 32/100\n",
            "175/175 [==============================] - 1s 3ms/step - loss: 3127.0622 - accuracy: 0.6832 - val_loss: 2563.9349 - val_accuracy: 0.8000\n",
            "Epoch 33/100\n",
            "175/175 [==============================] - 1s 3ms/step - loss: 3508.1915 - accuracy: 0.6814 - val_loss: 1237.7699 - val_accuracy: 0.4514\n",
            "Epoch 34/100\n",
            "175/175 [==============================] - 1s 3ms/step - loss: 3240.5003 - accuracy: 0.6882 - val_loss: 3806.6422 - val_accuracy: 0.6314\n",
            "Epoch 35/100\n",
            "175/175 [==============================] - 1s 3ms/step - loss: 4757.0467 - accuracy: 0.6846 - val_loss: 2609.9694 - val_accuracy: 0.6057\n",
            "Epoch 36/100\n",
            "175/175 [==============================] - 1s 3ms/step - loss: 3565.7345 - accuracy: 0.6725 - val_loss: 1178.9625 - val_accuracy: 0.7814\n",
            "Epoch 37/100\n",
            "175/175 [==============================] - 1s 3ms/step - loss: 3877.8549 - accuracy: 0.6814 - val_loss: 1433.2700 - val_accuracy: 0.8000\n"
          ],
          "name": "stdout"
        },
        {
          "output_type": "display_data",
          "data": {
            "text/html": [
              "<span style=\"color:#4527A0\"><h1 style=\"font-size:18px\">Trial complete</h1></span>"
            ],
            "text/plain": [
              "<IPython.core.display.HTML object>"
            ]
          },
          "metadata": {
            "tags": []
          }
        },
        {
          "output_type": "display_data",
          "data": {
            "text/html": [
              "<span style=\"color:#4527A0\"><h1 style=\"font-size:18px\">Trial summary</h1></span>"
            ],
            "text/plain": [
              "<IPython.core.display.HTML object>"
            ]
          },
          "metadata": {
            "tags": []
          }
        },
        {
          "output_type": "display_data",
          "data": {
            "text/html": [
              "<span style=\"color:cyan\"> |-Trial ID: d2fb1c3b181d48b5719b473d944d593e</span>"
            ],
            "text/plain": [
              "<IPython.core.display.HTML object>"
            ]
          },
          "metadata": {
            "tags": []
          }
        },
        {
          "output_type": "display_data",
          "data": {
            "text/html": [
              "<span style=\"color:cyan\"> |-Score: 0.800000011920929</span>"
            ],
            "text/plain": [
              "<IPython.core.display.HTML object>"
            ]
          },
          "metadata": {
            "tags": []
          }
        },
        {
          "output_type": "display_data",
          "data": {
            "text/html": [
              "<span style=\"color:cyan\"> |-Best step: 0</span>"
            ],
            "text/plain": [
              "<IPython.core.display.HTML object>"
            ]
          },
          "metadata": {
            "tags": []
          }
        },
        {
          "output_type": "display_data",
          "data": {
            "text/html": [
              "<span style=\"color:#7E57C2\"><h2 style=\"font-size:16px\">Hyperparameters:</h2></span>"
            ],
            "text/plain": [
              "<IPython.core.display.HTML object>"
            ]
          },
          "metadata": {
            "tags": []
          }
        },
        {
          "output_type": "display_data",
          "data": {
            "text/html": [
              "<span style=\"color:cyan\"> |-classification_head_1/dropout_rate: 0</span>"
            ],
            "text/plain": [
              "<IPython.core.display.HTML object>"
            ]
          },
          "metadata": {
            "tags": []
          }
        },
        {
          "output_type": "display_data",
          "data": {
            "text/html": [
              "<span style=\"color:blue\"> |-optimizer: adam</span>"
            ],
            "text/plain": [
              "<IPython.core.display.HTML object>"
            ]
          },
          "metadata": {
            "tags": []
          }
        },
        {
          "output_type": "display_data",
          "data": {
            "text/html": [
              "<span style=\"color:cyan\"> |-structured_data_block_1/dense_block_1/dropout_rate: 0</span>"
            ],
            "text/plain": [
              "<IPython.core.display.HTML object>"
            ]
          },
          "metadata": {
            "tags": []
          }
        },
        {
          "output_type": "display_data",
          "data": {
            "text/html": [
              "<span style=\"color:blue\"> |-structured_data_block_1/dense_block_1/num_layers: 2</span>"
            ],
            "text/plain": [
              "<IPython.core.display.HTML object>"
            ]
          },
          "metadata": {
            "tags": []
          }
        },
        {
          "output_type": "display_data",
          "data": {
            "text/html": [
              "<span style=\"color:cyan\"> |-structured_data_block_1/dense_block_1/units_0: 32</span>"
            ],
            "text/plain": [
              "<IPython.core.display.HTML object>"
            ]
          },
          "metadata": {
            "tags": []
          }
        },
        {
          "output_type": "display_data",
          "data": {
            "text/html": [
              "<span style=\"color:blue\"> |-structured_data_block_1/dense_block_1/units_1: 32</span>"
            ],
            "text/plain": [
              "<IPython.core.display.HTML object>"
            ]
          },
          "metadata": {
            "tags": []
          }
        },
        {
          "output_type": "display_data",
          "data": {
            "text/html": [
              "<span style=\"color:cyan\"> |-structured_data_block_1/dense_block_1/use_batchnorm: False</span>"
            ],
            "text/plain": [
              "<IPython.core.display.HTML object>"
            ]
          },
          "metadata": {
            "tags": []
          }
        },
        {
          "output_type": "stream",
          "text": [
            "Train for 175 steps, validate for 44 steps\n",
            "Epoch 1/100\n",
            "175/175 [==============================] - 1s 7ms/step - loss: 0.5692 - accuracy: 0.7361 - val_loss: 0.5098 - val_accuracy: 0.8000\n",
            "Epoch 2/100\n",
            "175/175 [==============================] - 1s 3ms/step - loss: 0.5324 - accuracy: 0.7900 - val_loss: 0.5068 - val_accuracy: 0.8000\n",
            "Epoch 3/100\n",
            "175/175 [==============================] - 1s 3ms/step - loss: 0.5220 - accuracy: 0.7914 - val_loss: 0.5034 - val_accuracy: 0.8000\n",
            "Epoch 4/100\n",
            "175/175 [==============================] - 1s 3ms/step - loss: 0.5192 - accuracy: 0.7932 - val_loss: 0.5018 - val_accuracy: 0.8000\n",
            "Epoch 5/100\n",
            "175/175 [==============================] - 1s 3ms/step - loss: 0.5142 - accuracy: 0.7946 - val_loss: 0.5017 - val_accuracy: 0.8000\n",
            "Epoch 6/100\n",
            "175/175 [==============================] - 1s 3ms/step - loss: 0.5198 - accuracy: 0.7954 - val_loss: 0.4998 - val_accuracy: 0.8000\n",
            "Epoch 7/100\n",
            "175/175 [==============================] - 1s 3ms/step - loss: 0.5139 - accuracy: 0.7959 - val_loss: 0.4990 - val_accuracy: 0.8000\n",
            "Epoch 8/100\n",
            "175/175 [==============================] - 1s 4ms/step - loss: 0.5121 - accuracy: 0.7948 - val_loss: 0.4992 - val_accuracy: 0.8000\n",
            "Epoch 9/100\n",
            "175/175 [==============================] - 1s 3ms/step - loss: 0.5085 - accuracy: 0.7962 - val_loss: 0.4989 - val_accuracy: 0.8000\n",
            "Epoch 10/100\n",
            "175/175 [==============================] - 1s 3ms/step - loss: 0.5111 - accuracy: 0.7968 - val_loss: 0.4983 - val_accuracy: 0.8000\n",
            "Epoch 11/100\n",
            "175/175 [==============================] - 1s 4ms/step - loss: 0.5091 - accuracy: 0.7968 - val_loss: 0.4980 - val_accuracy: 0.8000\n",
            "Epoch 12/100\n",
            "175/175 [==============================] - 1s 3ms/step - loss: 0.5076 - accuracy: 0.7971 - val_loss: 0.4980 - val_accuracy: 0.8000\n",
            "Epoch 13/100\n",
            "175/175 [==============================] - 1s 3ms/step - loss: 0.5026 - accuracy: 0.7966 - val_loss: 0.4980 - val_accuracy: 0.8000\n",
            "Epoch 14/100\n",
            "175/175 [==============================] - 1s 3ms/step - loss: 0.5035 - accuracy: 0.7968 - val_loss: 0.4975 - val_accuracy: 0.8000\n",
            "Epoch 15/100\n",
            "175/175 [==============================] - 1s 3ms/step - loss: 0.5060 - accuracy: 0.7966 - val_loss: 0.4972 - val_accuracy: 0.8000\n",
            "Epoch 16/100\n",
            "175/175 [==============================] - 1s 3ms/step - loss: 0.5048 - accuracy: 0.7973 - val_loss: 0.4971 - val_accuracy: 0.8000\n",
            "Epoch 17/100\n",
            "175/175 [==============================] - 1s 3ms/step - loss: 0.5033 - accuracy: 0.7970 - val_loss: 0.4969 - val_accuracy: 0.8000\n",
            "Epoch 18/100\n",
            "175/175 [==============================] - 1s 3ms/step - loss: 0.5024 - accuracy: 0.7971 - val_loss: 0.4970 - val_accuracy: 0.8000\n",
            "Epoch 19/100\n",
            "175/175 [==============================] - 1s 3ms/step - loss: 0.5008 - accuracy: 0.7971 - val_loss: 0.4965 - val_accuracy: 0.8000\n",
            "Epoch 20/100\n",
            "175/175 [==============================] - 1s 3ms/step - loss: 0.5029 - accuracy: 0.7970 - val_loss: 0.4966 - val_accuracy: 0.8000\n",
            "Epoch 21/100\n",
            "175/175 [==============================] - 1s 3ms/step - loss: 0.5012 - accuracy: 0.7971 - val_loss: 0.4964 - val_accuracy: 0.8000\n",
            "Epoch 22/100\n",
            "175/175 [==============================] - 1s 3ms/step - loss: 0.5024 - accuracy: 0.7971 - val_loss: 0.4961 - val_accuracy: 0.8000\n",
            "Epoch 23/100\n",
            "175/175 [==============================] - 1s 3ms/step - loss: 0.5023 - accuracy: 0.7971 - val_loss: 0.4961 - val_accuracy: 0.8000\n",
            "Epoch 24/100\n",
            "175/175 [==============================] - 1s 3ms/step - loss: 0.5019 - accuracy: 0.7971 - val_loss: 0.4961 - val_accuracy: 0.8000\n",
            "Epoch 25/100\n",
            "175/175 [==============================] - 1s 3ms/step - loss: 0.5008 - accuracy: 0.7971 - val_loss: 0.4960 - val_accuracy: 0.8000\n",
            "Epoch 26/100\n",
            "175/175 [==============================] - 1s 3ms/step - loss: 0.5006 - accuracy: 0.7971 - val_loss: 0.4961 - val_accuracy: 0.8000\n",
            "Epoch 27/100\n",
            "175/175 [==============================] - 1s 3ms/step - loss: 0.5014 - accuracy: 0.7971 - val_loss: 0.4959 - val_accuracy: 0.8000\n",
            "Epoch 28/100\n",
            "175/175 [==============================] - 1s 3ms/step - loss: 0.5003 - accuracy: 0.7971 - val_loss: 0.4958 - val_accuracy: 0.8000\n",
            "Epoch 29/100\n",
            "175/175 [==============================] - 1s 3ms/step - loss: 0.5006 - accuracy: 0.7971 - val_loss: 0.4959 - val_accuracy: 0.8000\n",
            "Epoch 30/100\n",
            "175/175 [==============================] - 1s 3ms/step - loss: 0.5010 - accuracy: 0.7971 - val_loss: 0.4959 - val_accuracy: 0.8000\n",
            "Epoch 31/100\n",
            "175/175 [==============================] - 1s 3ms/step - loss: 0.4997 - accuracy: 0.7971 - val_loss: 0.4958 - val_accuracy: 0.8000\n",
            "Epoch 32/100\n",
            "175/175 [==============================] - 1s 3ms/step - loss: 0.4995 - accuracy: 0.7971 - val_loss: 0.4956 - val_accuracy: 0.8000\n",
            "Epoch 33/100\n",
            "175/175 [==============================] - 1s 3ms/step - loss: 0.4997 - accuracy: 0.7971 - val_loss: 0.4958 - val_accuracy: 0.8000\n",
            "Epoch 34/100\n",
            "175/175 [==============================] - 1s 3ms/step - loss: 0.5005 - accuracy: 0.7971 - val_loss: 0.4957 - val_accuracy: 0.8000\n",
            "Epoch 35/100\n",
            "175/175 [==============================] - 1s 3ms/step - loss: 0.4988 - accuracy: 0.7971 - val_loss: 0.4957 - val_accuracy: 0.8000\n",
            "Epoch 36/100\n",
            "175/175 [==============================] - 1s 3ms/step - loss: 0.4998 - accuracy: 0.7971 - val_loss: 0.4957 - val_accuracy: 0.8000\n",
            "Epoch 37/100\n",
            "175/175 [==============================] - 1s 4ms/step - loss: 0.4986 - accuracy: 0.7971 - val_loss: 0.4956 - val_accuracy: 0.8000\n",
            "Epoch 38/100\n",
            "175/175 [==============================] - 1s 3ms/step - loss: 0.5007 - accuracy: 0.7971 - val_loss: 0.4954 - val_accuracy: 0.8000\n",
            "Epoch 39/100\n",
            "175/175 [==============================] - 1s 3ms/step - loss: 0.4991 - accuracy: 0.7971 - val_loss: 0.4954 - val_accuracy: 0.8000\n",
            "Epoch 40/100\n",
            "175/175 [==============================] - 1s 3ms/step - loss: 0.4996 - accuracy: 0.7971 - val_loss: 0.4953 - val_accuracy: 0.8000\n",
            "Epoch 41/100\n",
            "175/175 [==============================] - 1s 4ms/step - loss: 0.4984 - accuracy: 0.7971 - val_loss: 0.4952 - val_accuracy: 0.8000\n",
            "Epoch 42/100\n",
            "175/175 [==============================] - 1s 3ms/step - loss: 0.4992 - accuracy: 0.7971 - val_loss: 0.4952 - val_accuracy: 0.8000\n",
            "Epoch 43/100\n",
            "175/175 [==============================] - 1s 4ms/step - loss: 0.4975 - accuracy: 0.7971 - val_loss: 0.4949 - val_accuracy: 0.8000\n",
            "Epoch 44/100\n",
            "175/175 [==============================] - 1s 4ms/step - loss: 0.4987 - accuracy: 0.7971 - val_loss: 0.4951 - val_accuracy: 0.8000\n",
            "Epoch 45/100\n",
            "175/175 [==============================] - 1s 4ms/step - loss: 0.4996 - accuracy: 0.7971 - val_loss: 0.4950 - val_accuracy: 0.8000\n",
            "Epoch 46/100\n",
            "175/175 [==============================] - 1s 3ms/step - loss: 0.4995 - accuracy: 0.7971 - val_loss: 0.4951 - val_accuracy: 0.8000\n",
            "Epoch 47/100\n",
            "175/175 [==============================] - 1s 3ms/step - loss: 0.4995 - accuracy: 0.7971 - val_loss: 0.4951 - val_accuracy: 0.8000\n",
            "Epoch 48/100\n",
            "175/175 [==============================] - 1s 3ms/step - loss: 0.4993 - accuracy: 0.7971 - val_loss: 0.4951 - val_accuracy: 0.8000\n",
            "Epoch 49/100\n",
            "175/175 [==============================] - 1s 3ms/step - loss: 0.4992 - accuracy: 0.7971 - val_loss: 0.4952 - val_accuracy: 0.8000\n",
            "Epoch 50/100\n",
            "175/175 [==============================] - 1s 4ms/step - loss: 0.4986 - accuracy: 0.7971 - val_loss: 0.4952 - val_accuracy: 0.8000\n",
            "Epoch 51/100\n",
            "175/175 [==============================] - 1s 4ms/step - loss: 0.4981 - accuracy: 0.7971 - val_loss: 0.4950 - val_accuracy: 0.8000\n",
            "Epoch 52/100\n",
            "175/175 [==============================] - 1s 4ms/step - loss: 0.4987 - accuracy: 0.7971 - val_loss: 0.4950 - val_accuracy: 0.8000\n",
            "Epoch 53/100\n",
            "175/175 [==============================] - 1s 4ms/step - loss: 0.4979 - accuracy: 0.7971 - val_loss: 0.4951 - val_accuracy: 0.8000\n"
          ],
          "name": "stdout"
        },
        {
          "output_type": "display_data",
          "data": {
            "text/html": [
              "<span style=\"color:#4527A0\"><h1 style=\"font-size:18px\">Trial complete</h1></span>"
            ],
            "text/plain": [
              "<IPython.core.display.HTML object>"
            ]
          },
          "metadata": {
            "tags": []
          }
        },
        {
          "output_type": "display_data",
          "data": {
            "text/html": [
              "<span style=\"color:#4527A0\"><h1 style=\"font-size:18px\">Trial summary</h1></span>"
            ],
            "text/plain": [
              "<IPython.core.display.HTML object>"
            ]
          },
          "metadata": {
            "tags": []
          }
        },
        {
          "output_type": "display_data",
          "data": {
            "text/html": [
              "<span style=\"color:cyan\"> |-Trial ID: a55c2cae0029a709aeb8e42525b4ef28</span>"
            ],
            "text/plain": [
              "<IPython.core.display.HTML object>"
            ]
          },
          "metadata": {
            "tags": []
          }
        },
        {
          "output_type": "display_data",
          "data": {
            "text/html": [
              "<span style=\"color:cyan\"> |-Score: 0.800000011920929</span>"
            ],
            "text/plain": [
              "<IPython.core.display.HTML object>"
            ]
          },
          "metadata": {
            "tags": []
          }
        },
        {
          "output_type": "display_data",
          "data": {
            "text/html": [
              "<span style=\"color:cyan\"> |-Best step: 0</span>"
            ],
            "text/plain": [
              "<IPython.core.display.HTML object>"
            ]
          },
          "metadata": {
            "tags": []
          }
        },
        {
          "output_type": "display_data",
          "data": {
            "text/html": [
              "<span style=\"color:#7E57C2\"><h2 style=\"font-size:16px\">Hyperparameters:</h2></span>"
            ],
            "text/plain": [
              "<IPython.core.display.HTML object>"
            ]
          },
          "metadata": {
            "tags": []
          }
        },
        {
          "output_type": "display_data",
          "data": {
            "text/html": [
              "<span style=\"color:cyan\"> |-classification_head_1/dropout_rate: 0</span>"
            ],
            "text/plain": [
              "<IPython.core.display.HTML object>"
            ]
          },
          "metadata": {
            "tags": []
          }
        },
        {
          "output_type": "display_data",
          "data": {
            "text/html": [
              "<span style=\"color:blue\"> |-optimizer: adam</span>"
            ],
            "text/plain": [
              "<IPython.core.display.HTML object>"
            ]
          },
          "metadata": {
            "tags": []
          }
        },
        {
          "output_type": "display_data",
          "data": {
            "text/html": [
              "<span style=\"color:cyan\"> |-structured_data_block_1/dense_block_1/dropout_rate: 0.25</span>"
            ],
            "text/plain": [
              "<IPython.core.display.HTML object>"
            ]
          },
          "metadata": {
            "tags": []
          }
        },
        {
          "output_type": "display_data",
          "data": {
            "text/html": [
              "<span style=\"color:blue\"> |-structured_data_block_1/dense_block_1/num_layers: 1</span>"
            ],
            "text/plain": [
              "<IPython.core.display.HTML object>"
            ]
          },
          "metadata": {
            "tags": []
          }
        },
        {
          "output_type": "display_data",
          "data": {
            "text/html": [
              "<span style=\"color:cyan\"> |-structured_data_block_1/dense_block_1/units_0: 64</span>"
            ],
            "text/plain": [
              "<IPython.core.display.HTML object>"
            ]
          },
          "metadata": {
            "tags": []
          }
        },
        {
          "output_type": "display_data",
          "data": {
            "text/html": [
              "<span style=\"color:blue\"> |-structured_data_block_1/dense_block_1/units_1: 32</span>"
            ],
            "text/plain": [
              "<IPython.core.display.HTML object>"
            ]
          },
          "metadata": {
            "tags": []
          }
        },
        {
          "output_type": "display_data",
          "data": {
            "text/html": [
              "<span style=\"color:cyan\"> |-structured_data_block_1/dense_block_1/use_batchnorm: True</span>"
            ],
            "text/plain": [
              "<IPython.core.display.HTML object>"
            ]
          },
          "metadata": {
            "tags": []
          }
        },
        {
          "output_type": "stream",
          "text": [
            "Train for 175 steps, validate for 44 steps\n",
            "Epoch 1/100\n",
            "175/175 [==============================] - 3s 15ms/step - loss: 0.6073 - accuracy: 0.6939 - val_loss: 0.5074 - val_accuracy: 0.8000\n",
            "Epoch 2/100\n",
            "175/175 [==============================] - 1s 6ms/step - loss: 0.5412 - accuracy: 0.7814 - val_loss: 0.5070 - val_accuracy: 0.8000\n",
            "Epoch 3/100\n",
            "175/175 [==============================] - 1s 6ms/step - loss: 0.5271 - accuracy: 0.7923 - val_loss: 0.4971 - val_accuracy: 0.8000\n",
            "Epoch 4/100\n",
            "175/175 [==============================] - 1s 6ms/step - loss: 0.5184 - accuracy: 0.7925 - val_loss: 0.4968 - val_accuracy: 0.8000\n",
            "Epoch 5/100\n",
            "175/175 [==============================] - 1s 6ms/step - loss: 0.5124 - accuracy: 0.7948 - val_loss: 0.4979 - val_accuracy: 0.8000\n",
            "Epoch 6/100\n",
            "175/175 [==============================] - 1s 6ms/step - loss: 0.5115 - accuracy: 0.7955 - val_loss: 0.4973 - val_accuracy: 0.8000\n",
            "Epoch 7/100\n",
            "175/175 [==============================] - 1s 6ms/step - loss: 0.5115 - accuracy: 0.7964 - val_loss: 0.4968 - val_accuracy: 0.8000\n",
            "Epoch 8/100\n",
            "175/175 [==============================] - 1s 6ms/step - loss: 0.5108 - accuracy: 0.7971 - val_loss: 0.4964 - val_accuracy: 0.8000\n",
            "Epoch 9/100\n",
            "175/175 [==============================] - 1s 6ms/step - loss: 0.5090 - accuracy: 0.7970 - val_loss: 0.4960 - val_accuracy: 0.8000\n",
            "Epoch 10/100\n",
            "175/175 [==============================] - 1s 7ms/step - loss: 0.5062 - accuracy: 0.7973 - val_loss: 0.4965 - val_accuracy: 0.8000\n",
            "Epoch 11/100\n",
            "175/175 [==============================] - 1s 6ms/step - loss: 0.5061 - accuracy: 0.7971 - val_loss: 0.4970 - val_accuracy: 0.8000\n",
            "Epoch 12/100\n",
            "175/175 [==============================] - 1s 6ms/step - loss: 0.5025 - accuracy: 0.7971 - val_loss: 0.4968 - val_accuracy: 0.8000\n",
            "Epoch 13/100\n",
            "175/175 [==============================] - 1s 6ms/step - loss: 0.5054 - accuracy: 0.7971 - val_loss: 0.4960 - val_accuracy: 0.8000\n",
            "Epoch 14/100\n",
            "175/175 [==============================] - 1s 6ms/step - loss: 0.5041 - accuracy: 0.7971 - val_loss: 0.4963 - val_accuracy: 0.8000\n",
            "Epoch 15/100\n",
            "175/175 [==============================] - 1s 6ms/step - loss: 0.5026 - accuracy: 0.7971 - val_loss: 0.4959 - val_accuracy: 0.8000\n",
            "Epoch 16/100\n",
            "175/175 [==============================] - 1s 6ms/step - loss: 0.5041 - accuracy: 0.7971 - val_loss: 0.4962 - val_accuracy: 0.8000\n",
            "Epoch 17/100\n",
            "175/175 [==============================] - 1s 6ms/step - loss: 0.5018 - accuracy: 0.7971 - val_loss: 0.4966 - val_accuracy: 0.8000\n",
            "Epoch 18/100\n",
            "175/175 [==============================] - 1s 6ms/step - loss: 0.5019 - accuracy: 0.7971 - val_loss: 0.4960 - val_accuracy: 0.8000\n",
            "Epoch 19/100\n",
            "175/175 [==============================] - 1s 6ms/step - loss: 0.5023 - accuracy: 0.7971 - val_loss: 0.4959 - val_accuracy: 0.8000\n",
            "Epoch 20/100\n",
            "175/175 [==============================] - 1s 6ms/step - loss: 0.5018 - accuracy: 0.7971 - val_loss: 0.4961 - val_accuracy: 0.8000\n",
            "Epoch 21/100\n",
            "175/175 [==============================] - 1s 6ms/step - loss: 0.5021 - accuracy: 0.7971 - val_loss: 0.4960 - val_accuracy: 0.8000\n",
            "Epoch 22/100\n",
            "175/175 [==============================] - 1s 6ms/step - loss: 0.5015 - accuracy: 0.7971 - val_loss: 0.4953 - val_accuracy: 0.8000\n",
            "Epoch 23/100\n",
            "175/175 [==============================] - 1s 6ms/step - loss: 0.5016 - accuracy: 0.7971 - val_loss: 0.4954 - val_accuracy: 0.8000\n",
            "Epoch 24/100\n",
            "175/175 [==============================] - 1s 6ms/step - loss: 0.5008 - accuracy: 0.7971 - val_loss: 0.4953 - val_accuracy: 0.8000\n",
            "Epoch 25/100\n",
            "175/175 [==============================] - 1s 6ms/step - loss: 0.5007 - accuracy: 0.7971 - val_loss: 0.4952 - val_accuracy: 0.8000\n",
            "Epoch 26/100\n",
            "175/175 [==============================] - 1s 6ms/step - loss: 0.4984 - accuracy: 0.7971 - val_loss: 0.4955 - val_accuracy: 0.8000\n",
            "Epoch 27/100\n",
            "175/175 [==============================] - 1s 6ms/step - loss: 0.4980 - accuracy: 0.7971 - val_loss: 0.4954 - val_accuracy: 0.8000\n",
            "Epoch 28/100\n",
            "175/175 [==============================] - 1s 6ms/step - loss: 0.4998 - accuracy: 0.7971 - val_loss: 0.4963 - val_accuracy: 0.8000\n",
            "Epoch 29/100\n",
            "175/175 [==============================] - 1s 6ms/step - loss: 0.4979 - accuracy: 0.7971 - val_loss: 0.4950 - val_accuracy: 0.8000\n",
            "Epoch 30/100\n",
            "175/175 [==============================] - 1s 6ms/step - loss: 0.4976 - accuracy: 0.7971 - val_loss: 0.4960 - val_accuracy: 0.8000\n",
            "Epoch 31/100\n",
            "175/175 [==============================] - 1s 6ms/step - loss: 0.5005 - accuracy: 0.7971 - val_loss: 0.4961 - val_accuracy: 0.8000\n",
            "Epoch 32/100\n",
            "175/175 [==============================] - 1s 6ms/step - loss: 0.4982 - accuracy: 0.7971 - val_loss: 0.4957 - val_accuracy: 0.8000\n",
            "Epoch 33/100\n",
            "175/175 [==============================] - 1s 6ms/step - loss: 0.4992 - accuracy: 0.7971 - val_loss: 0.4949 - val_accuracy: 0.8000\n",
            "Epoch 34/100\n",
            "175/175 [==============================] - 1s 6ms/step - loss: 0.4987 - accuracy: 0.7971 - val_loss: 0.4957 - val_accuracy: 0.8000\n",
            "Epoch 35/100\n",
            "175/175 [==============================] - 1s 6ms/step - loss: 0.4987 - accuracy: 0.7971 - val_loss: 0.4959 - val_accuracy: 0.8000\n",
            "Epoch 36/100\n",
            "175/175 [==============================] - 1s 6ms/step - loss: 0.4981 - accuracy: 0.7971 - val_loss: 0.4956 - val_accuracy: 0.8000\n",
            "Epoch 37/100\n",
            "175/175 [==============================] - 1s 6ms/step - loss: 0.4978 - accuracy: 0.7971 - val_loss: 0.4958 - val_accuracy: 0.8000\n",
            "Epoch 38/100\n",
            "175/175 [==============================] - 1s 6ms/step - loss: 0.4978 - accuracy: 0.7971 - val_loss: 0.4959 - val_accuracy: 0.8000\n",
            "Epoch 39/100\n",
            "175/175 [==============================] - 1s 6ms/step - loss: 0.4976 - accuracy: 0.7971 - val_loss: 0.4959 - val_accuracy: 0.8000\n",
            "Epoch 40/100\n",
            "175/175 [==============================] - 1s 6ms/step - loss: 0.4978 - accuracy: 0.7971 - val_loss: 0.4956 - val_accuracy: 0.8000\n",
            "Epoch 41/100\n",
            "175/175 [==============================] - 1s 6ms/step - loss: 0.4985 - accuracy: 0.7971 - val_loss: 0.4955 - val_accuracy: 0.8000\n",
            "Epoch 42/100\n",
            "175/175 [==============================] - 1s 6ms/step - loss: 0.4989 - accuracy: 0.7971 - val_loss: 0.4955 - val_accuracy: 0.8000\n",
            "Epoch 43/100\n",
            "175/175 [==============================] - 1s 6ms/step - loss: 0.4994 - accuracy: 0.7971 - val_loss: 0.4956 - val_accuracy: 0.8000\n"
          ],
          "name": "stdout"
        },
        {
          "output_type": "display_data",
          "data": {
            "text/html": [
              "<span style=\"color:#4527A0\"><h1 style=\"font-size:18px\">Trial complete</h1></span>"
            ],
            "text/plain": [
              "<IPython.core.display.HTML object>"
            ]
          },
          "metadata": {
            "tags": []
          }
        },
        {
          "output_type": "display_data",
          "data": {
            "text/html": [
              "<span style=\"color:#4527A0\"><h1 style=\"font-size:18px\">Trial summary</h1></span>"
            ],
            "text/plain": [
              "<IPython.core.display.HTML object>"
            ]
          },
          "metadata": {
            "tags": []
          }
        },
        {
          "output_type": "display_data",
          "data": {
            "text/html": [
              "<span style=\"color:cyan\"> |-Trial ID: 1701b760414b8a08bd55243f34336cc4</span>"
            ],
            "text/plain": [
              "<IPython.core.display.HTML object>"
            ]
          },
          "metadata": {
            "tags": []
          }
        },
        {
          "output_type": "display_data",
          "data": {
            "text/html": [
              "<span style=\"color:cyan\"> |-Score: 0.800000011920929</span>"
            ],
            "text/plain": [
              "<IPython.core.display.HTML object>"
            ]
          },
          "metadata": {
            "tags": []
          }
        },
        {
          "output_type": "display_data",
          "data": {
            "text/html": [
              "<span style=\"color:cyan\"> |-Best step: 0</span>"
            ],
            "text/plain": [
              "<IPython.core.display.HTML object>"
            ]
          },
          "metadata": {
            "tags": []
          }
        },
        {
          "output_type": "display_data",
          "data": {
            "text/html": [
              "<span style=\"color:#7E57C2\"><h2 style=\"font-size:16px\">Hyperparameters:</h2></span>"
            ],
            "text/plain": [
              "<IPython.core.display.HTML object>"
            ]
          },
          "metadata": {
            "tags": []
          }
        },
        {
          "output_type": "display_data",
          "data": {
            "text/html": [
              "<span style=\"color:cyan\"> |-classification_head_1/dropout_rate: 0</span>"
            ],
            "text/plain": [
              "<IPython.core.display.HTML object>"
            ]
          },
          "metadata": {
            "tags": []
          }
        },
        {
          "output_type": "display_data",
          "data": {
            "text/html": [
              "<span style=\"color:blue\"> |-optimizer: adam</span>"
            ],
            "text/plain": [
              "<IPython.core.display.HTML object>"
            ]
          },
          "metadata": {
            "tags": []
          }
        },
        {
          "output_type": "display_data",
          "data": {
            "text/html": [
              "<span style=\"color:cyan\"> |-structured_data_block_1/dense_block_1/dropout_rate: 0.25</span>"
            ],
            "text/plain": [
              "<IPython.core.display.HTML object>"
            ]
          },
          "metadata": {
            "tags": []
          }
        },
        {
          "output_type": "display_data",
          "data": {
            "text/html": [
              "<span style=\"color:blue\"> |-structured_data_block_1/dense_block_1/num_layers: 3</span>"
            ],
            "text/plain": [
              "<IPython.core.display.HTML object>"
            ]
          },
          "metadata": {
            "tags": []
          }
        },
        {
          "output_type": "display_data",
          "data": {
            "text/html": [
              "<span style=\"color:cyan\"> |-structured_data_block_1/dense_block_1/units_0: 512</span>"
            ],
            "text/plain": [
              "<IPython.core.display.HTML object>"
            ]
          },
          "metadata": {
            "tags": []
          }
        },
        {
          "output_type": "display_data",
          "data": {
            "text/html": [
              "<span style=\"color:blue\"> |-structured_data_block_1/dense_block_1/units_1: 64</span>"
            ],
            "text/plain": [
              "<IPython.core.display.HTML object>"
            ]
          },
          "metadata": {
            "tags": []
          }
        },
        {
          "output_type": "display_data",
          "data": {
            "text/html": [
              "<span style=\"color:cyan\"> |-structured_data_block_1/dense_block_1/units_2: 32</span>"
            ],
            "text/plain": [
              "<IPython.core.display.HTML object>"
            ]
          },
          "metadata": {
            "tags": []
          }
        },
        {
          "output_type": "display_data",
          "data": {
            "text/html": [
              "<span style=\"color:blue\"> |-structured_data_block_1/dense_block_1/use_batchnorm: True</span>"
            ],
            "text/plain": [
              "<IPython.core.display.HTML object>"
            ]
          },
          "metadata": {
            "tags": []
          }
        },
        {
          "output_type": "stream",
          "text": [
            "Train for 175 steps, validate for 44 steps\n",
            "Epoch 1/100\n",
            "175/175 [==============================] - 1s 8ms/step - loss: 16592.2084 - accuracy: 0.6704 - val_loss: 8025.0846 - val_accuracy: 0.5671\n",
            "Epoch 2/100\n",
            "175/175 [==============================] - 1s 4ms/step - loss: 9353.5722 - accuracy: 0.6745 - val_loss: 9059.9588 - val_accuracy: 0.6836\n",
            "Epoch 3/100\n",
            "175/175 [==============================] - 1s 4ms/step - loss: 7269.2157 - accuracy: 0.6807 - val_loss: 4017.2235 - val_accuracy: 0.6000\n",
            "Epoch 4/100\n",
            "175/175 [==============================] - 1s 4ms/step - loss: 7416.8217 - accuracy: 0.6746 - val_loss: 9307.1823 - val_accuracy: 0.8000\n",
            "Epoch 5/100\n",
            "175/175 [==============================] - 1s 4ms/step - loss: 7591.0306 - accuracy: 0.6693 - val_loss: 6046.1610 - val_accuracy: 0.8000\n",
            "Epoch 6/100\n",
            "175/175 [==============================] - 1s 3ms/step - loss: 7104.6521 - accuracy: 0.6811 - val_loss: 9771.4108 - val_accuracy: 0.8000\n",
            "Epoch 7/100\n",
            "175/175 [==============================] - 1s 3ms/step - loss: 5549.1257 - accuracy: 0.6780 - val_loss: 6277.8878 - val_accuracy: 0.6636\n",
            "Epoch 8/100\n",
            "175/175 [==============================] - 1s 3ms/step - loss: 4911.7012 - accuracy: 0.6743 - val_loss: 3021.5246 - val_accuracy: 0.7686\n",
            "Epoch 9/100\n",
            "175/175 [==============================] - 1s 3ms/step - loss: 5738.7398 - accuracy: 0.6854 - val_loss: 2517.4971 - val_accuracy: 0.7386\n",
            "Epoch 10/100\n",
            "175/175 [==============================] - 1s 3ms/step - loss: 5870.8806 - accuracy: 0.6830 - val_loss: 3068.2553 - val_accuracy: 0.3064\n",
            "Epoch 11/100\n",
            "175/175 [==============================] - 1s 4ms/step - loss: 4284.4489 - accuracy: 0.6832 - val_loss: 2608.8400 - val_accuracy: 0.6043\n",
            "Epoch 12/100\n",
            "175/175 [==============================] - 1s 4ms/step - loss: 4404.5110 - accuracy: 0.6786 - val_loss: 6088.8435 - val_accuracy: 0.7857\n",
            "Epoch 13/100\n",
            "175/175 [==============================] - 1s 4ms/step - loss: 4902.7304 - accuracy: 0.6845 - val_loss: 2814.8869 - val_accuracy: 0.5993\n",
            "Epoch 14/100\n",
            "175/175 [==============================] - 1s 3ms/step - loss: 4712.5848 - accuracy: 0.6841 - val_loss: 3060.6151 - val_accuracy: 0.5043\n",
            "Epoch 15/100\n",
            "175/175 [==============================] - 1s 3ms/step - loss: 3772.8929 - accuracy: 0.6750 - val_loss: 1450.9519 - val_accuracy: 0.7186\n",
            "Epoch 16/100\n",
            "175/175 [==============================] - 1s 3ms/step - loss: 3504.2931 - accuracy: 0.6768 - val_loss: 3301.5449 - val_accuracy: 0.7864\n",
            "Epoch 17/100\n",
            "175/175 [==============================] - 1s 3ms/step - loss: 3787.4381 - accuracy: 0.6877 - val_loss: 4499.2173 - val_accuracy: 0.4807\n",
            "Epoch 18/100\n",
            "175/175 [==============================] - 1s 3ms/step - loss: 3455.3539 - accuracy: 0.6848 - val_loss: 1787.4490 - val_accuracy: 0.6779\n",
            "Epoch 19/100\n",
            "175/175 [==============================] - 1s 3ms/step - loss: 3190.5001 - accuracy: 0.6798 - val_loss: 1720.1665 - val_accuracy: 0.4629\n",
            "Epoch 20/100\n",
            "175/175 [==============================] - 1s 3ms/step - loss: 2759.6378 - accuracy: 0.6771 - val_loss: 2748.0953 - val_accuracy: 0.5421\n",
            "Epoch 21/100\n",
            "175/175 [==============================] - 1s 3ms/step - loss: 2692.5182 - accuracy: 0.6830 - val_loss: 1531.0736 - val_accuracy: 0.5936\n",
            "Epoch 22/100\n",
            "175/175 [==============================] - 1s 3ms/step - loss: 3133.3035 - accuracy: 0.6716 - val_loss: 1981.3551 - val_accuracy: 0.7793\n",
            "Epoch 23/100\n",
            "175/175 [==============================] - 1s 4ms/step - loss: 2599.7211 - accuracy: 0.6741 - val_loss: 4162.6418 - val_accuracy: 0.7993\n",
            "Epoch 24/100\n",
            "175/175 [==============================] - 1s 3ms/step - loss: 3206.4055 - accuracy: 0.6832 - val_loss: 1842.5691 - val_accuracy: 0.7764\n",
            "Epoch 25/100\n",
            "175/175 [==============================] - 1s 3ms/step - loss: 2711.0137 - accuracy: 0.6764 - val_loss: 4391.6850 - val_accuracy: 0.7950\n"
          ],
          "name": "stdout"
        },
        {
          "output_type": "display_data",
          "data": {
            "text/html": [
              "<span style=\"color:#4527A0\"><h1 style=\"font-size:18px\">Trial complete</h1></span>"
            ],
            "text/plain": [
              "<IPython.core.display.HTML object>"
            ]
          },
          "metadata": {
            "tags": []
          }
        },
        {
          "output_type": "display_data",
          "data": {
            "text/html": [
              "<span style=\"color:#4527A0\"><h1 style=\"font-size:18px\">Trial summary</h1></span>"
            ],
            "text/plain": [
              "<IPython.core.display.HTML object>"
            ]
          },
          "metadata": {
            "tags": []
          }
        },
        {
          "output_type": "display_data",
          "data": {
            "text/html": [
              "<span style=\"color:cyan\"> |-Trial ID: d901ddb43ff0b5510e539416e729d58c</span>"
            ],
            "text/plain": [
              "<IPython.core.display.HTML object>"
            ]
          },
          "metadata": {
            "tags": []
          }
        },
        {
          "output_type": "display_data",
          "data": {
            "text/html": [
              "<span style=\"color:cyan\"> |-Score: 0.800000011920929</span>"
            ],
            "text/plain": [
              "<IPython.core.display.HTML object>"
            ]
          },
          "metadata": {
            "tags": []
          }
        },
        {
          "output_type": "display_data",
          "data": {
            "text/html": [
              "<span style=\"color:cyan\"> |-Best step: 0</span>"
            ],
            "text/plain": [
              "<IPython.core.display.HTML object>"
            ]
          },
          "metadata": {
            "tags": []
          }
        },
        {
          "output_type": "display_data",
          "data": {
            "text/html": [
              "<span style=\"color:#7E57C2\"><h2 style=\"font-size:16px\">Hyperparameters:</h2></span>"
            ],
            "text/plain": [
              "<IPython.core.display.HTML object>"
            ]
          },
          "metadata": {
            "tags": []
          }
        },
        {
          "output_type": "display_data",
          "data": {
            "text/html": [
              "<span style=\"color:cyan\"> |-classification_head_1/dropout_rate: 0</span>"
            ],
            "text/plain": [
              "<IPython.core.display.HTML object>"
            ]
          },
          "metadata": {
            "tags": []
          }
        },
        {
          "output_type": "display_data",
          "data": {
            "text/html": [
              "<span style=\"color:blue\"> |-optimizer: adam</span>"
            ],
            "text/plain": [
              "<IPython.core.display.HTML object>"
            ]
          },
          "metadata": {
            "tags": []
          }
        },
        {
          "output_type": "display_data",
          "data": {
            "text/html": [
              "<span style=\"color:cyan\"> |-structured_data_block_1/dense_block_1/dropout_rate: 0.0</span>"
            ],
            "text/plain": [
              "<IPython.core.display.HTML object>"
            ]
          },
          "metadata": {
            "tags": []
          }
        },
        {
          "output_type": "display_data",
          "data": {
            "text/html": [
              "<span style=\"color:blue\"> |-structured_data_block_1/dense_block_1/num_layers: 3</span>"
            ],
            "text/plain": [
              "<IPython.core.display.HTML object>"
            ]
          },
          "metadata": {
            "tags": []
          }
        },
        {
          "output_type": "display_data",
          "data": {
            "text/html": [
              "<span style=\"color:cyan\"> |-structured_data_block_1/dense_block_1/units_0: 32</span>"
            ],
            "text/plain": [
              "<IPython.core.display.HTML object>"
            ]
          },
          "metadata": {
            "tags": []
          }
        },
        {
          "output_type": "display_data",
          "data": {
            "text/html": [
              "<span style=\"color:blue\"> |-structured_data_block_1/dense_block_1/units_1: 16</span>"
            ],
            "text/plain": [
              "<IPython.core.display.HTML object>"
            ]
          },
          "metadata": {
            "tags": []
          }
        },
        {
          "output_type": "display_data",
          "data": {
            "text/html": [
              "<span style=\"color:cyan\"> |-structured_data_block_1/dense_block_1/units_2: 32</span>"
            ],
            "text/plain": [
              "<IPython.core.display.HTML object>"
            ]
          },
          "metadata": {
            "tags": []
          }
        },
        {
          "output_type": "display_data",
          "data": {
            "text/html": [
              "<span style=\"color:blue\"> |-structured_data_block_1/dense_block_1/use_batchnorm: False</span>"
            ],
            "text/plain": [
              "<IPython.core.display.HTML object>"
            ]
          },
          "metadata": {
            "tags": []
          }
        },
        {
          "output_type": "stream",
          "text": [
            "Train for 175 steps, validate for 44 steps\n",
            "Epoch 1/100\n",
            "175/175 [==============================] - 2s 9ms/step - loss: 41085.1057 - accuracy: 0.6814 - val_loss: 0.6802 - val_accuracy: 0.8000\n",
            "Epoch 2/100\n",
            "175/175 [==============================] - 1s 5ms/step - loss: 1701.6475 - accuracy: 0.7389 - val_loss: 0.5381 - val_accuracy: 0.8000\n",
            "Epoch 3/100\n",
            "175/175 [==============================] - 1s 5ms/step - loss: 381.5094 - accuracy: 0.7820 - val_loss: 0.5037 - val_accuracy: 0.8000\n",
            "Epoch 4/100\n",
            "175/175 [==============================] - 1s 5ms/step - loss: 152.6636 - accuracy: 0.7891 - val_loss: 0.5006 - val_accuracy: 0.8000\n",
            "Epoch 5/100\n",
            "175/175 [==============================] - 1s 5ms/step - loss: 89.0797 - accuracy: 0.7909 - val_loss: 0.5002 - val_accuracy: 0.8000\n",
            "Epoch 6/100\n",
            "175/175 [==============================] - 1s 5ms/step - loss: 52.2506 - accuracy: 0.7929 - val_loss: 0.5002 - val_accuracy: 0.8000\n",
            "Epoch 7/100\n",
            "175/175 [==============================] - 1s 5ms/step - loss: 42.1479 - accuracy: 0.7941 - val_loss: 0.5002 - val_accuracy: 0.8000\n",
            "Epoch 8/100\n",
            "175/175 [==============================] - 1s 5ms/step - loss: 12.0987 - accuracy: 0.7959 - val_loss: 0.5002 - val_accuracy: 0.8000\n",
            "Epoch 9/100\n",
            "175/175 [==============================] - 1s 5ms/step - loss: 31.8071 - accuracy: 0.7946 - val_loss: 0.5002 - val_accuracy: 0.8000\n",
            "Epoch 10/100\n",
            "175/175 [==============================] - 1s 5ms/step - loss: 20.0447 - accuracy: 0.7946 - val_loss: 0.5002 - val_accuracy: 0.8000\n",
            "Epoch 11/100\n",
            "175/175 [==============================] - 1s 5ms/step - loss: 21.0056 - accuracy: 0.7962 - val_loss: 0.5002 - val_accuracy: 0.8000\n",
            "Epoch 12/100\n",
            "175/175 [==============================] - 1s 5ms/step - loss: 21.8494 - accuracy: 0.7946 - val_loss: 0.5002 - val_accuracy: 0.8000\n",
            "Epoch 13/100\n",
            "175/175 [==============================] - 1s 5ms/step - loss: 14.5386 - accuracy: 0.7961 - val_loss: 0.5002 - val_accuracy: 0.8000\n",
            "Epoch 14/100\n",
            "175/175 [==============================] - 1s 5ms/step - loss: 5.5378 - accuracy: 0.7962 - val_loss: 0.5002 - val_accuracy: 0.8000\n",
            "Epoch 15/100\n",
            "175/175 [==============================] - 1s 5ms/step - loss: 5.6448 - accuracy: 0.7966 - val_loss: 0.5002 - val_accuracy: 0.8000\n",
            "Epoch 16/100\n",
            "175/175 [==============================] - 1s 6ms/step - loss: 10.4039 - accuracy: 0.7962 - val_loss: 0.5002 - val_accuracy: 0.8000\n"
          ],
          "name": "stdout"
        },
        {
          "output_type": "display_data",
          "data": {
            "text/html": [
              "<span style=\"color:#4527A0\"><h1 style=\"font-size:18px\">Trial complete</h1></span>"
            ],
            "text/plain": [
              "<IPython.core.display.HTML object>"
            ]
          },
          "metadata": {
            "tags": []
          }
        },
        {
          "output_type": "display_data",
          "data": {
            "text/html": [
              "<span style=\"color:#4527A0\"><h1 style=\"font-size:18px\">Trial summary</h1></span>"
            ],
            "text/plain": [
              "<IPython.core.display.HTML object>"
            ]
          },
          "metadata": {
            "tags": []
          }
        },
        {
          "output_type": "display_data",
          "data": {
            "text/html": [
              "<span style=\"color:cyan\"> |-Trial ID: f2295170356992b2ac9bfc3e1c4c57f1</span>"
            ],
            "text/plain": [
              "<IPython.core.display.HTML object>"
            ]
          },
          "metadata": {
            "tags": []
          }
        },
        {
          "output_type": "display_data",
          "data": {
            "text/html": [
              "<span style=\"color:cyan\"> |-Score: 0.800000011920929</span>"
            ],
            "text/plain": [
              "<IPython.core.display.HTML object>"
            ]
          },
          "metadata": {
            "tags": []
          }
        },
        {
          "output_type": "display_data",
          "data": {
            "text/html": [
              "<span style=\"color:cyan\"> |-Best step: 0</span>"
            ],
            "text/plain": [
              "<IPython.core.display.HTML object>"
            ]
          },
          "metadata": {
            "tags": []
          }
        },
        {
          "output_type": "display_data",
          "data": {
            "text/html": [
              "<span style=\"color:#7E57C2\"><h2 style=\"font-size:16px\">Hyperparameters:</h2></span>"
            ],
            "text/plain": [
              "<IPython.core.display.HTML object>"
            ]
          },
          "metadata": {
            "tags": []
          }
        },
        {
          "output_type": "display_data",
          "data": {
            "text/html": [
              "<span style=\"color:cyan\"> |-classification_head_1/dropout_rate: 0</span>"
            ],
            "text/plain": [
              "<IPython.core.display.HTML object>"
            ]
          },
          "metadata": {
            "tags": []
          }
        },
        {
          "output_type": "display_data",
          "data": {
            "text/html": [
              "<span style=\"color:blue\"> |-optimizer: adam</span>"
            ],
            "text/plain": [
              "<IPython.core.display.HTML object>"
            ]
          },
          "metadata": {
            "tags": []
          }
        },
        {
          "output_type": "display_data",
          "data": {
            "text/html": [
              "<span style=\"color:cyan\"> |-structured_data_block_1/dense_block_1/dropout_rate: 0.25</span>"
            ],
            "text/plain": [
              "<IPython.core.display.HTML object>"
            ]
          },
          "metadata": {
            "tags": []
          }
        },
        {
          "output_type": "display_data",
          "data": {
            "text/html": [
              "<span style=\"color:blue\"> |-structured_data_block_1/dense_block_1/num_layers: 3</span>"
            ],
            "text/plain": [
              "<IPython.core.display.HTML object>"
            ]
          },
          "metadata": {
            "tags": []
          }
        },
        {
          "output_type": "display_data",
          "data": {
            "text/html": [
              "<span style=\"color:cyan\"> |-structured_data_block_1/dense_block_1/units_0: 256</span>"
            ],
            "text/plain": [
              "<IPython.core.display.HTML object>"
            ]
          },
          "metadata": {
            "tags": []
          }
        },
        {
          "output_type": "display_data",
          "data": {
            "text/html": [
              "<span style=\"color:blue\"> |-structured_data_block_1/dense_block_1/units_1: 128</span>"
            ],
            "text/plain": [
              "<IPython.core.display.HTML object>"
            ]
          },
          "metadata": {
            "tags": []
          }
        },
        {
          "output_type": "display_data",
          "data": {
            "text/html": [
              "<span style=\"color:cyan\"> |-structured_data_block_1/dense_block_1/units_2: 256</span>"
            ],
            "text/plain": [
              "<IPython.core.display.HTML object>"
            ]
          },
          "metadata": {
            "tags": []
          }
        },
        {
          "output_type": "display_data",
          "data": {
            "text/html": [
              "<span style=\"color:blue\"> |-structured_data_block_1/dense_block_1/use_batchnorm: False</span>"
            ],
            "text/plain": [
              "<IPython.core.display.HTML object>"
            ]
          },
          "metadata": {
            "tags": []
          }
        },
        {
          "output_type": "stream",
          "text": [
            "Train for 175 steps, validate for 44 steps\n",
            "Epoch 1/100\n",
            "175/175 [==============================] - 2s 12ms/step - loss: 0.5241 - accuracy: 0.7887 - val_loss: 0.5219 - val_accuracy: 0.8000\n",
            "Epoch 2/100\n",
            "175/175 [==============================] - 1s 5ms/step - loss: 0.5128 - accuracy: 0.7957 - val_loss: 0.5019 - val_accuracy: 0.8000\n",
            "Epoch 3/100\n",
            "175/175 [==============================] - 1s 6ms/step - loss: 0.5082 - accuracy: 0.7971 - val_loss: 0.5074 - val_accuracy: 0.8000\n",
            "Epoch 4/100\n",
            "175/175 [==============================] - 1s 5ms/step - loss: 0.5063 - accuracy: 0.7971 - val_loss: 0.5084 - val_accuracy: 0.8000\n",
            "Epoch 5/100\n",
            "175/175 [==============================] - 1s 5ms/step - loss: 0.5046 - accuracy: 0.7971 - val_loss: 0.5072 - val_accuracy: 0.8000\n",
            "Epoch 6/100\n",
            "175/175 [==============================] - 1s 5ms/step - loss: 0.5036 - accuracy: 0.7971 - val_loss: 0.5066 - val_accuracy: 0.8000\n",
            "Epoch 7/100\n",
            "175/175 [==============================] - 1s 5ms/step - loss: 0.5021 - accuracy: 0.7971 - val_loss: 0.5044 - val_accuracy: 0.8000\n",
            "Epoch 8/100\n",
            "175/175 [==============================] - 1s 5ms/step - loss: 0.5011 - accuracy: 0.7971 - val_loss: 0.5035 - val_accuracy: 0.8000\n",
            "Epoch 9/100\n",
            "175/175 [==============================] - 1s 5ms/step - loss: 0.5000 - accuracy: 0.7971 - val_loss: 0.5032 - val_accuracy: 0.8000\n",
            "Epoch 10/100\n",
            "175/175 [==============================] - 1s 5ms/step - loss: 0.4994 - accuracy: 0.7971 - val_loss: 0.5019 - val_accuracy: 0.8000\n",
            "Epoch 11/100\n",
            "175/175 [==============================] - 1s 5ms/step - loss: 0.4989 - accuracy: 0.7971 - val_loss: 0.5029 - val_accuracy: 0.8000\n",
            "Epoch 12/100\n",
            "175/175 [==============================] - 1s 6ms/step - loss: 0.4985 - accuracy: 0.7971 - val_loss: 0.5021 - val_accuracy: 0.8000\n"
          ],
          "name": "stdout"
        },
        {
          "output_type": "display_data",
          "data": {
            "text/html": [
              "<span style=\"color:#4527A0\"><h1 style=\"font-size:18px\">Trial complete</h1></span>"
            ],
            "text/plain": [
              "<IPython.core.display.HTML object>"
            ]
          },
          "metadata": {
            "tags": []
          }
        },
        {
          "output_type": "display_data",
          "data": {
            "text/html": [
              "<span style=\"color:#4527A0\"><h1 style=\"font-size:18px\">Trial summary</h1></span>"
            ],
            "text/plain": [
              "<IPython.core.display.HTML object>"
            ]
          },
          "metadata": {
            "tags": []
          }
        },
        {
          "output_type": "display_data",
          "data": {
            "text/html": [
              "<span style=\"color:cyan\"> |-Trial ID: 2eacfd2ec01afd005fa4d1aaec620572</span>"
            ],
            "text/plain": [
              "<IPython.core.display.HTML object>"
            ]
          },
          "metadata": {
            "tags": []
          }
        },
        {
          "output_type": "display_data",
          "data": {
            "text/html": [
              "<span style=\"color:cyan\"> |-Score: 0.800000011920929</span>"
            ],
            "text/plain": [
              "<IPython.core.display.HTML object>"
            ]
          },
          "metadata": {
            "tags": []
          }
        },
        {
          "output_type": "display_data",
          "data": {
            "text/html": [
              "<span style=\"color:cyan\"> |-Best step: 0</span>"
            ],
            "text/plain": [
              "<IPython.core.display.HTML object>"
            ]
          },
          "metadata": {
            "tags": []
          }
        },
        {
          "output_type": "display_data",
          "data": {
            "text/html": [
              "<span style=\"color:#7E57C2\"><h2 style=\"font-size:16px\">Hyperparameters:</h2></span>"
            ],
            "text/plain": [
              "<IPython.core.display.HTML object>"
            ]
          },
          "metadata": {
            "tags": []
          }
        },
        {
          "output_type": "display_data",
          "data": {
            "text/html": [
              "<span style=\"color:cyan\"> |-classification_head_1/dropout_rate: 0</span>"
            ],
            "text/plain": [
              "<IPython.core.display.HTML object>"
            ]
          },
          "metadata": {
            "tags": []
          }
        },
        {
          "output_type": "display_data",
          "data": {
            "text/html": [
              "<span style=\"color:blue\"> |-optimizer: adam</span>"
            ],
            "text/plain": [
              "<IPython.core.display.HTML object>"
            ]
          },
          "metadata": {
            "tags": []
          }
        },
        {
          "output_type": "display_data",
          "data": {
            "text/html": [
              "<span style=\"color:cyan\"> |-structured_data_block_1/dense_block_1/dropout_rate: 0.0</span>"
            ],
            "text/plain": [
              "<IPython.core.display.HTML object>"
            ]
          },
          "metadata": {
            "tags": []
          }
        },
        {
          "output_type": "display_data",
          "data": {
            "text/html": [
              "<span style=\"color:blue\"> |-structured_data_block_1/dense_block_1/num_layers: 3</span>"
            ],
            "text/plain": [
              "<IPython.core.display.HTML object>"
            ]
          },
          "metadata": {
            "tags": []
          }
        },
        {
          "output_type": "display_data",
          "data": {
            "text/html": [
              "<span style=\"color:cyan\"> |-structured_data_block_1/dense_block_1/units_0: 256</span>"
            ],
            "text/plain": [
              "<IPython.core.display.HTML object>"
            ]
          },
          "metadata": {
            "tags": []
          }
        },
        {
          "output_type": "display_data",
          "data": {
            "text/html": [
              "<span style=\"color:blue\"> |-structured_data_block_1/dense_block_1/units_1: 16</span>"
            ],
            "text/plain": [
              "<IPython.core.display.HTML object>"
            ]
          },
          "metadata": {
            "tags": []
          }
        },
        {
          "output_type": "display_data",
          "data": {
            "text/html": [
              "<span style=\"color:cyan\"> |-structured_data_block_1/dense_block_1/units_2: 512</span>"
            ],
            "text/plain": [
              "<IPython.core.display.HTML object>"
            ]
          },
          "metadata": {
            "tags": []
          }
        },
        {
          "output_type": "display_data",
          "data": {
            "text/html": [
              "<span style=\"color:blue\"> |-structured_data_block_1/dense_block_1/use_batchnorm: True</span>"
            ],
            "text/plain": [
              "<IPython.core.display.HTML object>"
            ]
          },
          "metadata": {
            "tags": []
          }
        },
        {
          "output_type": "stream",
          "text": [
            "Train for 175 steps, validate for 44 steps\n",
            "Epoch 1/100\n",
            "175/175 [==============================] - 3s 15ms/step - loss: 0.5346 - accuracy: 0.7837 - val_loss: 0.5074 - val_accuracy: 0.8000\n",
            "Epoch 2/100\n",
            "175/175 [==============================] - 2s 9ms/step - loss: 0.5017 - accuracy: 0.7971 - val_loss: 0.5015 - val_accuracy: 0.8000\n",
            "Epoch 3/100\n",
            "175/175 [==============================] - 1s 8ms/step - loss: 0.4995 - accuracy: 0.7971 - val_loss: 0.4985 - val_accuracy: 0.8000\n",
            "Epoch 4/100\n",
            "175/175 [==============================] - 1s 8ms/step - loss: 0.4987 - accuracy: 0.7971 - val_loss: 0.4974 - val_accuracy: 0.8000\n",
            "Epoch 5/100\n",
            "175/175 [==============================] - 2s 9ms/step - loss: 0.4981 - accuracy: 0.7971 - val_loss: 0.4966 - val_accuracy: 0.8000\n",
            "Epoch 6/100\n",
            "175/175 [==============================] - 2s 9ms/step - loss: 0.4976 - accuracy: 0.7971 - val_loss: 0.4964 - val_accuracy: 0.8000\n",
            "Epoch 7/100\n",
            "175/175 [==============================] - 2s 9ms/step - loss: 0.4974 - accuracy: 0.7971 - val_loss: 0.4973 - val_accuracy: 0.8000\n",
            "Epoch 8/100\n",
            "175/175 [==============================] - 2s 9ms/step - loss: 0.4972 - accuracy: 0.7971 - val_loss: 0.4956 - val_accuracy: 0.8000\n",
            "Epoch 9/100\n",
            "175/175 [==============================] - 1s 8ms/step - loss: 0.4969 - accuracy: 0.7971 - val_loss: 0.4958 - val_accuracy: 0.8000\n",
            "Epoch 10/100\n",
            "175/175 [==============================] - 1s 9ms/step - loss: 0.4968 - accuracy: 0.7971 - val_loss: 0.4957 - val_accuracy: 0.8000\n",
            "Epoch 11/100\n",
            "175/175 [==============================] - 1s 9ms/step - loss: 0.4966 - accuracy: 0.7971 - val_loss: 0.4956 - val_accuracy: 0.8000\n",
            "Epoch 12/100\n",
            "175/175 [==============================] - 1s 8ms/step - loss: 0.4964 - accuracy: 0.7971 - val_loss: 0.4955 - val_accuracy: 0.8000\n",
            "Epoch 13/100\n",
            "175/175 [==============================] - 2s 9ms/step - loss: 0.4963 - accuracy: 0.7971 - val_loss: 0.4953 - val_accuracy: 0.8000\n",
            "Epoch 14/100\n",
            "175/175 [==============================] - 2s 9ms/step - loss: 0.4962 - accuracy: 0.7971 - val_loss: 0.4954 - val_accuracy: 0.8000\n",
            "Epoch 15/100\n",
            "175/175 [==============================] - 1s 9ms/step - loss: 0.4959 - accuracy: 0.7971 - val_loss: 0.4951 - val_accuracy: 0.8000\n",
            "Epoch 16/100\n",
            "175/175 [==============================] - 1s 8ms/step - loss: 0.4960 - accuracy: 0.7971 - val_loss: 0.4958 - val_accuracy: 0.8000\n",
            "Epoch 17/100\n",
            "175/175 [==============================] - 1s 8ms/step - loss: 0.4958 - accuracy: 0.7971 - val_loss: 0.4960 - val_accuracy: 0.8000\n",
            "Epoch 18/100\n",
            "175/175 [==============================] - 1s 8ms/step - loss: 0.4958 - accuracy: 0.7971 - val_loss: 0.4959 - val_accuracy: 0.8000\n",
            "Epoch 19/100\n",
            "175/175 [==============================] - 1s 8ms/step - loss: 0.4957 - accuracy: 0.7971 - val_loss: 0.4956 - val_accuracy: 0.8000\n",
            "Epoch 20/100\n",
            "175/175 [==============================] - 1s 8ms/step - loss: 0.4953 - accuracy: 0.7971 - val_loss: 0.4955 - val_accuracy: 0.8000\n",
            "Epoch 21/100\n",
            "175/175 [==============================] - 1s 8ms/step - loss: 0.4952 - accuracy: 0.7971 - val_loss: 0.4955 - val_accuracy: 0.8000\n",
            "Epoch 22/100\n",
            "175/175 [==============================] - 1s 9ms/step - loss: 0.4952 - accuracy: 0.7971 - val_loss: 0.4954 - val_accuracy: 0.8000\n",
            "Epoch 23/100\n",
            "175/175 [==============================] - 2s 9ms/step - loss: 0.4951 - accuracy: 0.7971 - val_loss: 0.4957 - val_accuracy: 0.8000\n",
            "Epoch 24/100\n",
            "175/175 [==============================] - 2s 9ms/step - loss: 0.4950 - accuracy: 0.7971 - val_loss: 0.4957 - val_accuracy: 0.8000\n",
            "Epoch 25/100\n",
            "175/175 [==============================] - 1s 8ms/step - loss: 0.4948 - accuracy: 0.7971 - val_loss: 0.4959 - val_accuracy: 0.8000\n"
          ],
          "name": "stdout"
        },
        {
          "output_type": "display_data",
          "data": {
            "text/html": [
              "<span style=\"color:#4527A0\"><h1 style=\"font-size:18px\">Trial complete</h1></span>"
            ],
            "text/plain": [
              "<IPython.core.display.HTML object>"
            ]
          },
          "metadata": {
            "tags": []
          }
        },
        {
          "output_type": "display_data",
          "data": {
            "text/html": [
              "<span style=\"color:#4527A0\"><h1 style=\"font-size:18px\">Trial summary</h1></span>"
            ],
            "text/plain": [
              "<IPython.core.display.HTML object>"
            ]
          },
          "metadata": {
            "tags": []
          }
        },
        {
          "output_type": "display_data",
          "data": {
            "text/html": [
              "<span style=\"color:cyan\"> |-Trial ID: 92d4fd4cb93fe286542a3f200876ec1d</span>"
            ],
            "text/plain": [
              "<IPython.core.display.HTML object>"
            ]
          },
          "metadata": {
            "tags": []
          }
        },
        {
          "output_type": "display_data",
          "data": {
            "text/html": [
              "<span style=\"color:cyan\"> |-Score: 0.800000011920929</span>"
            ],
            "text/plain": [
              "<IPython.core.display.HTML object>"
            ]
          },
          "metadata": {
            "tags": []
          }
        },
        {
          "output_type": "display_data",
          "data": {
            "text/html": [
              "<span style=\"color:cyan\"> |-Best step: 0</span>"
            ],
            "text/plain": [
              "<IPython.core.display.HTML object>"
            ]
          },
          "metadata": {
            "tags": []
          }
        },
        {
          "output_type": "display_data",
          "data": {
            "text/html": [
              "<span style=\"color:#7E57C2\"><h2 style=\"font-size:16px\">Hyperparameters:</h2></span>"
            ],
            "text/plain": [
              "<IPython.core.display.HTML object>"
            ]
          },
          "metadata": {
            "tags": []
          }
        },
        {
          "output_type": "display_data",
          "data": {
            "text/html": [
              "<span style=\"color:cyan\"> |-classification_head_1/dropout_rate: 0</span>"
            ],
            "text/plain": [
              "<IPython.core.display.HTML object>"
            ]
          },
          "metadata": {
            "tags": []
          }
        },
        {
          "output_type": "display_data",
          "data": {
            "text/html": [
              "<span style=\"color:blue\"> |-optimizer: adam</span>"
            ],
            "text/plain": [
              "<IPython.core.display.HTML object>"
            ]
          },
          "metadata": {
            "tags": []
          }
        },
        {
          "output_type": "display_data",
          "data": {
            "text/html": [
              "<span style=\"color:cyan\"> |-structured_data_block_1/dense_block_1/dropout_rate: 0.0</span>"
            ],
            "text/plain": [
              "<IPython.core.display.HTML object>"
            ]
          },
          "metadata": {
            "tags": []
          }
        },
        {
          "output_type": "display_data",
          "data": {
            "text/html": [
              "<span style=\"color:blue\"> |-structured_data_block_1/dense_block_1/num_layers: 3</span>"
            ],
            "text/plain": [
              "<IPython.core.display.HTML object>"
            ]
          },
          "metadata": {
            "tags": []
          }
        },
        {
          "output_type": "display_data",
          "data": {
            "text/html": [
              "<span style=\"color:cyan\"> |-structured_data_block_1/dense_block_1/units_0: 128</span>"
            ],
            "text/plain": [
              "<IPython.core.display.HTML object>"
            ]
          },
          "metadata": {
            "tags": []
          }
        },
        {
          "output_type": "display_data",
          "data": {
            "text/html": [
              "<span style=\"color:blue\"> |-structured_data_block_1/dense_block_1/units_1: 1024</span>"
            ],
            "text/plain": [
              "<IPython.core.display.HTML object>"
            ]
          },
          "metadata": {
            "tags": []
          }
        },
        {
          "output_type": "display_data",
          "data": {
            "text/html": [
              "<span style=\"color:cyan\"> |-structured_data_block_1/dense_block_1/units_2: 16</span>"
            ],
            "text/plain": [
              "<IPython.core.display.HTML object>"
            ]
          },
          "metadata": {
            "tags": []
          }
        },
        {
          "output_type": "display_data",
          "data": {
            "text/html": [
              "<span style=\"color:blue\"> |-structured_data_block_1/dense_block_1/use_batchnorm: True</span>"
            ],
            "text/plain": [
              "<IPython.core.display.HTML object>"
            ]
          },
          "metadata": {
            "tags": []
          }
        },
        {
          "output_type": "stream",
          "text": [
            "Train for 175 steps, validate for 44 steps\n",
            "Epoch 1/100\n",
            "175/175 [==============================] - 2s 10ms/step - loss: 178827.1466 - accuracy: 0.6832 - val_loss: 53277.8729 - val_accuracy: 0.8000\n",
            "Epoch 2/100\n",
            "175/175 [==============================] - 1s 7ms/step - loss: 57267.6553 - accuracy: 0.6927 - val_loss: 12409.4862 - val_accuracy: 0.8000\n",
            "Epoch 3/100\n",
            "175/175 [==============================] - 1s 7ms/step - loss: 25025.6446 - accuracy: 0.6784 - val_loss: 3577.0773 - val_accuracy: 0.8000\n",
            "Epoch 4/100\n",
            "175/175 [==============================] - 1s 7ms/step - loss: 11791.3866 - accuracy: 0.6879 - val_loss: 886.1657 - val_accuracy: 0.8000\n",
            "Epoch 5/100\n",
            "175/175 [==============================] - 1s 7ms/step - loss: 6240.2582 - accuracy: 0.6787 - val_loss: 372.5961 - val_accuracy: 0.8000\n",
            "Epoch 6/100\n",
            "175/175 [==============================] - 1s 7ms/step - loss: 3469.5646 - accuracy: 0.6804 - val_loss: 251.6625 - val_accuracy: 0.8000\n",
            "Epoch 7/100\n",
            "175/175 [==============================] - 1s 7ms/step - loss: 2099.3567 - accuracy: 0.6795 - val_loss: 140.0011 - val_accuracy: 0.8000\n",
            "Epoch 8/100\n",
            "175/175 [==============================] - 1s 7ms/step - loss: 1306.3840 - accuracy: 0.6770 - val_loss: 38.4358 - val_accuracy: 0.7300\n",
            "Epoch 9/100\n",
            "175/175 [==============================] - 1s 7ms/step - loss: 814.1610 - accuracy: 0.6852 - val_loss: 6.6065 - val_accuracy: 0.4471\n",
            "Epoch 10/100\n",
            "175/175 [==============================] - 1s 8ms/step - loss: 629.0017 - accuracy: 0.6593 - val_loss: 4.2729 - val_accuracy: 0.8000\n",
            "Epoch 11/100\n",
            "175/175 [==============================] - 1s 8ms/step - loss: 456.2345 - accuracy: 0.6677 - val_loss: 0.8284 - val_accuracy: 0.7836\n",
            "Epoch 12/100\n",
            "175/175 [==============================] - 1s 8ms/step - loss: 365.1523 - accuracy: 0.6721 - val_loss: 0.8678 - val_accuracy: 0.8000\n",
            "Epoch 13/100\n",
            "175/175 [==============================] - 1s 8ms/step - loss: 301.3815 - accuracy: 0.6720 - val_loss: 0.6076 - val_accuracy: 0.8000\n",
            "Epoch 14/100\n",
            "175/175 [==============================] - 1s 8ms/step - loss: 212.9476 - accuracy: 0.6827 - val_loss: 0.5864 - val_accuracy: 0.8000\n",
            "Epoch 15/100\n",
            "175/175 [==============================] - 1s 8ms/step - loss: 160.5674 - accuracy: 0.6913 - val_loss: 0.5674 - val_accuracy: 0.8000\n",
            "Epoch 16/100\n",
            "175/175 [==============================] - 1s 8ms/step - loss: 131.8215 - accuracy: 0.6961 - val_loss: 0.5511 - val_accuracy: 0.8000\n",
            "Epoch 17/100\n",
            "175/175 [==============================] - 1s 8ms/step - loss: 125.6907 - accuracy: 0.6955 - val_loss: 0.5355 - val_accuracy: 0.8000\n",
            "Epoch 18/100\n",
            "175/175 [==============================] - 1s 7ms/step - loss: 109.3428 - accuracy: 0.7114 - val_loss: 0.5246 - val_accuracy: 0.8000\n",
            "Epoch 19/100\n",
            "175/175 [==============================] - 1s 7ms/step - loss: 85.8370 - accuracy: 0.7191 - val_loss: 0.5160 - val_accuracy: 0.8000\n",
            "Epoch 20/100\n",
            "175/175 [==============================] - 1s 7ms/step - loss: 68.1831 - accuracy: 0.7236 - val_loss: 0.5094 - val_accuracy: 0.8000\n",
            "Epoch 21/100\n",
            "175/175 [==============================] - 1s 7ms/step - loss: 77.4434 - accuracy: 0.7323 - val_loss: 0.5051 - val_accuracy: 0.8000\n",
            "Epoch 22/100\n",
            "175/175 [==============================] - 1s 7ms/step - loss: 65.0668 - accuracy: 0.7405 - val_loss: 0.5032 - val_accuracy: 0.8000\n",
            "Epoch 23/100\n",
            "175/175 [==============================] - 1s 7ms/step - loss: 51.2030 - accuracy: 0.7484 - val_loss: 0.5020 - val_accuracy: 0.8000\n",
            "Epoch 24/100\n",
            "175/175 [==============================] - 1s 7ms/step - loss: 37.8739 - accuracy: 0.7596 - val_loss: 0.5012 - val_accuracy: 0.8000\n",
            "Epoch 25/100\n",
            "175/175 [==============================] - 1s 7ms/step - loss: 40.4591 - accuracy: 0.7552 - val_loss: 0.5005 - val_accuracy: 0.8000\n",
            "Epoch 26/100\n",
            "175/175 [==============================] - 1s 7ms/step - loss: 34.8155 - accuracy: 0.7643 - val_loss: 0.5003 - val_accuracy: 0.8000\n",
            "Epoch 27/100\n",
            "175/175 [==============================] - 1s 7ms/step - loss: 28.4066 - accuracy: 0.7698 - val_loss: 0.5002 - val_accuracy: 0.8000\n",
            "Epoch 28/100\n",
            "175/175 [==============================] - 1s 7ms/step - loss: 29.0239 - accuracy: 0.7668 - val_loss: 0.5001 - val_accuracy: 0.8000\n",
            "Epoch 29/100\n",
            "175/175 [==============================] - 1s 7ms/step - loss: 19.3152 - accuracy: 0.7757 - val_loss: 0.5001 - val_accuracy: 0.8000\n",
            "Epoch 30/100\n",
            "175/175 [==============================] - 1s 7ms/step - loss: 19.7684 - accuracy: 0.7766 - val_loss: 0.5001 - val_accuracy: 0.8000\n",
            "Epoch 31/100\n",
            "175/175 [==============================] - 1s 7ms/step - loss: 29.6050 - accuracy: 0.7763 - val_loss: 0.5002 - val_accuracy: 0.8000\n",
            "Epoch 32/100\n",
            "175/175 [==============================] - 1s 7ms/step - loss: 22.1648 - accuracy: 0.7798 - val_loss: 0.5002 - val_accuracy: 0.8000\n",
            "Epoch 33/100\n",
            "175/175 [==============================] - 1s 7ms/step - loss: 24.5580 - accuracy: 0.7750 - val_loss: 0.5002 - val_accuracy: 0.8000\n",
            "Epoch 34/100\n",
            "175/175 [==============================] - 1s 7ms/step - loss: 17.2260 - accuracy: 0.7820 - val_loss: 0.5002 - val_accuracy: 0.8000\n",
            "Epoch 35/100\n",
            "175/175 [==============================] - 1s 7ms/step - loss: 10.4066 - accuracy: 0.7877 - val_loss: 0.5002 - val_accuracy: 0.8000\n",
            "Epoch 36/100\n",
            "175/175 [==============================] - 1s 7ms/step - loss: 19.5228 - accuracy: 0.7868 - val_loss: 0.5002 - val_accuracy: 0.8000\n",
            "Epoch 37/100\n",
            "175/175 [==============================] - 1s 7ms/step - loss: 13.2403 - accuracy: 0.7868 - val_loss: 0.5001 - val_accuracy: 0.8000\n",
            "Epoch 38/100\n",
            "175/175 [==============================] - 1s 7ms/step - loss: 12.8621 - accuracy: 0.7859 - val_loss: 0.5001 - val_accuracy: 0.8000\n",
            "Epoch 39/100\n",
            "175/175 [==============================] - 1s 7ms/step - loss: 5.2195 - accuracy: 0.7871 - val_loss: 0.5001 - val_accuracy: 0.8000\n"
          ],
          "name": "stdout"
        },
        {
          "output_type": "display_data",
          "data": {
            "text/html": [
              "<span style=\"color:#4527A0\"><h1 style=\"font-size:18px\">Trial complete</h1></span>"
            ],
            "text/plain": [
              "<IPython.core.display.HTML object>"
            ]
          },
          "metadata": {
            "tags": []
          }
        },
        {
          "output_type": "display_data",
          "data": {
            "text/html": [
              "<span style=\"color:#4527A0\"><h1 style=\"font-size:18px\">Trial summary</h1></span>"
            ],
            "text/plain": [
              "<IPython.core.display.HTML object>"
            ]
          },
          "metadata": {
            "tags": []
          }
        },
        {
          "output_type": "display_data",
          "data": {
            "text/html": [
              "<span style=\"color:cyan\"> |-Trial ID: d2169ac5185db8d5c7d1cb89e1e135a4</span>"
            ],
            "text/plain": [
              "<IPython.core.display.HTML object>"
            ]
          },
          "metadata": {
            "tags": []
          }
        },
        {
          "output_type": "display_data",
          "data": {
            "text/html": [
              "<span style=\"color:cyan\"> |-Score: 0.800000011920929</span>"
            ],
            "text/plain": [
              "<IPython.core.display.HTML object>"
            ]
          },
          "metadata": {
            "tags": []
          }
        },
        {
          "output_type": "display_data",
          "data": {
            "text/html": [
              "<span style=\"color:cyan\"> |-Best step: 0</span>"
            ],
            "text/plain": [
              "<IPython.core.display.HTML object>"
            ]
          },
          "metadata": {
            "tags": []
          }
        },
        {
          "output_type": "display_data",
          "data": {
            "text/html": [
              "<span style=\"color:#7E57C2\"><h2 style=\"font-size:16px\">Hyperparameters:</h2></span>"
            ],
            "text/plain": [
              "<IPython.core.display.HTML object>"
            ]
          },
          "metadata": {
            "tags": []
          }
        },
        {
          "output_type": "display_data",
          "data": {
            "text/html": [
              "<span style=\"color:cyan\"> |-classification_head_1/dropout_rate: 0</span>"
            ],
            "text/plain": [
              "<IPython.core.display.HTML object>"
            ]
          },
          "metadata": {
            "tags": []
          }
        },
        {
          "output_type": "display_data",
          "data": {
            "text/html": [
              "<span style=\"color:blue\"> |-optimizer: adam</span>"
            ],
            "text/plain": [
              "<IPython.core.display.HTML object>"
            ]
          },
          "metadata": {
            "tags": []
          }
        },
        {
          "output_type": "display_data",
          "data": {
            "text/html": [
              "<span style=\"color:cyan\"> |-structured_data_block_1/dense_block_1/dropout_rate: 0.5</span>"
            ],
            "text/plain": [
              "<IPython.core.display.HTML object>"
            ]
          },
          "metadata": {
            "tags": []
          }
        },
        {
          "output_type": "display_data",
          "data": {
            "text/html": [
              "<span style=\"color:blue\"> |-structured_data_block_1/dense_block_1/num_layers: 2</span>"
            ],
            "text/plain": [
              "<IPython.core.display.HTML object>"
            ]
          },
          "metadata": {
            "tags": []
          }
        },
        {
          "output_type": "display_data",
          "data": {
            "text/html": [
              "<span style=\"color:cyan\"> |-structured_data_block_1/dense_block_1/units_0: 128</span>"
            ],
            "text/plain": [
              "<IPython.core.display.HTML object>"
            ]
          },
          "metadata": {
            "tags": []
          }
        },
        {
          "output_type": "display_data",
          "data": {
            "text/html": [
              "<span style=\"color:blue\"> |-structured_data_block_1/dense_block_1/units_1: 1024</span>"
            ],
            "text/plain": [
              "<IPython.core.display.HTML object>"
            ]
          },
          "metadata": {
            "tags": []
          }
        },
        {
          "output_type": "display_data",
          "data": {
            "text/html": [
              "<span style=\"color:cyan\"> |-structured_data_block_1/dense_block_1/units_2: 32</span>"
            ],
            "text/plain": [
              "<IPython.core.display.HTML object>"
            ]
          },
          "metadata": {
            "tags": []
          }
        },
        {
          "output_type": "display_data",
          "data": {
            "text/html": [
              "<span style=\"color:blue\"> |-structured_data_block_1/dense_block_1/use_batchnorm: False</span>"
            ],
            "text/plain": [
              "<IPython.core.display.HTML object>"
            ]
          },
          "metadata": {
            "tags": []
          }
        },
        {
          "output_type": "stream",
          "text": [
            "Train for 175 steps, validate for 44 steps\n",
            "Epoch 1/100\n",
            "175/175 [==============================] - 1s 7ms/step - loss: 290082.5729 - accuracy: 0.6711 - val_loss: 106737.3434 - val_accuracy: 0.8000\n",
            "Epoch 2/100\n",
            "175/175 [==============================] - 1s 4ms/step - loss: 137620.2174 - accuracy: 0.6768 - val_loss: 66820.0991 - val_accuracy: 0.8000\n",
            "Epoch 3/100\n",
            "175/175 [==============================] - 1s 3ms/step - loss: 58444.3603 - accuracy: 0.6787 - val_loss: 20760.1661 - val_accuracy: 0.8000\n",
            "Epoch 4/100\n",
            "175/175 [==============================] - 1s 3ms/step - loss: 23068.5147 - accuracy: 0.6798 - val_loss: 9264.0500 - val_accuracy: 0.8000\n",
            "Epoch 5/100\n",
            "175/175 [==============================] - 1s 3ms/step - loss: 7868.7930 - accuracy: 0.6802 - val_loss: 4118.4234 - val_accuracy: 0.8000\n",
            "Epoch 6/100\n",
            "175/175 [==============================] - 1s 3ms/step - loss: 3770.7174 - accuracy: 0.6777 - val_loss: 1586.0778 - val_accuracy: 0.7629\n",
            "Epoch 7/100\n",
            "175/175 [==============================] - 1s 3ms/step - loss: 2365.8431 - accuracy: 0.6709 - val_loss: 1735.1904 - val_accuracy: 0.8000\n",
            "Epoch 8/100\n",
            "175/175 [==============================] - 1s 3ms/step - loss: 1766.8674 - accuracy: 0.6698 - val_loss: 1533.4783 - val_accuracy: 0.8000\n",
            "Epoch 9/100\n",
            "175/175 [==============================] - 1s 3ms/step - loss: 1450.5802 - accuracy: 0.6777 - val_loss: 1026.7704 - val_accuracy: 0.8000\n",
            "Epoch 10/100\n",
            "175/175 [==============================] - 1s 4ms/step - loss: 1470.9590 - accuracy: 0.6864 - val_loss: 940.2678 - val_accuracy: 0.8000\n",
            "Epoch 11/100\n",
            "175/175 [==============================] - 1s 3ms/step - loss: 1421.2138 - accuracy: 0.6820 - val_loss: 389.6949 - val_accuracy: 0.6964\n",
            "Epoch 12/100\n",
            "175/175 [==============================] - 1s 3ms/step - loss: 1169.6243 - accuracy: 0.6693 - val_loss: 513.5098 - val_accuracy: 0.8000\n",
            "Epoch 13/100\n",
            "175/175 [==============================] - 1s 3ms/step - loss: 926.4408 - accuracy: 0.6845 - val_loss: 556.0051 - val_accuracy: 0.5357\n",
            "Epoch 14/100\n",
            "175/175 [==============================] - 1s 3ms/step - loss: 862.7228 - accuracy: 0.6766 - val_loss: 304.5375 - val_accuracy: 0.6621\n",
            "Epoch 15/100\n",
            "175/175 [==============================] - 1s 3ms/step - loss: 845.0199 - accuracy: 0.6802 - val_loss: 349.0628 - val_accuracy: 0.5586\n",
            "Epoch 16/100\n",
            "175/175 [==============================] - 1s 3ms/step - loss: 590.3744 - accuracy: 0.6782 - val_loss: 220.3034 - val_accuracy: 0.6507\n",
            "Epoch 17/100\n",
            "175/175 [==============================] - 1s 4ms/step - loss: 532.4232 - accuracy: 0.6764 - val_loss: 240.0264 - val_accuracy: 0.5636\n",
            "Epoch 18/100\n",
            "175/175 [==============================] - 1s 3ms/step - loss: 386.4842 - accuracy: 0.6682 - val_loss: 192.7928 - val_accuracy: 0.7757\n",
            "Epoch 19/100\n",
            "175/175 [==============================] - 1s 4ms/step - loss: 311.2585 - accuracy: 0.6759 - val_loss: 184.0050 - val_accuracy: 0.7307\n",
            "Epoch 20/100\n",
            "175/175 [==============================] - 1s 4ms/step - loss: 298.8133 - accuracy: 0.6820 - val_loss: 95.5478 - val_accuracy: 0.7929\n",
            "Epoch 21/100\n",
            "175/175 [==============================] - 1s 4ms/step - loss: 237.6800 - accuracy: 0.6852 - val_loss: 128.0737 - val_accuracy: 0.6079\n",
            "Epoch 22/100\n",
            "175/175 [==============================] - 1s 3ms/step - loss: 172.5009 - accuracy: 0.6741 - val_loss: 158.2712 - val_accuracy: 0.7014\n",
            "Epoch 23/100\n",
            "175/175 [==============================] - 1s 3ms/step - loss: 130.2382 - accuracy: 0.6743 - val_loss: 45.8905 - val_accuracy: 0.7800\n",
            "Epoch 24/100\n",
            "175/175 [==============================] - 1s 3ms/step - loss: 130.7714 - accuracy: 0.6784 - val_loss: 28.3504 - val_accuracy: 0.7350\n",
            "Epoch 25/100\n",
            "175/175 [==============================] - 1s 4ms/step - loss: 95.9055 - accuracy: 0.6957 - val_loss: 84.0937 - val_accuracy: 0.7543\n",
            "Epoch 26/100\n",
            "175/175 [==============================] - 1s 3ms/step - loss: 69.0613 - accuracy: 0.7198 - val_loss: 50.3233 - val_accuracy: 0.7371\n",
            "Epoch 27/100\n",
            "175/175 [==============================] - 1s 3ms/step - loss: 53.5040 - accuracy: 0.7214 - val_loss: 57.4775 - val_accuracy: 0.7979\n",
            "Epoch 28/100\n",
            "175/175 [==============================] - 1s 4ms/step - loss: 36.1226 - accuracy: 0.7355 - val_loss: 26.5293 - val_accuracy: 0.7286\n",
            "Epoch 29/100\n",
            "175/175 [==============================] - 1s 3ms/step - loss: 31.9630 - accuracy: 0.7311 - val_loss: 28.4539 - val_accuracy: 0.7836\n",
            "Epoch 30/100\n",
            "175/175 [==============================] - 1s 3ms/step - loss: 21.0003 - accuracy: 0.7377 - val_loss: 9.3018 - val_accuracy: 0.8000\n",
            "Epoch 31/100\n",
            "175/175 [==============================] - 1s 3ms/step - loss: 12.8110 - accuracy: 0.7421 - val_loss: 10.0797 - val_accuracy: 0.7907\n",
            "Epoch 32/100\n",
            "175/175 [==============================] - 1s 4ms/step - loss: 8.5085 - accuracy: 0.7389 - val_loss: 2.4684 - val_accuracy: 0.7914\n",
            "Epoch 33/100\n",
            "175/175 [==============================] - 1s 4ms/step - loss: 4.6695 - accuracy: 0.7521 - val_loss: 2.5827 - val_accuracy: 0.8000\n",
            "Epoch 34/100\n",
            "175/175 [==============================] - 1s 3ms/step - loss: 2.5474 - accuracy: 0.7532 - val_loss: 2.5030 - val_accuracy: 0.8000\n",
            "Epoch 35/100\n",
            "175/175 [==============================] - 1s 3ms/step - loss: 1.8030 - accuracy: 0.7570 - val_loss: 1.4988 - val_accuracy: 0.8000\n",
            "Epoch 36/100\n",
            "175/175 [==============================] - 1s 3ms/step - loss: 1.1202 - accuracy: 0.7714 - val_loss: 0.6773 - val_accuracy: 0.7864\n",
            "Epoch 37/100\n",
            "175/175 [==============================] - 1s 3ms/step - loss: 0.8125 - accuracy: 0.7812 - val_loss: 0.7064 - val_accuracy: 0.8000\n",
            "Epoch 38/100\n",
            "175/175 [==============================] - 1s 3ms/step - loss: 0.6690 - accuracy: 0.7850 - val_loss: 0.5117 - val_accuracy: 0.8000\n",
            "Epoch 39/100\n",
            "175/175 [==============================] - 1s 3ms/step - loss: 0.5612 - accuracy: 0.7941 - val_loss: 0.6058 - val_accuracy: 0.8000\n",
            "Epoch 40/100\n",
            "175/175 [==============================] - 1s 4ms/step - loss: 0.5540 - accuracy: 0.7936 - val_loss: 0.5239 - val_accuracy: 0.8000\n",
            "Epoch 41/100\n",
            "175/175 [==============================] - 1s 4ms/step - loss: 0.5285 - accuracy: 0.7961 - val_loss: 0.5110 - val_accuracy: 0.8000\n",
            "Epoch 42/100\n",
            "175/175 [==============================] - 1s 3ms/step - loss: 0.5228 - accuracy: 0.7954 - val_loss: 0.5108 - val_accuracy: 0.8000\n",
            "Epoch 43/100\n",
            "175/175 [==============================] - 1s 3ms/step - loss: 0.5154 - accuracy: 0.7959 - val_loss: 0.5068 - val_accuracy: 0.8000\n",
            "Epoch 44/100\n",
            "175/175 [==============================] - 1s 3ms/step - loss: 0.5077 - accuracy: 0.7968 - val_loss: 0.5016 - val_accuracy: 0.7979\n",
            "Epoch 45/100\n",
            "175/175 [==============================] - 1s 4ms/step - loss: 0.5036 - accuracy: 0.7961 - val_loss: 0.4994 - val_accuracy: 0.8007\n",
            "Epoch 46/100\n",
            "175/175 [==============================] - 1s 3ms/step - loss: 0.5063 - accuracy: 0.7964 - val_loss: 0.4986 - val_accuracy: 0.8000\n",
            "Epoch 47/100\n",
            "175/175 [==============================] - 1s 3ms/step - loss: 0.5032 - accuracy: 0.7968 - val_loss: 0.4990 - val_accuracy: 0.8000\n",
            "Epoch 48/100\n",
            "175/175 [==============================] - 1s 3ms/step - loss: 0.5030 - accuracy: 0.7970 - val_loss: 0.4983 - val_accuracy: 0.8000\n",
            "Epoch 49/100\n",
            "175/175 [==============================] - 1s 3ms/step - loss: 0.5026 - accuracy: 0.7970 - val_loss: 0.4997 - val_accuracy: 0.8000\n",
            "Epoch 50/100\n",
            "175/175 [==============================] - 1s 4ms/step - loss: 0.5064 - accuracy: 0.7968 - val_loss: 0.5007 - val_accuracy: 0.8000\n",
            "Epoch 51/100\n",
            "175/175 [==============================] - 1s 3ms/step - loss: 0.5023 - accuracy: 0.7971 - val_loss: 0.5010 - val_accuracy: 0.8000\n",
            "Epoch 52/100\n",
            "175/175 [==============================] - 1s 3ms/step - loss: 0.5021 - accuracy: 0.7971 - val_loss: 0.5004 - val_accuracy: 0.8000\n",
            "Epoch 53/100\n",
            "175/175 [==============================] - 1s 4ms/step - loss: 0.5019 - accuracy: 0.7971 - val_loss: 0.4991 - val_accuracy: 0.8000\n",
            "Epoch 54/100\n",
            "175/175 [==============================] - 1s 3ms/step - loss: 0.5054 - accuracy: 0.7971 - val_loss: 0.5055 - val_accuracy: 0.8000\n",
            "Epoch 55/100\n",
            "175/175 [==============================] - 1s 4ms/step - loss: 0.5049 - accuracy: 0.7971 - val_loss: 0.5051 - val_accuracy: 0.8000\n",
            "Epoch 56/100\n",
            "175/175 [==============================] - 1s 3ms/step - loss: 0.5047 - accuracy: 0.7971 - val_loss: 0.5045 - val_accuracy: 0.8000\n",
            "Epoch 57/100\n",
            "175/175 [==============================] - 1s 4ms/step - loss: 0.5043 - accuracy: 0.7970 - val_loss: 0.5045 - val_accuracy: 0.8000\n",
            "Epoch 58/100\n",
            "175/175 [==============================] - 1s 3ms/step - loss: 0.5038 - accuracy: 0.7971 - val_loss: 0.5047 - val_accuracy: 0.8000\n"
          ],
          "name": "stdout"
        },
        {
          "output_type": "display_data",
          "data": {
            "text/html": [
              "<span style=\"color:#4527A0\"><h1 style=\"font-size:18px\">Trial complete</h1></span>"
            ],
            "text/plain": [
              "<IPython.core.display.HTML object>"
            ]
          },
          "metadata": {
            "tags": []
          }
        },
        {
          "output_type": "display_data",
          "data": {
            "text/html": [
              "<span style=\"color:#4527A0\"><h1 style=\"font-size:18px\">Trial summary</h1></span>"
            ],
            "text/plain": [
              "<IPython.core.display.HTML object>"
            ]
          },
          "metadata": {
            "tags": []
          }
        },
        {
          "output_type": "display_data",
          "data": {
            "text/html": [
              "<span style=\"color:cyan\"> |-Trial ID: 863a6462a863e3c9ce9c059392705e82</span>"
            ],
            "text/plain": [
              "<IPython.core.display.HTML object>"
            ]
          },
          "metadata": {
            "tags": []
          }
        },
        {
          "output_type": "display_data",
          "data": {
            "text/html": [
              "<span style=\"color:cyan\"> |-Score: 0.8007143139839172</span>"
            ],
            "text/plain": [
              "<IPython.core.display.HTML object>"
            ]
          },
          "metadata": {
            "tags": []
          }
        },
        {
          "output_type": "display_data",
          "data": {
            "text/html": [
              "<span style=\"color:cyan\"> |-Best step: 0</span>"
            ],
            "text/plain": [
              "<IPython.core.display.HTML object>"
            ]
          },
          "metadata": {
            "tags": []
          }
        },
        {
          "output_type": "display_data",
          "data": {
            "text/html": [
              "<span style=\"color:#7E57C2\"><h2 style=\"font-size:16px\">Hyperparameters:</h2></span>"
            ],
            "text/plain": [
              "<IPython.core.display.HTML object>"
            ]
          },
          "metadata": {
            "tags": []
          }
        },
        {
          "output_type": "display_data",
          "data": {
            "text/html": [
              "<span style=\"color:cyan\"> |-classification_head_1/dropout_rate: 0</span>"
            ],
            "text/plain": [
              "<IPython.core.display.HTML object>"
            ]
          },
          "metadata": {
            "tags": []
          }
        },
        {
          "output_type": "display_data",
          "data": {
            "text/html": [
              "<span style=\"color:blue\"> |-optimizer: adam</span>"
            ],
            "text/plain": [
              "<IPython.core.display.HTML object>"
            ]
          },
          "metadata": {
            "tags": []
          }
        },
        {
          "output_type": "display_data",
          "data": {
            "text/html": [
              "<span style=\"color:cyan\"> |-structured_data_block_1/dense_block_1/dropout_rate: 0.5</span>"
            ],
            "text/plain": [
              "<IPython.core.display.HTML object>"
            ]
          },
          "metadata": {
            "tags": []
          }
        },
        {
          "output_type": "display_data",
          "data": {
            "text/html": [
              "<span style=\"color:blue\"> |-structured_data_block_1/dense_block_1/num_layers: 1</span>"
            ],
            "text/plain": [
              "<IPython.core.display.HTML object>"
            ]
          },
          "metadata": {
            "tags": []
          }
        },
        {
          "output_type": "display_data",
          "data": {
            "text/html": [
              "<span style=\"color:cyan\"> |-structured_data_block_1/dense_block_1/units_0: 256</span>"
            ],
            "text/plain": [
              "<IPython.core.display.HTML object>"
            ]
          },
          "metadata": {
            "tags": []
          }
        },
        {
          "output_type": "display_data",
          "data": {
            "text/html": [
              "<span style=\"color:blue\"> |-structured_data_block_1/dense_block_1/units_1: 32</span>"
            ],
            "text/plain": [
              "<IPython.core.display.HTML object>"
            ]
          },
          "metadata": {
            "tags": []
          }
        },
        {
          "output_type": "display_data",
          "data": {
            "text/html": [
              "<span style=\"color:cyan\"> |-structured_data_block_1/dense_block_1/units_2: 1024</span>"
            ],
            "text/plain": [
              "<IPython.core.display.HTML object>"
            ]
          },
          "metadata": {
            "tags": []
          }
        },
        {
          "output_type": "display_data",
          "data": {
            "text/html": [
              "<span style=\"color:blue\"> |-structured_data_block_1/dense_block_1/use_batchnorm: False</span>"
            ],
            "text/plain": [
              "<IPython.core.display.HTML object>"
            ]
          },
          "metadata": {
            "tags": []
          }
        },
        {
          "output_type": "stream",
          "text": [
            "Train for 175 steps, validate for 44 steps\n",
            "Epoch 1/100\n",
            "175/175 [==============================] - 2s 10ms/step - loss: 15186.0526 - accuracy: 0.7152 - val_loss: 0.5038 - val_accuracy: 0.8000\n",
            "Epoch 2/100\n",
            "175/175 [==============================] - 1s 5ms/step - loss: 297.4702 - accuracy: 0.7859 - val_loss: 0.5006 - val_accuracy: 0.8000\n",
            "Epoch 3/100\n",
            "175/175 [==============================] - 1s 6ms/step - loss: 96.2873 - accuracy: 0.7934 - val_loss: 0.5004 - val_accuracy: 0.8000\n",
            "Epoch 4/100\n",
            "175/175 [==============================] - 1s 5ms/step - loss: 52.1034 - accuracy: 0.7961 - val_loss: 0.5004 - val_accuracy: 0.8000\n",
            "Epoch 5/100\n",
            "175/175 [==============================] - 1s 6ms/step - loss: 32.9519 - accuracy: 0.7957 - val_loss: 0.5004 - val_accuracy: 0.8000\n",
            "Epoch 6/100\n",
            "175/175 [==============================] - 1s 6ms/step - loss: 53.7961 - accuracy: 0.7952 - val_loss: 0.5004 - val_accuracy: 0.8000\n",
            "Epoch 7/100\n",
            "175/175 [==============================] - 1s 6ms/step - loss: 21.1714 - accuracy: 0.7968 - val_loss: 0.5003 - val_accuracy: 0.8000\n",
            "Epoch 8/100\n",
            "175/175 [==============================] - 1s 5ms/step - loss: 8.4138 - accuracy: 0.7968 - val_loss: 0.5004 - val_accuracy: 0.8000\n",
            "Epoch 9/100\n",
            "175/175 [==============================] - 1s 6ms/step - loss: 8.8236 - accuracy: 0.7968 - val_loss: 0.5003 - val_accuracy: 0.8000\n",
            "Epoch 10/100\n",
            "175/175 [==============================] - 1s 6ms/step - loss: 11.3686 - accuracy: 0.7966 - val_loss: 0.5003 - val_accuracy: 0.8000\n",
            "Epoch 11/100\n",
            "175/175 [==============================] - 1s 6ms/step - loss: 3.5123 - accuracy: 0.7971 - val_loss: 0.5003 - val_accuracy: 0.8000\n",
            "Epoch 12/100\n",
            "175/175 [==============================] - 1s 6ms/step - loss: 0.5176 - accuracy: 0.7971 - val_loss: 0.5004 - val_accuracy: 0.8000\n",
            "Epoch 13/100\n",
            "175/175 [==============================] - 1s 6ms/step - loss: 8.0090 - accuracy: 0.7968 - val_loss: 0.5004 - val_accuracy: 0.8000\n",
            "Epoch 14/100\n",
            "175/175 [==============================] - 1s 6ms/step - loss: 2.7677 - accuracy: 0.7964 - val_loss: 0.5004 - val_accuracy: 0.8000\n",
            "Epoch 15/100\n",
            "175/175 [==============================] - 1s 6ms/step - loss: 2.2822 - accuracy: 0.7970 - val_loss: 0.5004 - val_accuracy: 0.8000\n",
            "Epoch 16/100\n",
            "175/175 [==============================] - 1s 6ms/step - loss: 16.4606 - accuracy: 0.7968 - val_loss: 0.5003 - val_accuracy: 0.8000\n",
            "Epoch 17/100\n",
            "175/175 [==============================] - 1s 6ms/step - loss: 1.4581 - accuracy: 0.7973 - val_loss: 0.5004 - val_accuracy: 0.8000\n",
            "Epoch 18/100\n",
            "175/175 [==============================] - 1s 6ms/step - loss: 0.5543 - accuracy: 0.7971 - val_loss: 0.5004 - val_accuracy: 0.8000\n",
            "Epoch 19/100\n",
            "175/175 [==============================] - 1s 5ms/step - loss: 0.5046 - accuracy: 0.7971 - val_loss: 0.5004 - val_accuracy: 0.8000\n",
            "Epoch 20/100\n",
            "175/175 [==============================] - 1s 5ms/step - loss: 1.9455 - accuracy: 0.7971 - val_loss: 0.5004 - val_accuracy: 0.8000\n",
            "Epoch 21/100\n",
            "175/175 [==============================] - 1s 6ms/step - loss: 0.6608 - accuracy: 0.7968 - val_loss: 0.5003 - val_accuracy: 0.8000\n",
            "Epoch 22/100\n",
            "175/175 [==============================] - 1s 5ms/step - loss: 1.8334 - accuracy: 0.7971 - val_loss: 0.5004 - val_accuracy: 0.8000\n",
            "Epoch 23/100\n",
            "175/175 [==============================] - 1s 5ms/step - loss: 0.6562 - accuracy: 0.7968 - val_loss: 0.5004 - val_accuracy: 0.8000\n",
            "Epoch 24/100\n",
            "175/175 [==============================] - 1s 5ms/step - loss: 2.4442 - accuracy: 0.7970 - val_loss: 0.5003 - val_accuracy: 0.8000\n",
            "Epoch 25/100\n",
            "175/175 [==============================] - 1s 5ms/step - loss: 1.1121 - accuracy: 0.7970 - val_loss: 0.5003 - val_accuracy: 0.8000\n",
            "Epoch 26/100\n",
            "175/175 [==============================] - 1s 5ms/step - loss: 4.8256 - accuracy: 0.7971 - val_loss: 0.5006 - val_accuracy: 0.8000\n"
          ],
          "name": "stdout"
        },
        {
          "output_type": "display_data",
          "data": {
            "text/html": [
              "<span style=\"color:#4527A0\"><h1 style=\"font-size:18px\">Trial complete</h1></span>"
            ],
            "text/plain": [
              "<IPython.core.display.HTML object>"
            ]
          },
          "metadata": {
            "tags": []
          }
        },
        {
          "output_type": "display_data",
          "data": {
            "text/html": [
              "<span style=\"color:#4527A0\"><h1 style=\"font-size:18px\">Trial summary</h1></span>"
            ],
            "text/plain": [
              "<IPython.core.display.HTML object>"
            ]
          },
          "metadata": {
            "tags": []
          }
        },
        {
          "output_type": "display_data",
          "data": {
            "text/html": [
              "<span style=\"color:cyan\"> |-Trial ID: caf8d527c22ba26d4cde82ec0a5d33e2</span>"
            ],
            "text/plain": [
              "<IPython.core.display.HTML object>"
            ]
          },
          "metadata": {
            "tags": []
          }
        },
        {
          "output_type": "display_data",
          "data": {
            "text/html": [
              "<span style=\"color:cyan\"> |-Score: 0.800000011920929</span>"
            ],
            "text/plain": [
              "<IPython.core.display.HTML object>"
            ]
          },
          "metadata": {
            "tags": []
          }
        },
        {
          "output_type": "display_data",
          "data": {
            "text/html": [
              "<span style=\"color:cyan\"> |-Best step: 0</span>"
            ],
            "text/plain": [
              "<IPython.core.display.HTML object>"
            ]
          },
          "metadata": {
            "tags": []
          }
        },
        {
          "output_type": "display_data",
          "data": {
            "text/html": [
              "<span style=\"color:#7E57C2\"><h2 style=\"font-size:16px\">Hyperparameters:</h2></span>"
            ],
            "text/plain": [
              "<IPython.core.display.HTML object>"
            ]
          },
          "metadata": {
            "tags": []
          }
        },
        {
          "output_type": "display_data",
          "data": {
            "text/html": [
              "<span style=\"color:cyan\"> |-classification_head_1/dropout_rate: 0</span>"
            ],
            "text/plain": [
              "<IPython.core.display.HTML object>"
            ]
          },
          "metadata": {
            "tags": []
          }
        },
        {
          "output_type": "display_data",
          "data": {
            "text/html": [
              "<span style=\"color:blue\"> |-optimizer: adam</span>"
            ],
            "text/plain": [
              "<IPython.core.display.HTML object>"
            ]
          },
          "metadata": {
            "tags": []
          }
        },
        {
          "output_type": "display_data",
          "data": {
            "text/html": [
              "<span style=\"color:cyan\"> |-structured_data_block_1/dense_block_1/dropout_rate: 0.25</span>"
            ],
            "text/plain": [
              "<IPython.core.display.HTML object>"
            ]
          },
          "metadata": {
            "tags": []
          }
        },
        {
          "output_type": "display_data",
          "data": {
            "text/html": [
              "<span style=\"color:blue\"> |-structured_data_block_1/dense_block_1/num_layers: 3</span>"
            ],
            "text/plain": [
              "<IPython.core.display.HTML object>"
            ]
          },
          "metadata": {
            "tags": []
          }
        },
        {
          "output_type": "display_data",
          "data": {
            "text/html": [
              "<span style=\"color:cyan\"> |-structured_data_block_1/dense_block_1/units_0: 128</span>"
            ],
            "text/plain": [
              "<IPython.core.display.HTML object>"
            ]
          },
          "metadata": {
            "tags": []
          }
        },
        {
          "output_type": "display_data",
          "data": {
            "text/html": [
              "<span style=\"color:blue\"> |-structured_data_block_1/dense_block_1/units_1: 16</span>"
            ],
            "text/plain": [
              "<IPython.core.display.HTML object>"
            ]
          },
          "metadata": {
            "tags": []
          }
        },
        {
          "output_type": "display_data",
          "data": {
            "text/html": [
              "<span style=\"color:cyan\"> |-structured_data_block_1/dense_block_1/units_2: 1024</span>"
            ],
            "text/plain": [
              "<IPython.core.display.HTML object>"
            ]
          },
          "metadata": {
            "tags": []
          }
        },
        {
          "output_type": "display_data",
          "data": {
            "text/html": [
              "<span style=\"color:blue\"> |-structured_data_block_1/dense_block_1/use_batchnorm: False</span>"
            ],
            "text/plain": [
              "<IPython.core.display.HTML object>"
            ]
          },
          "metadata": {
            "tags": []
          }
        },
        {
          "output_type": "stream",
          "text": [
            "INFO:tensorflow:Oracle triggered exit\n",
            "Train for 219 steps, validate for 44 steps\n",
            "Epoch 1/100\n",
            "219/219 [==============================] - 1s 6ms/step - loss: 234193.9510 - accuracy: 0.6749 - val_loss: 61525.9810 - val_accuracy: 0.8000\n",
            "Epoch 2/100\n",
            "219/219 [==============================] - 1s 3ms/step - loss: 85931.6964 - accuracy: 0.6766 - val_loss: 20254.0133 - val_accuracy: 0.8000\n",
            "Epoch 3/100\n",
            "219/219 [==============================] - 1s 3ms/step - loss: 25123.1690 - accuracy: 0.6719 - val_loss: 9463.7510 - val_accuracy: 0.8000\n",
            "Epoch 4/100\n",
            "219/219 [==============================] - 1s 3ms/step - loss: 8121.3282 - accuracy: 0.6776 - val_loss: 4834.1273 - val_accuracy: 0.8000\n",
            "Epoch 5/100\n",
            "219/219 [==============================] - 1s 3ms/step - loss: 3389.4545 - accuracy: 0.6779 - val_loss: 2396.8652 - val_accuracy: 0.5193\n",
            "Epoch 6/100\n",
            "219/219 [==============================] - 1s 3ms/step - loss: 2306.0381 - accuracy: 0.6780 - val_loss: 322.9987 - val_accuracy: 0.7893\n",
            "Epoch 7/100\n",
            "219/219 [==============================] - 1s 3ms/step - loss: 1740.7469 - accuracy: 0.6814 - val_loss: 1412.6571 - val_accuracy: 0.5721\n",
            "Epoch 8/100\n",
            "219/219 [==============================] - 1s 3ms/step - loss: 1556.7922 - accuracy: 0.6781 - val_loss: 1531.1705 - val_accuracy: 0.7271\n",
            "Epoch 9/100\n",
            "219/219 [==============================] - 1s 3ms/step - loss: 1315.9544 - accuracy: 0.6800 - val_loss: 1128.1363 - val_accuracy: 0.5229\n",
            "Epoch 10/100\n",
            "219/219 [==============================] - 1s 4ms/step - loss: 1065.7120 - accuracy: 0.6790 - val_loss: 1640.6211 - val_accuracy: 0.8000\n",
            "Epoch 11/100\n",
            "219/219 [==============================] - 1s 3ms/step - loss: 912.0491 - accuracy: 0.6783 - val_loss: 161.5291 - val_accuracy: 0.6200\n",
            "Epoch 12/100\n",
            "219/219 [==============================] - 1s 3ms/step - loss: 675.7035 - accuracy: 0.6810 - val_loss: 329.1679 - val_accuracy: 0.8000\n",
            "Epoch 13/100\n",
            "219/219 [==============================] - 1s 3ms/step - loss: 508.1714 - accuracy: 0.6747 - val_loss: 303.0495 - val_accuracy: 0.7893\n",
            "Epoch 14/100\n",
            "219/219 [==============================] - 1s 3ms/step - loss: 348.5169 - accuracy: 0.6699 - val_loss: 506.3526 - val_accuracy: 0.8000\n",
            "Epoch 15/100\n",
            "219/219 [==============================] - 1s 3ms/step - loss: 301.2195 - accuracy: 0.6746 - val_loss: 380.2360 - val_accuracy: 0.8000\n",
            "Epoch 16/100\n",
            "219/219 [==============================] - 1s 3ms/step - loss: 207.9028 - accuracy: 0.6840 - val_loss: 115.8719 - val_accuracy: 0.8000\n",
            "Epoch 17/100\n",
            "219/219 [==============================] - 1s 4ms/step - loss: 135.5712 - accuracy: 0.6734 - val_loss: 69.4349 - val_accuracy: 0.8000\n",
            "Epoch 18/100\n",
            "219/219 [==============================] - 1s 4ms/step - loss: 96.3364 - accuracy: 0.6830 - val_loss: 41.6913 - val_accuracy: 0.5893\n",
            "Epoch 19/100\n",
            "219/219 [==============================] - 1s 4ms/step - loss: 72.8301 - accuracy: 0.6721 - val_loss: 42.1320 - val_accuracy: 0.7979\n",
            "Epoch 20/100\n",
            "219/219 [==============================] - 1s 4ms/step - loss: 44.5800 - accuracy: 0.6853 - val_loss: 30.4324 - val_accuracy: 0.8000\n",
            "Epoch 21/100\n",
            "219/219 [==============================] - 1s 5ms/step - loss: 22.7486 - accuracy: 0.6906 - val_loss: 12.2813 - val_accuracy: 0.8000\n",
            "Epoch 22/100\n",
            "219/219 [==============================] - 1s 4ms/step - loss: 17.0899 - accuracy: 0.7119 - val_loss: 5.3897 - val_accuracy: 0.7593\n",
            "Epoch 23/100\n",
            "219/219 [==============================] - 1s 4ms/step - loss: 9.9257 - accuracy: 0.7320 - val_loss: 5.7580 - val_accuracy: 0.7636\n",
            "Epoch 24/100\n",
            "219/219 [==============================] - 1s 4ms/step - loss: 5.1194 - accuracy: 0.7423 - val_loss: 1.5930 - val_accuracy: 0.7793\n",
            "Epoch 25/100\n",
            "219/219 [==============================] - 1s 3ms/step - loss: 2.0422 - accuracy: 0.7579 - val_loss: 0.9283 - val_accuracy: 0.8000\n",
            "Epoch 26/100\n",
            "219/219 [==============================] - 1s 3ms/step - loss: 1.2609 - accuracy: 0.7654 - val_loss: 0.8450 - val_accuracy: 0.7750\n",
            "Epoch 27/100\n",
            "219/219 [==============================] - 1s 3ms/step - loss: 1.0050 - accuracy: 0.7760 - val_loss: 0.5313 - val_accuracy: 0.8000\n",
            "Epoch 28/100\n",
            "219/219 [==============================] - 1s 3ms/step - loss: 0.7416 - accuracy: 0.7891 - val_loss: 0.6490 - val_accuracy: 0.7850\n",
            "Epoch 29/100\n",
            "219/219 [==============================] - 1s 4ms/step - loss: 0.6265 - accuracy: 0.7940 - val_loss: 0.5082 - val_accuracy: 0.7950\n",
            "Epoch 30/100\n",
            "219/219 [==============================] - 1s 3ms/step - loss: 0.5690 - accuracy: 0.7959 - val_loss: 0.5327 - val_accuracy: 0.7921\n",
            "Epoch 31/100\n",
            "219/219 [==============================] - 1s 3ms/step - loss: 0.5447 - accuracy: 0.7951 - val_loss: 0.5078 - val_accuracy: 0.7929\n",
            "Epoch 32/100\n",
            "219/219 [==============================] - 1s 3ms/step - loss: 0.6618 - accuracy: 0.7964 - val_loss: 0.5012 - val_accuracy: 0.8000\n",
            "Epoch 33/100\n",
            "219/219 [==============================] - 1s 4ms/step - loss: 0.5138 - accuracy: 0.7966 - val_loss: 0.5036 - val_accuracy: 0.8000\n",
            "Epoch 34/100\n",
            "219/219 [==============================] - 1s 4ms/step - loss: 0.5094 - accuracy: 0.7971 - val_loss: 0.4995 - val_accuracy: 0.7986\n",
            "Epoch 35/100\n",
            "219/219 [==============================] - 1s 4ms/step - loss: 0.5086 - accuracy: 0.7966 - val_loss: 0.4953 - val_accuracy: 0.8007\n",
            "Epoch 36/100\n",
            "219/219 [==============================] - 1s 3ms/step - loss: 0.5038 - accuracy: 0.7976 - val_loss: 0.4959 - val_accuracy: 0.8000\n",
            "Epoch 37/100\n",
            "219/219 [==============================] - 1s 4ms/step - loss: 0.5043 - accuracy: 0.7974 - val_loss: 0.4987 - val_accuracy: 0.8000\n",
            "Epoch 38/100\n",
            "219/219 [==============================] - 1s 3ms/step - loss: 0.5027 - accuracy: 0.7974 - val_loss: 0.4961 - val_accuracy: 0.8000\n",
            "Epoch 39/100\n",
            "219/219 [==============================] - 1s 3ms/step - loss: 0.5029 - accuracy: 0.7977 - val_loss: 0.4983 - val_accuracy: 0.8000\n",
            "Epoch 40/100\n",
            "219/219 [==============================] - 1s 3ms/step - loss: 0.5028 - accuracy: 0.7977 - val_loss: 0.4951 - val_accuracy: 0.8000\n",
            "Epoch 41/100\n",
            "219/219 [==============================] - 1s 3ms/step - loss: 0.5039 - accuracy: 0.7977 - val_loss: 0.5002 - val_accuracy: 0.8000\n",
            "Epoch 42/100\n",
            "219/219 [==============================] - 1s 3ms/step - loss: 0.5035 - accuracy: 0.7977 - val_loss: 0.4999 - val_accuracy: 0.8000\n",
            "Epoch 43/100\n",
            "219/219 [==============================] - 1s 4ms/step - loss: 0.5034 - accuracy: 0.7977 - val_loss: 0.4998 - val_accuracy: 0.8000\n",
            "Epoch 44/100\n",
            "219/219 [==============================] - 1s 3ms/step - loss: 0.5033 - accuracy: 0.7977 - val_loss: 0.4997 - val_accuracy: 0.8000\n",
            "Epoch 45/100\n",
            "219/219 [==============================] - 1s 3ms/step - loss: 0.5033 - accuracy: 0.7977 - val_loss: 0.5010 - val_accuracy: 0.8000\n",
            "Epoch 46/100\n",
            "219/219 [==============================] - 1s 3ms/step - loss: 0.5025 - accuracy: 0.7970 - val_loss: 0.5012 - val_accuracy: 0.8000\n",
            "Epoch 47/100\n",
            "219/219 [==============================] - 1s 4ms/step - loss: 0.5047 - accuracy: 0.7977 - val_loss: 0.4998 - val_accuracy: 0.8000\n",
            "Epoch 48/100\n",
            "219/219 [==============================] - 1s 3ms/step - loss: 0.5034 - accuracy: 0.7977 - val_loss: 0.4998 - val_accuracy: 0.8000\n",
            "Epoch 49/100\n",
            "219/219 [==============================] - 1s 4ms/step - loss: 0.5032 - accuracy: 0.7977 - val_loss: 0.4998 - val_accuracy: 0.8000\n",
            "Epoch 50/100\n",
            "219/219 [==============================] - 1s 4ms/step - loss: 0.5032 - accuracy: 0.7977 - val_loss: 0.4998 - val_accuracy: 0.8000\n",
            "Epoch 51/100\n",
            "219/219 [==============================] - 1s 4ms/step - loss: 0.5033 - accuracy: 0.7977 - val_loss: 0.4998 - val_accuracy: 0.8000\n",
            "Epoch 52/100\n",
            "219/219 [==============================] - 1s 4ms/step - loss: 0.5032 - accuracy: 0.7977 - val_loss: 0.5002 - val_accuracy: 0.8000\n",
            "Epoch 53/100\n",
            "219/219 [==============================] - 1s 4ms/step - loss: 0.5036 - accuracy: 0.7977 - val_loss: 0.4998 - val_accuracy: 0.8000\n",
            "Epoch 54/100\n",
            "219/219 [==============================] - 1s 4ms/step - loss: 0.5032 - accuracy: 0.7977 - val_loss: 0.4998 - val_accuracy: 0.8000\n",
            "Epoch 55/100\n",
            "219/219 [==============================] - 1s 4ms/step - loss: 0.5032 - accuracy: 0.7977 - val_loss: 0.4998 - val_accuracy: 0.8000\n",
            "Epoch 56/100\n",
            "219/219 [==============================] - 1s 3ms/step - loss: 0.5032 - accuracy: 0.7977 - val_loss: 0.4998 - val_accuracy: 0.8000\n",
            "Epoch 57/100\n",
            "219/219 [==============================] - 1s 3ms/step - loss: 0.5063 - accuracy: 0.7977 - val_loss: 0.4999 - val_accuracy: 0.8000\n",
            "Epoch 58/100\n",
            "219/219 [==============================] - 1s 3ms/step - loss: 0.5032 - accuracy: 0.7977 - val_loss: 0.5001 - val_accuracy: 0.8000\n",
            "Epoch 59/100\n",
            "219/219 [==============================] - 1s 3ms/step - loss: 0.9852 - accuracy: 0.7977 - val_loss: 0.5000 - val_accuracy: 0.8000\n",
            "Epoch 60/100\n",
            "219/219 [==============================] - 1s 3ms/step - loss: 0.5225 - accuracy: 0.7977 - val_loss: 0.5001 - val_accuracy: 0.8000\n",
            "Epoch 61/100\n",
            "219/219 [==============================] - 1s 4ms/step - loss: 0.5033 - accuracy: 0.7977 - val_loss: 0.5000 - val_accuracy: 0.8000\n",
            "Epoch 62/100\n",
            "219/219 [==============================] - 1s 3ms/step - loss: 0.5033 - accuracy: 0.7977 - val_loss: 0.5000 - val_accuracy: 0.8000\n",
            "Epoch 63/100\n",
            "219/219 [==============================] - 1s 3ms/step - loss: 0.5047 - accuracy: 0.7977 - val_loss: 0.5000 - val_accuracy: 0.8000\n",
            "Epoch 64/100\n",
            "219/219 [==============================] - 1s 4ms/step - loss: 0.5033 - accuracy: 0.7977 - val_loss: 0.5000 - val_accuracy: 0.8000\n",
            "Epoch 65/100\n",
            "219/219 [==============================] - 1s 4ms/step - loss: 0.5042 - accuracy: 0.7977 - val_loss: 0.4999 - val_accuracy: 0.8000\n",
            "Epoch 66/100\n",
            "219/219 [==============================] - 1s 3ms/step - loss: 0.5032 - accuracy: 0.7977 - val_loss: 0.5008 - val_accuracy: 0.8000\n",
            "Epoch 67/100\n",
            "219/219 [==============================] - 1s 3ms/step - loss: 0.5033 - accuracy: 0.7977 - val_loss: 0.5009 - val_accuracy: 0.8000\n",
            "Epoch 68/100\n",
            "219/219 [==============================] - 1s 3ms/step - loss: 0.5032 - accuracy: 0.7977 - val_loss: 0.5000 - val_accuracy: 0.8000\n",
            "Epoch 69/100\n",
            "219/219 [==============================] - 1s 4ms/step - loss: 0.5031 - accuracy: 0.7977 - val_loss: 0.5016 - val_accuracy: 0.8000\n",
            "Epoch 70/100\n",
            "219/219 [==============================] - 1s 3ms/step - loss: 0.5045 - accuracy: 0.7977 - val_loss: 0.5000 - val_accuracy: 0.8000\n",
            "Epoch 71/100\n",
            "219/219 [==============================] - 1s 3ms/step - loss: 0.5034 - accuracy: 0.7977 - val_loss: 0.4999 - val_accuracy: 0.8000\n",
            "Epoch 72/100\n",
            "219/219 [==============================] - 1s 3ms/step - loss: 0.5033 - accuracy: 0.7977 - val_loss: 0.4999 - val_accuracy: 0.8000\n",
            "Epoch 73/100\n",
            "219/219 [==============================] - 1s 3ms/step - loss: 0.5032 - accuracy: 0.7977 - val_loss: 0.5000 - val_accuracy: 0.8000\n",
            "Epoch 74/100\n",
            "219/219 [==============================] - 1s 3ms/step - loss: 0.5034 - accuracy: 0.7977 - val_loss: 0.4999 - val_accuracy: 0.8000\n",
            "Epoch 75/100\n",
            "219/219 [==============================] - 1s 3ms/step - loss: 0.5034 - accuracy: 0.7977 - val_loss: 0.4999 - val_accuracy: 0.8000\n",
            "Epoch 76/100\n",
            "219/219 [==============================] - 1s 4ms/step - loss: 0.5033 - accuracy: 0.7977 - val_loss: 0.4999 - val_accuracy: 0.8000\n",
            "Epoch 77/100\n",
            "219/219 [==============================] - 1s 3ms/step - loss: 0.5032 - accuracy: 0.7977 - val_loss: 0.4999 - val_accuracy: 0.8000\n",
            "Epoch 78/100\n",
            "219/219 [==============================] - 1s 3ms/step - loss: 0.5033 - accuracy: 0.7977 - val_loss: 0.4999 - val_accuracy: 0.8000\n",
            "Epoch 79/100\n",
            "219/219 [==============================] - 1s 3ms/step - loss: 0.5032 - accuracy: 0.7977 - val_loss: 0.4998 - val_accuracy: 0.8000\n",
            "Epoch 80/100\n",
            "219/219 [==============================] - 1s 3ms/step - loss: 0.5033 - accuracy: 0.7977 - val_loss: 0.4998 - val_accuracy: 0.8000\n",
            "Epoch 81/100\n",
            "219/219 [==============================] - 1s 4ms/step - loss: 0.5032 - accuracy: 0.7977 - val_loss: 0.4998 - val_accuracy: 0.8000\n",
            "Epoch 82/100\n",
            "219/219 [==============================] - 1s 4ms/step - loss: 0.5033 - accuracy: 0.7977 - val_loss: 0.4998 - val_accuracy: 0.8000\n",
            "Epoch 83/100\n",
            "219/219 [==============================] - 1s 4ms/step - loss: 0.5032 - accuracy: 0.7977 - val_loss: 0.4998 - val_accuracy: 0.8000\n",
            "Epoch 84/100\n",
            "219/219 [==============================] - 1s 3ms/step - loss: 0.5032 - accuracy: 0.7977 - val_loss: 0.4998 - val_accuracy: 0.8000\n",
            "Epoch 85/100\n",
            "219/219 [==============================] - 1s 3ms/step - loss: 0.5032 - accuracy: 0.7977 - val_loss: 0.5000 - val_accuracy: 0.8000\n",
            "Epoch 86/100\n",
            "219/219 [==============================] - 1s 4ms/step - loss: 0.6485 - accuracy: 0.7977 - val_loss: 0.4998 - val_accuracy: 0.8000\n",
            "Epoch 87/100\n",
            "219/219 [==============================] - 1s 3ms/step - loss: 0.5032 - accuracy: 0.7977 - val_loss: 0.5016 - val_accuracy: 0.8000\n",
            "Epoch 88/100\n",
            "219/219 [==============================] - 1s 4ms/step - loss: 0.5325 - accuracy: 0.7977 - val_loss: 0.4998 - val_accuracy: 0.8000\n",
            "Epoch 89/100\n",
            "219/219 [==============================] - 1s 3ms/step - loss: 0.5033 - accuracy: 0.7977 - val_loss: 0.4998 - val_accuracy: 0.8000\n",
            "Epoch 90/100\n",
            "219/219 [==============================] - 1s 4ms/step - loss: 0.5033 - accuracy: 0.7977 - val_loss: 0.4998 - val_accuracy: 0.8000\n",
            "Epoch 91/100\n",
            "219/219 [==============================] - 1s 3ms/step - loss: 0.7626 - accuracy: 0.7977 - val_loss: 0.4998 - val_accuracy: 0.8000\n",
            "Epoch 92/100\n",
            "219/219 [==============================] - 1s 4ms/step - loss: 0.5032 - accuracy: 0.7977 - val_loss: 0.4998 - val_accuracy: 0.8000\n",
            "Epoch 93/100\n",
            "219/219 [==============================] - 1s 3ms/step - loss: 0.5038 - accuracy: 0.7977 - val_loss: 0.4998 - val_accuracy: 0.8000\n",
            "Epoch 94/100\n",
            "219/219 [==============================] - 1s 3ms/step - loss: 0.5032 - accuracy: 0.7977 - val_loss: 0.5000 - val_accuracy: 0.8000\n",
            "Epoch 95/100\n",
            "219/219 [==============================] - 1s 3ms/step - loss: 0.5035 - accuracy: 0.7977 - val_loss: 0.5001 - val_accuracy: 0.8000\n",
            "Epoch 96/100\n",
            "219/219 [==============================] - 1s 3ms/step - loss: 0.5037 - accuracy: 0.7977 - val_loss: 0.5001 - val_accuracy: 0.8000\n",
            "Epoch 97/100\n",
            "219/219 [==============================] - 1s 4ms/step - loss: 0.5033 - accuracy: 0.7977 - val_loss: 0.4999 - val_accuracy: 0.8000\n",
            "Epoch 98/100\n",
            "219/219 [==============================] - 1s 3ms/step - loss: 0.5033 - accuracy: 0.7977 - val_loss: 0.5000 - val_accuracy: 0.8000\n",
            "Epoch 99/100\n",
            "219/219 [==============================] - 1s 4ms/step - loss: 0.5048 - accuracy: 0.7977 - val_loss: 0.5001 - val_accuracy: 0.8000\n",
            "Epoch 100/100\n",
            "219/219 [==============================] - 1s 3ms/step - loss: 0.5034 - accuracy: 0.7977 - val_loss: 0.5001 - val_accuracy: 0.8000\n"
          ],
          "name": "stdout"
        }
      ]
    },
    {
      "cell_type": "code",
      "metadata": {
        "id": "0Pkn2DjVHPx-",
        "colab_type": "code",
        "colab": {
          "base_uri": "https://localhost:8080/",
          "height": 52
        },
        "outputId": "7fb5ebf5-d4fa-4505-dffb-d47197eba1d9"
      },
      "source": [
        "modelo.evaluate(x=X_test, y=y_test)"
      ],
      "execution_count": 8,
      "outputs": [
        {
          "output_type": "stream",
          "text": [
            "94/94 [==============================] - 0s 3ms/step - loss: 0.5138 - accuracy: 0.7930\n"
          ],
          "name": "stdout"
        },
        {
          "output_type": "execute_result",
          "data": {
            "text/plain": [
              "[0.5137759732439163, 0.793]"
            ]
          },
          "metadata": {
            "tags": []
          },
          "execution_count": 8
        }
      ]
    },
    {
      "cell_type": "code",
      "metadata": {
        "id": "BzAX0SB9Ha5e",
        "colab_type": "code",
        "colab": {
          "base_uri": "https://localhost:8080/",
          "height": 553
        },
        "outputId": "b233503a-5544-43f9-aecd-daf9f95a463b"
      },
      "source": [
        "prever = pd.read_csv('/content/drive/My Drive/AutoML/Churn_prever.csv', sep=\";\")\n",
        "previsao = modelo.predict(prever)\n",
        "prever\n"
      ],
      "execution_count": 10,
      "outputs": [
        {
          "output_type": "stream",
          "text": [
            "WARNING:tensorflow:Unresolved object in checkpoint: (root).optimizer.iter\n",
            "WARNING:tensorflow:Unresolved object in checkpoint: (root).optimizer.beta_1\n",
            "WARNING:tensorflow:Unresolved object in checkpoint: (root).optimizer.beta_2\n",
            "WARNING:tensorflow:Unresolved object in checkpoint: (root).optimizer.decay\n",
            "WARNING:tensorflow:Unresolved object in checkpoint: (root).optimizer.learning_rate\n",
            "WARNING:tensorflow:A checkpoint was restored (e.g. tf.train.Checkpoint.restore or tf.keras.Model.load_weights) but not all checkpointed values were used. See above for specific issues. Use expect_partial() on the load status object, e.g. tf.train.Checkpoint.restore(...).expect_partial(), to silence these warnings, or use assert_consumed() to make the check explicit. See https://www.tensorflow.org/guide/checkpoint#loading_mechanics for details.\n",
            "WARNING:tensorflow:Unresolved object in checkpoint: (root).optimizer.iter\n",
            "WARNING:tensorflow:Unresolved object in checkpoint: (root).optimizer.beta_1\n",
            "WARNING:tensorflow:Unresolved object in checkpoint: (root).optimizer.beta_2\n",
            "WARNING:tensorflow:Unresolved object in checkpoint: (root).optimizer.decay\n",
            "WARNING:tensorflow:Unresolved object in checkpoint: (root).optimizer.learning_rate\n",
            "WARNING:tensorflow:A checkpoint was restored (e.g. tf.train.Checkpoint.restore or tf.keras.Model.load_weights) but not all checkpointed values were used. See above for specific issues. Use expect_partial() on the load status object, e.g. tf.train.Checkpoint.restore(...).expect_partial(), to silence these warnings, or use assert_consumed() to make the check explicit. See https://www.tensorflow.org/guide/checkpoint#loading_mechanics for details.\n"
          ],
          "name": "stdout"
        },
        {
          "output_type": "execute_result",
          "data": {
            "text/html": [
              "<div>\n",
              "<style scoped>\n",
              "    .dataframe tbody tr th:only-of-type {\n",
              "        vertical-align: middle;\n",
              "    }\n",
              "\n",
              "    .dataframe tbody tr th {\n",
              "        vertical-align: top;\n",
              "    }\n",
              "\n",
              "    .dataframe thead th {\n",
              "        text-align: right;\n",
              "    }\n",
              "</style>\n",
              "<table border=\"1\" class=\"dataframe\">\n",
              "  <thead>\n",
              "    <tr style=\"text-align: right;\">\n",
              "      <th></th>\n",
              "      <th>CreditScore</th>\n",
              "      <th>Geography</th>\n",
              "      <th>Gender</th>\n",
              "      <th>Age</th>\n",
              "      <th>Tenure</th>\n",
              "      <th>Balance</th>\n",
              "      <th>NumOfProducts</th>\n",
              "      <th>HasCrCard</th>\n",
              "      <th>IsActiveMember</th>\n",
              "      <th>EstimatedSalary</th>\n",
              "    </tr>\n",
              "  </thead>\n",
              "  <tbody>\n",
              "    <tr>\n",
              "      <th>0</th>\n",
              "      <td>571</td>\n",
              "      <td>France</td>\n",
              "      <td>Male</td>\n",
              "      <td>44</td>\n",
              "      <td>9</td>\n",
              "      <td>0</td>\n",
              "      <td>2</td>\n",
              "      <td>0</td>\n",
              "      <td>0</td>\n",
              "      <td>3843335</td>\n",
              "    </tr>\n",
              "    <tr>\n",
              "      <th>1</th>\n",
              "      <td>585</td>\n",
              "      <td>Germany</td>\n",
              "      <td>Male</td>\n",
              "      <td>36</td>\n",
              "      <td>5</td>\n",
              "      <td>14605097</td>\n",
              "      <td>2</td>\n",
              "      <td>0</td>\n",
              "      <td>0</td>\n",
              "      <td>8642457</td>\n",
              "    </tr>\n",
              "    <tr>\n",
              "      <th>2</th>\n",
              "      <td>738</td>\n",
              "      <td>Germany</td>\n",
              "      <td>Male</td>\n",
              "      <td>58</td>\n",
              "      <td>2</td>\n",
              "      <td>13374544</td>\n",
              "      <td>4</td>\n",
              "      <td>1</td>\n",
              "      <td>0</td>\n",
              "      <td>2837386</td>\n",
              "    </tr>\n",
              "    <tr>\n",
              "      <th>3</th>\n",
              "      <td>630</td>\n",
              "      <td>Spain</td>\n",
              "      <td>Male</td>\n",
              "      <td>35</td>\n",
              "      <td>1</td>\n",
              "      <td>0</td>\n",
              "      <td>2</td>\n",
              "      <td>0</td>\n",
              "      <td>0</td>\n",
              "      <td>18682622</td>\n",
              "    </tr>\n",
              "    <tr>\n",
              "      <th>4</th>\n",
              "      <td>794</td>\n",
              "      <td>Spain</td>\n",
              "      <td>Female</td>\n",
              "      <td>30</td>\n",
              "      <td>1</td>\n",
              "      <td>15497054</td>\n",
              "      <td>1</td>\n",
              "      <td>0</td>\n",
              "      <td>1</td>\n",
              "      <td>15676845</td>\n",
              "    </tr>\n",
              "    <tr>\n",
              "      <th>5</th>\n",
              "      <td>567</td>\n",
              "      <td>Spain</td>\n",
              "      <td>Male</td>\n",
              "      <td>40</td>\n",
              "      <td>8</td>\n",
              "      <td>2864964</td>\n",
              "      <td>1</td>\n",
              "      <td>1</td>\n",
              "      <td>1</td>\n",
              "      <td>9514062</td>\n",
              "    </tr>\n",
              "    <tr>\n",
              "      <th>6</th>\n",
              "      <td>709</td>\n",
              "      <td>France</td>\n",
              "      <td>Female</td>\n",
              "      <td>36</td>\n",
              "      <td>7</td>\n",
              "      <td>0</td>\n",
              "      <td>1</td>\n",
              "      <td>0</td>\n",
              "      <td>1</td>\n",
              "      <td>4208558</td>\n",
              "    </tr>\n",
              "    <tr>\n",
              "      <th>7</th>\n",
              "      <td>772</td>\n",
              "      <td>Germany</td>\n",
              "      <td>Male</td>\n",
              "      <td>42</td>\n",
              "      <td>3</td>\n",
              "      <td>7507531</td>\n",
              "      <td>2</td>\n",
              "      <td>1</td>\n",
              "      <td>0</td>\n",
              "      <td>9288852</td>\n",
              "    </tr>\n",
              "    <tr>\n",
              "      <th>8</th>\n",
              "      <td>792</td>\n",
              "      <td>France</td>\n",
              "      <td>Female</td>\n",
              "      <td>28</td>\n",
              "      <td>4</td>\n",
              "      <td>13014279</td>\n",
              "      <td>1</td>\n",
              "      <td>1</td>\n",
              "      <td>0</td>\n",
              "      <td>3819078</td>\n",
              "    </tr>\n",
              "  </tbody>\n",
              "</table>\n",
              "</div>"
            ],
            "text/plain": [
              "   CreditScore Geography  Gender  ...  HasCrCard  IsActiveMember  EstimatedSalary\n",
              "0          571    France    Male  ...          0               0          3843335\n",
              "1          585   Germany    Male  ...          0               0          8642457\n",
              "2          738   Germany    Male  ...          1               0          2837386\n",
              "3          630     Spain    Male  ...          0               0         18682622\n",
              "4          794     Spain  Female  ...          0               1         15676845\n",
              "5          567     Spain    Male  ...          1               1          9514062\n",
              "6          709    France  Female  ...          0               1          4208558\n",
              "7          772   Germany    Male  ...          1               0          9288852\n",
              "8          792    France  Female  ...          1               0          3819078\n",
              "\n",
              "[9 rows x 10 columns]"
            ]
          },
          "metadata": {
            "tags": []
          },
          "execution_count": 10
        }
      ]
    }
  ]
}