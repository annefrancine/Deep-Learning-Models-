{
  "nbformat": 4,
  "nbformat_minor": 0,
  "metadata": {
    "kernelspec": {
      "display_name": "Python 3",
      "language": "python",
      "name": "python3"
    },
    "language_info": {
      "codemirror_mode": {
        "name": "ipython",
        "version": 3
      },
      "file_extension": ".py",
      "mimetype": "text/x-python",
      "name": "python",
      "nbconvert_exporter": "python",
      "pygments_lexer": "ipython3",
      "version": "3.7.6"
    },
    "colab": {
      "name": "Convolutional Neural Network.ipynb",
      "provenance": [],
      "collapsed_sections": [],
      "include_colab_link": true
    },
    "accelerator": "GPU"
  },
  "cells": [
    {
      "cell_type": "markdown",
      "metadata": {
        "id": "view-in-github",
        "colab_type": "text"
      },
      "source": [
        "<a href=\"https://colab.research.google.com/github/annefrancine/Deep-Learning-Models-/blob/master/Convolutional_Neural_Network.ipynb\" target=\"_parent\"><img src=\"https://colab.research.google.com/assets/colab-badge.svg\" alt=\"Open In Colab\"/></a>"
      ]
    },
    {
      "cell_type": "markdown",
      "metadata": {
        "id": "VB6_ZdnIO-ER",
        "colab_type": "text"
      },
      "source": [
        "## **Image Classification** : Cats / Dogs "
      ]
    },
    {
      "cell_type": "markdown",
      "metadata": {
        "id": "pmuaTqs_IRJs",
        "colab_type": "text"
      },
      "source": [
        "# Importing packages"
      ]
    },
    {
      "cell_type": "code",
      "metadata": {
        "id": "fOdn3P8Q4eKz",
        "colab_type": "code",
        "outputId": "812b8ccf-7df0-45ca-e54b-0f6b9cd6c4c3",
        "colab": {
          "base_uri": "https://localhost:8080/",
          "height": 35
        }
      },
      "source": [
        " \n",
        "from keras.models import Sequential\n",
        "from keras.layers import Conv2D\n",
        "from keras.layers import MaxPooling2D\n",
        "from keras.layers import Flatten\n",
        "from keras.layers import Dense"
      ],
      "execution_count": 1,
      "outputs": [
        {
          "output_type": "stream",
          "text": [
            "Using TensorFlow backend.\n"
          ],
          "name": "stderr"
        }
      ]
    },
    {
      "cell_type": "markdown",
      "metadata": {
        "id": "kr9vmadrIYRx",
        "colab_type": "text"
      },
      "source": [
        "# Connecting drive"
      ]
    },
    {
      "cell_type": "code",
      "metadata": {
        "id": "FBgEewcKEb3L",
        "colab_type": "code",
        "colab": {
          "base_uri": "https://localhost:8080/",
          "height": 124
        },
        "outputId": "c58af5f6-f29d-4a27-adc4-cb47f3dee239"
      },
      "source": [
        "from google.colab import drive\n",
        "drive.mount('/content/drive')"
      ],
      "execution_count": 2,
      "outputs": [
        {
          "output_type": "stream",
          "text": [
            "Go to this URL in a browser: https://accounts.google.com/o/oauth2/auth?client_id=947318989803-6bn6qk8qdgf4n4g3pfee6491hc0brc4i.apps.googleusercontent.com&redirect_uri=urn%3aietf%3awg%3aoauth%3a2.0%3aoob&response_type=code&scope=email%20https%3a%2f%2fwww.googleapis.com%2fauth%2fdocs.test%20https%3a%2f%2fwww.googleapis.com%2fauth%2fdrive%20https%3a%2f%2fwww.googleapis.com%2fauth%2fdrive.photos.readonly%20https%3a%2f%2fwww.googleapis.com%2fauth%2fpeopleapi.readonly\n",
            "\n",
            "Enter your authorization code:\n",
            "··········\n",
            "Mounted at /content/drive\n"
          ],
          "name": "stdout"
        }
      ]
    },
    {
      "cell_type": "markdown",
      "metadata": {
        "id": "uQRmRflQIttP",
        "colab_type": "text"
      },
      "source": [
        "#Dataset path\n"
      ]
    },
    {
      "cell_type": "code",
      "metadata": {
        "id": "gAOA4wbPEpXZ",
        "colab_type": "code",
        "colab": {}
      },
      "source": [
        "test_set = '/content/drive/My Drive/curso deep learning-udemy/Notebooks/4.CNN/test_set'\n",
        "training_set = '/content/drive/My Drive/curso deep learning-udemy/Notebooks/4.CNN/training_set'"
      ],
      "execution_count": 0,
      "outputs": []
    },
    {
      "cell_type": "markdown",
      "metadata": {
        "id": "U9TbYoJkIzRG",
        "colab_type": "text"
      },
      "source": [
        "# Neural Network"
      ]
    },
    {
      "cell_type": "code",
      "metadata": {
        "id": "EHE35sQm4eK6",
        "colab_type": "code",
        "colab": {}
      },
      "source": [
        "# Initializing the neural network\n",
        "classifier = Sequential()\n",
        "# Creating layers\n",
        "classifier.add(Conv2D(32, (3, 3), input_shape = (64, 64, 3), activation = 'relu'))\n",
        "classifier.add(MaxPooling2D(pool_size = (2, 2))) \n",
        "classifier.add(Conv2D(32, (3, 3), activation = 'relu'))\n",
        "classifier.add(MaxPooling2D(pool_size = (2, 2)))\n",
        "classifier.add(Flatten())\n",
        "classifier.add(Dense(units = 128, activation = 'relu'))\n",
        "classifier.add(Dense(units = 1, activation = 'sigmoid'))#output\n",
        "classifier.compile(optimizer = 'adam', loss = 'binary_crossentropy', metrics = ['accuracy'])"
      ],
      "execution_count": 0,
      "outputs": []
    },
    {
      "cell_type": "markdown",
      "metadata": {
        "id": "Dfqfna_uJL0l",
        "colab_type": "text"
      },
      "source": [
        "# Image pre-processing"
      ]
    },
    {
      "cell_type": "code",
      "metadata": {
        "id": "KDwSFeLZ4eK-",
        "colab_type": "code",
        "colab": {
          "base_uri": "https://localhost:8080/",
          "height": 52
        },
        "outputId": "71f1b2f1-ffc7-47d9-9861-3bc39e19ca7d"
      },
      "source": [
        "from keras.preprocessing.image import ImageDataGenerator\n",
        "train_datagen = ImageDataGenerator(rescale = 1./255,\n",
        "                                   shear_range = 0.2,\n",
        "                                   zoom_range = 0.2,\n",
        "                                   horizontal_flip = True)\n",
        "test_datagen = ImageDataGenerator(rescale = 1./255)\n",
        "training_set = train_datagen.flow_from_directory(training_set,\n",
        "                                                 target_size = (64, 64),\n",
        "                                                 batch_size = 32,\n",
        "                                                 class_mode = 'binary')\n",
        "test_set = test_datagen.flow_from_directory(test_set,\n",
        "                                            target_size = (64, 64),\n",
        "                                            batch_size = 32,\n",
        "                                            class_mode = 'binary')"
      ],
      "execution_count": 5,
      "outputs": [
        {
          "output_type": "stream",
          "text": [
            "Found 8000 images belonging to 2 classes.\n",
            "Found 2000 images belonging to 2 classes.\n"
          ],
          "name": "stdout"
        }
      ]
    },
    {
      "cell_type": "markdown",
      "metadata": {
        "id": "fcMkW-rQJYui",
        "colab_type": "text"
      },
      "source": [
        "# Creating the model"
      ]
    },
    {
      "cell_type": "code",
      "metadata": {
        "id": "mEyOlfev4eLA",
        "colab_type": "code",
        "colab": {
          "base_uri": "https://localhost:8080/",
          "height": 228
        },
        "outputId": "05e9caaa-4520-4c2a-fece-6e536baae8eb"
      },
      "source": [
        "#classifier.fit_generator(training_set,steps_per_epoch = 8000, epochs = 25,validation_data = test_set, validation_steps= 2000)\n",
        "classifier.fit_generator(training_set,epochs = 5,validation_data = test_set)"
      ],
      "execution_count": 7,
      "outputs": [
        {
          "output_type": "stream",
          "text": [
            "Epoch 1/5\n",
            "250/250 [==============================] - 3034s 12s/step - loss: 0.6789 - accuracy: 0.5804 - val_loss: 0.6834 - val_accuracy: 0.6015\n",
            "Epoch 2/5\n",
            "250/250 [==============================] - 46s 184ms/step - loss: 0.6236 - accuracy: 0.6582 - val_loss: 0.5373 - val_accuracy: 0.7140\n",
            "Epoch 3/5\n",
            "250/250 [==============================] - 46s 182ms/step - loss: 0.5780 - accuracy: 0.6936 - val_loss: 0.4937 - val_accuracy: 0.6545\n",
            "Epoch 4/5\n",
            "250/250 [==============================] - 45s 179ms/step - loss: 0.5415 - accuracy: 0.7245 - val_loss: 0.5521 - val_accuracy: 0.7460\n",
            "Epoch 5/5\n",
            "250/250 [==============================] - 45s 179ms/step - loss: 0.5076 - accuracy: 0.7476 - val_loss: 0.6979 - val_accuracy: 0.7730\n"
          ],
          "name": "stdout"
        },
        {
          "output_type": "execute_result",
          "data": {
            "text/plain": [
              "<keras.callbacks.callbacks.History at 0x7f522053e320>"
            ]
          },
          "metadata": {
            "tags": []
          },
          "execution_count": 7
        }
      ]
    }
  ]
}