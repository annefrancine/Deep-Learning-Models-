{
  "nbformat": 4,
  "nbformat_minor": 0,
  "metadata": {
    "kernelspec": {
      "display_name": "Python 3",
      "language": "python",
      "name": "python3"
    },
    "language_info": {
      "codemirror_mode": {
        "name": "ipython",
        "version": 3
      },
      "file_extension": ".py",
      "mimetype": "text/x-python",
      "name": "python",
      "nbconvert_exporter": "python",
      "pygments_lexer": "ipython3",
      "version": "3.7.6"
    },
    "colab": {
      "name": "Boltzmann Machine.ipynb",
      "provenance": [],
      "collapsed_sections": [],
      "include_colab_link": true
    },
    "accelerator": "GPU"
  },
  "cells": [
    {
      "cell_type": "markdown",
      "metadata": {
        "id": "view-in-github",
        "colab_type": "text"
      },
      "source": [
        "<a href=\"https://colab.research.google.com/github/annefrancine/Deep-Learning-Models-/blob/master/Boltzmann_Machine.ipynb\" target=\"_parent\"><img src=\"https://colab.research.google.com/assets/colab-badge.svg\" alt=\"Open In Colab\"/></a>"
      ]
    },
    {
      "cell_type": "markdown",
      "metadata": {
        "id": "tif8hdxteGZR",
        "colab_type": "text"
      },
      "source": [
        "# **MovieLens dataset**\n",
        "https://grouplens.org/datasets/movielens/ "
      ]
    },
    {
      "cell_type": "markdown",
      "metadata": {
        "id": "LaFECKt0Xht8",
        "colab_type": "text"
      },
      "source": [
        "# Importing Packages"
      ]
    },
    {
      "cell_type": "code",
      "metadata": {
        "id": "y2CtEvSqXht9",
        "colab_type": "code",
        "colab": {}
      },
      "source": [
        "\n",
        "import numpy as np\n",
        "import pandas as pd\n",
        "import torch\n",
        "import torch.nn as nn\n",
        "import torch.nn.parallel\n",
        "import torch.optim as optim\n",
        "import torch.utils.data\n",
        "from torch.autograd import Variable"
      ],
      "execution_count": 0,
      "outputs": []
    },
    {
      "cell_type": "markdown",
      "metadata": {
        "id": "VY4ParFXX0sx",
        "colab_type": "text"
      },
      "source": [
        "# Importing Dataset\n"
      ]
    },
    {
      "cell_type": "code",
      "metadata": {
        "id": "yWcm6ay_X8AO",
        "colab_type": "code",
        "colab": {
          "base_uri": "https://localhost:8080/",
          "height": 35
        },
        "outputId": "3e6f9d83-1e5f-4ce1-8da5-99d47e36bb32"
      },
      "source": [
        "from google.colab import drive\n",
        "drive.mount('/content/drive')"
      ],
      "execution_count": 27,
      "outputs": [
        {
          "output_type": "stream",
          "text": [
            "Drive already mounted at /content/drive; to attempt to forcibly remount, call drive.mount(\"/content/drive\", force_remount=True).\n"
          ],
          "name": "stdout"
        }
      ]
    },
    {
      "cell_type": "code",
      "metadata": {
        "id": "dWdpqQGCXhuA",
        "colab_type": "code",
        "colab": {}
      },
      "source": [
        "movies = pd.read_csv('/content/drive/My Drive/curso deep learning-udemy/Notebooks/7.BM/ml-1m/movies.dat', sep = '::', header = None, engine = 'python', encoding = 'latin-1')\n"
      ],
      "execution_count": 0,
      "outputs": []
    },
    {
      "cell_type": "code",
      "metadata": {
        "id": "GnES9mx_aS9k",
        "colab_type": "code",
        "colab": {
          "base_uri": "https://localhost:8080/",
          "height": 202
        },
        "outputId": "6c73fb3c-e22a-4e76-c1d7-51c330c0d856"
      },
      "source": [
        "movies.head()"
      ],
      "execution_count": 29,
      "outputs": [
        {
          "output_type": "execute_result",
          "data": {
            "text/html": [
              "<div>\n",
              "<style scoped>\n",
              "    .dataframe tbody tr th:only-of-type {\n",
              "        vertical-align: middle;\n",
              "    }\n",
              "\n",
              "    .dataframe tbody tr th {\n",
              "        vertical-align: top;\n",
              "    }\n",
              "\n",
              "    .dataframe thead th {\n",
              "        text-align: right;\n",
              "    }\n",
              "</style>\n",
              "<table border=\"1\" class=\"dataframe\">\n",
              "  <thead>\n",
              "    <tr style=\"text-align: right;\">\n",
              "      <th></th>\n",
              "      <th>0</th>\n",
              "      <th>1</th>\n",
              "      <th>2</th>\n",
              "    </tr>\n",
              "  </thead>\n",
              "  <tbody>\n",
              "    <tr>\n",
              "      <th>0</th>\n",
              "      <td>1</td>\n",
              "      <td>Toy Story (1995)</td>\n",
              "      <td>Animation|Children's|Comedy</td>\n",
              "    </tr>\n",
              "    <tr>\n",
              "      <th>1</th>\n",
              "      <td>2</td>\n",
              "      <td>Jumanji (1995)</td>\n",
              "      <td>Adventure|Children's|Fantasy</td>\n",
              "    </tr>\n",
              "    <tr>\n",
              "      <th>2</th>\n",
              "      <td>3</td>\n",
              "      <td>Grumpier Old Men (1995)</td>\n",
              "      <td>Comedy|Romance</td>\n",
              "    </tr>\n",
              "    <tr>\n",
              "      <th>3</th>\n",
              "      <td>4</td>\n",
              "      <td>Waiting to Exhale (1995)</td>\n",
              "      <td>Comedy|Drama</td>\n",
              "    </tr>\n",
              "    <tr>\n",
              "      <th>4</th>\n",
              "      <td>5</td>\n",
              "      <td>Father of the Bride Part II (1995)</td>\n",
              "      <td>Comedy</td>\n",
              "    </tr>\n",
              "  </tbody>\n",
              "</table>\n",
              "</div>"
            ],
            "text/plain": [
              "   0                                   1                             2\n",
              "0  1                    Toy Story (1995)   Animation|Children's|Comedy\n",
              "1  2                      Jumanji (1995)  Adventure|Children's|Fantasy\n",
              "2  3             Grumpier Old Men (1995)                Comedy|Romance\n",
              "3  4            Waiting to Exhale (1995)                  Comedy|Drama\n",
              "4  5  Father of the Bride Part II (1995)                        Comedy"
            ]
          },
          "metadata": {
            "tags": []
          },
          "execution_count": 29
        }
      ]
    },
    {
      "cell_type": "code",
      "metadata": {
        "id": "85AgtrD2gUI0",
        "colab_type": "code",
        "colab": {
          "base_uri": "https://localhost:8080/",
          "height": 191
        },
        "outputId": "1b426d8b-ab27-4aa8-fccc-15c1fdb66485"
      },
      "source": [
        "movies.info()"
      ],
      "execution_count": 30,
      "outputs": [
        {
          "output_type": "stream",
          "text": [
            "<class 'pandas.core.frame.DataFrame'>\n",
            "RangeIndex: 3883 entries, 0 to 3882\n",
            "Data columns (total 3 columns):\n",
            " #   Column  Non-Null Count  Dtype \n",
            "---  ------  --------------  ----- \n",
            " 0   0       3883 non-null   int64 \n",
            " 1   1       3883 non-null   object\n",
            " 2   2       3883 non-null   object\n",
            "dtypes: int64(1), object(2)\n",
            "memory usage: 91.1+ KB\n"
          ],
          "name": "stdout"
        }
      ]
    },
    {
      "cell_type": "code",
      "metadata": {
        "id": "jzaKdAZSarQT",
        "colab_type": "code",
        "colab": {
          "base_uri": "https://localhost:8080/",
          "height": 202
        },
        "outputId": "482c9f38-899e-41fb-d94a-4f2973b92589"
      },
      "source": [
        "users = pd.read_csv('/content/drive/My Drive/curso deep learning-udemy/Notebooks/7.BM/ml-1m/users.dat', sep = '::', header = None, engine = 'python', encoding = 'latin-1')\n",
        "users.head()"
      ],
      "execution_count": 31,
      "outputs": [
        {
          "output_type": "execute_result",
          "data": {
            "text/html": [
              "<div>\n",
              "<style scoped>\n",
              "    .dataframe tbody tr th:only-of-type {\n",
              "        vertical-align: middle;\n",
              "    }\n",
              "\n",
              "    .dataframe tbody tr th {\n",
              "        vertical-align: top;\n",
              "    }\n",
              "\n",
              "    .dataframe thead th {\n",
              "        text-align: right;\n",
              "    }\n",
              "</style>\n",
              "<table border=\"1\" class=\"dataframe\">\n",
              "  <thead>\n",
              "    <tr style=\"text-align: right;\">\n",
              "      <th></th>\n",
              "      <th>0</th>\n",
              "      <th>1</th>\n",
              "      <th>2</th>\n",
              "      <th>3</th>\n",
              "      <th>4</th>\n",
              "    </tr>\n",
              "  </thead>\n",
              "  <tbody>\n",
              "    <tr>\n",
              "      <th>0</th>\n",
              "      <td>1</td>\n",
              "      <td>F</td>\n",
              "      <td>1</td>\n",
              "      <td>10</td>\n",
              "      <td>48067</td>\n",
              "    </tr>\n",
              "    <tr>\n",
              "      <th>1</th>\n",
              "      <td>2</td>\n",
              "      <td>M</td>\n",
              "      <td>56</td>\n",
              "      <td>16</td>\n",
              "      <td>70072</td>\n",
              "    </tr>\n",
              "    <tr>\n",
              "      <th>2</th>\n",
              "      <td>3</td>\n",
              "      <td>M</td>\n",
              "      <td>25</td>\n",
              "      <td>15</td>\n",
              "      <td>55117</td>\n",
              "    </tr>\n",
              "    <tr>\n",
              "      <th>3</th>\n",
              "      <td>4</td>\n",
              "      <td>M</td>\n",
              "      <td>45</td>\n",
              "      <td>7</td>\n",
              "      <td>02460</td>\n",
              "    </tr>\n",
              "    <tr>\n",
              "      <th>4</th>\n",
              "      <td>5</td>\n",
              "      <td>M</td>\n",
              "      <td>25</td>\n",
              "      <td>20</td>\n",
              "      <td>55455</td>\n",
              "    </tr>\n",
              "  </tbody>\n",
              "</table>\n",
              "</div>"
            ],
            "text/plain": [
              "   0  1   2   3      4\n",
              "0  1  F   1  10  48067\n",
              "1  2  M  56  16  70072\n",
              "2  3  M  25  15  55117\n",
              "3  4  M  45   7  02460\n",
              "4  5  M  25  20  55455"
            ]
          },
          "metadata": {
            "tags": []
          },
          "execution_count": 31
        }
      ]
    },
    {
      "cell_type": "code",
      "metadata": {
        "id": "JwNwBXzFgZpB",
        "colab_type": "code",
        "colab": {
          "base_uri": "https://localhost:8080/",
          "height": 225
        },
        "outputId": "2f1bf40d-41b7-4305-c447-32ab784b911a"
      },
      "source": [
        "users.info()"
      ],
      "execution_count": 32,
      "outputs": [
        {
          "output_type": "stream",
          "text": [
            "<class 'pandas.core.frame.DataFrame'>\n",
            "RangeIndex: 6040 entries, 0 to 6039\n",
            "Data columns (total 5 columns):\n",
            " #   Column  Non-Null Count  Dtype \n",
            "---  ------  --------------  ----- \n",
            " 0   0       6040 non-null   int64 \n",
            " 1   1       6040 non-null   object\n",
            " 2   2       6040 non-null   int64 \n",
            " 3   3       6040 non-null   int64 \n",
            " 4   4       6040 non-null   object\n",
            "dtypes: int64(3), object(2)\n",
            "memory usage: 236.1+ KB\n"
          ],
          "name": "stdout"
        }
      ]
    },
    {
      "cell_type": "code",
      "metadata": {
        "id": "LOE8wOcWatSJ",
        "colab_type": "code",
        "colab": {
          "base_uri": "https://localhost:8080/",
          "height": 202
        },
        "outputId": "af240030-1399-43d3-8835-94b03aad3dee"
      },
      "source": [
        "ratings = pd.read_csv('/content/drive/My Drive/curso deep learning-udemy/Notebooks/7.BM/ml-1m/ratings.dat', sep = '::', header = None, engine = 'python', encoding = 'latin-1')\n",
        "ratings.head()"
      ],
      "execution_count": 33,
      "outputs": [
        {
          "output_type": "execute_result",
          "data": {
            "text/html": [
              "<div>\n",
              "<style scoped>\n",
              "    .dataframe tbody tr th:only-of-type {\n",
              "        vertical-align: middle;\n",
              "    }\n",
              "\n",
              "    .dataframe tbody tr th {\n",
              "        vertical-align: top;\n",
              "    }\n",
              "\n",
              "    .dataframe thead th {\n",
              "        text-align: right;\n",
              "    }\n",
              "</style>\n",
              "<table border=\"1\" class=\"dataframe\">\n",
              "  <thead>\n",
              "    <tr style=\"text-align: right;\">\n",
              "      <th></th>\n",
              "      <th>0</th>\n",
              "      <th>1</th>\n",
              "      <th>2</th>\n",
              "      <th>3</th>\n",
              "    </tr>\n",
              "  </thead>\n",
              "  <tbody>\n",
              "    <tr>\n",
              "      <th>0</th>\n",
              "      <td>1</td>\n",
              "      <td>1193</td>\n",
              "      <td>5</td>\n",
              "      <td>978300760</td>\n",
              "    </tr>\n",
              "    <tr>\n",
              "      <th>1</th>\n",
              "      <td>1</td>\n",
              "      <td>661</td>\n",
              "      <td>3</td>\n",
              "      <td>978302109</td>\n",
              "    </tr>\n",
              "    <tr>\n",
              "      <th>2</th>\n",
              "      <td>1</td>\n",
              "      <td>914</td>\n",
              "      <td>3</td>\n",
              "      <td>978301968</td>\n",
              "    </tr>\n",
              "    <tr>\n",
              "      <th>3</th>\n",
              "      <td>1</td>\n",
              "      <td>3408</td>\n",
              "      <td>4</td>\n",
              "      <td>978300275</td>\n",
              "    </tr>\n",
              "    <tr>\n",
              "      <th>4</th>\n",
              "      <td>1</td>\n",
              "      <td>2355</td>\n",
              "      <td>5</td>\n",
              "      <td>978824291</td>\n",
              "    </tr>\n",
              "  </tbody>\n",
              "</table>\n",
              "</div>"
            ],
            "text/plain": [
              "   0     1  2          3\n",
              "0  1  1193  5  978300760\n",
              "1  1   661  3  978302109\n",
              "2  1   914  3  978301968\n",
              "3  1  3408  4  978300275\n",
              "4  1  2355  5  978824291"
            ]
          },
          "metadata": {
            "tags": []
          },
          "execution_count": 33
        }
      ]
    },
    {
      "cell_type": "code",
      "metadata": {
        "id": "nZ_aFMvtgf0n",
        "colab_type": "code",
        "colab": {
          "base_uri": "https://localhost:8080/",
          "height": 208
        },
        "outputId": "92f54890-bad9-4379-d392-bb0e1ad0ac5c"
      },
      "source": [
        "ratings.info()"
      ],
      "execution_count": 34,
      "outputs": [
        {
          "output_type": "stream",
          "text": [
            "<class 'pandas.core.frame.DataFrame'>\n",
            "RangeIndex: 1000209 entries, 0 to 1000208\n",
            "Data columns (total 4 columns):\n",
            " #   Column  Non-Null Count    Dtype\n",
            "---  ------  --------------    -----\n",
            " 0   0       1000209 non-null  int64\n",
            " 1   1       1000209 non-null  int64\n",
            " 2   2       1000209 non-null  int64\n",
            " 3   3       1000209 non-null  int64\n",
            "dtypes: int64(4)\n",
            "memory usage: 30.5 MB\n"
          ],
          "name": "stdout"
        }
      ]
    },
    {
      "cell_type": "markdown",
      "metadata": {
        "id": "AEqZA_7Ib17_",
        "colab_type": "text"
      },
      "source": [
        "# Train and Test Dataset "
      ]
    },
    {
      "cell_type": "code",
      "metadata": {
        "id": "85YM94mZXhuD",
        "colab_type": "code",
        "colab": {}
      },
      "source": [
        "\n",
        "training_set = pd.read_csv('/content/drive/My Drive/curso deep learning-udemy/Notebooks/7.BM/ml-100k/u1.base', delimiter = '\\t')\n",
        "training_set = np.array(training_set, dtype = 'int')\n",
        "test_set = pd.read_csv('/content/drive/My Drive/curso deep learning-udemy/Notebooks/7.BM/ml-100k/u1.test', delimiter = '\\t')\n",
        "test_set = np.array(test_set, dtype = 'int')"
      ],
      "execution_count": 0,
      "outputs": []
    },
    {
      "cell_type": "code",
      "metadata": {
        "id": "FcUOYbZPcVtD",
        "colab_type": "code",
        "colab": {
          "base_uri": "https://localhost:8080/",
          "height": 35
        },
        "outputId": "9974b13a-2359-4484-fc4e-9b1314222e73"
      },
      "source": [
        "training_set.shape"
      ],
      "execution_count": 36,
      "outputs": [
        {
          "output_type": "execute_result",
          "data": {
            "text/plain": [
              "(79999, 4)"
            ]
          },
          "metadata": {
            "tags": []
          },
          "execution_count": 36
        }
      ]
    },
    {
      "cell_type": "code",
      "metadata": {
        "id": "nON55lPyccun",
        "colab_type": "code",
        "colab": {
          "base_uri": "https://localhost:8080/",
          "height": 35
        },
        "outputId": "99c2394a-3728-4514-bf88-3f9eeb96d342"
      },
      "source": [
        "test_set.shape"
      ],
      "execution_count": 37,
      "outputs": [
        {
          "output_type": "execute_result",
          "data": {
            "text/plain": [
              "(19999, 4)"
            ]
          },
          "metadata": {
            "tags": []
          },
          "execution_count": 37
        }
      ]
    },
    {
      "cell_type": "markdown",
      "metadata": {
        "id": "_4Fbw5bdciH2",
        "colab_type": "text"
      },
      "source": [
        "# Number of users and films"
      ]
    },
    {
      "cell_type": "code",
      "metadata": {
        "id": "aVSc3Lt5XhuG",
        "colab_type": "code",
        "colab": {}
      },
      "source": [
        "nb_users = int(max(max(training_set[:,0]), max(test_set[:,0])))\n",
        "nb_movies = int(max(max(training_set[:,1]), max(test_set[:,1])))"
      ],
      "execution_count": 0,
      "outputs": []
    },
    {
      "cell_type": "markdown",
      "metadata": {
        "id": "LQ9gpm4bc-Zv",
        "colab_type": "text"
      },
      "source": [
        "# Converting data into a matrix with users in rows and movies in columns"
      ]
    },
    {
      "cell_type": "code",
      "metadata": {
        "id": "6tVDxzCjXhuJ",
        "colab_type": "code",
        "colab": {}
      },
      "source": [
        "def convert(data):\n",
        "    new_data = [] \n",
        "    for id_users in range(1, nb_users + 1): \n",
        "        id_movies = data[:,1][data[:,0] == id_users] \n",
        "        id_ratings = data[:,2][data[:,0] == id_users]\n",
        "        ratings = np.zeros(nb_movies)\n",
        "        ratings[id_movies - 1] = id_ratings\n",
        "\n",
        "        new_data.append(list(ratings))\n",
        "    return new_data\n",
        "training_set = convert(training_set)\n",
        "test_set = convert(test_set)"
      ],
      "execution_count": 0,
      "outputs": []
    },
    {
      "cell_type": "markdown",
      "metadata": {
        "id": "SuQjR12IdNh0",
        "colab_type": "text"
      },
      "source": [
        "# Creating Torch Tensors"
      ]
    },
    {
      "cell_type": "code",
      "metadata": {
        "id": "eLCZZfBgXhuM",
        "colab_type": "code",
        "colab": {}
      },
      "source": [
        "training_set = torch.FloatTensor(training_set)\n",
        "test_set = torch.FloatTensor(test_set)"
      ],
      "execution_count": 0,
      "outputs": []
    },
    {
      "cell_type": "markdown",
      "metadata": {
        "id": "h16PL2w2dX39",
        "colab_type": "text"
      },
      "source": [
        "# Converting the rating to binary : 1 like / 0 dislike"
      ]
    },
    {
      "cell_type": "code",
      "metadata": {
        "id": "jAU-RxuoXhuO",
        "colab_type": "code",
        "colab": {}
      },
      "source": [
        "\n",
        "training_set[training_set == 0] = -1\n",
        "training_set[training_set == 1] = 0\n",
        "training_set[training_set == 2] = 0\n",
        "training_set[training_set >= 3] = 1\n",
        "test_set[test_set == 0] = -1  \n",
        "test_set[test_set == 1] = 0\n",
        "test_set[test_set == 2] = 0\n",
        "test_set[test_set >= 3] = 1"
      ],
      "execution_count": 0,
      "outputs": []
    },
    {
      "cell_type": "markdown",
      "metadata": {
        "id": "mGlyLuX0dswD",
        "colab_type": "text"
      },
      "source": [
        "# Creating the neural network architecture"
      ]
    },
    {
      "cell_type": "code",
      "metadata": {
        "id": "giDejnBKXhuS",
        "colab_type": "code",
        "colab": {}
      },
      "source": [
        "class RBM():\n",
        "    def __init__(self, nv, nh): \n",
        "        self.W  = torch.randn(nv, nh) \n",
        "        self.a = torch.randn(1, nh) \n",
        "        self.b = torch.randn(1, nv) \n",
        "    def sample_h(self, x): \n",
        "        wx = torch.mm(x, self.W) \n",
        "        activation = wx + self.a.expand_as(wx) \n",
        "        p_h_given_v = torch.sigmoid(activation)\n",
        "        return p_h_given_v, torch.bernoulli(p_h_given_v) \n",
        "    def sample_v(self, y): \n",
        "        wy = torch.mm(y, self.W.t())  \n",
        "        activation = wy + self.b.expand_as(wy)\n",
        "        p_v_given_h = torch.sigmoid(activation)\n",
        "        return p_v_given_h, torch.bernoulli(p_v_given_h)\n",
        "    def train(self, v0, vk, ph0, phk):\n",
        "        self.W += torch.mm(v0.t(), ph0) - torch.mm(vk.t(), phk)\n",
        "        self.b += torch.sum((v0 - vk), 0) \n",
        "        self.a += torch.sum((ph0 - phk), 0) \n",
        "nv = len(training_set[0])\n",
        "nh = 100\n",
        "batch_size = 100\n",
        "rbm = RBM(nv, nh)"
      ],
      "execution_count": 0,
      "outputs": []
    },
    {
      "cell_type": "markdown",
      "metadata": {
        "id": "CvA1nkxidyfS",
        "colab_type": "text"
      },
      "source": [
        "# Training neural network"
      ]
    },
    {
      "cell_type": "code",
      "metadata": {
        "id": "913hfqVYXhuV",
        "colab_type": "code",
        "colab": {
          "base_uri": "https://localhost:8080/",
          "height": 191
        },
        "outputId": "67762864-91a5-447a-848a-0276689d6aef"
      },
      "source": [
        "\n",
        "nb_epoch = 10\n",
        "for epoch in range(1, nb_epoch + 1): \n",
        "    train_loss = 0 \n",
        "    s = 0. \n",
        "    #for id_user in range(0, nb_users - batch_size, batch_size): \n",
        "    for id_users in range(0,nb_users - batch_size, batch_size):\n",
        "      vk = training_set[id_user:id_user+batch_size] \n",
        "      v0 = training_set[id_user:id_user+batch_size] \n",
        "      ph0,_ = rbm.sample_h(v0) \n",
        "      for k in range(10): \n",
        "          _,hk = rbm.sample_h(vk)\n",
        "          _,vk = rbm.sample_v(hk)\n",
        "          vk[v0<0] = v0[v0<0]\n",
        "      phk,_ = rbm.sample_h(vk)\n",
        "      rbm.train(v0, vk, ph0, phk)\n",
        "      train_loss += torch.mean(torch.abs(v0[v0>=0] - vk[v0>=0]))\n",
        "        #train_loss += torch.mean(torch.abs(v0[v0>0]  - vk[v0>=0]))\n",
        "      s += 1.\n",
        "    print('epoch: '+str(epoch)+' loss: '+str(train_loss/s)) "
      ],
      "execution_count": 48,
      "outputs": [
        {
          "output_type": "stream",
          "text": [
            "epoch: 1 loss: tensor(0.1957)\n",
            "epoch: 2 loss: tensor(0.1602)\n",
            "epoch: 3 loss: tensor(0.1546)\n",
            "epoch: 4 loss: tensor(0.1533)\n",
            "epoch: 5 loss: tensor(0.1479)\n",
            "epoch: 6 loss: tensor(0.1524)\n",
            "epoch: 7 loss: tensor(0.1474)\n",
            "epoch: 8 loss: tensor(0.1504)\n",
            "epoch: 9 loss: tensor(0.1458)\n",
            "epoch: 10 loss: tensor(0.1488)\n"
          ],
          "name": "stdout"
        }
      ]
    },
    {
      "cell_type": "markdown",
      "metadata": {
        "id": "wQBWPrUrd6JL",
        "colab_type": "text"
      },
      "source": [
        "# Testing neural network"
      ]
    },
    {
      "cell_type": "code",
      "metadata": {
        "id": "njBFJzq5XhuX",
        "colab_type": "code",
        "colab": {
          "base_uri": "https://localhost:8080/",
          "height": 35
        },
        "outputId": "06f288c2-b948-4bb0-acd3-10a74d48493c"
      },
      "source": [
        "\n",
        "test_loss = 0\n",
        "s = 0.\n",
        "for id_user in range(nb_users):\n",
        "    v = training_set[id_user:id_user+1]\n",
        "    vt = test_set[id_user:id_user+1]\n",
        "    if len(vt[vt>=0]) > 0:\n",
        "        _,h = rbm.sample_h(v)\n",
        "        _,v = rbm.sample_v(h)\n",
        "        test_loss += torch.mean(torch.abs(vt[vt>=0] - v[vt>=0]))\n",
        "        s += 1.\n",
        "print('test loss: '+str(test_loss/s))"
      ],
      "execution_count": 49,
      "outputs": [
        {
          "output_type": "stream",
          "text": [
            "test loss: tensor(0.2413)\n"
          ],
          "name": "stdout"
        }
      ]
    }
  ]
}