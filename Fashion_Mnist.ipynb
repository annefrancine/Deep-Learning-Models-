{
  "nbformat": 4,
  "nbformat_minor": 0,
  "metadata": {
    "colab": {
      "name": "Fashion_Mnist",
      "provenance": [],
      "collapsed_sections": [],
      "authorship_tag": "ABX9TyOrAbi1JpyJIMttNeIr1c7+",
      "include_colab_link": true
    },
    "kernelspec": {
      "name": "python3",
      "display_name": "Python 3"
    }
  },
  "cells": [
    {
      "cell_type": "markdown",
      "metadata": {
        "id": "view-in-github",
        "colab_type": "text"
      },
      "source": [
        "<a href=\"https://colab.research.google.com/github/annefrancine/Deep-Learning-Models-/blob/master/Fashion_Mnist.ipynb\" target=\"_parent\"><img src=\"https://colab.research.google.com/assets/colab-badge.svg\" alt=\"Open In Colab\"/></a>"
      ]
    },
    {
      "cell_type": "code",
      "metadata": {
        "id": "xBXDNixdOCA5",
        "colab_type": "code",
        "colab": {}
      },
      "source": [
        "#! pip install tensorflow --upgrade"
      ],
      "execution_count": 0,
      "outputs": []
    },
    {
      "cell_type": "code",
      "metadata": {
        "id": "PiDdmwlhPHfi",
        "colab_type": "code",
        "colab": {}
      },
      "source": [
        "#!pip install Keras"
      ],
      "execution_count": 0,
      "outputs": []
    },
    {
      "cell_type": "markdown",
      "metadata": {
        "id": "s8jo_JAORAy5",
        "colab_type": "text"
      },
      "source": [
        "# Import packages "
      ]
    },
    {
      "cell_type": "code",
      "metadata": {
        "id": "xQjGEPrCNinz",
        "colab_type": "code",
        "outputId": "40a18f12-92b1-4617-ed6e-0d6566603570",
        "colab": {
          "base_uri": "https://localhost:8080/",
          "height": 34
        }
      },
      "source": [
        "import tensorflow\n",
        "print(tensorflow.__version__)"
      ],
      "execution_count": 42,
      "outputs": [
        {
          "output_type": "stream",
          "text": [
            "2.2.0-rc3\n"
          ],
          "name": "stdout"
        }
      ]
    },
    {
      "cell_type": "code",
      "metadata": {
        "id": "YEiPFVqgRojS",
        "colab_type": "code",
        "colab": {}
      },
      "source": [
        "from tensorflow import keras\n",
        "import matplotlib.pyplot as plt\n",
        "import numpy as np\n"
      ],
      "execution_count": 0,
      "outputs": []
    },
    {
      "cell_type": "markdown",
      "metadata": {
        "id": "-tDswBACRE23",
        "colab_type": "text"
      },
      "source": [
        "# Loading the dataset\n"
      ]
    },
    {
      "cell_type": "code",
      "metadata": {
        "id": "xNFwoG-wMSSz",
        "colab_type": "code",
        "colab": {}
      },
      "source": [
        "dataset = keras.datasets.fashion_mnist"
      ],
      "execution_count": 0,
      "outputs": []
    },
    {
      "cell_type": "code",
      "metadata": {
        "id": "cVBQJdENLqjG",
        "colab_type": "code",
        "colab": {}
      },
      "source": [
        "((X_train,y_train),(X_test,y_test))= dataset.load_data()"
      ],
      "execution_count": 0,
      "outputs": []
    },
    {
      "cell_type": "markdown",
      "metadata": {
        "id": "tR1Vn4CORQd1",
        "colab_type": "text"
      },
      "source": [
        "# Exploring the data"
      ]
    },
    {
      "cell_type": "code",
      "metadata": {
        "id": "nkTktHazMNau",
        "colab_type": "code",
        "outputId": "fc4838c7-55a8-4f7f-ff96-e5bd77d82208",
        "colab": {
          "base_uri": "https://localhost:8080/",
          "height": 868
        }
      },
      "source": [
        "X_train"
      ],
      "execution_count": 46,
      "outputs": [
        {
          "output_type": "execute_result",
          "data": {
            "text/plain": [
              "array([[[0, 0, 0, ..., 0, 0, 0],\n",
              "        [0, 0, 0, ..., 0, 0, 0],\n",
              "        [0, 0, 0, ..., 0, 0, 0],\n",
              "        ...,\n",
              "        [0, 0, 0, ..., 0, 0, 0],\n",
              "        [0, 0, 0, ..., 0, 0, 0],\n",
              "        [0, 0, 0, ..., 0, 0, 0]],\n",
              "\n",
              "       [[0, 0, 0, ..., 0, 0, 0],\n",
              "        [0, 0, 0, ..., 0, 0, 0],\n",
              "        [0, 0, 0, ..., 0, 0, 0],\n",
              "        ...,\n",
              "        [0, 0, 0, ..., 0, 0, 0],\n",
              "        [0, 0, 0, ..., 0, 0, 0],\n",
              "        [0, 0, 0, ..., 0, 0, 0]],\n",
              "\n",
              "       [[0, 0, 0, ..., 0, 0, 0],\n",
              "        [0, 0, 0, ..., 0, 0, 0],\n",
              "        [0, 0, 0, ..., 0, 0, 0],\n",
              "        ...,\n",
              "        [0, 0, 0, ..., 0, 0, 0],\n",
              "        [0, 0, 0, ..., 0, 0, 0],\n",
              "        [0, 0, 0, ..., 0, 0, 0]],\n",
              "\n",
              "       ...,\n",
              "\n",
              "       [[0, 0, 0, ..., 0, 0, 0],\n",
              "        [0, 0, 0, ..., 0, 0, 0],\n",
              "        [0, 0, 0, ..., 0, 0, 0],\n",
              "        ...,\n",
              "        [0, 0, 0, ..., 0, 0, 0],\n",
              "        [0, 0, 0, ..., 0, 0, 0],\n",
              "        [0, 0, 0, ..., 0, 0, 0]],\n",
              "\n",
              "       [[0, 0, 0, ..., 0, 0, 0],\n",
              "        [0, 0, 0, ..., 0, 0, 0],\n",
              "        [0, 0, 0, ..., 0, 0, 0],\n",
              "        ...,\n",
              "        [0, 0, 0, ..., 0, 0, 0],\n",
              "        [0, 0, 0, ..., 0, 0, 0],\n",
              "        [0, 0, 0, ..., 0, 0, 0]],\n",
              "\n",
              "       [[0, 0, 0, ..., 0, 0, 0],\n",
              "        [0, 0, 0, ..., 0, 0, 0],\n",
              "        [0, 0, 0, ..., 0, 0, 0],\n",
              "        ...,\n",
              "        [0, 0, 0, ..., 0, 0, 0],\n",
              "        [0, 0, 0, ..., 0, 0, 0],\n",
              "        [0, 0, 0, ..., 0, 0, 0]]], dtype=uint8)"
            ]
          },
          "metadata": {
            "tags": []
          },
          "execution_count": 46
        }
      ]
    },
    {
      "cell_type": "code",
      "metadata": {
        "id": "lTUMvnxSNgHh",
        "colab_type": "code",
        "outputId": "68073725-fbcc-4a07-d420-ceded98e1bb2",
        "colab": {
          "base_uri": "https://localhost:8080/",
          "height": 34
        }
      },
      "source": [
        "len(X_train)\n",
        "X_train.shape"
      ],
      "execution_count": 47,
      "outputs": [
        {
          "output_type": "execute_result",
          "data": {
            "text/plain": [
              "(60000, 28, 28)"
            ]
          },
          "metadata": {
            "tags": []
          },
          "execution_count": 47
        }
      ]
    },
    {
      "cell_type": "code",
      "metadata": {
        "id": "vX7w4a-yNuLs",
        "colab_type": "code",
        "outputId": "5ed2d8f3-e2ae-4d70-a41f-a2b58d148900",
        "colab": {
          "base_uri": "https://localhost:8080/",
          "height": 34
        }
      },
      "source": [
        "X_test.shape"
      ],
      "execution_count": 48,
      "outputs": [
        {
          "output_type": "execute_result",
          "data": {
            "text/plain": [
              "(10000, 28, 28)"
            ]
          },
          "metadata": {
            "tags": []
          },
          "execution_count": 48
        }
      ]
    },
    {
      "cell_type": "code",
      "metadata": {
        "id": "M_aHoo9DORD6",
        "colab_type": "code",
        "outputId": "c9d66fb5-0cd1-4ec9-93e0-b2c9d6e12f90",
        "colab": {
          "base_uri": "https://localhost:8080/",
          "height": 34
        }
      },
      "source": [
        "len(y_train)\n",
        "y_train.shape"
      ],
      "execution_count": 49,
      "outputs": [
        {
          "output_type": "execute_result",
          "data": {
            "text/plain": [
              "(60000,)"
            ]
          },
          "metadata": {
            "tags": []
          },
          "execution_count": 49
        }
      ]
    },
    {
      "cell_type": "markdown",
      "metadata": {
        "id": "2P3JrNg3Xzsi",
        "colab_type": "text"
      },
      "source": [
        "# Displaying the data"
      ]
    },
    {
      "cell_type": "code",
      "metadata": {
        "id": "FRIFT-obP3Cu",
        "colab_type": "code",
        "outputId": "10cab4f9-e429-4bfa-c35d-713c22da95d2",
        "colab": {
          "base_uri": "https://localhost:8080/",
          "height": 281
        }
      },
      "source": [
        "plt.imshow(X_train[0]);\n",
        "plt.title(y_train[0]);"
      ],
      "execution_count": 50,
      "outputs": [
        {
          "output_type": "display_data",
          "data": {
            "image/png": "[encoded data removed]",
            "text/plain": [
              "<Figure size 432x288 with 1 Axes>"
            ]
          },
          "metadata": {
            "tags": [],
            "needs_background": "light"
          }
        }
      ]
    },
    {
      "cell_type": "code",
      "metadata": {
        "id": "ccnbvEkuQJgV",
        "colab_type": "code",
        "outputId": "7cd72d2b-b709-4a00-c77d-94d18a4bbb84",
        "colab": {
          "base_uri": "https://localhost:8080/",
          "height": 34
        }
      },
      "source": [
        "y_train.min(),y_train.max()"
      ],
      "execution_count": 51,
      "outputs": [
        {
          "output_type": "execute_result",
          "data": {
            "text/plain": [
              "(0, 9)"
            ]
          },
          "metadata": {
            "tags": []
          },
          "execution_count": 51
        }
      ]
    },
    {
      "cell_type": "code",
      "metadata": {
        "id": "A_ACkQYRSylS",
        "colab_type": "code",
        "outputId": "a79e2ea3-875b-45ec-c734-a2eb263b5d8d",
        "colab": {
          "base_uri": "https://localhost:8080/",
          "height": 240
        }
      },
      "source": [
        "total_labels = 10\n",
        "name_labels = ['T-shirt/top', 'Trouser', 'Pullover', 'Dress' , 'Coat' , 'Sandal' \n",
        "              ,'Shirt', 'Sneaker', 'Bag' , 'Ankle boot']\n",
        "\n",
        "for X in range(10):\n",
        "  plt.subplot(2, 5, X+1)\n",
        "  plt.imshow(X_train[X])\n",
        "  plt.title(name_labels[y_train[X]])"
      ],
      "execution_count": 52,
      "outputs": [
        {
          "output_type": "display_data",
          "data": {
            "image/png": "[encoded data removed]",
            "text/plain": [
              "<Figure size 432x288 with 10 Axes>"
            ]
          },
          "metadata": {
            "tags": [],
            "needs_background": "light"
          }
        }
      ]
    },
    {
      "cell_type": "code",
      "metadata": {
        "id": "ehLqwPS3XNK8",
        "colab_type": "code",
        "outputId": "a56ebcb6-c7a1-4e13-f48a-7f3b7c1997e0",
        "colab": {
          "base_uri": "https://localhost:8080/",
          "height": 265
        }
      },
      "source": [
        "plt.imshow(X_train[0])\n",
        "plt.colorbar();"
      ],
      "execution_count": 53,
      "outputs": [
        {
          "output_type": "display_data",
          "data": {
            "image/png": "[encoded data removed]",
            "text/plain": [
              "<Figure size 432x288 with 2 Axes>"
            ]
          },
          "metadata": {
            "tags": [],
            "needs_background": "light"
          }
        }
      ]
    },
    {
      "cell_type": "markdown",
      "metadata": {
        "id": "pv19LMYo8vdi",
        "colab_type": "text"
      },
      "source": [
        "# Data normalization\n",
        "We then normalize the data dimensions so that they are of approximately the same scale."
      ]
    },
    {
      "cell_type": "code",
      "metadata": {
        "id": "ZnZRRE398w_M",
        "colab_type": "code",
        "colab": {}
      },
      "source": [
        "X_train = X_train.astype('float32') / 255\n",
        "X_test = X_test.astype('float32') / 255"
      ],
      "execution_count": 0,
      "outputs": []
    },
    {
      "cell_type": "markdown",
      "metadata": {
        "id": "khWY0zFwfGoX",
        "colab_type": "text"
      },
      "source": [
        "# Model\n",
        "Let’s define the model and train it. \n",
        "\n"
      ]
    },
    {
      "cell_type": "code",
      "metadata": {
        "id": "HRub_3go7KNx",
        "colab_type": "code",
        "outputId": "bba9c416-6755-439a-8646-2c2f3c614628",
        "colab": {
          "base_uri": "https://localhost:8080/",
          "height": 191
        }
      },
      "source": [
        "model = keras.Sequential([ \n",
        "    keras.layers.Flatten(input_shape=(28, 28)),\n",
        "    keras.layers.Dense(256, activation=tensorflow.nn.relu),\n",
        "    keras.layers.Dropout(0.2),\n",
        "    #keras.layers.Dense(128, activation=tensorflow.nn.relu),\n",
        "    #keras.layers.Dense(64, activation=tensorflow.nn.relu),\n",
        "    keras.layers.Dense(10, activation=tensorflow.nn.softmax)\n",
        "])\n",
        "\n",
        "model.compile(optimizer='adam', \n",
        "               loss='sparse_categorical_crossentropy',\n",
        "               metrics=['accuracy'])\n",
        "\n",
        "historical = model.fit(X_train, y_train, epochs=5, validation_split=0.2)\n",
        "\n"
      ],
      "execution_count": 82,
      "outputs": [
        {
          "output_type": "stream",
          "text": [
            "Epoch 1/5\n",
            "1500/1500 [==============================] - 5s 3ms/step - loss: 0.5335 - accuracy: 0.8111 - val_loss: 0.4143 - val_accuracy: 0.8489\n",
            "Epoch 2/5\n",
            "1500/1500 [==============================] - 5s 3ms/step - loss: 0.4010 - accuracy: 0.8537 - val_loss: 0.3770 - val_accuracy: 0.8622\n",
            "Epoch 3/5\n",
            "1500/1500 [==============================] - 5s 3ms/step - loss: 0.3662 - accuracy: 0.8664 - val_loss: 0.3537 - val_accuracy: 0.8687\n",
            "Epoch 4/5\n",
            "1500/1500 [==============================] - 5s 3ms/step - loss: 0.3388 - accuracy: 0.8759 - val_loss: 0.3488 - val_accuracy: 0.8740\n",
            "Epoch 5/5\n",
            "1500/1500 [==============================] - 5s 3ms/step - loss: 0.3235 - accuracy: 0.8800 - val_loss: 0.3556 - val_accuracy: 0.8720\n"
          ],
          "name": "stdout"
        }
      ]
    },
    {
      "cell_type": "code",
      "metadata": {
        "id": "OKhkQX-M_DX8",
        "colab_type": "code",
        "outputId": "daab1af0-6fff-4bcb-8f78-1891e758ff57",
        "colab": {
          "base_uri": "https://localhost:8080/",
          "height": 52
        }
      },
      "source": [
        "test = model.predict(X_test)\n",
        "print('test result :', np.argmax(test[1]))\n",
        "print('test image number :', y_test[1])"
      ],
      "execution_count": 83,
      "outputs": [
        {
          "output_type": "stream",
          "text": [
            "test result : 2\n",
            "test image number : 2\n"
          ],
          "name": "stdout"
        }
      ]
    },
    {
      "cell_type": "code",
      "metadata": {
        "id": "aCQUx2maAIG3",
        "colab_type": "code",
        "outputId": "6c56accb-4e5a-4553-e202-4e7d00787c7d",
        "colab": {
          "base_uri": "https://localhost:8080/",
          "height": 69
        }
      },
      "source": [
        "loss_test, accuracy_test = model.evaluate(X_test, y_test)\n",
        "print('Loss:', loss_test)\n",
        "print('Accuracy:', accuracy_test)"
      ],
      "execution_count": 84,
      "outputs": [
        {
          "output_type": "stream",
          "text": [
            "313/313 [==============================] - 0s 2ms/step - loss: 0.3710 - accuracy: 0.8653\n",
            "Loss: 0.3710445463657379\n",
            "Accuracy: 0.8652999997138977\n"
          ],
          "name": "stdout"
        }
      ]
    },
    {
      "cell_type": "markdown",
      "metadata": {
        "id": "5-1jxm1TadGl",
        "colab_type": "text"
      },
      "source": [
        "# Saving and loading the trained model"
      ]
    },
    {
      "cell_type": "code",
      "metadata": {
        "id": "Nf520hwtJ1yx",
        "colab_type": "code",
        "colab": {}
      },
      "source": [
        "from tensorflow.keras.models import load_model\n",
        "\n",
        "model.save('model.h5')\n",
        "model_salvo = load_model('model.h5')"
      ],
      "execution_count": 0,
      "outputs": []
    },
    {
      "cell_type": "markdown",
      "metadata": {
        "id": "ZZ795WK9ak-_",
        "colab_type": "text"
      },
      "source": [
        "# Viewing training and validation accuracy by epoch"
      ]
    },
    {
      "cell_type": "code",
      "metadata": {
        "id": "z9uwlmgsODC2",
        "colab_type": "code",
        "colab": {
          "base_uri": "https://localhost:8080/",
          "height": 295
        },
        "outputId": "c6a7793c-5744-41d7-bbf8-0cad626614ab"
      },
      "source": [
        "plt.plot(historical.history['accuracy'])\n",
        "plt.plot(historical.history['val_accuracy'])\n",
        "plt.title('Accuracy_epoch')\n",
        "plt.xlabel('epoch')\n",
        "plt.ylabel('accuracy')\n",
        "plt.legend(['train', 'validation']);"
      ],
      "execution_count": 86,
      "outputs": [
        {
          "output_type": "display_data",
          "data": {
            "image/png": "[encoded data removed]",
            "text/plain": [
              "<Figure size 432x288 with 1 Axes>"
            ]
          },
          "metadata": {
            "tags": [],
            "needs_background": "light"
          }
        }
      ]
    },
    {
      "cell_type": "markdown",
      "metadata": {
        "id": "Krumt5aMaysE",
        "colab_type": "text"
      },
      "source": [
        "# Viewing training losses and validation by epochs"
      ]
    },
    {
      "cell_type": "code",
      "metadata": {
        "id": "1u0eS0cAPCoJ",
        "colab_type": "code",
        "colab": {
          "base_uri": "https://localhost:8080/",
          "height": 295
        },
        "outputId": "8b591a87-4e1d-4f36-e866-a39ad8c53e3d"
      },
      "source": [
        "plt.plot(historical.history['loss'])\n",
        "plt.plot(historical.history['val_loss'])\n",
        "plt.title('loss by epochs')\n",
        "plt.xlabel('epoch')\n",
        "plt.ylabel('loss')\n",
        "plt.legend(['train', 'validation']);"
      ],
      "execution_count": 88,
      "outputs": [
        {
          "output_type": "display_data",
          "data": {
            "image/png": "[encoded data removed]",
            "text/plain": [
              "<Figure size 432x288 with 1 Axes>"
            ]
          },
          "metadata": {
            "tags": [],
            "needs_background": "light"
          }
        }
      ]
    },
    {
      "cell_type": "markdown",
      "metadata": {
        "id": "eMchm2BlbAcy",
        "colab_type": "text"
      },
      "source": [
        "# Testing the model and the saved model"
      ]
    },
    {
      "cell_type": "code",
      "metadata": {
        "id": "2pPXKFZFPS6d",
        "colab_type": "code",
        "colab": {
          "base_uri": "https://localhost:8080/",
          "height": 52
        },
        "outputId": "c38eddb6-c1f0-4dbb-9a90-45d7de902c42"
      },
      "source": [
        "test = model.predict(X_test)\n",
        "print('test result:', np.argmax(test[1]))\n",
        "print('test image number:', y_test[1])\n"
      ],
      "execution_count": 77,
      "outputs": [
        {
          "output_type": "stream",
          "text": [
            "test result: 2\n",
            "test image number: 2\n"
          ],
          "name": "stdout"
        }
      ]
    },
    {
      "cell_type": "code",
      "metadata": {
        "id": "zF3VmAWBQdum",
        "colab_type": "code",
        "colab": {}
      },
      "source": [
        "test_model_save = model_salvo.predict(X_test)"
      ],
      "execution_count": 0,
      "outputs": []
    },
    {
      "cell_type": "code",
      "metadata": {
        "id": "8lF-5D_AQiQ6",
        "colab_type": "code",
        "colab": {
          "base_uri": "https://localhost:8080/",
          "height": 52
        },
        "outputId": "e08961ff-c24d-471f-80e9-a95cace86cad"
      },
      "source": [
        "print('test result:', np.argmax(test_model_save[1]))\n",
        "print('test image number:', y_test[1])"
      ],
      "execution_count": 79,
      "outputs": [
        {
          "output_type": "stream",
          "text": [
            "test result: 2\n",
            "test image number: 2\n"
          ],
          "name": "stdout"
        }
      ]
    },
    {
      "cell_type": "markdown",
      "metadata": {
        "id": "ei96teFmbK4O",
        "colab_type": "text"
      },
      "source": [
        "# Evaluating the model"
      ]
    },
    {
      "cell_type": "code",
      "metadata": {
        "id": "94BxpKbpQ6qp",
        "colab_type": "code",
        "colab": {
          "base_uri": "https://localhost:8080/",
          "height": 69
        },
        "outputId": "c8461109-09b4-416e-b0c6-3b72be8d3a49"
      },
      "source": [
        "loss_test, accuracy_test = model.evaluate(X_test, y_test)\n",
        "print('Loss:', loss_test)\n",
        "print('Accuracy:', accuracy_test)"
      ],
      "execution_count": 80,
      "outputs": [
        {
          "output_type": "stream",
          "text": [
            "313/313 [==============================] - 1s 2ms/step - loss: 0.4010 - accuracy: 0.8653\n",
            "Loss: 0.40101176500320435\n",
            "Accuracy: 0.8652999997138977\n"
          ],
          "name": "stdout"
        }
      ]
    }
  ]
}