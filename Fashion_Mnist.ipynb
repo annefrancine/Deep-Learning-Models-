{
  "nbformat": 4,
  "nbformat_minor": 0,
  "metadata": {
    "colab": {
      "name": "Fashion_Mnist",
      "provenance": [],
      "collapsed_sections": [],
      "authorship_tag": "ABX9TyOXgN9JZVQbUw43L2KWwC0f",
      "include_colab_link": true
    },
    "kernelspec": {
      "name": "python3",
      "display_name": "Python 3"
    }
  },
  "cells": [
    {
      "cell_type": "markdown",
      "metadata": {
        "id": "view-in-github",
        "colab_type": "text"
      },
      "source": [
        "<a href=\"https://colab.research.google.com/github/annefrancine/Deep-Learning-Models-/blob/master/Fashion_Mnist.ipynb\" target=\"_parent\"><img src=\"https://colab.research.google.com/assets/colab-badge.svg\" alt=\"Open In Colab\"/></a>"
      ]
    },
    {
      "cell_type": "code",
      "metadata": {
        "id": "xBXDNixdOCA5",
        "colab_type": "code",
        "colab": {}
      },
      "source": [
        "#! pip install tensorflow --upgrade"
      ],
      "execution_count": 0,
      "outputs": []
    },
    {
      "cell_type": "code",
      "metadata": {
        "id": "PiDdmwlhPHfi",
        "colab_type": "code",
        "colab": {}
      },
      "source": [
        "#!pip install Keras"
      ],
      "execution_count": 0,
      "outputs": []
    },
    {
      "cell_type": "markdown",
      "metadata": {
        "id": "s8jo_JAORAy5",
        "colab_type": "text"
      },
      "source": [
        "# Import packages "
      ]
    },
    {
      "cell_type": "code",
      "metadata": {
        "id": "xQjGEPrCNinz",
        "colab_type": "code",
        "outputId": "903705e8-2650-4c93-fa5d-871fcfbf8457",
        "colab": {
          "base_uri": "https://localhost:8080/",
          "height": 35
        }
      },
      "source": [
        "import tensorflow\n",
        "print(tensorflow.__version__)"
      ],
      "execution_count": 71,
      "outputs": [
        {
          "output_type": "stream",
          "text": [
            "2.2.0-rc3\n"
          ],
          "name": "stdout"
        }
      ]
    },
    {
      "cell_type": "code",
      "metadata": {
        "id": "YEiPFVqgRojS",
        "colab_type": "code",
        "colab": {}
      },
      "source": [
        "from tensorflow import keras\n",
        "import matplotlib.pyplot as plt\n",
        "import numpy as np\n"
      ],
      "execution_count": 0,
      "outputs": []
    },
    {
      "cell_type": "markdown",
      "metadata": {
        "id": "-tDswBACRE23",
        "colab_type": "text"
      },
      "source": [
        "# Loading the dataset\n"
      ]
    },
    {
      "cell_type": "code",
      "metadata": {
        "id": "xNFwoG-wMSSz",
        "colab_type": "code",
        "colab": {}
      },
      "source": [
        "dataset = keras.datasets.fashion_mnist"
      ],
      "execution_count": 0,
      "outputs": []
    },
    {
      "cell_type": "code",
      "metadata": {
        "id": "cVBQJdENLqjG",
        "colab_type": "code",
        "colab": {}
      },
      "source": [
        "((X_train,y_train),(X_test,y_test))= dataset.load_data()"
      ],
      "execution_count": 0,
      "outputs": []
    },
    {
      "cell_type": "markdown",
      "metadata": {
        "id": "tR1Vn4CORQd1",
        "colab_type": "text"
      },
      "source": [
        "# Exploring the data"
      ]
    },
    {
      "cell_type": "code",
      "metadata": {
        "id": "nkTktHazMNau",
        "colab_type": "code",
        "outputId": "f27dcc7a-7505-445e-da10-d9b95268c5ef",
        "colab": {
          "base_uri": "https://localhost:8080/",
          "height": 867
        }
      },
      "source": [
        "X_train"
      ],
      "execution_count": 75,
      "outputs": [
        {
          "output_type": "execute_result",
          "data": {
            "text/plain": [
              "array([[[0, 0, 0, ..., 0, 0, 0],\n",
              "        [0, 0, 0, ..., 0, 0, 0],\n",
              "        [0, 0, 0, ..., 0, 0, 0],\n",
              "        ...,\n",
              "        [0, 0, 0, ..., 0, 0, 0],\n",
              "        [0, 0, 0, ..., 0, 0, 0],\n",
              "        [0, 0, 0, ..., 0, 0, 0]],\n",
              "\n",
              "       [[0, 0, 0, ..., 0, 0, 0],\n",
              "        [0, 0, 0, ..., 0, 0, 0],\n",
              "        [0, 0, 0, ..., 0, 0, 0],\n",
              "        ...,\n",
              "        [0, 0, 0, ..., 0, 0, 0],\n",
              "        [0, 0, 0, ..., 0, 0, 0],\n",
              "        [0, 0, 0, ..., 0, 0, 0]],\n",
              "\n",
              "       [[0, 0, 0, ..., 0, 0, 0],\n",
              "        [0, 0, 0, ..., 0, 0, 0],\n",
              "        [0, 0, 0, ..., 0, 0, 0],\n",
              "        ...,\n",
              "        [0, 0, 0, ..., 0, 0, 0],\n",
              "        [0, 0, 0, ..., 0, 0, 0],\n",
              "        [0, 0, 0, ..., 0, 0, 0]],\n",
              "\n",
              "       ...,\n",
              "\n",
              "       [[0, 0, 0, ..., 0, 0, 0],\n",
              "        [0, 0, 0, ..., 0, 0, 0],\n",
              "        [0, 0, 0, ..., 0, 0, 0],\n",
              "        ...,\n",
              "        [0, 0, 0, ..., 0, 0, 0],\n",
              "        [0, 0, 0, ..., 0, 0, 0],\n",
              "        [0, 0, 0, ..., 0, 0, 0]],\n",
              "\n",
              "       [[0, 0, 0, ..., 0, 0, 0],\n",
              "        [0, 0, 0, ..., 0, 0, 0],\n",
              "        [0, 0, 0, ..., 0, 0, 0],\n",
              "        ...,\n",
              "        [0, 0, 0, ..., 0, 0, 0],\n",
              "        [0, 0, 0, ..., 0, 0, 0],\n",
              "        [0, 0, 0, ..., 0, 0, 0]],\n",
              "\n",
              "       [[0, 0, 0, ..., 0, 0, 0],\n",
              "        [0, 0, 0, ..., 0, 0, 0],\n",
              "        [0, 0, 0, ..., 0, 0, 0],\n",
              "        ...,\n",
              "        [0, 0, 0, ..., 0, 0, 0],\n",
              "        [0, 0, 0, ..., 0, 0, 0],\n",
              "        [0, 0, 0, ..., 0, 0, 0]]], dtype=uint8)"
            ]
          },
          "metadata": {
            "tags": []
          },
          "execution_count": 75
        }
      ]
    },
    {
      "cell_type": "code",
      "metadata": {
        "id": "lTUMvnxSNgHh",
        "colab_type": "code",
        "outputId": "01c82ca2-9e6b-45ee-e86c-d2be350fc328",
        "colab": {
          "base_uri": "https://localhost:8080/",
          "height": 35
        }
      },
      "source": [
        "len(X_train)\n",
        "X_train.shape"
      ],
      "execution_count": 76,
      "outputs": [
        {
          "output_type": "execute_result",
          "data": {
            "text/plain": [
              "(60000, 28, 28)"
            ]
          },
          "metadata": {
            "tags": []
          },
          "execution_count": 76
        }
      ]
    },
    {
      "cell_type": "code",
      "metadata": {
        "id": "vX7w4a-yNuLs",
        "colab_type": "code",
        "outputId": "d62da2be-6074-4490-fdcd-9afa2ae5f72b",
        "colab": {
          "base_uri": "https://localhost:8080/",
          "height": 35
        }
      },
      "source": [
        "X_test.shape"
      ],
      "execution_count": 77,
      "outputs": [
        {
          "output_type": "execute_result",
          "data": {
            "text/plain": [
              "(10000, 28, 28)"
            ]
          },
          "metadata": {
            "tags": []
          },
          "execution_count": 77
        }
      ]
    },
    {
      "cell_type": "code",
      "metadata": {
        "id": "M_aHoo9DORD6",
        "colab_type": "code",
        "outputId": "1b95e149-f641-49ed-fa27-b871607f232c",
        "colab": {
          "base_uri": "https://localhost:8080/",
          "height": 35
        }
      },
      "source": [
        "len(y_train)\n",
        "y_train.shape"
      ],
      "execution_count": 78,
      "outputs": [
        {
          "output_type": "execute_result",
          "data": {
            "text/plain": [
              "(60000,)"
            ]
          },
          "metadata": {
            "tags": []
          },
          "execution_count": 78
        }
      ]
    },
    {
      "cell_type": "markdown",
      "metadata": {
        "id": "2P3JrNg3Xzsi",
        "colab_type": "text"
      },
      "source": [
        "# Displaying the data"
      ]
    },
    {
      "cell_type": "code",
      "metadata": {
        "id": "FRIFT-obP3Cu",
        "colab_type": "code",
        "outputId": "9c255350-445a-4b88-feba-ae6ca5c5ce99",
        "colab": {
          "base_uri": "https://localhost:8080/",
          "height": 281
        }
      },
      "source": [
        "plt.imshow(X_train[0]);\n",
        "plt.title(y_train[0]);"
      ],
      "execution_count": 79,
      "outputs": [
        {
          "output_type": "display_data",
          "data": {
            "image/png": "[encoded data removed]",
            "text/plain": [
              "<Figure size 432x288 with 1 Axes>"
            ]
          },
          "metadata": {
            "tags": [],
            "needs_background": "light"
          }
        }
      ]
    },
    {
      "cell_type": "code",
      "metadata": {
        "id": "ccnbvEkuQJgV",
        "colab_type": "code",
        "outputId": "6f1bdddf-be49-4b03-fc62-0c7cd51ba32d",
        "colab": {
          "base_uri": "https://localhost:8080/",
          "height": 35
        }
      },
      "source": [
        "y_train.min(),y_train.max()"
      ],
      "execution_count": 80,
      "outputs": [
        {
          "output_type": "execute_result",
          "data": {
            "text/plain": [
              "(0, 9)"
            ]
          },
          "metadata": {
            "tags": []
          },
          "execution_count": 80
        }
      ]
    },
    {
      "cell_type": "code",
      "metadata": {
        "id": "A_ACkQYRSylS",
        "colab_type": "code",
        "outputId": "caaafa69-d571-4424-b5b9-049868765cd7",
        "colab": {
          "base_uri": "https://localhost:8080/",
          "height": 240
        }
      },
      "source": [
        "total_labels = 10\n",
        "name_labels = ['T-shirt/top', 'Trouser', 'Pullover', 'Dress' , 'Coat' , 'Sandal' \n",
        "              ,'Shirt', 'Sneaker', 'Bag' , 'Ankle boot']\n",
        "\n",
        "for X in range(10):\n",
        "  plt.subplot(2, 5, X+1)\n",
        "  plt.imshow(X_train[X])\n",
        "  plt.title(name_labels[y_train[X]])"
      ],
      "execution_count": 81,
      "outputs": [
        {
          "output_type": "display_data",
          "data": {
            "image/png": "[encoded data removed]",
            "text/plain": [
              "<Figure size 432x288 with 10 Axes>"
            ]
          },
          "metadata": {
            "tags": [],
            "needs_background": "light"
          }
        }
      ]
    },
    {
      "cell_type": "code",
      "metadata": {
        "id": "ehLqwPS3XNK8",
        "colab_type": "code",
        "outputId": "d02d009d-1b99-48e8-e689-453445dd158b",
        "colab": {
          "base_uri": "https://localhost:8080/",
          "height": 265
        }
      },
      "source": [
        "plt.imshow(X_train[0])\n",
        "plt.colorbar();"
      ],
      "execution_count": 82,
      "outputs": [
        {
          "output_type": "display_data",
          "data": {
            "image/png": "[encoded data removed]",
            "text/plain": [
              "<Figure size 432x288 with 2 Axes>"
            ]
          },
          "metadata": {
            "tags": [],
            "needs_background": "light"
          }
        }
      ]
    },
    {
      "cell_type": "markdown",
      "metadata": {
        "id": "pv19LMYo8vdi",
        "colab_type": "text"
      },
      "source": [
        "# Data normalization\n",
        "We then normalize the data dimensions so that they are of approximately the same scale."
      ]
    },
    {
      "cell_type": "code",
      "metadata": {
        "id": "ZnZRRE398w_M",
        "colab_type": "code",
        "colab": {}
      },
      "source": [
        "X_train = X_train.astype('float32') / 255\n",
        "X_test = X_test.astype('float32') / 255"
      ],
      "execution_count": 0,
      "outputs": []
    },
    {
      "cell_type": "markdown",
      "metadata": {
        "id": "khWY0zFwfGoX",
        "colab_type": "text"
      },
      "source": [
        "# Model\n",
        "Let’s define the model and train it. \n",
        "\n"
      ]
    },
    {
      "cell_type": "code",
      "metadata": {
        "id": "HRub_3go7KNx",
        "colab_type": "code",
        "outputId": "260641ab-0da2-4d7c-f626-cdb5c72f5692",
        "colab": {
          "base_uri": "https://localhost:8080/",
          "height": 191
        }
      },
      "source": [
        "model = keras.Sequential([ \n",
        "    keras.layers.Flatten(input_shape=(28, 28)),\n",
        "    keras.layers.Dense(256, activation=tensorflow.nn.relu),\n",
        "    keras.layers.Dropout(0.2),\n",
        "    #keras.layers.Dense(128, activation=tensorflow.nn.relu),\n",
        "    #keras.layers.Dense(64, activation=tensorflow.nn.relu),\n",
        "    keras.layers.Dense(10, activation=tensorflow.nn.softmax)\n",
        "])\n",
        "\n",
        "model.compile(optimizer='adam', \n",
        "               loss='sparse_categorical_crossentropy',\n",
        "               metrics=['accuracy'])\n",
        "\n",
        "historical = model.fit(X_train, y_train, epochs=5, validation_split=0.2)\n",
        "\n"
      ],
      "execution_count": 84,
      "outputs": [
        {
          "output_type": "stream",
          "text": [
            "Epoch 1/5\n",
            "1500/1500 [==============================] - 4s 3ms/step - loss: 0.5242 - accuracy: 0.8145 - val_loss: 0.4401 - val_accuracy: 0.8377\n",
            "Epoch 2/5\n",
            "1500/1500 [==============================] - 4s 3ms/step - loss: 0.4001 - accuracy: 0.8530 - val_loss: 0.3729 - val_accuracy: 0.8662\n",
            "Epoch 3/5\n",
            "1500/1500 [==============================] - 4s 3ms/step - loss: 0.3636 - accuracy: 0.8661 - val_loss: 0.3510 - val_accuracy: 0.8736\n",
            "Epoch 4/5\n",
            "1500/1500 [==============================] - 4s 3ms/step - loss: 0.3407 - accuracy: 0.8747 - val_loss: 0.3506 - val_accuracy: 0.8743\n",
            "Epoch 5/5\n",
            "1500/1500 [==============================] - 4s 3ms/step - loss: 0.3240 - accuracy: 0.8808 - val_loss: 0.3299 - val_accuracy: 0.8802\n"
          ],
          "name": "stdout"
        }
      ]
    },
    {
      "cell_type": "code",
      "metadata": {
        "id": "OKhkQX-M_DX8",
        "colab_type": "code",
        "outputId": "4b072b1d-36f6-4366-de24-db63e5b53347",
        "colab": {
          "base_uri": "https://localhost:8080/",
          "height": 52
        }
      },
      "source": [
        "test = model.predict(X_test)\n",
        "print('test result :', np.argmax(test[1]))\n",
        "print('test image number :', y_test[1])"
      ],
      "execution_count": 85,
      "outputs": [
        {
          "output_type": "stream",
          "text": [
            "test result : 2\n",
            "test image number : 2\n"
          ],
          "name": "stdout"
        }
      ]
    },
    {
      "cell_type": "code",
      "metadata": {
        "id": "aCQUx2maAIG3",
        "colab_type": "code",
        "outputId": "55b40682-42a7-4076-a65c-e5a3369e7767",
        "colab": {
          "base_uri": "https://localhost:8080/",
          "height": 69
        }
      },
      "source": [
        "loss_test, accuracy_test = model.evaluate(X_test, y_test)\n",
        "print('Loss:', loss_test)\n",
        "print('Accuracy:', accuracy_test)"
      ],
      "execution_count": 86,
      "outputs": [
        {
          "output_type": "stream",
          "text": [
            "313/313 [==============================] - 0s 1ms/step - loss: 0.3527 - accuracy: 0.8719\n",
            "Loss: 0.35265302658081055\n",
            "Accuracy: 0.8719000220298767\n"
          ],
          "name": "stdout"
        }
      ]
    },
    {
      "cell_type": "markdown",
      "metadata": {
        "id": "h1K3l3a2mX8h",
        "colab_type": "text"
      },
      "source": [
        "# Model summary"
      ]
    },
    {
      "cell_type": "code",
      "metadata": {
        "id": "zMAv87YYkBgr",
        "colab_type": "code",
        "outputId": "efbc602d-3b6a-41ab-d067-976727cbdba6",
        "colab": {
          "base_uri": "https://localhost:8080/",
          "height": 295
        }
      },
      "source": [
        "model.summary()"
      ],
      "execution_count": 87,
      "outputs": [
        {
          "output_type": "stream",
          "text": [
            "Model: \"sequential_2\"\n",
            "_________________________________________________________________\n",
            "Layer (type)                 Output Shape              Param #   \n",
            "=================================================================\n",
            "flatten_2 (Flatten)          (None, 784)               0         \n",
            "_________________________________________________________________\n",
            "dense_4 (Dense)              (None, 256)               200960    \n",
            "_________________________________________________________________\n",
            "dropout_2 (Dropout)          (None, 256)               0         \n",
            "_________________________________________________________________\n",
            "dense_5 (Dense)              (None, 10)                2570      \n",
            "=================================================================\n",
            "Total params: 203,530\n",
            "Trainable params: 203,530\n",
            "Non-trainable params: 0\n",
            "_________________________________________________________________\n"
          ],
          "name": "stdout"
        }
      ]
    },
    {
      "cell_type": "markdown",
      "metadata": {
        "id": "quk8AQVCmcGo",
        "colab_type": "text"
      },
      "source": [
        "# First layer weights"
      ]
    },
    {
      "cell_type": "code",
      "metadata": {
        "id": "xY8nevYwlV27",
        "colab_type": "code",
        "outputId": "d8204556-d200-4bf9-e44b-2d5dea735e00",
        "colab": {
          "base_uri": "https://localhost:8080/",
          "height": 1000
        }
      },
      "source": [
        "weights_layer_dense = model.layers[1].get_weights()\n",
        "weights_layer_dense "
      ],
      "execution_count": 88,
      "outputs": [
        {
          "output_type": "execute_result",
          "data": {
            "text/plain": [
              "[array([[ 0.02136425,  0.0143549 , -0.02835578, ...,  0.06032179,\n",
              "         -0.00829472,  0.18348919],\n",
              "        [ 0.16115554,  0.02705611, -0.15056238, ..., -0.09238803,\n",
              "         -0.03325472,  0.12176704],\n",
              "        [ 0.1559132 ,  0.00201333, -0.16104218, ..., -0.00586037,\n",
              "          0.07316362, -0.02433423],\n",
              "        ...,\n",
              "        [ 0.16508308, -0.06721877, -0.0287217 , ..., -0.10274371,\n",
              "         -0.04173208,  0.00335375],\n",
              "        [ 0.13269466, -0.08103061, -0.07361592, ..., -0.11784628,\n",
              "          0.06391502, -0.06115231],\n",
              "        [ 0.14714244, -0.07163489, -0.05285348, ..., -0.07344918,\n",
              "         -0.07152823,  0.04710271]], dtype=float32),\n",
              " array([ 0.04202452, -0.02140526,  0.3944742 , -0.01654064, -0.00894418,\n",
              "        -0.01724665, -0.1851324 ,  0.09166002,  0.23931895,  0.3522695 ,\n",
              "         0.04849499,  0.35211378,  0.06542978, -0.01887763,  0.02308339,\n",
              "         0.08529705,  0.0031538 , -0.00805257,  0.19996767,  0.06772914,\n",
              "         0.23534061,  0.02460703,  0.20040752, -0.04353298,  0.1335763 ,\n",
              "         0.21393168, -0.0244502 ,  0.17051332,  0.12948544, -0.01992019,\n",
              "         0.14543842, -0.01533809,  0.12695207, -0.12399478,  0.338699  ,\n",
              "        -0.1368359 ,  0.19601013,  0.30630863,  0.25657353, -0.01597604,\n",
              "         0.18196009, -0.01350168,  0.02090169,  0.2209448 ,  0.0543889 ,\n",
              "        -0.25082326, -0.03507591,  0.1293318 ,  0.06343088, -0.01041793,\n",
              "         0.32378232, -0.14247443,  0.28228152, -0.22140713,  0.19850476,\n",
              "         0.02215739, -0.01623486,  0.09830198,  0.07418302,  0.04972406,\n",
              "         0.22068368,  0.15620324, -0.31577846, -0.16623269, -0.14238463,\n",
              "         0.32462877,  0.06229697,  0.3273772 ,  0.13046317,  0.19253244,\n",
              "         0.36221895,  0.2782371 ,  0.18084927,  0.00550167,  0.07743038,\n",
              "         0.13121752,  0.45949027,  0.0725854 ,  0.40853962, -0.16213164,\n",
              "         0.36832052,  0.07456049, -0.3034713 , -0.00804325,  0.07911475,\n",
              "         0.00166575,  0.27220157, -0.02703941,  0.3217038 ,  0.35666403,\n",
              "        -0.01479311,  0.29062894,  0.31315294,  0.31372324,  0.43362734,\n",
              "         0.3581827 , -0.04790989,  0.11558767,  0.13138938, -0.13267589,\n",
              "        -0.11158895,  0.21570475,  0.27586046,  0.25917187, -0.22513089,\n",
              "         0.01800216, -0.2172579 , -0.01804859,  0.26940534,  0.27873597,\n",
              "         0.17654237,  0.22754525,  0.12557459,  0.23685402,  0.16758968,\n",
              "        -0.0018958 ,  0.15590292,  0.16000442,  0.35705397,  0.04510994,\n",
              "        -0.22427572, -0.0906907 , -0.1818103 , -0.05300495, -0.08903873,\n",
              "        -0.04392389, -0.36213106, -0.19529018,  0.23667929,  0.08791233,\n",
              "        -0.07326395, -0.00981626,  0.11025017,  0.37447292,  0.12392962,\n",
              "        -0.01626839,  0.08702614,  0.05615986,  0.05444911,  0.32018545,\n",
              "         0.25141376,  0.21695854, -0.01121375, -0.09915233,  0.2153442 ,\n",
              "         0.00750647,  0.12032217, -0.01707606,  0.09435365,  0.07439331,\n",
              "         0.02825076,  0.17257361, -0.09726693, -0.02485903,  0.04158368,\n",
              "         0.12505522,  0.29611582,  0.03936674, -0.11853661, -0.00431195,\n",
              "         0.30370346,  0.14015813, -0.00812983,  0.07048283, -0.02348777,\n",
              "         0.27426624, -0.03644619,  0.22257756, -0.03690419, -0.01428385,\n",
              "         0.05471573,  0.2497857 ,  0.34223038,  0.10403921,  0.23636708,\n",
              "         0.20031936,  0.04564665, -0.03712705, -0.03053776, -0.19250149,\n",
              "        -0.29341894, -0.00938848,  0.01936141,  0.5232583 ,  0.11347302,\n",
              "        -0.08635945, -0.03459575, -0.11238101,  0.29733172,  0.04683353,\n",
              "         0.39018887, -0.03333764,  0.06347597, -0.01705844,  0.3565561 ,\n",
              "        -0.02354234,  0.0366107 , -0.03157323,  0.05520407, -0.05621186,\n",
              "         0.1636775 ,  0.00967757, -0.025724  ,  0.46513817,  0.12419132,\n",
              "         0.00717874,  0.10358734,  0.03895728,  0.04043248,  0.11465911,\n",
              "         0.15604594, -0.26617286,  0.29635113, -0.0343352 ,  0.07812794,\n",
              "         0.10113683,  0.05260428,  0.13873005,  0.27863887,  0.2030316 ,\n",
              "         0.33095378, -0.24573721,  0.27567646,  0.04399433,  0.35459557,\n",
              "         0.28675026, -0.2157503 , -0.03630421,  0.21503124,  0.2803701 ,\n",
              "         0.14048587,  0.12715481,  0.07044367,  0.11246225,  0.36234716,\n",
              "        -0.16355678, -0.02138478,  0.05205037,  0.09951075,  0.012407  ,\n",
              "        -0.22253472,  0.30864435, -0.08118093, -0.23562177, -0.03209533,\n",
              "         0.2495638 ,  0.05303502,  0.4123168 ,  0.223582  ,  0.26911324,\n",
              "         0.21406092,  0.01088784, -0.12787837,  0.12667151, -0.01097644,\n",
              "         0.12389064], dtype=float32)]"
            ]
          },
          "metadata": {
            "tags": []
          },
          "execution_count": 88
        }
      ]
    },
    {
      "cell_type": "code",
      "metadata": {
        "id": "mDnVMDP2pYos",
        "colab_type": "code",
        "outputId": "d98964ba-4439-4756-a90c-e203310544b3",
        "colab": {
          "base_uri": "https://localhost:8080/",
          "height": 919
        }
      },
      "source": [
        "biases_layer_dense = model.layers[1].get_weights()[1]\n",
        "biases_layer_dense "
      ],
      "execution_count": 89,
      "outputs": [
        {
          "output_type": "execute_result",
          "data": {
            "text/plain": [
              "array([ 0.04202452, -0.02140526,  0.3944742 , -0.01654064, -0.00894418,\n",
              "       -0.01724665, -0.1851324 ,  0.09166002,  0.23931895,  0.3522695 ,\n",
              "        0.04849499,  0.35211378,  0.06542978, -0.01887763,  0.02308339,\n",
              "        0.08529705,  0.0031538 , -0.00805257,  0.19996767,  0.06772914,\n",
              "        0.23534061,  0.02460703,  0.20040752, -0.04353298,  0.1335763 ,\n",
              "        0.21393168, -0.0244502 ,  0.17051332,  0.12948544, -0.01992019,\n",
              "        0.14543842, -0.01533809,  0.12695207, -0.12399478,  0.338699  ,\n",
              "       -0.1368359 ,  0.19601013,  0.30630863,  0.25657353, -0.01597604,\n",
              "        0.18196009, -0.01350168,  0.02090169,  0.2209448 ,  0.0543889 ,\n",
              "       -0.25082326, -0.03507591,  0.1293318 ,  0.06343088, -0.01041793,\n",
              "        0.32378232, -0.14247443,  0.28228152, -0.22140713,  0.19850476,\n",
              "        0.02215739, -0.01623486,  0.09830198,  0.07418302,  0.04972406,\n",
              "        0.22068368,  0.15620324, -0.31577846, -0.16623269, -0.14238463,\n",
              "        0.32462877,  0.06229697,  0.3273772 ,  0.13046317,  0.19253244,\n",
              "        0.36221895,  0.2782371 ,  0.18084927,  0.00550167,  0.07743038,\n",
              "        0.13121752,  0.45949027,  0.0725854 ,  0.40853962, -0.16213164,\n",
              "        0.36832052,  0.07456049, -0.3034713 , -0.00804325,  0.07911475,\n",
              "        0.00166575,  0.27220157, -0.02703941,  0.3217038 ,  0.35666403,\n",
              "       -0.01479311,  0.29062894,  0.31315294,  0.31372324,  0.43362734,\n",
              "        0.3581827 , -0.04790989,  0.11558767,  0.13138938, -0.13267589,\n",
              "       -0.11158895,  0.21570475,  0.27586046,  0.25917187, -0.22513089,\n",
              "        0.01800216, -0.2172579 , -0.01804859,  0.26940534,  0.27873597,\n",
              "        0.17654237,  0.22754525,  0.12557459,  0.23685402,  0.16758968,\n",
              "       -0.0018958 ,  0.15590292,  0.16000442,  0.35705397,  0.04510994,\n",
              "       -0.22427572, -0.0906907 , -0.1818103 , -0.05300495, -0.08903873,\n",
              "       -0.04392389, -0.36213106, -0.19529018,  0.23667929,  0.08791233,\n",
              "       -0.07326395, -0.00981626,  0.11025017,  0.37447292,  0.12392962,\n",
              "       -0.01626839,  0.08702614,  0.05615986,  0.05444911,  0.32018545,\n",
              "        0.25141376,  0.21695854, -0.01121375, -0.09915233,  0.2153442 ,\n",
              "        0.00750647,  0.12032217, -0.01707606,  0.09435365,  0.07439331,\n",
              "        0.02825076,  0.17257361, -0.09726693, -0.02485903,  0.04158368,\n",
              "        0.12505522,  0.29611582,  0.03936674, -0.11853661, -0.00431195,\n",
              "        0.30370346,  0.14015813, -0.00812983,  0.07048283, -0.02348777,\n",
              "        0.27426624, -0.03644619,  0.22257756, -0.03690419, -0.01428385,\n",
              "        0.05471573,  0.2497857 ,  0.34223038,  0.10403921,  0.23636708,\n",
              "        0.20031936,  0.04564665, -0.03712705, -0.03053776, -0.19250149,\n",
              "       -0.29341894, -0.00938848,  0.01936141,  0.5232583 ,  0.11347302,\n",
              "       -0.08635945, -0.03459575, -0.11238101,  0.29733172,  0.04683353,\n",
              "        0.39018887, -0.03333764,  0.06347597, -0.01705844,  0.3565561 ,\n",
              "       -0.02354234,  0.0366107 , -0.03157323,  0.05520407, -0.05621186,\n",
              "        0.1636775 ,  0.00967757, -0.025724  ,  0.46513817,  0.12419132,\n",
              "        0.00717874,  0.10358734,  0.03895728,  0.04043248,  0.11465911,\n",
              "        0.15604594, -0.26617286,  0.29635113, -0.0343352 ,  0.07812794,\n",
              "        0.10113683,  0.05260428,  0.13873005,  0.27863887,  0.2030316 ,\n",
              "        0.33095378, -0.24573721,  0.27567646,  0.04399433,  0.35459557,\n",
              "        0.28675026, -0.2157503 , -0.03630421,  0.21503124,  0.2803701 ,\n",
              "        0.14048587,  0.12715481,  0.07044367,  0.11246225,  0.36234716,\n",
              "       -0.16355678, -0.02138478,  0.05205037,  0.09951075,  0.012407  ,\n",
              "       -0.22253472,  0.30864435, -0.08118093, -0.23562177, -0.03209533,\n",
              "        0.2495638 ,  0.05303502,  0.4123168 ,  0.223582  ,  0.26911324,\n",
              "        0.21406092,  0.01088784, -0.12787837,  0.12667151, -0.01097644,\n",
              "        0.12389064], dtype=float32)"
            ]
          },
          "metadata": {
            "tags": []
          },
          "execution_count": 89
        }
      ]
    },
    {
      "cell_type": "markdown",
      "metadata": {
        "id": "5-1jxm1TadGl",
        "colab_type": "text"
      },
      "source": [
        "# Saving and loading the trained model"
      ]
    },
    {
      "cell_type": "code",
      "metadata": {
        "id": "Nf520hwtJ1yx",
        "colab_type": "code",
        "colab": {}
      },
      "source": [
        "from tensorflow.keras.models import load_model\n",
        "\n",
        "model.save('model.h5')\n",
        "model_salvo = load_model('model.h5')"
      ],
      "execution_count": 0,
      "outputs": []
    },
    {
      "cell_type": "markdown",
      "metadata": {
        "id": "ZZ795WK9ak-_",
        "colab_type": "text"
      },
      "source": [
        "# Viewing training and validation accuracy by epoch"
      ]
    },
    {
      "cell_type": "code",
      "metadata": {
        "id": "z9uwlmgsODC2",
        "colab_type": "code",
        "outputId": "b8273d8e-d2b4-45ec-8393-9adcf871b1dd",
        "colab": {
          "base_uri": "https://localhost:8080/",
          "height": 295
        }
      },
      "source": [
        "plt.plot(historical.history['accuracy'])\n",
        "plt.plot(historical.history['val_accuracy'])\n",
        "plt.title('Accuracy_epoch')\n",
        "plt.xlabel('epoch')\n",
        "plt.ylabel('accuracy')\n",
        "plt.legend(['train', 'validation']);"
      ],
      "execution_count": 91,
      "outputs": [
        {
          "output_type": "display_data",
          "data": {
            "image/png": "[encoded data removed]",
            "text/plain": [
              "<Figure size 432x288 with 1 Axes>"
            ]
          },
          "metadata": {
            "tags": [],
            "needs_background": "light"
          }
        }
      ]
    },
    {
      "cell_type": "markdown",
      "metadata": {
        "id": "Krumt5aMaysE",
        "colab_type": "text"
      },
      "source": [
        "# Viewing training losses and validation by epochs"
      ]
    },
    {
      "cell_type": "code",
      "metadata": {
        "id": "1u0eS0cAPCoJ",
        "colab_type": "code",
        "outputId": "0266c85c-c5aa-42b3-80a6-3825904a1dd2",
        "colab": {
          "base_uri": "https://localhost:8080/",
          "height": 295
        }
      },
      "source": [
        "plt.plot(historical.history['loss'])\n",
        "plt.plot(historical.history['val_loss'])\n",
        "plt.title('loss by epochs')\n",
        "plt.xlabel('epoch')\n",
        "plt.ylabel('loss')\n",
        "plt.legend(['train', 'validation']);"
      ],
      "execution_count": 92,
      "outputs": [
        {
          "output_type": "display_data",
          "data": {
            "image/png": "[encoded data removed]",
            "text/plain": [
              "<Figure size 432x288 with 1 Axes>"
            ]
          },
          "metadata": {
            "tags": [],
            "needs_background": "light"
          }
        }
      ]
    },
    {
      "cell_type": "markdown",
      "metadata": {
        "id": "eMchm2BlbAcy",
        "colab_type": "text"
      },
      "source": [
        "# Testing the model and the saved model"
      ]
    },
    {
      "cell_type": "code",
      "metadata": {
        "id": "2pPXKFZFPS6d",
        "colab_type": "code",
        "outputId": "d2f7b6c8-8384-4a66-daf3-1bed176f661e",
        "colab": {
          "base_uri": "https://localhost:8080/",
          "height": 52
        }
      },
      "source": [
        "test = model.predict(X_test)\n",
        "print('test result:', np.argmax(test[1]))\n",
        "print('test image number:', y_test[1])\n"
      ],
      "execution_count": 93,
      "outputs": [
        {
          "output_type": "stream",
          "text": [
            "test result: 2\n",
            "test image number: 2\n"
          ],
          "name": "stdout"
        }
      ]
    },
    {
      "cell_type": "code",
      "metadata": {
        "id": "zF3VmAWBQdum",
        "colab_type": "code",
        "colab": {}
      },
      "source": [
        "test_model_save = model_salvo.predict(X_test)"
      ],
      "execution_count": 0,
      "outputs": []
    },
    {
      "cell_type": "code",
      "metadata": {
        "id": "8lF-5D_AQiQ6",
        "colab_type": "code",
        "outputId": "8ea0642f-da7d-4300-dd0e-530fc3f2a88c",
        "colab": {
          "base_uri": "https://localhost:8080/",
          "height": 52
        }
      },
      "source": [
        "print('test result:', np.argmax(test_model_save[1]))\n",
        "print('test image number:', y_test[1])"
      ],
      "execution_count": 95,
      "outputs": [
        {
          "output_type": "stream",
          "text": [
            "test result: 2\n",
            "test image number: 2\n"
          ],
          "name": "stdout"
        }
      ]
    },
    {
      "cell_type": "markdown",
      "metadata": {
        "id": "ei96teFmbK4O",
        "colab_type": "text"
      },
      "source": [
        "# Evaluating the model"
      ]
    },
    {
      "cell_type": "code",
      "metadata": {
        "id": "94BxpKbpQ6qp",
        "colab_type": "code",
        "outputId": "318a753a-903b-4584-e1dd-32e2568627eb",
        "colab": {
          "base_uri": "https://localhost:8080/",
          "height": 69
        }
      },
      "source": [
        "loss_test, accuracy_test = model.evaluate(X_test, y_test)\n",
        "print('Loss:', loss_test)\n",
        "print('Accuracy:', accuracy_test)"
      ],
      "execution_count": 96,
      "outputs": [
        {
          "output_type": "stream",
          "text": [
            "313/313 [==============================] - 0s 2ms/step - loss: 0.3527 - accuracy: 0.8719\n",
            "Loss: 0.35265302658081055\n",
            "Accuracy: 0.8719000220298767\n"
          ],
          "name": "stdout"
        }
      ]
    }
  ]
}